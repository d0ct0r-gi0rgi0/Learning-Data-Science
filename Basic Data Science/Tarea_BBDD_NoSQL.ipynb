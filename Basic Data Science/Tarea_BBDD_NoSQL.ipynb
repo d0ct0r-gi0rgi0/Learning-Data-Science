{
 "cells": [
  {
   "cell_type": "markdown",
   "metadata": {},
   "source": [
    "### 1. Introducción.\n",
    "\n",
    "Para este proyecto se ha empleado una base de datos que contiene información sobre ventas de videojuegos en diferentes partes del mundo, así como información intrínseca de cada uno (título, año, desarrollador, etc) para productos con más de 100.000 ventas a nivel global hasta el año 2020. La base de datos está compuesta por aproximadamente 16.600 documentos, cada uno correspondiente a un videojuego, con la información siguiente: \n",
    "- Name: título del videojuego.\n",
    "- Platform: plataformas en las que está disponible (PlayStation 4, Nintendo DS, etc).\n",
    "- Year: año de salida del producto.\n",
    "- Genre: género.\n",
    "- Publisher: empresa distribuidora (en millones).\n",
    "- NA\\_Sales: ventas en Norteamérica (en millones).\n",
    "- EU\\_Sales: ventas en Europa.\n",
    "- JP\\_Sales: ventas en Japón.\n",
    "- Other\\_Sales: ventas en el resto del mundo.\n",
    "- Global\\_Sales: ventas totales en el mundo.\n",
    "\n",
    "Donde todos los datos numéricos de ventas están en millones ($10^6 $).\n",
    "\n",
    "El objetivo de esta práctica es trabajar sobre esta base de datos haciendo consultas mediante filtros y agregaciones con MongoDB. Para ello se va a emplear Python con la librería *pymongo* en una hoja de *Jupyter Notebook*.\n",
    "\n",
    "La creación de la base de datos y la importación de los mismos se ha llevado a cabo mediante *MongoDB Compass* a partir de un archivo .csv. Esta base de datos fue creada mediante *Web Scrapping* con la librería `BeautifulSoup` desde la web de VGChartz, una página de estadísticas sobre videojuegos."
   ]
  },
  {
   "cell_type": "code",
   "execution_count": 2,
   "metadata": {},
   "outputs": [],
   "source": [
    "## Esta celda incluye únicamente las librerías de funciones empleadas y la creación de la tabla (colección) usada.\n",
    "\n",
    "import matplotlib.pyplot as plt\n",
    "import plotly as pl\n",
    "import seaborn as sb\n",
    "import plotly.express as px\n",
    "import pandas as pd\n",
    "import plotly.graph_objects as go\n",
    "import collections\n",
    "\n",
    "\n",
    "from pymongo import MongoClient\n",
    "cliente = MongoClient(\"mongodb://localhost:27017/\")\n",
    "bbdd = cliente[\"TareaBBDDNoSQL\"]\n",
    "tabla = bbdd[\"Videojuegos\"]"
   ]
  },
  {
   "cell_type": "markdown",
   "metadata": {},
   "source": [
    "### 2. Funciones.\n",
    "\n",
    "A continuación se encuentran algunas funciones que se han empleado en el análisis de los datos de la colección. El uso de estas funciones simplifica las consultas y ahorra tiempo en llevarlas a cabo."
   ]
  },
  {
   "cell_type": "code",
   "execution_count": 2,
   "metadata": {},
   "outputs": [],
   "source": [
    "def filter_collection(collection, filter, proyection = {}, limit = True):\n",
    "    \"\"\"\n",
    "    Devuelve una consulta NoSQl sobre la tabla \"collection\", con el filtro \"filter\" y la proyección \"proyection\".\n",
    "\n",
    "    Args:\n",
    "        collection (pymongo.synchronous.collection.Collection): tabla de una BBDD NoSQL.\n",
    "        filter (dict): filtro de la consulta.\n",
    "        proyection (dict, opcional): proyección de la consulta. Por defecto es {}.\n",
    "        limit (bool, opcional): trunca la salida. Por defecto es True.\n",
    "    \"\"\"\n",
    "    \n",
    "    # Se cuentan los documentos para saber cuántos han sido filtrados:\n",
    "    print(\"Número de documentos obtenidos: \", collection.count_documents(filter), \"\\n\")\n",
    "\n",
    "    if limit:\n",
    "        limit_n = 5\n",
    "    else:\n",
    "        limit_n = limit\n",
    "    \n",
    "    # Se aplican el filtro y la proyección y se obtienen los documentos:\n",
    "    for doc in collection.find(filter, proyection).limit(limit_n):\n",
    "        print(doc)\n",
    "\n",
    "    if limit == True and collection.count_documents(filter) > 24:\n",
    "        print(\"...\")\n",
    "        ultimos = list(tabla.find(filter, proyection).sort('_id', -1).limit(limit_n))\n",
    "        for doc in reversed(ultimos):\n",
    "            print(doc)\n",
    "    return"
   ]
  },
  {
   "cell_type": "markdown",
   "metadata": {},
   "source": [
    "La función `filter_collection()` recibe como argumentos la colección sobre la que se quiere hacer la consulta, el filtro y una proyección (esta última opcional), y devuelve todos los documentos de dicha colección que cumplen el filtro y bajo las condiciones de la proyección (como por ejemplo, no enseñar el campo `\"_id\"`). Esto se hace con el método `.find()`. Además, imprime por pantalla el número de documentos obtenidos y, por otro lado, incluye un argumento opcional llamado `limit` en forma de `bool`, que se toma por defecto como `True` y trunca la salida para mostrar sólo los 5 primeros documentos y los 5 últimos (esto evita que se muestren todos los documentos al pasar este archivo a formato .pdf, que es un fallo común en editores de texto a la hora de exportar)."
   ]
  },
  {
   "cell_type": "markdown",
   "metadata": {},
   "source": [
    "### 3. Vista general de la base de datos.\n",
    "En primer lugar, se hace una consulta con un `.find()` sin filtro pero indicando que no muestre el campo `_id` con una proyección, de forma que se puede hacer una vista general de los datos. Para ello se puede utilizar la función filter que se ha desarrollado anteriormente."
   ]
  },
  {
   "cell_type": "code",
   "execution_count": 3,
   "metadata": {},
   "outputs": [
    {
     "name": "stdout",
     "output_type": "stream",
     "text": [
      "Número de documentos obtenidos:  16601 \n",
      "\n",
      "{'Name': 'Wii Sports', 'Platform': 'Wii', 'Year': 2006, 'Genre': 'Sports', 'Publisher': 'Nintendo', 'NA_Sales': 41.49, 'EU_Sales': 29.02, 'JP_Sales': 3.77, 'Other_Sales': 8.46, 'Global_Sales': 82.74}\n",
      "{'Name': 'Super Mario Bros.', 'Platform': 'NES', 'Year': 1985, 'Genre': 'Platform', 'Publisher': 'Nintendo', 'NA_Sales': 29.08, 'EU_Sales': 3.58, 'JP_Sales': 6.81, 'Other_Sales': 0.77, 'Global_Sales': 40.24}\n",
      "{'Name': 'Mario Kart Wii', 'Platform': 'Wii', 'Year': 2008, 'Genre': 'Racing', 'Publisher': 'Nintendo', 'NA_Sales': 15.85, 'EU_Sales': 12.88, 'JP_Sales': 3.79, 'Other_Sales': 3.31, 'Global_Sales': 35.82}\n",
      "{'Name': 'Wii Sports Resort', 'Platform': 'Wii', 'Year': 2009, 'Genre': 'Sports', 'Publisher': 'Nintendo', 'NA_Sales': 15.75, 'EU_Sales': 11.01, 'JP_Sales': 3.28, 'Other_Sales': 2.96, 'Global_Sales': 33}\n",
      "{'Name': 'Pokemon Red/Pokemon Blue', 'Platform': 'GB', 'Year': 1996, 'Genre': 'Role-Playing', 'Publisher': 'Nintendo', 'NA_Sales': 11.27, 'EU_Sales': 8.89, 'JP_Sales': 10.22, 'Other_Sales': 1, 'Global_Sales': 31.37}\n",
      "...\n",
      "{'Name': 'Know How 2', 'Platform': 'DS', 'Year': 2010, 'Genre': 'Puzzle', 'Publisher': '7G//AMES', 'NA_Sales': 0, 'EU_Sales': 0.01, 'JP_Sales': 0, 'Other_Sales': 0, 'Global_Sales': 0.01}\n",
      "{'Name': 'Spirits & Spells', 'Platform': 'GBA', 'Year': 2003, 'Genre': 'Platform', 'Publisher': 'Wanadoo', 'NA_Sales': 0.01, 'EU_Sales': 0, 'JP_Sales': 0, 'Other_Sales': 0, 'Global_Sales': 0.01}\n",
      "{'Name': 'Hollow Knight', 'Platform': 'PS4', 'Year': 2017, 'Genre': 'Platform', 'Publisher': 'Team Cherry', 'NA_Sales': 2.01, 'EU_Sales': 0.84, 'JP_Sales': 1.2, 'Other_Sales': 1.7, 'Global_Sales': 5.75}\n",
      "{'Name': 'Hollow Knight', 'Platform': 'XOne', 'Year': 2017, 'Genre': 'Platform', 'Publisher': 'Team Cherry', 'NA_Sales': 0.97, 'EU_Sales': 0.5, 'JP_Sales': 0.3, 'Other_Sales': 1.14, 'Global_Sales': 2.91}\n",
      "{'Name': 'Hollow Knight', 'Platform': 'PC', 'Year': 2017, 'Genre': 'Platform', 'Publisher': 'Team Cherry', 'NA_Sales': 2.86, 'EU_Sales': 2.22, 'JP_Sales': 3.02, 'Other_Sales': 1.87, 'Global_Sales': 9.97}\n"
     ]
    }
   ],
   "source": [
    "filtro = {}\n",
    "proy = {\"_id\": 0}\n",
    "filter_collection(tabla, filtro, proy)"
   ]
  },
  {
   "cell_type": "markdown",
   "metadata": {},
   "source": [
    "Se puede ver que cada documento es un diccionario de Python (una clase de variables interna) y que además contienen los campos mencionados (Name, Platform, etc.)\n",
    "\n",
    "Ahora se quiere comprobar el año más reciente para el cual se tienen documentos, así como el más temprano."
   ]
  },
  {
   "cell_type": "code",
   "execution_count": 15,
   "metadata": {},
   "outputs": [
    {
     "name": "stdout",
     "output_type": "stream",
     "text": [
      "Año menos reciente: 1980\n",
      "Año más reciente: 2020\n"
     ]
    }
   ],
   "source": [
    "filtro = {\"Year\": {\"$type\": \"int\"}}\n",
    "\n",
    "minimo = tabla.find(filtro).sort(\"Year\", 1).limit(1)\n",
    "min_year = next(minimo, {}).get(\"Year\", None)\n",
    "print(f\"Año menos reciente: {min_year}\")\n",
    "\n",
    "\n",
    "maximo = tabla.find(filtro).sort(\"Year\", -1).limit(1)\n",
    "max_year = next(maximo, {}).get(\"Year\", None)\n",
    "print(f\"Año más reciente: {max_year}\")"
   ]
  },
  {
   "cell_type": "markdown",
   "metadata": {},
   "source": [
    "Para ello ha sido necesario un filtro que ignore los valores que no son numéricos, ya que hay algunos documentos para los que el campò \"Year\" es \"N/A\".\n",
    "\n",
    "Y, por ejemplo, el año con más videojuegos que alcanzaron las 100.000 ventas es:"
   ]
  },
  {
   "cell_type": "code",
   "execution_count": 49,
   "metadata": {},
   "outputs": [
    {
     "name": "stdout",
     "output_type": "stream",
     "text": [
      "Año con más videojuegos: 2009 | Cantidad: 1431\n"
     ]
    }
   ],
   "source": [
    "filtro_valido = {\"Year\": {\"$type\": \"int\"}}\n",
    "\n",
    "years = [doc[\"Year\"] for doc in tabla.find(filtro_valido, {\"Year\": 1})]\n",
    "year_counts = collections.Counter(years)\n",
    "\n",
    "\n",
    "año_max, max_count = year_counts.most_common(1)[0]\n",
    "print(f\"Año con más videojuegos: {año_max} | Cantidad: {max_count}\")"
   ]
  },
  {
   "cell_type": "markdown",
   "metadata": {},
   "source": [
    "### 4. Filtros y consultas.\n",
    "\n",
    "A continuación se va a filtrar por plataforma, para ver cuáles son los juegos más existosos para la PS2 y PS4, y que sólo se muestren la información propia del juego (título, año, etc.) y las ventas globales. Además, sólo se quieren los juegos con más de un millón de ventas, que es el umbral para el que un juego AAA (o de alto presupuesto) se considera exitoso en la industria."
   ]
  },
  {
   "cell_type": "code",
   "execution_count": 18,
   "metadata": {},
   "outputs": [
    {
     "name": "stdout",
     "output_type": "stream",
     "text": [
      "Número de documentos obtenidos:  398 \n",
      "\n",
      "{'Name': 'Grand Theft Auto: San Andreas', 'Platform': 'PS2', 'Year': 2004, 'Genre': 'Action', 'Publisher': 'Take-Two Interactive', 'Global_Sales': 20.81}\n",
      "{'Name': 'Grand Theft Auto: Vice City', 'Platform': 'PS2', 'Year': 2002, 'Genre': 'Action', 'Publisher': 'Take-Two Interactive', 'Global_Sales': 16.15}\n",
      "{'Name': 'Gran Turismo 3: A-Spec', 'Platform': 'PS2', 'Year': 2001, 'Genre': 'Racing', 'Publisher': 'Sony Computer Entertainment', 'Global_Sales': 14.98}\n",
      "{'Name': 'Call of Duty: Black Ops 3', 'Platform': 'PS4', 'Year': 2015, 'Genre': 'Shooter', 'Publisher': 'Activision', 'Global_Sales': 14.24}\n",
      "{'Name': 'Grand Theft Auto III', 'Platform': 'PS2', 'Year': 2001, 'Genre': 'Action', 'Publisher': 'Take-Two Interactive', 'Global_Sales': 13.1}\n",
      "...\n",
      "{'Name': 'Rayman Legends', 'Platform': 'PS4', 'Year': 2014, 'Genre': 'Platform', 'Publisher': 'Ubisoft', 'Global_Sales': 1.01}\n",
      "{'Name': 'Ford Racing 2', 'Platform': 'PS2', 'Year': 2003, 'Genre': 'Racing', 'Publisher': 'Empire Interactive', 'Global_Sales': 1}\n",
      "{'Name': 'Dead or Alive 2', 'Platform': 'PS2', 'Year': 2000, 'Genre': 'Fighting', 'Publisher': 'Tecmo Koei', 'Global_Sales': 1}\n",
      "{'Name': 'Jissen Pachi-Slot Hisshouhou: Hokuto no Ken', 'Platform': 'PS2', 'Year': 2004, 'Genre': 'Misc', 'Publisher': 'Sammy Corporation', 'Global_Sales': 1}\n",
      "{'Name': 'Dynasty Warriors 3: Xtreme Legends', 'Platform': 'PS2', 'Year': 2002, 'Genre': 'Action', 'Publisher': 'Tecmo Koei', 'Global_Sales': 1}\n"
     ]
    }
   ],
   "source": [
    "filtro = {\n",
    "    \"Platform\": {\"$in\": [\"PS2\", \"PS4\"]},\n",
    "    \"Global_Sales\": {\"$gte\": 1}\n",
    "    }\n",
    "proy = {\n",
    "    \"_id\": 0,\n",
    "    \"NA_Sales\": 0,\n",
    "    \"EU_Sales\": 0,\n",
    "    \"JP_Sales\": 0,\n",
    "    \"Other_Sales\": 0\n",
    "}\n",
    "\n",
    "filter_collection(tabla, filtro, proy)"
   ]
  },
  {
   "cell_type": "markdown",
   "metadata": {},
   "source": [
    "Si se representan los datos en un gráfico circular se puede ver que la mayoría de juegos para estas dos consolas son de \"Shooter\" y \"Action\" (que son realmente lo mismo) o \"Sports\" y \"Racing\" (que también se pueden incluir en la misma categoría)."
   ]
  },
  {
   "cell_type": "code",
   "execution_count": 19,
   "metadata": {},
   "outputs": [
    {
     "data": {
      "application/vnd.plotly.v1+json": {
       "config": {
        "plotlyServerURL": "https://plot.ly"
       },
       "data": [
        {
         "hoverinfo": "label+value",
         "labels": [
          "Action",
          "Action",
          "Racing",
          "Shooter",
          "Action",
          "Action",
          "Racing",
          "Sports",
          "Role-Playing",
          "Shooter",
          "Shooter",
          "Racing",
          "Role-Playing",
          "Racing",
          "Shooter",
          "Sports",
          "Role-Playing",
          "Action",
          "Role-Playing",
          "Shooter",
          "Platform",
          "Role-Playing",
          "Sports",
          "Role-Playing",
          "Shooter",
          "Misc",
          "Misc",
          "Sports",
          "Sports",
          "Racing",
          "Action",
          "Action",
          "Sports",
          "Sports",
          "Action",
          "Action",
          "Action",
          "Sports",
          "Sports",
          "Racing",
          "Role-Playing",
          "Action",
          "Sports",
          "Misc",
          "Shooter",
          "Sports",
          "Action",
          "Sports",
          "Action",
          "Sports",
          "Fighting",
          "Shooter",
          "Misc",
          "Misc",
          "Action",
          "Sports",
          "Fighting",
          "Sports",
          "Sports",
          "Action",
          "Role-Playing",
          "Sports",
          "Sports",
          "Shooter",
          "Platform",
          "Sports",
          "Shooter",
          "Action",
          "Shooter",
          "Shooter",
          "Racing",
          "Shooter",
          "Action",
          "Action",
          "Shooter",
          "Action",
          "Sports",
          "Fighting",
          "Shooter",
          "Action",
          "Sports",
          "Action",
          "Shooter",
          "Platform",
          "Action",
          "Shooter",
          "Action",
          "Action",
          "Action",
          "Sports",
          "Action",
          "Simulation",
          "Sports",
          "Fighting",
          "Sports",
          "Sports",
          "Fighting",
          "Fighting",
          "Action",
          "Sports",
          "Action",
          "Platform",
          "Action",
          "Shooter",
          "Fighting",
          "Sports",
          "Misc",
          "Sports",
          "Sports",
          "Shooter",
          "Fighting",
          "Fighting",
          "Fighting",
          "Sports",
          "Platform",
          "Action",
          "Platform",
          "Simulation",
          "Action",
          "Action",
          "Fighting",
          "Action",
          "Racing",
          "Shooter",
          "Action",
          "Racing",
          "Sports",
          "Action",
          "Sports",
          "Shooter",
          "Fighting",
          "Platform",
          "Sports",
          "Racing",
          "Sports",
          "Fighting",
          "Simulation",
          "Fighting",
          "Racing",
          "Racing",
          "Racing",
          "Misc",
          "Action",
          "Sports",
          "Misc",
          "Action",
          "Sports",
          "Fighting",
          "Action",
          "Shooter",
          "Sports",
          "Adventure",
          "Simulation",
          "Action",
          "Action",
          "Racing",
          "Shooter",
          "Simulation",
          "Action",
          "Racing",
          "Action",
          "Platform",
          "Action",
          "Action",
          "Shooter",
          "Puzzle",
          "Fighting",
          "Shooter",
          "Action",
          "Sports",
          "Sports",
          "Racing",
          "Role-Playing",
          "Platform",
          "Action",
          "Racing",
          "Sports",
          "Fighting",
          "Fighting",
          "Shooter",
          "Role-Playing",
          "Shooter",
          "Racing",
          "Shooter",
          "Racing",
          "Fighting",
          "Shooter",
          "Misc",
          "Action",
          "Platform",
          "Misc",
          "Platform",
          "Sports",
          "Platform",
          "Racing",
          "Sports",
          "Action",
          "Misc",
          "Action",
          "Simulation",
          "Fighting",
          "Platform",
          "Misc",
          "Racing",
          "Action",
          "Action",
          "Platform",
          "Fighting",
          "Action",
          "Simulation",
          "Simulation",
          "Sports",
          "Simulation",
          "Role-Playing",
          "Role-Playing",
          "Sports",
          "Shooter",
          "Action",
          "Shooter",
          "Role-Playing",
          "Shooter",
          "Role-Playing",
          "Simulation",
          "Racing",
          "Sports",
          "Sports",
          "Shooter",
          "Misc",
          "Sports",
          "Platform",
          "Racing",
          "Sports",
          "Platform",
          "Action",
          "Sports",
          "Sports",
          "Sports",
          "Fighting",
          "Role-Playing",
          "Sports",
          "Sports",
          "Action",
          "Adventure",
          "Sports",
          "Sports",
          "Sports",
          "Sports",
          "Misc",
          "Action",
          "Action",
          "Sports",
          "Shooter",
          "Sports",
          "Sports",
          "Shooter",
          "Racing",
          "Fighting",
          "Role-Playing",
          "Action",
          "Racing",
          "Role-Playing",
          "Sports",
          "Sports",
          "Action",
          "Action",
          "Racing",
          "Shooter",
          "Sports",
          "Sports",
          "Misc",
          "Shooter",
          "Sports",
          "Fighting",
          "Misc",
          "Action",
          "Shooter",
          "Action",
          "Sports",
          "Misc",
          "Sports",
          "Sports",
          "Sports",
          "Sports",
          "Sports",
          "Action",
          "Racing",
          "Racing",
          "Racing",
          "Racing",
          "Racing",
          "Shooter",
          "Action",
          "Sports",
          "Action",
          "Misc",
          "Shooter",
          "Action",
          "Misc",
          "Racing",
          "Racing",
          "Shooter",
          "Sports",
          "Platform",
          "Sports",
          "Racing",
          "Sports",
          "Racing",
          "Platform",
          "Shooter",
          "Sports",
          "Misc",
          "Shooter",
          "Racing",
          "Role-Playing",
          "Action",
          "Action",
          "Action",
          "Action",
          "Role-Playing",
          "Action",
          "Action",
          "Shooter",
          "Action",
          "Action",
          "Shooter",
          "Role-Playing",
          "Action",
          "Fighting",
          "Platform",
          "Racing",
          "Sports",
          "Adventure",
          "Sports",
          "Racing",
          "Racing",
          "Platform",
          "Action",
          "Racing",
          "Sports",
          "Sports",
          "Action",
          "Sports",
          "Shooter",
          "Platform",
          "Platform",
          "Sports",
          "Racing",
          "Shooter",
          "Racing",
          "Action",
          "Shooter",
          "Platform",
          "Action",
          "Action",
          "Simulation",
          "Role-Playing",
          "Simulation",
          "Sports",
          "Shooter",
          "Racing",
          "Misc",
          "Action",
          "Action",
          "Misc",
          "Misc",
          "Sports",
          "Misc",
          "Misc",
          "Adventure",
          "Action",
          "Shooter",
          "Racing",
          "Platform",
          "Sports",
          "Shooter",
          "Shooter",
          "Fighting",
          "Fighting",
          "Fighting",
          "Racing",
          "Sports",
          "Action",
          "Fighting",
          "Racing",
          "Sports",
          "Fighting",
          "Sports",
          "Simulation",
          "Racing",
          "Sports",
          "Racing",
          "Sports",
          "Action",
          "Platform",
          "Racing",
          "Fighting",
          "Misc",
          "Action"
         ],
         "textinfo": "percent",
         "textposition": "inside",
         "type": "pie",
         "values": [
          20.81,
          16.15,
          14.98,
          14.24,
          13.1,
          11.98,
          11.66,
          8.49,
          8.05,
          7.67,
          7.6,
          7.2,
          6.96,
          6.9,
          6.83,
          6.59,
          6.4,
          6.05,
          5.95,
          5.65,
          5.42,
          5.29,
          5.23,
          5.21,
          5.13,
          5.12,
          4.98,
          4.91,
          4.77,
          4.7,
          4.67,
          4.55,
          4.53,
          4.49,
          4.48,
          4.47,
          4.45,
          4.41,
          4.39,
          4.37,
          4.33,
          4.23,
          4.21,
          4.2,
          4.2,
          4.14,
          4.14,
          4.11,
          4.07,
          4.06,
          4.05,
          4.03,
          4.02,
          3.98,
          3.92,
          3.9,
          3.87,
          3.85,
          3.85,
          3.79,
          3.73,
          3.7,
          3.67,
          3.65,
          3.64,
          3.63,
          3.63,
          3.62,
          3.61,
          3.61,
          3.61,
          3.59,
          3.54,
          3.54,
          3.53,
          3.53,
          3.49,
          3.44,
          3.43,
          3.41,
          3.4,
          3.38,
          3.33,
          3.33,
          3.32,
          3.31,
          3.28,
          3.28,
          3.27,
          3.22,
          3.18,
          3.17,
          3.14,
          3.09,
          3.08,
          3.02,
          3,
          3,
          2.99,
          2.99,
          2.99,
          2.96,
          2.96,
          2.94,
          2.94,
          2.9,
          2.9,
          2.9,
          2.89,
          2.89,
          2.83,
          2.8,
          2.79,
          2.79,
          2.78,
          2.78,
          2.78,
          2.77,
          2.74,
          2.7,
          2.7,
          2.69,
          2.68,
          2.67,
          2.65,
          2.63,
          2.62,
          2.61,
          2.59,
          2.58,
          2.58,
          2.57,
          2.57,
          2.52,
          2.5,
          2.49,
          2.43,
          2.41,
          2.41,
          2.41,
          2.39,
          2.38,
          2.38,
          2.38,
          2.38,
          2.37,
          2.37,
          2.34,
          2.34,
          2.31,
          2.28,
          2.25,
          2.23,
          2.22,
          2.21,
          2.18,
          2.15,
          2.13,
          2.13,
          2.11,
          2.11,
          2.1,
          2.09,
          2.09,
          2.09,
          2.08,
          2.06,
          2.04,
          2.04,
          2.03,
          2.03,
          2,
          1.97,
          1.97,
          1.97,
          1.95,
          1.95,
          1.94,
          1.94,
          1.94,
          1.93,
          1.92,
          1.92,
          1.91,
          1.89,
          1.88,
          1.88,
          1.87,
          1.87,
          1.86,
          1.86,
          1.86,
          1.86,
          1.85,
          1.84,
          1.84,
          1.83,
          1.82,
          1.81,
          1.81,
          1.81,
          1.81,
          1.8,
          1.78,
          1.78,
          1.77,
          1.76,
          1.76,
          1.76,
          1.76,
          1.76,
          1.75,
          1.75,
          1.74,
          1.74,
          1.73,
          1.73,
          1.72,
          1.72,
          1.72,
          1.72,
          1.72,
          1.71,
          1.7,
          1.7,
          1.7,
          1.69,
          1.68,
          1.67,
          1.67,
          1.67,
          1.67,
          1.67,
          1.66,
          1.66,
          1.66,
          1.66,
          1.66,
          1.65,
          1.64,
          1.64,
          1.64,
          1.64,
          1.63,
          1.62,
          1.62,
          1.61,
          1.61,
          1.6,
          1.6,
          1.59,
          1.58,
          1.57,
          1.57,
          1.57,
          1.56,
          1.56,
          1.56,
          1.56,
          1.55,
          1.54,
          1.54,
          1.52,
          1.51,
          1.51,
          1.5,
          1.5,
          1.5,
          1.49,
          1.49,
          1.48,
          1.48,
          1.48,
          1.46,
          1.45,
          1.45,
          1.45,
          1.45,
          1.44,
          1.44,
          1.44,
          1.42,
          1.42,
          1.42,
          1.41,
          1.41,
          1.41,
          1.41,
          1.4,
          1.4,
          1.39,
          1.39,
          1.38,
          1.37,
          1.36,
          1.36,
          1.35,
          1.35,
          1.34,
          1.34,
          1.34,
          1.34,
          1.33,
          1.33,
          1.33,
          1.32,
          1.31,
          1.31,
          1.31,
          1.3,
          1.3,
          1.29,
          1.29,
          1.28,
          1.28,
          1.28,
          1.28,
          1.27,
          1.27,
          1.27,
          1.25,
          1.25,
          1.25,
          1.25,
          1.24,
          1.24,
          1.24,
          1.24,
          1.23,
          1.23,
          1.23,
          1.22,
          1.22,
          1.22,
          1.21,
          1.21,
          1.2,
          1.2,
          1.2,
          1.2,
          1.19,
          1.19,
          1.17,
          1.17,
          1.17,
          1.17,
          1.16,
          1.16,
          1.16,
          1.15,
          1.15,
          1.15,
          1.14,
          1.14,
          1.14,
          1.14,
          1.14,
          1.13,
          1.13,
          1.12,
          1.12,
          1.11,
          1.11,
          1.11,
          1.11,
          1.1,
          1.1,
          1.1,
          1.09,
          1.09,
          1.09,
          1.08,
          1.08,
          1.08,
          1.08,
          1.07,
          1.07,
          1.07,
          1.06,
          1.06,
          1.06,
          1.06,
          1.06,
          1.06,
          1.05,
          1.05,
          1.04,
          1.04,
          1.04,
          1.04,
          1.03,
          1.03,
          1.02,
          1.01,
          1,
          1,
          1,
          1
         ]
        }
       ],
       "layout": {
        "legend": {
         "x": 0.65,
         "xanchor": "left",
         "y": 0.5,
         "yanchor": "middle"
        },
        "showlegend": true,
        "template": {
         "data": {
          "bar": [
           {
            "error_x": {
             "color": "#2a3f5f"
            },
            "error_y": {
             "color": "#2a3f5f"
            },
            "marker": {
             "line": {
              "color": "#E5ECF6",
              "width": 0.5
             },
             "pattern": {
              "fillmode": "overlay",
              "size": 10,
              "solidity": 0.2
             }
            },
            "type": "bar"
           }
          ],
          "barpolar": [
           {
            "marker": {
             "line": {
              "color": "#E5ECF6",
              "width": 0.5
             },
             "pattern": {
              "fillmode": "overlay",
              "size": 10,
              "solidity": 0.2
             }
            },
            "type": "barpolar"
           }
          ],
          "carpet": [
           {
            "aaxis": {
             "endlinecolor": "#2a3f5f",
             "gridcolor": "white",
             "linecolor": "white",
             "minorgridcolor": "white",
             "startlinecolor": "#2a3f5f"
            },
            "baxis": {
             "endlinecolor": "#2a3f5f",
             "gridcolor": "white",
             "linecolor": "white",
             "minorgridcolor": "white",
             "startlinecolor": "#2a3f5f"
            },
            "type": "carpet"
           }
          ],
          "choropleth": [
           {
            "colorbar": {
             "outlinewidth": 0,
             "ticks": ""
            },
            "type": "choropleth"
           }
          ],
          "contour": [
           {
            "colorbar": {
             "outlinewidth": 0,
             "ticks": ""
            },
            "colorscale": [
             [
              0,
              "#0d0887"
             ],
             [
              0.1111111111111111,
              "#46039f"
             ],
             [
              0.2222222222222222,
              "#7201a8"
             ],
             [
              0.3333333333333333,
              "#9c179e"
             ],
             [
              0.4444444444444444,
              "#bd3786"
             ],
             [
              0.5555555555555556,
              "#d8576b"
             ],
             [
              0.6666666666666666,
              "#ed7953"
             ],
             [
              0.7777777777777778,
              "#fb9f3a"
             ],
             [
              0.8888888888888888,
              "#fdca26"
             ],
             [
              1,
              "#f0f921"
             ]
            ],
            "type": "contour"
           }
          ],
          "contourcarpet": [
           {
            "colorbar": {
             "outlinewidth": 0,
             "ticks": ""
            },
            "type": "contourcarpet"
           }
          ],
          "heatmap": [
           {
            "colorbar": {
             "outlinewidth": 0,
             "ticks": ""
            },
            "colorscale": [
             [
              0,
              "#0d0887"
             ],
             [
              0.1111111111111111,
              "#46039f"
             ],
             [
              0.2222222222222222,
              "#7201a8"
             ],
             [
              0.3333333333333333,
              "#9c179e"
             ],
             [
              0.4444444444444444,
              "#bd3786"
             ],
             [
              0.5555555555555556,
              "#d8576b"
             ],
             [
              0.6666666666666666,
              "#ed7953"
             ],
             [
              0.7777777777777778,
              "#fb9f3a"
             ],
             [
              0.8888888888888888,
              "#fdca26"
             ],
             [
              1,
              "#f0f921"
             ]
            ],
            "type": "heatmap"
           }
          ],
          "heatmapgl": [
           {
            "colorbar": {
             "outlinewidth": 0,
             "ticks": ""
            },
            "colorscale": [
             [
              0,
              "#0d0887"
             ],
             [
              0.1111111111111111,
              "#46039f"
             ],
             [
              0.2222222222222222,
              "#7201a8"
             ],
             [
              0.3333333333333333,
              "#9c179e"
             ],
             [
              0.4444444444444444,
              "#bd3786"
             ],
             [
              0.5555555555555556,
              "#d8576b"
             ],
             [
              0.6666666666666666,
              "#ed7953"
             ],
             [
              0.7777777777777778,
              "#fb9f3a"
             ],
             [
              0.8888888888888888,
              "#fdca26"
             ],
             [
              1,
              "#f0f921"
             ]
            ],
            "type": "heatmapgl"
           }
          ],
          "histogram": [
           {
            "marker": {
             "pattern": {
              "fillmode": "overlay",
              "size": 10,
              "solidity": 0.2
             }
            },
            "type": "histogram"
           }
          ],
          "histogram2d": [
           {
            "colorbar": {
             "outlinewidth": 0,
             "ticks": ""
            },
            "colorscale": [
             [
              0,
              "#0d0887"
             ],
             [
              0.1111111111111111,
              "#46039f"
             ],
             [
              0.2222222222222222,
              "#7201a8"
             ],
             [
              0.3333333333333333,
              "#9c179e"
             ],
             [
              0.4444444444444444,
              "#bd3786"
             ],
             [
              0.5555555555555556,
              "#d8576b"
             ],
             [
              0.6666666666666666,
              "#ed7953"
             ],
             [
              0.7777777777777778,
              "#fb9f3a"
             ],
             [
              0.8888888888888888,
              "#fdca26"
             ],
             [
              1,
              "#f0f921"
             ]
            ],
            "type": "histogram2d"
           }
          ],
          "histogram2dcontour": [
           {
            "colorbar": {
             "outlinewidth": 0,
             "ticks": ""
            },
            "colorscale": [
             [
              0,
              "#0d0887"
             ],
             [
              0.1111111111111111,
              "#46039f"
             ],
             [
              0.2222222222222222,
              "#7201a8"
             ],
             [
              0.3333333333333333,
              "#9c179e"
             ],
             [
              0.4444444444444444,
              "#bd3786"
             ],
             [
              0.5555555555555556,
              "#d8576b"
             ],
             [
              0.6666666666666666,
              "#ed7953"
             ],
             [
              0.7777777777777778,
              "#fb9f3a"
             ],
             [
              0.8888888888888888,
              "#fdca26"
             ],
             [
              1,
              "#f0f921"
             ]
            ],
            "type": "histogram2dcontour"
           }
          ],
          "mesh3d": [
           {
            "colorbar": {
             "outlinewidth": 0,
             "ticks": ""
            },
            "type": "mesh3d"
           }
          ],
          "parcoords": [
           {
            "line": {
             "colorbar": {
              "outlinewidth": 0,
              "ticks": ""
             }
            },
            "type": "parcoords"
           }
          ],
          "pie": [
           {
            "automargin": true,
            "type": "pie"
           }
          ],
          "scatter": [
           {
            "fillpattern": {
             "fillmode": "overlay",
             "size": 10,
             "solidity": 0.2
            },
            "type": "scatter"
           }
          ],
          "scatter3d": [
           {
            "line": {
             "colorbar": {
              "outlinewidth": 0,
              "ticks": ""
             }
            },
            "marker": {
             "colorbar": {
              "outlinewidth": 0,
              "ticks": ""
             }
            },
            "type": "scatter3d"
           }
          ],
          "scattercarpet": [
           {
            "marker": {
             "colorbar": {
              "outlinewidth": 0,
              "ticks": ""
             }
            },
            "type": "scattercarpet"
           }
          ],
          "scattergeo": [
           {
            "marker": {
             "colorbar": {
              "outlinewidth": 0,
              "ticks": ""
             }
            },
            "type": "scattergeo"
           }
          ],
          "scattergl": [
           {
            "marker": {
             "colorbar": {
              "outlinewidth": 0,
              "ticks": ""
             }
            },
            "type": "scattergl"
           }
          ],
          "scattermapbox": [
           {
            "marker": {
             "colorbar": {
              "outlinewidth": 0,
              "ticks": ""
             }
            },
            "type": "scattermapbox"
           }
          ],
          "scatterpolar": [
           {
            "marker": {
             "colorbar": {
              "outlinewidth": 0,
              "ticks": ""
             }
            },
            "type": "scatterpolar"
           }
          ],
          "scatterpolargl": [
           {
            "marker": {
             "colorbar": {
              "outlinewidth": 0,
              "ticks": ""
             }
            },
            "type": "scatterpolargl"
           }
          ],
          "scatterternary": [
           {
            "marker": {
             "colorbar": {
              "outlinewidth": 0,
              "ticks": ""
             }
            },
            "type": "scatterternary"
           }
          ],
          "surface": [
           {
            "colorbar": {
             "outlinewidth": 0,
             "ticks": ""
            },
            "colorscale": [
             [
              0,
              "#0d0887"
             ],
             [
              0.1111111111111111,
              "#46039f"
             ],
             [
              0.2222222222222222,
              "#7201a8"
             ],
             [
              0.3333333333333333,
              "#9c179e"
             ],
             [
              0.4444444444444444,
              "#bd3786"
             ],
             [
              0.5555555555555556,
              "#d8576b"
             ],
             [
              0.6666666666666666,
              "#ed7953"
             ],
             [
              0.7777777777777778,
              "#fb9f3a"
             ],
             [
              0.8888888888888888,
              "#fdca26"
             ],
             [
              1,
              "#f0f921"
             ]
            ],
            "type": "surface"
           }
          ],
          "table": [
           {
            "cells": {
             "fill": {
              "color": "#EBF0F8"
             },
             "line": {
              "color": "white"
             }
            },
            "header": {
             "fill": {
              "color": "#C8D4E3"
             },
             "line": {
              "color": "white"
             }
            },
            "type": "table"
           }
          ]
         },
         "layout": {
          "annotationdefaults": {
           "arrowcolor": "#2a3f5f",
           "arrowhead": 0,
           "arrowwidth": 1
          },
          "autotypenumbers": "strict",
          "coloraxis": {
           "colorbar": {
            "outlinewidth": 0,
            "ticks": ""
           }
          },
          "colorscale": {
           "diverging": [
            [
             0,
             "#8e0152"
            ],
            [
             0.1,
             "#c51b7d"
            ],
            [
             0.2,
             "#de77ae"
            ],
            [
             0.3,
             "#f1b6da"
            ],
            [
             0.4,
             "#fde0ef"
            ],
            [
             0.5,
             "#f7f7f7"
            ],
            [
             0.6,
             "#e6f5d0"
            ],
            [
             0.7,
             "#b8e186"
            ],
            [
             0.8,
             "#7fbc41"
            ],
            [
             0.9,
             "#4d9221"
            ],
            [
             1,
             "#276419"
            ]
           ],
           "sequential": [
            [
             0,
             "#0d0887"
            ],
            [
             0.1111111111111111,
             "#46039f"
            ],
            [
             0.2222222222222222,
             "#7201a8"
            ],
            [
             0.3333333333333333,
             "#9c179e"
            ],
            [
             0.4444444444444444,
             "#bd3786"
            ],
            [
             0.5555555555555556,
             "#d8576b"
            ],
            [
             0.6666666666666666,
             "#ed7953"
            ],
            [
             0.7777777777777778,
             "#fb9f3a"
            ],
            [
             0.8888888888888888,
             "#fdca26"
            ],
            [
             1,
             "#f0f921"
            ]
           ],
           "sequentialminus": [
            [
             0,
             "#0d0887"
            ],
            [
             0.1111111111111111,
             "#46039f"
            ],
            [
             0.2222222222222222,
             "#7201a8"
            ],
            [
             0.3333333333333333,
             "#9c179e"
            ],
            [
             0.4444444444444444,
             "#bd3786"
            ],
            [
             0.5555555555555556,
             "#d8576b"
            ],
            [
             0.6666666666666666,
             "#ed7953"
            ],
            [
             0.7777777777777778,
             "#fb9f3a"
            ],
            [
             0.8888888888888888,
             "#fdca26"
            ],
            [
             1,
             "#f0f921"
            ]
           ]
          },
          "colorway": [
           "#636efa",
           "#EF553B",
           "#00cc96",
           "#ab63fa",
           "#FFA15A",
           "#19d3f3",
           "#FF6692",
           "#B6E880",
           "#FF97FF",
           "#FECB52"
          ],
          "font": {
           "color": "#2a3f5f"
          },
          "geo": {
           "bgcolor": "white",
           "lakecolor": "white",
           "landcolor": "#E5ECF6",
           "showlakes": true,
           "showland": true,
           "subunitcolor": "white"
          },
          "hoverlabel": {
           "align": "left"
          },
          "hovermode": "closest",
          "mapbox": {
           "style": "light"
          },
          "paper_bgcolor": "white",
          "plot_bgcolor": "#E5ECF6",
          "polar": {
           "angularaxis": {
            "gridcolor": "white",
            "linecolor": "white",
            "ticks": ""
           },
           "bgcolor": "#E5ECF6",
           "radialaxis": {
            "gridcolor": "white",
            "linecolor": "white",
            "ticks": ""
           }
          },
          "scene": {
           "xaxis": {
            "backgroundcolor": "#E5ECF6",
            "gridcolor": "white",
            "gridwidth": 2,
            "linecolor": "white",
            "showbackground": true,
            "ticks": "",
            "zerolinecolor": "white"
           },
           "yaxis": {
            "backgroundcolor": "#E5ECF6",
            "gridcolor": "white",
            "gridwidth": 2,
            "linecolor": "white",
            "showbackground": true,
            "ticks": "",
            "zerolinecolor": "white"
           },
           "zaxis": {
            "backgroundcolor": "#E5ECF6",
            "gridcolor": "white",
            "gridwidth": 2,
            "linecolor": "white",
            "showbackground": true,
            "ticks": "",
            "zerolinecolor": "white"
           }
          },
          "shapedefaults": {
           "line": {
            "color": "#2a3f5f"
           }
          },
          "ternary": {
           "aaxis": {
            "gridcolor": "white",
            "linecolor": "white",
            "ticks": ""
           },
           "baxis": {
            "gridcolor": "white",
            "linecolor": "white",
            "ticks": ""
           },
           "bgcolor": "#E5ECF6",
           "caxis": {
            "gridcolor": "white",
            "linecolor": "white",
            "ticks": ""
           }
          },
          "title": {
           "x": 0.05
          },
          "xaxis": {
           "automargin": true,
           "gridcolor": "white",
           "linecolor": "white",
           "ticks": "",
           "title": {
            "standoff": 15
           },
           "zerolinecolor": "white",
           "zerolinewidth": 2
          },
          "yaxis": {
           "automargin": true,
           "gridcolor": "white",
           "linecolor": "white",
           "ticks": "",
           "title": {
            "standoff": 15
           },
           "zerolinecolor": "white",
           "zerolinewidth": 2
          }
         }
        },
        "title": {
         "text": "Porcentaje de Ventas Globales por género",
         "x": 0.55,
         "xanchor": "center",
         "y": 0.9,
         "yanchor": "top"
        }
       }
      }
     },
     "metadata": {},
     "output_type": "display_data"
    }
   ],
   "source": [
    "datos = list(tabla.find(filtro, proy))\n",
    "genres = [game[\"Genre\"] for game in datos]\n",
    "sales = [game[\"Global_Sales\"] for game in datos]\n",
    "data = pd.DataFrame({'Géneros': genres, 'Ventas totales': sales})\n",
    "\n",
    "fig = go.Figure(data=[go.Pie(\n",
    "    labels = data[\"Géneros\"],        \n",
    "    values = data[\"Ventas totales\"], \n",
    "    textinfo = \"percent\",            \n",
    "    textposition = \"inside\",         \n",
    "    hoverinfo = \"label+value\"        \n",
    ")])\n",
    "\n",
    "fig.update_layout(\n",
    "    title=\"Porcentaje de Ventas Globales por Publisher\",\n",
    "    showlegend = True\n",
    ")\n",
    "\n",
    "\n",
    "fig.update_layout(\n",
    "    title = {\n",
    "        \"text\": \"Porcentaje de Ventas Globales por género\",\n",
    "        \"x\": 0.55,\n",
    "        \"y\": 0.9,\n",
    "        \"xanchor\": \"center\",\n",
    "        \"yanchor\": \"top\"\n",
    "    },\n",
    "    legend = {\n",
    "        \"yanchor\": \"middle\",\n",
    "        \"y\": 0.5,           \n",
    "        \"xanchor\": \"left\",  \n",
    "        \"x\": 0.65           \n",
    "    }\n",
    ")\n",
    "\n",
    "fig.show()"
   ]
  },
  {
   "cell_type": "markdown",
   "metadata": {},
   "source": [
    "Ahora se piden únicamente los juegos de la plataforma \"PS3\" que sean de género \"Action\"."
   ]
  },
  {
   "cell_type": "code",
   "execution_count": 20,
   "metadata": {},
   "outputs": [
    {
     "name": "stdout",
     "output_type": "stream",
     "text": [
      "Número de documentos obtenidos:  380 \n",
      "\n",
      "{'Name': 'Grand Theft Auto V', 'Platform': 'PS3', 'Year': 2013, 'Genre': 'Action', 'Publisher': 'Take-Two Interactive', 'Global_Sales': 21.4}\n",
      "{'Name': 'Grand Theft Auto IV', 'Platform': 'PS3', 'Year': 2008, 'Genre': 'Action', 'Publisher': 'Take-Two Interactive', 'Global_Sales': 10.57}\n",
      "{'Name': 'FIFA Soccer 13', 'Platform': 'PS3', 'Year': 2012, 'Genre': 'Action', 'Publisher': 'Electronic Arts', 'Global_Sales': 8.24}\n",
      "{'Name': \"Uncharted 3: Drake's Deception\", 'Platform': 'PS3', 'Year': 2011, 'Genre': 'Action', 'Publisher': 'Sony Computer Entertainment', 'Global_Sales': 6.83}\n",
      "{'Name': 'Uncharted 2: Among Thieves', 'Platform': 'PS3', 'Year': 2009, 'Genre': 'Action', 'Publisher': 'Sony Computer Entertainment', 'Global_Sales': 6.73}\n",
      "...\n",
      "{'Name': 'Shin Sangoku Musou Online: Souten Ranbu', 'Platform': 'PS3', 'Year': 2010, 'Genre': 'Action', 'Publisher': 'Tecmo Koei', 'Global_Sales': 0.02}\n",
      "{'Name': 'Barbie and Her Sisters Puppy Rescue', 'Platform': 'PS3', 'Year': 2015, 'Genre': 'Action', 'Publisher': 'Namco Bandai Games', 'Global_Sales': 0.02}\n",
      "{'Name': 'Higurashi no Naku Koro ni Iki', 'Platform': 'PS3', 'Year': 2015, 'Genre': 'Action', 'Publisher': 'Kaga Create', 'Global_Sales': 0.01}\n",
      "{'Name': \"Tsukigime Ranko's Longest Day\", 'Platform': 'PS3', 'Year': 2014, 'Genre': 'Action', 'Publisher': 'Namco Bandai Games', 'Global_Sales': 0.01}\n",
      "{'Name': 'Hyperdimension Neptunia mk2', 'Platform': 'PS3', 'Year': 2011, 'Genre': 'Action', 'Publisher': 'Nippon Ichi Software', 'Global_Sales': 0.01}\n"
     ]
    }
   ],
   "source": [
    "filtro = {\"Platform\": \"PS3\",\n",
    "          \"Genre\": \"Action\"}\n",
    "# Aprovechando la proyección definida en la celda anterior:\n",
    "filter_collection(tabla, filtro, proy)"
   ]
  },
  {
   "cell_type": "markdown",
   "metadata": {},
   "source": [
    "Se puede observar que el juego con título \"FIFA Soccer 13\" tiene asignado el género \"Action\" cuando es evidente que le corresponde \"Sports\", por lo que es necesario corregirlo con el método `.update_many()`. No se puede utilizar el método `.update_one()` porque hay varios documentos para ese título y con el mismo campo \"Name\" debido a la distinción entre plataformas. La actualización se hace de la siguiente manera:"
   ]
  },
  {
   "cell_type": "code",
   "execution_count": 21,
   "metadata": {},
   "outputs": [
    {
     "name": "stdout",
     "output_type": "stream",
     "text": [
      "Número de documentos obtenidos:  8 \n",
      "\n",
      "{'Name': 'FIFA Soccer 13', 'Platform': 'PS3', 'Year': 2012, 'Genre': 'Action', 'Publisher': 'Electronic Arts', 'Global_Sales': 8.24}\n",
      "{'Name': 'FIFA Soccer 13', 'Platform': 'X360', 'Year': 2012, 'Genre': 'Action', 'Publisher': 'Electronic Arts', 'Global_Sales': 5.18}\n",
      "{'Name': 'FIFA Soccer 13', 'Platform': 'Wii', 'Year': 2012, 'Genre': 'Action', 'Publisher': 'Electronic Arts', 'Global_Sales': 0.72}\n",
      "{'Name': 'FIFA Soccer 13', 'Platform': 'WiiU', 'Year': 2012, 'Genre': 'Action', 'Publisher': 'Electronic Arts', 'Global_Sales': 0.48}\n",
      "{'Name': 'FIFA Soccer 13', 'Platform': 'PSV', 'Year': 2012, 'Genre': 'Action', 'Publisher': 'Electronic Arts', 'Global_Sales': 0.47}\n",
      "{'Name': 'FIFA Soccer 13', 'Platform': 'PC', 'Year': 2012, 'Genre': 'Action', 'Publisher': 'Electronic Arts', 'Global_Sales': 0.41}\n",
      "{'Name': 'FIFA Soccer 13', 'Platform': 'PSP', 'Year': 2012, 'Genre': 'Action', 'Publisher': 'Electronic Arts', 'Global_Sales': 0.37}\n",
      "{'Name': 'FIFA Soccer 13', 'Platform': '3DS', 'Year': 2012, 'Genre': 'Action', 'Publisher': 'Electronic Arts', 'Global_Sales': 0.29}\n",
      "\n",
      "Colección actualizada:\n",
      "\n",
      "Número de documentos obtenidos:  8 \n",
      "\n",
      "{'Name': 'FIFA Soccer 13', 'Platform': 'PS3', 'Year': 2012, 'Genre': 'Sports', 'Publisher': 'Electronic Arts', 'Global_Sales': 8.24}\n",
      "{'Name': 'FIFA Soccer 13', 'Platform': 'X360', 'Year': 2012, 'Genre': 'Sports', 'Publisher': 'Electronic Arts', 'Global_Sales': 5.18}\n",
      "{'Name': 'FIFA Soccer 13', 'Platform': 'Wii', 'Year': 2012, 'Genre': 'Sports', 'Publisher': 'Electronic Arts', 'Global_Sales': 0.72}\n",
      "{'Name': 'FIFA Soccer 13', 'Platform': 'WiiU', 'Year': 2012, 'Genre': 'Sports', 'Publisher': 'Electronic Arts', 'Global_Sales': 0.48}\n",
      "{'Name': 'FIFA Soccer 13', 'Platform': 'PSV', 'Year': 2012, 'Genre': 'Sports', 'Publisher': 'Electronic Arts', 'Global_Sales': 0.47}\n",
      "{'Name': 'FIFA Soccer 13', 'Platform': 'PC', 'Year': 2012, 'Genre': 'Sports', 'Publisher': 'Electronic Arts', 'Global_Sales': 0.41}\n",
      "{'Name': 'FIFA Soccer 13', 'Platform': 'PSP', 'Year': 2012, 'Genre': 'Sports', 'Publisher': 'Electronic Arts', 'Global_Sales': 0.37}\n",
      "{'Name': 'FIFA Soccer 13', 'Platform': '3DS', 'Year': 2012, 'Genre': 'Sports', 'Publisher': 'Electronic Arts', 'Global_Sales': 0.29}\n"
     ]
    }
   ],
   "source": [
    "filtro = {\"Name\": \"FIFA Soccer 13\"}\n",
    "filter_collection(tabla, filtro, proy, limit = False)\n",
    "\n",
    "\n",
    "print(\"\\nColección actualizada:\\n\")\n",
    "\n",
    "actualizacion = {\"$set\": {\"Genre\": \"Sports\"}}\n",
    "tabla.update_many(filtro, actualizacion)\n",
    "filtro = {\"Name\": \"FIFA Soccer 13\"}\n",
    "filter_collection(tabla, filtro, proy, limit = False)"
   ]
  },
  {
   "cell_type": "markdown",
   "metadata": {},
   "source": [
    "Uno de los juegos más exitosos del año 2017 es Hollow Knight, pero no se encuentra en la base de datos. Mediante el método `.insert_one()` o `.insert_many()` (ya que según la estructura de los datos es necesario un documento por plataforma) es posible introducirlo con la siguiente información de ventas correspondiente:"
   ]
  },
  {
   "cell_type": "code",
   "execution_count": 26,
   "metadata": {},
   "outputs": [
    {
     "name": "stdout",
     "output_type": "stream",
     "text": [
      "Número de documentos obtenidos:  0 \n",
      "\n",
      "\n",
      "Colección actualizada:\n",
      "\n",
      "Número de documentos obtenidos:  3 \n",
      "\n",
      "{'_id': ObjectId('6761d3916d2a9d871197c70e'), 'Name': 'Hollow Knight', 'Platform': 'PS4', 'Year': 2017, 'Genre': 'Platform', 'Publisher': 'Team Cherry', 'NA_Sales': 2.01, 'EU_Sales': 0.84, 'JP_Sales': 1.2, 'Other_Sales': 1.7, 'Global_Sales': 5.75}\n",
      "{'_id': ObjectId('6761d3916d2a9d871197c70f'), 'Name': 'Hollow Knight', 'Platform': 'XOne', 'Year': 2017, 'Genre': 'Platform', 'Publisher': 'Team Cherry', 'NA_Sales': 0.97, 'EU_Sales': 0.5, 'JP_Sales': 0.3, 'Other_Sales': 1.14, 'Global_Sales': 2.91}\n",
      "{'_id': ObjectId('6761d3916d2a9d871197c710'), 'Name': 'Hollow Knight', 'Platform': 'PC', 'Year': 2017, 'Genre': 'Platform', 'Publisher': 'Team Cherry', 'NA_Sales': 2.86, 'EU_Sales': 2.22, 'JP_Sales': 3.02, 'Other_Sales': 1.87, 'Global_Sales': 9.97}\n"
     ]
    }
   ],
   "source": [
    "filtro = {\"Name\": \"Hollow Knight\"}\n",
    "filter_collection(tabla, filtro)\n",
    "\n",
    "\n",
    "gameA = {'Name': 'Hollow Knight', 'Platform': 'PS4', 'Year': 2017, 'Genre': 'Platform', 'Publisher': 'Team Cherry', 'NA_Sales': 2.01, 'EU_Sales': 0.84, 'JP_Sales': 1.2, 'Other_Sales': 1.7, 'Global_Sales': 5.75}\n",
    "gameB = {'Name': 'Hollow Knight', 'Platform': 'XOne', 'Year': 2017, 'Genre': 'Platform', 'Publisher': 'Team Cherry', 'NA_Sales': 0.97, 'EU_Sales': 0.5, 'JP_Sales': 0.3, 'Other_Sales': 1.14, 'Global_Sales': 2.91}\n",
    "gameC = {'Name': 'Hollow Knight', 'Platform': 'PC', 'Year': 2017, 'Genre': 'Platform', 'Publisher': 'Team Cherry', 'NA_Sales': 2.86, 'EU_Sales': 2.22, 'JP_Sales': 3.02, 'Other_Sales': 1.87, 'Global_Sales': 9.97}\n",
    "\n",
    "tabla.insert_many([gameA, gameB, gameC])\n",
    "\n",
    "\n",
    "print(\"\\nColección actualizada:\\n\")\n",
    "filtro = {\"Name\": \"Hollow Knight\"}\n",
    "filter_collection(tabla, filtro)\n"
   ]
  },
  {
   "cell_type": "markdown",
   "metadata": {},
   "source": [
    "### 5. Agrupaciones.\n",
    "\n",
    "En esta sección se van a agrupar los datos en función de sus campos para poder analizarlos de manera más sencilla. El primer ejemplo será agruparlos por distribuidor (\"Publisher\") y comparar el total de ventas y de productos con `aggregate`."
   ]
  },
  {
   "cell_type": "code",
   "execution_count": 4,
   "metadata": {},
   "outputs": [
    {
     "name": "stdout",
     "output_type": "stream",
     "text": [
      "Número de distribuidores: 580\n",
      "\n",
      "Publisher: Nintendo | Games: 703 | Total Sales: 1786.56\n",
      "Publisher: Electronic Arts | Games: 1351 | Total Sales: 1110.32\n",
      "Publisher: Activision | Games: 975 | Total Sales: 727.46\n",
      "Publisher: Sony Computer Entertainment | Games: 683 | Total Sales: 607.5\n",
      "Publisher: Ubisoft | Games: 921 | Total Sales: 474.72\n",
      "Publisher: Take-Two Interactive | Games: 413 | Total Sales: 399.54\n",
      "Publisher: THQ | Games: 715 | Total Sales: 340.77\n",
      "Publisher: Konami Digital Entertainment | Games: 832 | Total Sales: 283.64\n",
      "Publisher: Sega | Games: 639 | Total Sales: 272.99\n",
      "Publisher: Namco Bandai Games | Games: 932 | Total Sales: 254.09\n",
      "Publisher: Microsoft Game Studios | Games: 189 | Total Sales: 245.79\n",
      "Publisher: Capcom | Games: 381 | Total Sales: 200.89\n",
      "Publisher: Atari | Games: 363 | Total Sales: 157.22\n",
      "Publisher: Warner Bros. Interactive Entertainment | Games: 232 | Total Sales: 153.89\n",
      "Publisher: Square Enix | Games: 233 | Total Sales: 145.18\n",
      "Publisher: Disney Interactive Studios | Games: 218 | Total Sales: 119.96\n",
      "Publisher: Eidos Interactive | Games: 198 | Total Sales: 98.98\n",
      "Publisher: LucasArts | Games: 90 | Total Sales: 87.34\n",
      "Publisher: Bethesda Softworks | Games: 71 | Total Sales: 82.14\n",
      "Publisher: Midway Games | Games: 198 | Total Sales: 69.85\n",
      "...\n"
     ]
    }
   ],
   "source": [
    "steps = [\n",
    "    {\"$group\": {\n",
    "        \"_id\": \"$Publisher\",\n",
    "        \"total_sales\": {\"$sum\": \"$Global_Sales\"},\n",
    "        \"total_games\": {\"$sum\": 1}\n",
    "    }},\n",
    "    {\"$sort\": {\"total_sales\": -1}},\n",
    "    ]\n",
    "\n",
    "datos = list(tabla.aggregate(steps))\n",
    "\n",
    "print(f\"Número de distribuidores: {len(datos)}\\n\")\n",
    "n = 0\n",
    "for doc in datos:\n",
    "    n += 1\n",
    "    print(f\"Publisher: {doc[\"_id\"]} | Games: {doc[\"total_games\"]} | Total Sales: {round(doc[\"total_sales\"], 2)}\")\n",
    "    if n >= 20:\n",
    "        print(\"...\")\n",
    "        break\n"
   ]
  },
  {
   "cell_type": "markdown",
   "metadata": {},
   "source": [
    "Agrupar los datos con `.aggregate()` nos permite representarlos de forma sencilla para poder obtener conclusiones mediante un análisis rápido de los mismos. A partir de los siguientes gráficos se pueden sacar algunas conclusiones rápidas.\n",
    "\n",
    "- En el primer gráfico se observa que, del total de ventas, tan sólo 8 distribuidores ocupan el 64.1% aproximadamente, dejando a las 572 empresas restantes con el 35.8%.\n",
    "- En el segundo se puede observar que, aunque hay distribuidores con una cantidad de videojuegos publicados similar, sus ventas son muy distintas. Además, esto indica que un mayor número de videojuegos publicados no tiene por qué dar lugar a más ventas.\n",
    "- El tercero es un gráfico de burbujas interactivo en el que se puede visualizar la comparación de ventas en función de los juegos publicados."
   ]
  },
  {
   "cell_type": "code",
   "execution_count": 28,
   "metadata": {},
   "outputs": [
    {
     "data": {
      "image/png": "[encoded data removed]",
      "text/plain": [
       "<Figure size 2000x2000 with 2 Axes>"
      ]
     },
     "metadata": {},
     "output_type": "display_data"
    }
   ],
   "source": [
    "n = 8\n",
    "publishers = [empresa[\"_id\"] for empresa in datos]\n",
    "publishers2 = publishers[:n]\n",
    "publishers2.append(f\"Others ({len(publishers)-len(publishers2)})\")\n",
    "\n",
    "sales = [empresa[\"total_sales\"] for empresa in datos]\n",
    "sales2 = sales[:n]\n",
    "sales2.append(sum(sales[n:]))\n",
    "\n",
    "games = [empresa[\"total_games\"] for empresa in datos]\n",
    "games2 = games[:n]\n",
    "games2.append(sum(games[n:]))\n",
    "\n",
    "\n",
    "fig, ax = plt.subplots(1, 2, figsize=(20, 20))\n",
    "fig.subplots_adjust(wspace = 0.8)\n",
    "\n",
    "plt.subplot(1, 2, 1)\n",
    "plt.pie(sales2, labels = publishers2, autopct = '%1.1f%%', startangle = 140, colors = plt.cm.Paired.colors)\n",
    "plt.title('Porcentaje de ventas globales por distribuidor')\n",
    "\n",
    "plt.subplot(1, 2, 2)\n",
    "plt.pie(games2, labels = publishers2, autopct = '%1.1f%%', startangle = 140, colors = plt.cm.Paired.colors)\n",
    "plt.title('Porcentaje de videojuegos publicados por distribuidor')\n",
    "plt.show()"
   ]
  },
  {
   "cell_type": "code",
   "execution_count": 29,
   "metadata": {},
   "outputs": [
    {
     "data": {
      "application/vnd.plotly.v1+json": {
       "config": {
        "plotlyServerURL": "https://plot.ly"
       },
       "data": [
        {
         "hovertemplate": "<b>%{hovertext}</b><br><br>Distribuidor=Nintendo<br>Juegos publicados=%{x}<br>Ventas globales=%{marker.size}<extra></extra>",
         "hovertext": [
          "Nintendo"
         ],
         "legendgroup": "Nintendo",
         "marker": {
          "color": "#636efa",
          "size": [
           1786.56
          ],
          "sizemode": "area",
          "sizeref": 0.49626666666666663,
          "symbol": "circle"
         },
         "mode": "markers",
         "name": "Nintendo",
         "orientation": "v",
         "showlegend": true,
         "type": "scatter",
         "x": [
          703
         ],
         "xaxis": "x",
         "y": [
          1786.56
         ],
         "yaxis": "y"
        },
        {
         "hovertemplate": "<b>%{hovertext}</b><br><br>Distribuidor=Electronic Arts<br>Juegos publicados=%{x}<br>Ventas globales=%{marker.size}<extra></extra>",
         "hovertext": [
          "Electronic Arts"
         ],
         "legendgroup": "Electronic Arts",
         "marker": {
          "color": "#EF553B",
          "size": [
           1110.32
          ],
          "sizemode": "area",
          "sizeref": 0.49626666666666663,
          "symbol": "circle"
         },
         "mode": "markers",
         "name": "Electronic Arts",
         "orientation": "v",
         "showlegend": true,
         "type": "scatter",
         "x": [
          1351
         ],
         "xaxis": "x",
         "y": [
          1110.32
         ],
         "yaxis": "y"
        },
        {
         "hovertemplate": "<b>%{hovertext}</b><br><br>Distribuidor=Activision<br>Juegos publicados=%{x}<br>Ventas globales=%{marker.size}<extra></extra>",
         "hovertext": [
          "Activision"
         ],
         "legendgroup": "Activision",
         "marker": {
          "color": "#00cc96",
          "size": [
           727.46
          ],
          "sizemode": "area",
          "sizeref": 0.49626666666666663,
          "symbol": "circle"
         },
         "mode": "markers",
         "name": "Activision",
         "orientation": "v",
         "showlegend": true,
         "type": "scatter",
         "x": [
          975
         ],
         "xaxis": "x",
         "y": [
          727.46
         ],
         "yaxis": "y"
        },
        {
         "hovertemplate": "<b>%{hovertext}</b><br><br>Distribuidor=Sony Computer Entertainment<br>Juegos publicados=%{x}<br>Ventas globales=%{marker.size}<extra></extra>",
         "hovertext": [
          "Sony Computer Entertainment"
         ],
         "legendgroup": "Sony Computer Entertainment",
         "marker": {
          "color": "#ab63fa",
          "size": [
           607.5
          ],
          "sizemode": "area",
          "sizeref": 0.49626666666666663,
          "symbol": "circle"
         },
         "mode": "markers",
         "name": "Sony Computer Entertainment",
         "orientation": "v",
         "showlegend": true,
         "type": "scatter",
         "x": [
          683
         ],
         "xaxis": "x",
         "y": [
          607.5
         ],
         "yaxis": "y"
        },
        {
         "hovertemplate": "<b>%{hovertext}</b><br><br>Distribuidor=Ubisoft<br>Juegos publicados=%{x}<br>Ventas globales=%{marker.size}<extra></extra>",
         "hovertext": [
          "Ubisoft"
         ],
         "legendgroup": "Ubisoft",
         "marker": {
          "color": "#FFA15A",
          "size": [
           474.72
          ],
          "sizemode": "area",
          "sizeref": 0.49626666666666663,
          "symbol": "circle"
         },
         "mode": "markers",
         "name": "Ubisoft",
         "orientation": "v",
         "showlegend": true,
         "type": "scatter",
         "x": [
          921
         ],
         "xaxis": "x",
         "y": [
          474.72
         ],
         "yaxis": "y"
        },
        {
         "hovertemplate": "<b>%{hovertext}</b><br><br>Distribuidor=Take-Two Interactive<br>Juegos publicados=%{x}<br>Ventas globales=%{marker.size}<extra></extra>",
         "hovertext": [
          "Take-Two Interactive"
         ],
         "legendgroup": "Take-Two Interactive",
         "marker": {
          "color": "#19d3f3",
          "size": [
           399.54
          ],
          "sizemode": "area",
          "sizeref": 0.49626666666666663,
          "symbol": "circle"
         },
         "mode": "markers",
         "name": "Take-Two Interactive",
         "orientation": "v",
         "showlegend": true,
         "type": "scatter",
         "x": [
          413
         ],
         "xaxis": "x",
         "y": [
          399.54
         ],
         "yaxis": "y"
        },
        {
         "hovertemplate": "<b>%{hovertext}</b><br><br>Distribuidor=THQ<br>Juegos publicados=%{x}<br>Ventas globales=%{marker.size}<extra></extra>",
         "hovertext": [
          "THQ"
         ],
         "legendgroup": "THQ",
         "marker": {
          "color": "#FF6692",
          "size": [
           340.77
          ],
          "sizemode": "area",
          "sizeref": 0.49626666666666663,
          "symbol": "circle"
         },
         "mode": "markers",
         "name": "THQ",
         "orientation": "v",
         "showlegend": true,
         "type": "scatter",
         "x": [
          715
         ],
         "xaxis": "x",
         "y": [
          340.77
         ],
         "yaxis": "y"
        },
        {
         "hovertemplate": "<b>%{hovertext}</b><br><br>Distribuidor=Konami Digital Entertainment<br>Juegos publicados=%{x}<br>Ventas globales=%{marker.size}<extra></extra>",
         "hovertext": [
          "Konami Digital Entertainment"
         ],
         "legendgroup": "Konami Digital Entertainment",
         "marker": {
          "color": "#B6E880",
          "size": [
           283.64
          ],
          "sizemode": "area",
          "sizeref": 0.49626666666666663,
          "symbol": "circle"
         },
         "mode": "markers",
         "name": "Konami Digital Entertainment",
         "orientation": "v",
         "showlegend": true,
         "type": "scatter",
         "x": [
          832
         ],
         "xaxis": "x",
         "y": [
          283.64
         ],
         "yaxis": "y"
        },
        {
         "hovertemplate": "<b>%{hovertext}</b><br><br>Distribuidor=Sega<br>Juegos publicados=%{x}<br>Ventas globales=%{marker.size}<extra></extra>",
         "hovertext": [
          "Sega"
         ],
         "legendgroup": "Sega",
         "marker": {
          "color": "#FF97FF",
          "size": [
           272.99
          ],
          "sizemode": "area",
          "sizeref": 0.49626666666666663,
          "symbol": "circle"
         },
         "mode": "markers",
         "name": "Sega",
         "orientation": "v",
         "showlegend": true,
         "type": "scatter",
         "x": [
          639
         ],
         "xaxis": "x",
         "y": [
          272.99
         ],
         "yaxis": "y"
        },
        {
         "hovertemplate": "<b>%{hovertext}</b><br><br>Distribuidor=Namco Bandai Games<br>Juegos publicados=%{x}<br>Ventas globales=%{marker.size}<extra></extra>",
         "hovertext": [
          "Namco Bandai Games"
         ],
         "legendgroup": "Namco Bandai Games",
         "marker": {
          "color": "#FECB52",
          "size": [
           254.09
          ],
          "sizemode": "area",
          "sizeref": 0.49626666666666663,
          "symbol": "circle"
         },
         "mode": "markers",
         "name": "Namco Bandai Games",
         "orientation": "v",
         "showlegend": true,
         "type": "scatter",
         "x": [
          932
         ],
         "xaxis": "x",
         "y": [
          254.09
         ],
         "yaxis": "y"
        },
        {
         "hovertemplate": "<b>%{hovertext}</b><br><br>Distribuidor=Microsoft Game Studios<br>Juegos publicados=%{x}<br>Ventas globales=%{marker.size}<extra></extra>",
         "hovertext": [
          "Microsoft Game Studios"
         ],
         "legendgroup": "Microsoft Game Studios",
         "marker": {
          "color": "#636efa",
          "size": [
           245.79
          ],
          "sizemode": "area",
          "sizeref": 0.49626666666666663,
          "symbol": "circle"
         },
         "mode": "markers",
         "name": "Microsoft Game Studios",
         "orientation": "v",
         "showlegend": true,
         "type": "scatter",
         "x": [
          189
         ],
         "xaxis": "x",
         "y": [
          245.79
         ],
         "yaxis": "y"
        },
        {
         "hovertemplate": "<b>%{hovertext}</b><br><br>Distribuidor=Capcom<br>Juegos publicados=%{x}<br>Ventas globales=%{marker.size}<extra></extra>",
         "hovertext": [
          "Capcom"
         ],
         "legendgroup": "Capcom",
         "marker": {
          "color": "#EF553B",
          "size": [
           200.89
          ],
          "sizemode": "area",
          "sizeref": 0.49626666666666663,
          "symbol": "circle"
         },
         "mode": "markers",
         "name": "Capcom",
         "orientation": "v",
         "showlegend": true,
         "type": "scatter",
         "x": [
          381
         ],
         "xaxis": "x",
         "y": [
          200.89
         ],
         "yaxis": "y"
        },
        {
         "hovertemplate": "<b>%{hovertext}</b><br><br>Distribuidor=Atari<br>Juegos publicados=%{x}<br>Ventas globales=%{marker.size}<extra></extra>",
         "hovertext": [
          "Atari"
         ],
         "legendgroup": "Atari",
         "marker": {
          "color": "#00cc96",
          "size": [
           157.22
          ],
          "sizemode": "area",
          "sizeref": 0.49626666666666663,
          "symbol": "circle"
         },
         "mode": "markers",
         "name": "Atari",
         "orientation": "v",
         "showlegend": true,
         "type": "scatter",
         "x": [
          363
         ],
         "xaxis": "x",
         "y": [
          157.22
         ],
         "yaxis": "y"
        },
        {
         "hovertemplate": "<b>%{hovertext}</b><br><br>Distribuidor=Warner Bros. Interactive Entertainment<br>Juegos publicados=%{x}<br>Ventas globales=%{marker.size}<extra></extra>",
         "hovertext": [
          "Warner Bros. Interactive Entertainment"
         ],
         "legendgroup": "Warner Bros. Interactive Entertainment",
         "marker": {
          "color": "#ab63fa",
          "size": [
           153.89000000000001
          ],
          "sizemode": "area",
          "sizeref": 0.49626666666666663,
          "symbol": "circle"
         },
         "mode": "markers",
         "name": "Warner Bros. Interactive Entertainment",
         "orientation": "v",
         "showlegend": true,
         "type": "scatter",
         "x": [
          232
         ],
         "xaxis": "x",
         "y": [
          153.89000000000001
         ],
         "yaxis": "y"
        },
        {
         "hovertemplate": "<b>%{hovertext}</b><br><br>Distribuidor=Square Enix<br>Juegos publicados=%{x}<br>Ventas globales=%{marker.size}<extra></extra>",
         "hovertext": [
          "Square Enix"
         ],
         "legendgroup": "Square Enix",
         "marker": {
          "color": "#FFA15A",
          "size": [
           145.18
          ],
          "sizemode": "area",
          "sizeref": 0.49626666666666663,
          "symbol": "circle"
         },
         "mode": "markers",
         "name": "Square Enix",
         "orientation": "v",
         "showlegend": true,
         "type": "scatter",
         "x": [
          233
         ],
         "xaxis": "x",
         "y": [
          145.18
         ],
         "yaxis": "y"
        },
        {
         "hovertemplate": "<b>%{hovertext}</b><br><br>Distribuidor=Disney Interactive Studios<br>Juegos publicados=%{x}<br>Ventas globales=%{marker.size}<extra></extra>",
         "hovertext": [
          "Disney Interactive Studios"
         ],
         "legendgroup": "Disney Interactive Studios",
         "marker": {
          "color": "#19d3f3",
          "size": [
           119.96000000000001
          ],
          "sizemode": "area",
          "sizeref": 0.49626666666666663,
          "symbol": "circle"
         },
         "mode": "markers",
         "name": "Disney Interactive Studios",
         "orientation": "v",
         "showlegend": true,
         "type": "scatter",
         "x": [
          218
         ],
         "xaxis": "x",
         "y": [
          119.96000000000001
         ],
         "yaxis": "y"
        },
        {
         "hovertemplate": "<b>%{hovertext}</b><br><br>Distribuidor=Eidos Interactive<br>Juegos publicados=%{x}<br>Ventas globales=%{marker.size}<extra></extra>",
         "hovertext": [
          "Eidos Interactive"
         ],
         "legendgroup": "Eidos Interactive",
         "marker": {
          "color": "#FF6692",
          "size": [
           98.98
          ],
          "sizemode": "area",
          "sizeref": 0.49626666666666663,
          "symbol": "circle"
         },
         "mode": "markers",
         "name": "Eidos Interactive",
         "orientation": "v",
         "showlegend": true,
         "type": "scatter",
         "x": [
          198
         ],
         "xaxis": "x",
         "y": [
          98.98
         ],
         "yaxis": "y"
        },
        {
         "hovertemplate": "<b>%{hovertext}</b><br><br>Distribuidor=LucasArts<br>Juegos publicados=%{x}<br>Ventas globales=%{marker.size}<extra></extra>",
         "hovertext": [
          "LucasArts"
         ],
         "legendgroup": "LucasArts",
         "marker": {
          "color": "#B6E880",
          "size": [
           87.34
          ],
          "sizemode": "area",
          "sizeref": 0.49626666666666663,
          "symbol": "circle"
         },
         "mode": "markers",
         "name": "LucasArts",
         "orientation": "v",
         "showlegend": true,
         "type": "scatter",
         "x": [
          90
         ],
         "xaxis": "x",
         "y": [
          87.34
         ],
         "yaxis": "y"
        },
        {
         "hovertemplate": "<b>%{hovertext}</b><br><br>Distribuidor=Bethesda Softworks<br>Juegos publicados=%{x}<br>Ventas globales=%{marker.size}<extra></extra>",
         "hovertext": [
          "Bethesda Softworks"
         ],
         "legendgroup": "Bethesda Softworks",
         "marker": {
          "color": "#FF97FF",
          "size": [
           82.14
          ],
          "sizemode": "area",
          "sizeref": 0.49626666666666663,
          "symbol": "circle"
         },
         "mode": "markers",
         "name": "Bethesda Softworks",
         "orientation": "v",
         "showlegend": true,
         "type": "scatter",
         "x": [
          71
         ],
         "xaxis": "x",
         "y": [
          82.14
         ],
         "yaxis": "y"
        },
        {
         "hovertemplate": "<b>%{hovertext}</b><br><br>Distribuidor=Midway Games<br>Juegos publicados=%{x}<br>Ventas globales=%{marker.size}<extra></extra>",
         "hovertext": [
          "Midway Games"
         ],
         "legendgroup": "Midway Games",
         "marker": {
          "color": "#FECB52",
          "size": [
           69.85
          ],
          "sizemode": "area",
          "sizeref": 0.49626666666666663,
          "symbol": "circle"
         },
         "mode": "markers",
         "name": "Midway Games",
         "orientation": "v",
         "showlegend": true,
         "type": "scatter",
         "x": [
          198
         ],
         "xaxis": "x",
         "y": [
          69.85
         ],
         "yaxis": "y"
        },
        {
         "hovertemplate": "<b>%{hovertext}</b><br><br>Distribuidor=Acclaim Entertainment<br>Juegos publicados=%{x}<br>Ventas globales=%{marker.size}<extra></extra>",
         "hovertext": [
          "Acclaim Entertainment"
         ],
         "legendgroup": "Acclaim Entertainment",
         "marker": {
          "color": "#636efa",
          "size": [
           64.14
          ],
          "sizemode": "area",
          "sizeref": 0.49626666666666663,
          "symbol": "circle"
         },
         "mode": "markers",
         "name": "Acclaim Entertainment",
         "orientation": "v",
         "showlegend": true,
         "type": "scatter",
         "x": [
          184
         ],
         "xaxis": "x",
         "y": [
          64.14
         ],
         "yaxis": "y"
        },
        {
         "hovertemplate": "<b>%{hovertext}</b><br><br>Distribuidor=Vivendi Games<br>Juegos publicados=%{x}<br>Ventas globales=%{marker.size}<extra></extra>",
         "hovertext": [
          "Vivendi Games"
         ],
         "legendgroup": "Vivendi Games",
         "marker": {
          "color": "#EF553B",
          "size": [
           58.21
          ],
          "sizemode": "area",
          "sizeref": 0.49626666666666663,
          "symbol": "circle"
         },
         "mode": "markers",
         "name": "Vivendi Games",
         "orientation": "v",
         "showlegend": true,
         "type": "scatter",
         "x": [
          164
         ],
         "xaxis": "x",
         "y": [
          58.21
         ],
         "yaxis": "y"
        },
        {
         "hovertemplate": "<b>%{hovertext}</b><br><br>Distribuidor=SquareSoft<br>Juegos publicados=%{x}<br>Ventas globales=%{marker.size}<extra></extra>",
         "hovertext": [
          "SquareSoft"
         ],
         "legendgroup": "SquareSoft",
         "marker": {
          "color": "#00cc96",
          "size": [
           57.65
          ],
          "sizemode": "area",
          "sizeref": 0.49626666666666663,
          "symbol": "circle"
         },
         "mode": "markers",
         "name": "SquareSoft",
         "orientation": "v",
         "showlegend": true,
         "type": "scatter",
         "x": [
          52
         ],
         "xaxis": "x",
         "y": [
          57.65
         ],
         "yaxis": "y"
        },
        {
         "hovertemplate": "<b>%{hovertext}</b><br><br>Distribuidor=505 Games<br>Juegos publicados=%{x}<br>Ventas globales=%{marker.size}<extra></extra>",
         "hovertext": [
          "505 Games"
         ],
         "legendgroup": "505 Games",
         "marker": {
          "color": "#ab63fa",
          "size": [
           55.91
          ],
          "sizemode": "area",
          "sizeref": 0.49626666666666663,
          "symbol": "circle"
         },
         "mode": "markers",
         "name": "505 Games",
         "orientation": "v",
         "showlegend": true,
         "type": "scatter",
         "x": [
          192
         ],
         "xaxis": "x",
         "y": [
          55.91
         ],
         "yaxis": "y"
        },
        {
         "hovertemplate": "<b>%{hovertext}</b><br><br>Distribuidor=Tecmo Koei<br>Juegos publicados=%{x}<br>Ventas globales=%{marker.size}<extra></extra>",
         "hovertext": [
          "Tecmo Koei"
         ],
         "legendgroup": "Tecmo Koei",
         "marker": {
          "color": "#FFA15A",
          "size": [
           53.55
          ],
          "sizemode": "area",
          "sizeref": 0.49626666666666663,
          "symbol": "circle"
         },
         "mode": "markers",
         "name": "Tecmo Koei",
         "orientation": "v",
         "showlegend": true,
         "type": "scatter",
         "x": [
          338
         ],
         "xaxis": "x",
         "y": [
          53.55
         ],
         "yaxis": "y"
        },
        {
         "hovertemplate": "<b>%{hovertext}</b><br><br>Distribuidor=Codemasters<br>Juegos publicados=%{x}<br>Ventas globales=%{marker.size}<extra></extra>",
         "hovertext": [
          "Codemasters"
         ],
         "legendgroup": "Codemasters",
         "marker": {
          "color": "#19d3f3",
          "size": [
           47.87
          ],
          "sizemode": "area",
          "sizeref": 0.49626666666666663,
          "symbol": "circle"
         },
         "mode": "markers",
         "name": "Codemasters",
         "orientation": "v",
         "showlegend": true,
         "type": "scatter",
         "x": [
          152
         ],
         "xaxis": "x",
         "y": [
          47.87
         ],
         "yaxis": "y"
        },
        {
         "hovertemplate": "<b>%{hovertext}</b><br><br>Distribuidor=Virgin Interactive<br>Juegos publicados=%{x}<br>Ventas globales=%{marker.size}<extra></extra>",
         "hovertext": [
          "Virgin Interactive"
         ],
         "legendgroup": "Virgin Interactive",
         "marker": {
          "color": "#FF6692",
          "size": [
           43.87
          ],
          "sizemode": "area",
          "sizeref": 0.49626666666666663,
          "symbol": "circle"
         },
         "mode": "markers",
         "name": "Virgin Interactive",
         "orientation": "v",
         "showlegend": true,
         "type": "scatter",
         "x": [
          62
         ],
         "xaxis": "x",
         "y": [
          43.87
         ],
         "yaxis": "y"
        },
        {
         "hovertemplate": "<b>%{hovertext}</b><br><br>Distribuidor=Unknown<br>Juegos publicados=%{x}<br>Ventas globales=%{marker.size}<extra></extra>",
         "hovertext": [
          "Unknown"
         ],
         "legendgroup": "Unknown",
         "marker": {
          "color": "#B6E880",
          "size": [
           34.66
          ],
          "sizemode": "area",
          "sizeref": 0.49626666666666663,
          "symbol": "circle"
         },
         "mode": "markers",
         "name": "Unknown",
         "orientation": "v",
         "showlegend": true,
         "type": "scatter",
         "x": [
          203
         ],
         "xaxis": "x",
         "y": [
          34.66
         ],
         "yaxis": "y"
        },
        {
         "hovertemplate": "<b>%{hovertext}</b><br><br>Distribuidor=Enix Corporation<br>Juegos publicados=%{x}<br>Ventas globales=%{marker.size}<extra></extra>",
         "hovertext": [
          "Enix Corporation"
         ],
         "legendgroup": "Enix Corporation",
         "marker": {
          "color": "#FF97FF",
          "size": [
           33.74
          ],
          "sizemode": "area",
          "sizeref": 0.49626666666666663,
          "symbol": "circle"
         },
         "mode": "markers",
         "name": "Enix Corporation",
         "orientation": "v",
         "showlegend": true,
         "type": "scatter",
         "x": [
          30
         ],
         "xaxis": "x",
         "y": [
          33.74
         ],
         "yaxis": "y"
        },
        {
         "hovertemplate": "<b>%{hovertext}</b><br><br>Distribuidor=Deep Silver<br>Juegos publicados=%{x}<br>Ventas globales=%{marker.size}<extra></extra>",
         "hovertext": [
          "Deep Silver"
         ],
         "legendgroup": "Deep Silver",
         "marker": {
          "color": "#FECB52",
          "size": [
           25.67
          ],
          "sizemode": "area",
          "sizeref": 0.49626666666666663,
          "symbol": "circle"
         },
         "mode": "markers",
         "name": "Deep Silver",
         "orientation": "v",
         "showlegend": true,
         "type": "scatter",
         "x": [
          122
         ],
         "xaxis": "x",
         "y": [
          25.67
         ],
         "yaxis": "y"
        },
        {
         "hovertemplate": "<b>%{hovertext}</b><br><br>Distribuidor=GT Interactive<br>Juegos publicados=%{x}<br>Ventas globales=%{marker.size}<extra></extra>",
         "hovertext": [
          "GT Interactive"
         ],
         "legendgroup": "GT Interactive",
         "marker": {
          "color": "#636efa",
          "size": [
           25.23
          ],
          "sizemode": "area",
          "sizeref": 0.49626666666666663,
          "symbol": "circle"
         },
         "mode": "markers",
         "name": "GT Interactive",
         "orientation": "v",
         "showlegend": true,
         "type": "scatter",
         "x": [
          45
         ],
         "xaxis": "x",
         "y": [
          25.23
         ],
         "yaxis": "y"
        },
        {
         "hovertemplate": "<b>%{hovertext}</b><br><br>Distribuidor=D3Publisher<br>Juegos publicados=%{x}<br>Ventas globales=%{marker.size}<extra></extra>",
         "hovertext": [
          "D3Publisher"
         ],
         "legendgroup": "D3Publisher",
         "marker": {
          "color": "#EF553B",
          "size": [
           24.13
          ],
          "sizemode": "area",
          "sizeref": 0.49626666666666663,
          "symbol": "circle"
         },
         "mode": "markers",
         "name": "D3Publisher",
         "orientation": "v",
         "showlegend": true,
         "type": "scatter",
         "x": [
          184
         ],
         "xaxis": "x",
         "y": [
          24.13
         ],
         "yaxis": "y"
        },
        {
         "hovertemplate": "<b>%{hovertext}</b><br><br>Distribuidor=Sony Computer Entertainment Europe<br>Juegos publicados=%{x}<br>Ventas globales=%{marker.size}<extra></extra>",
         "hovertext": [
          "Sony Computer Entertainment Europe"
         ],
         "legendgroup": "Sony Computer Entertainment Europe",
         "marker": {
          "color": "#00cc96",
          "size": [
           23.89
          ],
          "sizemode": "area",
          "sizeref": 0.49626666666666663,
          "symbol": "circle"
         },
         "mode": "markers",
         "name": "Sony Computer Entertainment Europe",
         "orientation": "v",
         "showlegend": true,
         "type": "scatter",
         "x": [
          15
         ],
         "xaxis": "x",
         "y": [
          23.89
         ],
         "yaxis": "y"
        },
        {
         "hovertemplate": "<b>%{hovertext}</b><br><br>Distribuidor=Hudson Soft<br>Juegos publicados=%{x}<br>Ventas globales=%{marker.size}<extra></extra>",
         "hovertext": [
          "Hudson Soft"
         ],
         "legendgroup": "Hudson Soft",
         "marker": {
          "color": "#ab63fa",
          "size": [
           23.01
          ],
          "sizemode": "area",
          "sizeref": 0.49626666666666663,
          "symbol": "circle"
         },
         "mode": "markers",
         "name": "Hudson Soft",
         "orientation": "v",
         "showlegend": true,
         "type": "scatter",
         "x": [
          81
         ],
         "xaxis": "x",
         "y": [
          23.01
         ],
         "yaxis": "y"
        },
        {
         "hovertemplate": "<b>%{hovertext}</b><br><br>Distribuidor=MTV Games<br>Juegos publicados=%{x}<br>Ventas globales=%{marker.size}<extra></extra>",
         "hovertext": [
          "MTV Games"
         ],
         "legendgroup": "MTV Games",
         "marker": {
          "color": "#FFA15A",
          "size": [
           20.97
          ],
          "sizemode": "area",
          "sizeref": 0.49626666666666663,
          "symbol": "circle"
         },
         "mode": "markers",
         "name": "MTV Games",
         "orientation": "v",
         "showlegend": true,
         "type": "scatter",
         "x": [
          41
         ],
         "xaxis": "x",
         "y": [
          20.97
         ],
         "yaxis": "y"
        },
        {
         "hovertemplate": "<b>%{hovertext}</b><br><br>Distribuidor=Team Cherry<br>Juegos publicados=%{x}<br>Ventas globales=%{marker.size}<extra></extra>",
         "hovertext": [
          "Team Cherry"
         ],
         "legendgroup": "Team Cherry",
         "marker": {
          "color": "#19d3f3",
          "size": [
           18.630000000000003
          ],
          "sizemode": "area",
          "sizeref": 0.49626666666666663,
          "symbol": "circle"
         },
         "mode": "markers",
         "name": "Team Cherry",
         "orientation": "v",
         "showlegend": true,
         "type": "scatter",
         "x": [
          3
         ],
         "xaxis": "x",
         "y": [
          18.630000000000003
         ],
         "yaxis": "y"
        },
        {
         "hovertemplate": "<b>%{hovertext}</b><br><br>Distribuidor=Universal Interactive<br>Juegos publicados=%{x}<br>Ventas globales=%{marker.size}<extra></extra>",
         "hovertext": [
          "Universal Interactive"
         ],
         "legendgroup": "Universal Interactive",
         "marker": {
          "color": "#FF6692",
          "size": [
           17.77
          ],
          "sizemode": "area",
          "sizeref": 0.49626666666666663,
          "symbol": "circle"
         },
         "mode": "markers",
         "name": "Universal Interactive",
         "orientation": "v",
         "showlegend": true,
         "type": "scatter",
         "x": [
          23
         ],
         "xaxis": "x",
         "y": [
          17.77
         ],
         "yaxis": "y"
        },
        {
         "hovertemplate": "<b>%{hovertext}</b><br><br>Distribuidor=Banpresto<br>Juegos publicados=%{x}<br>Ventas globales=%{marker.size}<extra></extra>",
         "hovertext": [
          "Banpresto"
         ],
         "legendgroup": "Banpresto",
         "marker": {
          "color": "#B6E880",
          "size": [
           17.4
          ],
          "sizemode": "area",
          "sizeref": 0.49626666666666663,
          "symbol": "circle"
         },
         "mode": "markers",
         "name": "Banpresto",
         "orientation": "v",
         "showlegend": true,
         "type": "scatter",
         "x": [
          73
         ],
         "xaxis": "x",
         "y": [
          17.4
         ],
         "yaxis": "y"
        },
        {
         "hovertemplate": "<b>%{hovertext}</b><br><br>Distribuidor=Rising Star Games<br>Juegos publicados=%{x}<br>Ventas globales=%{marker.size}<extra></extra>",
         "hovertext": [
          "Rising Star Games"
         ],
         "legendgroup": "Rising Star Games",
         "marker": {
          "color": "#FF97FF",
          "size": [
           17.31
          ],
          "sizemode": "area",
          "sizeref": 0.49626666666666663,
          "symbol": "circle"
         },
         "mode": "markers",
         "name": "Rising Star Games",
         "orientation": "v",
         "showlegend": true,
         "type": "scatter",
         "x": [
          86
         ],
         "xaxis": "x",
         "y": [
          17.31
         ],
         "yaxis": "y"
        },
        {
         "hovertemplate": "<b>%{hovertext}</b><br><br>Distribuidor=Infogrames<br>Juegos publicados=%{x}<br>Ventas globales=%{marker.size}<extra></extra>",
         "hovertext": [
          "Infogrames"
         ],
         "legendgroup": "Infogrames",
         "marker": {
          "color": "#FECB52",
          "size": [
           16.34
          ],
          "sizemode": "area",
          "sizeref": 0.49626666666666663,
          "symbol": "circle"
         },
         "mode": "markers",
         "name": "Infogrames",
         "orientation": "v",
         "showlegend": true,
         "type": "scatter",
         "x": [
          62
         ],
         "xaxis": "x",
         "y": [
          16.34
         ],
         "yaxis": "y"
        },
        {
         "hovertemplate": "<b>%{hovertext}</b><br><br>Distribuidor=Majesco Entertainment<br>Juegos publicados=%{x}<br>Ventas globales=%{marker.size}<extra></extra>",
         "hovertext": [
          "Majesco Entertainment"
         ],
         "legendgroup": "Majesco Entertainment",
         "marker": {
          "color": "#636efa",
          "size": [
           16.08
          ],
          "sizemode": "area",
          "sizeref": 0.49626666666666663,
          "symbol": "circle"
         },
         "mode": "markers",
         "name": "Majesco Entertainment",
         "orientation": "v",
         "showlegend": true,
         "type": "scatter",
         "x": [
          92
         ],
         "xaxis": "x",
         "y": [
          16.08
         ],
         "yaxis": "y"
        },
        {
         "hovertemplate": "<b>%{hovertext}</b><br><br>Distribuidor=Hasbro Interactive<br>Juegos publicados=%{x}<br>Ventas globales=%{marker.size}<extra></extra>",
         "hovertext": [
          "Hasbro Interactive"
         ],
         "legendgroup": "Hasbro Interactive",
         "marker": {
          "color": "#EF553B",
          "size": [
           15.22
          ],
          "sizemode": "area",
          "sizeref": 0.49626666666666663,
          "symbol": "circle"
         },
         "mode": "markers",
         "name": "Hasbro Interactive",
         "orientation": "v",
         "showlegend": true,
         "type": "scatter",
         "x": [
          16
         ],
         "xaxis": "x",
         "y": [
          15.22
         ],
         "yaxis": "y"
        },
        {
         "hovertemplate": "<b>%{hovertext}</b><br><br>Distribuidor=N/A<br>Juegos publicados=%{x}<br>Ventas globales=%{marker.size}<extra></extra>",
         "hovertext": [
          "N/A"
         ],
         "legendgroup": "N/A",
         "marker": {
          "color": "#00cc96",
          "size": [
           14.88
          ],
          "sizemode": "area",
          "sizeref": 0.49626666666666663,
          "symbol": "circle"
         },
         "mode": "markers",
         "name": "N/A",
         "orientation": "v",
         "showlegend": true,
         "type": "scatter",
         "x": [
          58
         ],
         "xaxis": "x",
         "y": [
          14.88
         ],
         "yaxis": "y"
        },
        {
         "hovertemplate": "<b>%{hovertext}</b><br><br>Distribuidor=Nippon Ichi Software<br>Juegos publicados=%{x}<br>Ventas globales=%{marker.size}<extra></extra>",
         "hovertext": [
          "Nippon Ichi Software"
         ],
         "legendgroup": "Nippon Ichi Software",
         "marker": {
          "color": "#ab63fa",
          "size": [
           14.28
          ],
          "sizemode": "area",
          "sizeref": 0.49626666666666663,
          "symbol": "circle"
         },
         "mode": "markers",
         "name": "Nippon Ichi Software",
         "orientation": "v",
         "showlegend": true,
         "type": "scatter",
         "x": [
          105
         ],
         "xaxis": "x",
         "y": [
          14.28
         ],
         "yaxis": "y"
        },
        {
         "hovertemplate": "<b>%{hovertext}</b><br><br>Distribuidor=989 Studios<br>Juegos publicados=%{x}<br>Ventas globales=%{marker.size}<extra></extra>",
         "hovertext": [
          "989 Studios"
         ],
         "legendgroup": "989 Studios",
         "marker": {
          "color": "#FFA15A",
          "size": [
           13.32
          ],
          "sizemode": "area",
          "sizeref": 0.49626666666666663,
          "symbol": "circle"
         },
         "mode": "markers",
         "name": "989 Studios",
         "orientation": "v",
         "showlegend": true,
         "type": "scatter",
         "x": [
          14
         ],
         "xaxis": "x",
         "y": [
          13.32
         ],
         "yaxis": "y"
        },
        {
         "hovertemplate": "<b>%{hovertext}</b><br><br>Distribuidor=Zoo Digital Publishing<br>Juegos publicados=%{x}<br>Ventas globales=%{marker.size}<extra></extra>",
         "hovertext": [
          "Zoo Digital Publishing"
         ],
         "legendgroup": "Zoo Digital Publishing",
         "marker": {
          "color": "#19d3f3",
          "size": [
           12.87
          ],
          "sizemode": "area",
          "sizeref": 0.49626666666666663,
          "symbol": "circle"
         },
         "mode": "markers",
         "name": "Zoo Digital Publishing",
         "orientation": "v",
         "showlegend": true,
         "type": "scatter",
         "x": [
          104
         ],
         "xaxis": "x",
         "y": [
          12.87
         ],
         "yaxis": "y"
        },
        {
         "hovertemplate": "<b>%{hovertext}</b><br><br>Distribuidor=Atlus<br>Juegos publicados=%{x}<br>Ventas globales=%{marker.size}<extra></extra>",
         "hovertext": [
          "Atlus"
         ],
         "legendgroup": "Atlus",
         "marker": {
          "color": "#FF6692",
          "size": [
           12.74
          ],
          "sizemode": "area",
          "sizeref": 0.49626666666666663,
          "symbol": "circle"
         },
         "mode": "markers",
         "name": "Atlus",
         "orientation": "v",
         "showlegend": true,
         "type": "scatter",
         "x": [
          67
         ],
         "xaxis": "x",
         "y": [
          12.74
         ],
         "yaxis": "y"
        },
        {
         "hovertemplate": "<b>%{hovertext}</b><br><br>Distribuidor=Level 5<br>Juegos publicados=%{x}<br>Ventas globales=%{marker.size}<extra></extra>",
         "hovertext": [
          "Level 5"
         ],
         "legendgroup": "Level 5",
         "marker": {
          "color": "#B6E880",
          "size": [
           12.17
          ],
          "sizemode": "area",
          "sizeref": 0.49626666666666663,
          "symbol": "circle"
         },
         "mode": "markers",
         "name": "Level 5",
         "orientation": "v",
         "showlegend": true,
         "type": "scatter",
         "x": [
          27
         ],
         "xaxis": "x",
         "y": [
          12.17
         ],
         "yaxis": "y"
        },
        {
         "hovertemplate": "<b>%{hovertext}</b><br><br>Distribuidor=Empire Interactive<br>Juegos publicados=%{x}<br>Ventas globales=%{marker.size}<extra></extra>",
         "hovertext": [
          "Empire Interactive"
         ],
         "legendgroup": "Empire Interactive",
         "marker": {
          "color": "#FF97FF",
          "size": [
           11.29
          ],
          "sizemode": "area",
          "sizeref": 0.49626666666666663,
          "symbol": "circle"
         },
         "mode": "markers",
         "name": "Empire Interactive",
         "orientation": "v",
         "showlegend": true,
         "type": "scatter",
         "x": [
          52
         ],
         "xaxis": "x",
         "y": [
          11.29
         ],
         "yaxis": "y"
        },
        {
         "hovertemplate": "<b>%{hovertext}</b><br><br>Distribuidor=ASCII Entertainment<br>Juegos publicados=%{x}<br>Ventas globales=%{marker.size}<extra></extra>",
         "hovertext": [
          "ASCII Entertainment"
         ],
         "legendgroup": "ASCII Entertainment",
         "marker": {
          "color": "#FECB52",
          "size": [
           10.89
          ],
          "sizemode": "area",
          "sizeref": 0.49626666666666663,
          "symbol": "circle"
         },
         "mode": "markers",
         "name": "ASCII Entertainment",
         "orientation": "v",
         "showlegend": true,
         "type": "scatter",
         "x": [
          20
         ],
         "xaxis": "x",
         "y": [
          10.89
         ],
         "yaxis": "y"
        },
        {
         "hovertemplate": "<b>%{hovertext}</b><br><br>Distribuidor=3DO<br>Juegos publicados=%{x}<br>Ventas globales=%{marker.size}<extra></extra>",
         "hovertext": [
          "3DO"
         ],
         "legendgroup": "3DO",
         "marker": {
          "color": "#636efa",
          "size": [
           10.120000000000001
          ],
          "sizemode": "area",
          "sizeref": 0.49626666666666663,
          "symbol": "circle"
         },
         "mode": "markers",
         "name": "3DO",
         "orientation": "v",
         "showlegend": true,
         "type": "scatter",
         "x": [
          36
         ],
         "xaxis": "x",
         "y": [
          10.120000000000001
         ],
         "yaxis": "y"
        },
        {
         "hovertemplate": "<b>%{hovertext}</b><br><br>Distribuidor=Crave Entertainment<br>Juegos publicados=%{x}<br>Ventas globales=%{marker.size}<extra></extra>",
         "hovertext": [
          "Crave Entertainment"
         ],
         "legendgroup": "Crave Entertainment",
         "marker": {
          "color": "#EF553B",
          "size": [
           9.93
          ],
          "sizemode": "area",
          "sizeref": 0.49626666666666663,
          "symbol": "circle"
         },
         "mode": "markers",
         "name": "Crave Entertainment",
         "orientation": "v",
         "showlegend": true,
         "type": "scatter",
         "x": [
          71
         ],
         "xaxis": "x",
         "y": [
          9.93
         ],
         "yaxis": "y"
        },
        {
         "hovertemplate": "<b>%{hovertext}</b><br><br>Distribuidor=RedOctane<br>Juegos publicados=%{x}<br>Ventas globales=%{marker.size}<extra></extra>",
         "hovertext": [
          "RedOctane"
         ],
         "legendgroup": "RedOctane",
         "marker": {
          "color": "#00cc96",
          "size": [
           8.68
          ],
          "sizemode": "area",
          "sizeref": 0.49626666666666663,
          "symbol": "circle"
         },
         "mode": "markers",
         "name": "RedOctane",
         "orientation": "v",
         "showlegend": true,
         "type": "scatter",
         "x": [
          4
         ],
         "xaxis": "x",
         "y": [
          8.68
         ],
         "yaxis": "y"
        },
        {
         "hovertemplate": "<b>%{hovertext}</b><br><br>Distribuidor=TDK Mediactive<br>Juegos publicados=%{x}<br>Ventas globales=%{marker.size}<extra></extra>",
         "hovertext": [
          "TDK Mediactive"
         ],
         "legendgroup": "TDK Mediactive",
         "marker": {
          "color": "#ab63fa",
          "size": [
           8.31
          ],
          "sizemode": "area",
          "sizeref": 0.49626666666666663,
          "symbol": "circle"
         },
         "mode": "markers",
         "name": "TDK Mediactive",
         "orientation": "v",
         "showlegend": true,
         "type": "scatter",
         "x": [
          36
         ],
         "xaxis": "x",
         "y": [
          8.31
         ],
         "yaxis": "y"
        },
        {
         "hovertemplate": "<b>%{hovertext}</b><br><br>Distribuidor=Mindscape<br>Juegos publicados=%{x}<br>Ventas globales=%{marker.size}<extra></extra>",
         "hovertext": [
          "Mindscape"
         ],
         "legendgroup": "Mindscape",
         "marker": {
          "color": "#FFA15A",
          "size": [
           7.74
          ],
          "sizemode": "area",
          "sizeref": 0.49626666666666663,
          "symbol": "circle"
         },
         "mode": "markers",
         "name": "Mindscape",
         "orientation": "v",
         "showlegend": true,
         "type": "scatter",
         "x": [
          32
         ],
         "xaxis": "x",
         "y": [
          7.74
         ],
         "yaxis": "y"
        },
        {
         "hovertemplate": "<b>%{hovertext}</b><br><br>Distribuidor=Global Star<br>Juegos publicados=%{x}<br>Ventas globales=%{marker.size}<extra></extra>",
         "hovertext": [
          "Global Star"
         ],
         "legendgroup": "Global Star",
         "marker": {
          "color": "#19d3f3",
          "size": [
           7.65
          ],
          "sizemode": "area",
          "sizeref": 0.49626666666666663,
          "symbol": "circle"
         },
         "mode": "markers",
         "name": "Global Star",
         "orientation": "v",
         "showlegend": true,
         "type": "scatter",
         "x": [
          39
         ],
         "xaxis": "x",
         "y": [
          7.65
         ],
         "yaxis": "y"
        },
        {
         "hovertemplate": "<b>%{hovertext}</b><br><br>Distribuidor=Focus Home Interactive<br>Juegos publicados=%{x}<br>Ventas globales=%{marker.size}<extra></extra>",
         "hovertext": [
          "Focus Home Interactive"
         ],
         "legendgroup": "Focus Home Interactive",
         "marker": {
          "color": "#FF6692",
          "size": [
           7.51
          ],
          "sizemode": "area",
          "sizeref": 0.49626666666666663,
          "symbol": "circle"
         },
         "mode": "markers",
         "name": "Focus Home Interactive",
         "orientation": "v",
         "showlegend": true,
         "type": "scatter",
         "x": [
          58
         ],
         "xaxis": "x",
         "y": [
          7.51
         ],
         "yaxis": "y"
        },
        {
         "hovertemplate": "<b>%{hovertext}</b><br><br>Distribuidor=Fox Interactive<br>Juegos publicados=%{x}<br>Ventas globales=%{marker.size}<extra></extra>",
         "hovertext": [
          "Fox Interactive"
         ],
         "legendgroup": "Fox Interactive",
         "marker": {
          "color": "#B6E880",
          "size": [
           7.39
          ],
          "sizemode": "area",
          "sizeref": 0.49626666666666663,
          "symbol": "circle"
         },
         "mode": "markers",
         "name": "Fox Interactive",
         "orientation": "v",
         "showlegend": true,
         "type": "scatter",
         "x": [
          8
         ],
         "xaxis": "x",
         "y": [
          7.39
         ],
         "yaxis": "y"
        },
        {
         "hovertemplate": "<b>%{hovertext}</b><br><br>Distribuidor=Psygnosis<br>Juegos publicados=%{x}<br>Ventas globales=%{marker.size}<extra></extra>",
         "hovertext": [
          "Psygnosis"
         ],
         "legendgroup": "Psygnosis",
         "marker": {
          "color": "#FF97FF",
          "size": [
           7.27
          ],
          "sizemode": "area",
          "sizeref": 0.49626666666666663,
          "symbol": "circle"
         },
         "mode": "markers",
         "name": "Psygnosis",
         "orientation": "v",
         "showlegend": true,
         "type": "scatter",
         "x": [
          32
         ],
         "xaxis": "x",
         "y": [
          7.27
         ],
         "yaxis": "y"
        },
        {
         "hovertemplate": "<b>%{hovertext}</b><br><br>Distribuidor=Activision Value<br>Juegos publicados=%{x}<br>Ventas globales=%{marker.size}<extra></extra>",
         "hovertext": [
          "Activision Value"
         ],
         "legendgroup": "Activision Value",
         "marker": {
          "color": "#FECB52",
          "size": [
           6.96
          ],
          "sizemode": "area",
          "sizeref": 0.49626666666666663,
          "symbol": "circle"
         },
         "mode": "markers",
         "name": "Activision Value",
         "orientation": "v",
         "showlegend": true,
         "type": "scatter",
         "x": [
          29
         ],
         "xaxis": "x",
         "y": [
          6.96
         ],
         "yaxis": "y"
        },
        {
         "hovertemplate": "<b>%{hovertext}</b><br><br>Distribuidor=Ignition Entertainment<br>Juegos publicados=%{x}<br>Ventas globales=%{marker.size}<extra></extra>",
         "hovertext": [
          "Ignition Entertainment"
         ],
         "legendgroup": "Ignition Entertainment",
         "marker": {
          "color": "#636efa",
          "size": [
           6.82
          ],
          "sizemode": "area",
          "sizeref": 0.49626666666666663,
          "symbol": "circle"
         },
         "mode": "markers",
         "name": "Ignition Entertainment",
         "orientation": "v",
         "showlegend": true,
         "type": "scatter",
         "x": [
          61
         ],
         "xaxis": "x",
         "y": [
          6.82
         ],
         "yaxis": "y"
        },
        {
         "hovertemplate": "<b>%{hovertext}</b><br><br>Distribuidor=Interplay<br>Juegos publicados=%{x}<br>Ventas globales=%{marker.size}<extra></extra>",
         "hovertext": [
          "Interplay"
         ],
         "legendgroup": "Interplay",
         "marker": {
          "color": "#EF553B",
          "size": [
           6.66
          ],
          "sizemode": "area",
          "sizeref": 0.49626666666666663,
          "symbol": "circle"
         },
         "mode": "markers",
         "name": "Interplay",
         "orientation": "v",
         "showlegend": true,
         "type": "scatter",
         "x": [
          30
         ],
         "xaxis": "x",
         "y": [
          6.66
         ],
         "yaxis": "y"
        },
        {
         "hovertemplate": "<b>%{hovertext}</b><br><br>Distribuidor=SouthPeak Games<br>Juegos publicados=%{x}<br>Ventas globales=%{marker.size}<extra></extra>",
         "hovertext": [
          "SouthPeak Games"
         ],
         "legendgroup": "SouthPeak Games",
         "marker": {
          "color": "#00cc96",
          "size": [
           6.35
          ],
          "sizemode": "area",
          "sizeref": 0.49626666666666663,
          "symbol": "circle"
         },
         "mode": "markers",
         "name": "SouthPeak Games",
         "orientation": "v",
         "showlegend": true,
         "type": "scatter",
         "x": [
          37
         ],
         "xaxis": "x",
         "y": [
          6.35
         ],
         "yaxis": "y"
        },
        {
         "hovertemplate": "<b>%{hovertext}</b><br><br>Distribuidor=Spike<br>Juegos publicados=%{x}<br>Ventas globales=%{marker.size}<extra></extra>",
         "hovertext": [
          "Spike"
         ],
         "legendgroup": "Spike",
         "marker": {
          "color": "#ab63fa",
          "size": [
           6.15
          ],
          "sizemode": "area",
          "sizeref": 0.49626666666666663,
          "symbol": "circle"
         },
         "mode": "markers",
         "name": "Spike",
         "orientation": "v",
         "showlegend": true,
         "type": "scatter",
         "x": [
          37
         ],
         "xaxis": "x",
         "y": [
          6.15
         ],
         "yaxis": "y"
        },
        {
         "hovertemplate": "<b>%{hovertext}</b><br><br>Distribuidor=Red Orb<br>Juegos publicados=%{x}<br>Ventas globales=%{marker.size}<extra></extra>",
         "hovertext": [
          "Red Orb"
         ],
         "legendgroup": "Red Orb",
         "marker": {
          "color": "#FFA15A",
          "size": [
           5.24
          ],
          "sizemode": "area",
          "sizeref": 0.49626666666666663,
          "symbol": "circle"
         },
         "mode": "markers",
         "name": "Red Orb",
         "orientation": "v",
         "showlegend": true,
         "type": "scatter",
         "x": [
          2
         ],
         "xaxis": "x",
         "y": [
          5.24
         ],
         "yaxis": "y"
        },
        {
         "hovertemplate": "<b>%{hovertext}</b><br><br>Distribuidor=Parker Bros.<br>Juegos publicados=%{x}<br>Ventas globales=%{marker.size}<extra></extra>",
         "hovertext": [
          "Parker Bros."
         ],
         "legendgroup": "Parker Bros.",
         "marker": {
          "color": "#19d3f3",
          "size": [
           4.970000000000001
          ],
          "sizemode": "area",
          "sizeref": 0.49626666666666663,
          "symbol": "circle"
         },
         "mode": "markers",
         "name": "Parker Bros.",
         "orientation": "v",
         "showlegend": true,
         "type": "scatter",
         "x": [
          7
         ],
         "xaxis": "x",
         "y": [
          4.970000000000001
         ],
         "yaxis": "y"
        },
        {
         "hovertemplate": "<b>%{hovertext}</b><br><br>Distribuidor=Tomy Corporation<br>Juegos publicados=%{x}<br>Ventas globales=%{marker.size}<extra></extra>",
         "hovertext": [
          "Tomy Corporation"
         ],
         "legendgroup": "Tomy Corporation",
         "marker": {
          "color": "#FF6692",
          "size": [
           4.97
          ],
          "sizemode": "area",
          "sizeref": 0.49626666666666663,
          "symbol": "circle"
         },
         "mode": "markers",
         "name": "Tomy Corporation",
         "orientation": "v",
         "showlegend": true,
         "type": "scatter",
         "x": [
          18
         ],
         "xaxis": "x",
         "y": [
          4.97
         ],
         "yaxis": "y"
        },
        {
         "hovertemplate": "<b>%{hovertext}</b><br><br>Distribuidor=BAM! Entertainment<br>Juegos publicados=%{x}<br>Ventas globales=%{marker.size}<extra></extra>",
         "hovertext": [
          "BAM! Entertainment"
         ],
         "legendgroup": "BAM! Entertainment",
         "marker": {
          "color": "#B6E880",
          "size": [
           4.95
          ],
          "sizemode": "area",
          "sizeref": 0.49626666666666663,
          "symbol": "circle"
         },
         "mode": "markers",
         "name": "BAM! Entertainment",
         "orientation": "v",
         "showlegend": true,
         "type": "scatter",
         "x": [
          35
         ],
         "xaxis": "x",
         "y": [
          4.95
         ],
         "yaxis": "y"
        },
        {
         "hovertemplate": "<b>%{hovertext}</b><br><br>Distribuidor=Imagic<br>Juegos publicados=%{x}<br>Ventas globales=%{marker.size}<extra></extra>",
         "hovertext": [
          "Imagic"
         ],
         "legendgroup": "Imagic",
         "marker": {
          "color": "#FF97FF",
          "size": [
           4.82
          ],
          "sizemode": "area",
          "sizeref": 0.49626666666666663,
          "symbol": "circle"
         },
         "mode": "markers",
         "name": "Imagic",
         "orientation": "v",
         "showlegend": true,
         "type": "scatter",
         "x": [
          4
         ],
         "xaxis": "x",
         "y": [
          4.82
         ],
         "yaxis": "y"
        },
        {
         "hovertemplate": "<b>%{hovertext}</b><br><br>Distribuidor=Zoo Games<br>Juegos publicados=%{x}<br>Ventas globales=%{marker.size}<extra></extra>",
         "hovertext": [
          "Zoo Games"
         ],
         "legendgroup": "Zoo Games",
         "marker": {
          "color": "#FECB52",
          "size": [
           4.82
          ],
          "sizemode": "area",
          "sizeref": 0.49626666666666663,
          "symbol": "circle"
         },
         "mode": "markers",
         "name": "Zoo Games",
         "orientation": "v",
         "showlegend": true,
         "type": "scatter",
         "x": [
          33
         ],
         "xaxis": "x",
         "y": [
          4.82
         ],
         "yaxis": "y"
        },
        {
         "hovertemplate": "<b>%{hovertext}</b><br><br>Distribuidor=Arena Entertainment<br>Juegos publicados=%{x}<br>Ventas globales=%{marker.size}<extra></extra>",
         "hovertext": [
          "Arena Entertainment"
         ],
         "legendgroup": "Arena Entertainment",
         "marker": {
          "color": "#636efa",
          "size": [
           4.72
          ],
          "sizemode": "area",
          "sizeref": 0.49626666666666663,
          "symbol": "circle"
         },
         "mode": "markers",
         "name": "Arena Entertainment",
         "orientation": "v",
         "showlegend": true,
         "type": "scatter",
         "x": [
          2
         ],
         "xaxis": "x",
         "y": [
          4.72
         ],
         "yaxis": "y"
        },
        {
         "hovertemplate": "<b>%{hovertext}</b><br><br>Distribuidor=Koch Media<br>Juegos publicados=%{x}<br>Ventas globales=%{marker.size}<extra></extra>",
         "hovertext": [
          "Koch Media"
         ],
         "legendgroup": "Koch Media",
         "marker": {
          "color": "#EF553B",
          "size": [
           4.71
          ],
          "sizemode": "area",
          "sizeref": 0.49626666666666663,
          "symbol": "circle"
         },
         "mode": "markers",
         "name": "Koch Media",
         "orientation": "v",
         "showlegend": true,
         "type": "scatter",
         "x": [
          17
         ],
         "xaxis": "x",
         "y": [
          4.71
         ],
         "yaxis": "y"
        },
        {
         "hovertemplate": "<b>%{hovertext}</b><br><br>Distribuidor=City Interactive<br>Juegos publicados=%{x}<br>Ventas globales=%{marker.size}<extra></extra>",
         "hovertext": [
          "City Interactive"
         ],
         "legendgroup": "City Interactive",
         "marker": {
          "color": "#00cc96",
          "size": [
           4.61
          ],
          "sizemode": "area",
          "sizeref": 0.49626666666666663,
          "symbol": "circle"
         },
         "mode": "markers",
         "name": "City Interactive",
         "orientation": "v",
         "showlegend": true,
         "type": "scatter",
         "x": [
          19
         ],
         "xaxis": "x",
         "y": [
          4.61
         ],
         "yaxis": "y"
        },
        {
         "hovertemplate": "<b>%{hovertext}</b><br><br>Distribuidor=Ubisoft Annecy<br>Juegos publicados=%{x}<br>Ventas globales=%{marker.size}<extra></extra>",
         "hovertext": [
          "Ubisoft Annecy"
         ],
         "legendgroup": "Ubisoft Annecy",
         "marker": {
          "color": "#ab63fa",
          "size": [
           4.46
          ],
          "sizemode": "area",
          "sizeref": 0.49626666666666663,
          "symbol": "circle"
         },
         "mode": "markers",
         "name": "Ubisoft Annecy",
         "orientation": "v",
         "showlegend": true,
         "type": "scatter",
         "x": [
          14
         ],
         "xaxis": "x",
         "y": [
          4.46
         ],
         "yaxis": "y"
        },
        {
         "hovertemplate": "<b>%{hovertext}</b><br><br>Distribuidor=Nordic Games<br>Juegos publicados=%{x}<br>Ventas globales=%{marker.size}<extra></extra>",
         "hovertext": [
          "Nordic Games"
         ],
         "legendgroup": "Nordic Games",
         "marker": {
          "color": "#FFA15A",
          "size": [
           4.44
          ],
          "sizemode": "area",
          "sizeref": 0.49626666666666663,
          "symbol": "circle"
         },
         "mode": "markers",
         "name": "Nordic Games",
         "orientation": "v",
         "showlegend": true,
         "type": "scatter",
         "x": [
          35
         ],
         "xaxis": "x",
         "y": [
          4.44
         ],
         "yaxis": "y"
        },
        {
         "hovertemplate": "<b>%{hovertext}</b><br><br>Distribuidor=Destineer<br>Juegos publicados=%{x}<br>Ventas globales=%{marker.size}<extra></extra>",
         "hovertext": [
          "Destineer"
         ],
         "legendgroup": "Destineer",
         "marker": {
          "color": "#19d3f3",
          "size": [
           4.36
          ],
          "sizemode": "area",
          "sizeref": 0.49626666666666663,
          "symbol": "circle"
         },
         "mode": "markers",
         "name": "Destineer",
         "orientation": "v",
         "showlegend": true,
         "type": "scatter",
         "x": [
          45
         ],
         "xaxis": "x",
         "y": [
          4.36
         ],
         "yaxis": "y"
        },
        {
         "hovertemplate": "<b>%{hovertext}</b><br><br>Distribuidor=Play It<br>Juegos publicados=%{x}<br>Ventas globales=%{marker.size}<extra></extra>",
         "hovertext": [
          "Play It"
         ],
         "legendgroup": "Play It",
         "marker": {
          "color": "#FF6692",
          "size": [
           4.3100000000000005
          ],
          "sizemode": "area",
          "sizeref": 0.49626666666666663,
          "symbol": "circle"
         },
         "mode": "markers",
         "name": "Play It",
         "orientation": "v",
         "showlegend": true,
         "type": "scatter",
         "x": [
          14
         ],
         "xaxis": "x",
         "y": [
          4.3100000000000005
         ],
         "yaxis": "y"
        },
        {
         "hovertemplate": "<b>%{hovertext}</b><br><br>Distribuidor=PQube<br>Juegos publicados=%{x}<br>Ventas globales=%{marker.size}<extra></extra>",
         "hovertext": [
          "PQube"
         ],
         "legendgroup": "PQube",
         "marker": {
          "color": "#B6E880",
          "size": [
           4.27
          ],
          "sizemode": "area",
          "sizeref": 0.49626666666666663,
          "symbol": "circle"
         },
         "mode": "markers",
         "name": "PQube",
         "orientation": "v",
         "showlegend": true,
         "type": "scatter",
         "x": [
          39
         ],
         "xaxis": "x",
         "y": [
          4.27
         ],
         "yaxis": "y"
        },
        {
         "hovertemplate": "<b>%{hovertext}</b><br><br>Distribuidor=Palcom<br>Juegos publicados=%{x}<br>Ventas globales=%{marker.size}<extra></extra>",
         "hovertext": [
          "Palcom"
         ],
         "legendgroup": "Palcom",
         "marker": {
          "color": "#FF97FF",
          "size": [
           4.17
          ],
          "sizemode": "area",
          "sizeref": 0.49626666666666663,
          "symbol": "circle"
         },
         "mode": "markers",
         "name": "Palcom",
         "orientation": "v",
         "showlegend": true,
         "type": "scatter",
         "x": [
          1
         ],
         "xaxis": "x",
         "y": [
          4.17
         ],
         "yaxis": "y"
        },
        {
         "hovertemplate": "<b>%{hovertext}</b><br><br>Distribuidor=Marvelous Interactive<br>Juegos publicados=%{x}<br>Ventas globales=%{marker.size}<extra></extra>",
         "hovertext": [
          "Marvelous Interactive"
         ],
         "legendgroup": "Marvelous Interactive",
         "marker": {
          "color": "#FECB52",
          "size": [
           4.17
          ],
          "sizemode": "area",
          "sizeref": 0.49626666666666663,
          "symbol": "circle"
         },
         "mode": "markers",
         "name": "Marvelous Interactive",
         "orientation": "v",
         "showlegend": true,
         "type": "scatter",
         "x": [
          56
         ],
         "xaxis": "x",
         "y": [
          4.17
         ],
         "yaxis": "y"
        },
        {
         "hovertemplate": "<b>%{hovertext}</b><br><br>Distribuidor=ChunSoft<br>Juegos publicados=%{x}<br>Ventas globales=%{marker.size}<extra></extra>",
         "hovertext": [
          "ChunSoft"
         ],
         "legendgroup": "ChunSoft",
         "marker": {
          "color": "#636efa",
          "size": [
           4.07
          ],
          "sizemode": "area",
          "sizeref": 0.49626666666666663,
          "symbol": "circle"
         },
         "mode": "markers",
         "name": "ChunSoft",
         "orientation": "v",
         "showlegend": true,
         "type": "scatter",
         "x": [
          18
         ],
         "xaxis": "x",
         "y": [
          4.07
         ],
         "yaxis": "y"
        },
        {
         "hovertemplate": "<b>%{hovertext}</b><br><br>Distribuidor=Idea Factory<br>Juegos publicados=%{x}<br>Ventas globales=%{marker.size}<extra></extra>",
         "hovertext": [
          "Idea Factory"
         ],
         "legendgroup": "Idea Factory",
         "marker": {
          "color": "#EF553B",
          "size": [
           4.0200000000000005
          ],
          "sizemode": "area",
          "sizeref": 0.49626666666666663,
          "symbol": "circle"
         },
         "mode": "markers",
         "name": "Idea Factory",
         "orientation": "v",
         "showlegend": true,
         "type": "scatter",
         "x": [
          129
         ],
         "xaxis": "x",
         "y": [
          4.0200000000000005
         ],
         "yaxis": "y"
        },
        {
         "hovertemplate": "<b>%{hovertext}</b><br><br>Distribuidor=Game Factory<br>Juegos publicados=%{x}<br>Ventas globales=%{marker.size}<extra></extra>",
         "hovertext": [
          "Game Factory"
         ],
         "legendgroup": "Game Factory",
         "marker": {
          "color": "#00cc96",
          "size": [
           3.79
          ],
          "sizemode": "area",
          "sizeref": 0.49626666666666663,
          "symbol": "circle"
         },
         "mode": "markers",
         "name": "Game Factory",
         "orientation": "v",
         "showlegend": true,
         "type": "scatter",
         "x": [
          32
         ],
         "xaxis": "x",
         "y": [
          3.79
         ],
         "yaxis": "y"
        },
        {
         "hovertemplate": "<b>%{hovertext}</b><br><br>Distribuidor=Kadokawa Shoten<br>Juegos publicados=%{x}<br>Ventas globales=%{marker.size}<extra></extra>",
         "hovertext": [
          "Kadokawa Shoten"
         ],
         "legendgroup": "Kadokawa Shoten",
         "marker": {
          "color": "#ab63fa",
          "size": [
           3.77
          ],
          "sizemode": "area",
          "sizeref": 0.49626666666666663,
          "symbol": "circle"
         },
         "mode": "markers",
         "name": "Kadokawa Shoten",
         "orientation": "v",
         "showlegend": true,
         "type": "scatter",
         "x": [
          50
         ],
         "xaxis": "x",
         "y": [
          3.77
         ],
         "yaxis": "y"
        },
        {
         "hovertemplate": "<b>%{hovertext}</b><br><br>Distribuidor=Gotham Games<br>Juegos publicados=%{x}<br>Ventas globales=%{marker.size}<extra></extra>",
         "hovertext": [
          "Gotham Games"
         ],
         "legendgroup": "Gotham Games",
         "marker": {
          "color": "#FFA15A",
          "size": [
           3.72
          ],
          "sizemode": "area",
          "sizeref": 0.49626666666666663,
          "symbol": "circle"
         },
         "mode": "markers",
         "name": "Gotham Games",
         "orientation": "v",
         "showlegend": true,
         "type": "scatter",
         "x": [
          7
         ],
         "xaxis": "x",
         "y": [
          3.72
         ],
         "yaxis": "y"
        },
        {
         "hovertemplate": "<b>%{hovertext}</b><br><br>Distribuidor=GSP<br>Juegos publicados=%{x}<br>Ventas globales=%{marker.size}<extra></extra>",
         "hovertext": [
          "GSP"
         ],
         "legendgroup": "GSP",
         "marker": {
          "color": "#19d3f3",
          "size": [
           3.69
          ],
          "sizemode": "area",
          "sizeref": 0.49626666666666663,
          "symbol": "circle"
         },
         "mode": "markers",
         "name": "GSP",
         "orientation": "v",
         "showlegend": true,
         "type": "scatter",
         "x": [
          16
         ],
         "xaxis": "x",
         "y": [
          3.69
         ],
         "yaxis": "y"
        },
        {
         "hovertemplate": "<b>%{hovertext}</b><br><br>Distribuidor=Natsume<br>Juegos publicados=%{x}<br>Ventas globales=%{marker.size}<extra></extra>",
         "hovertext": [
          "Natsume"
         ],
         "legendgroup": "Natsume",
         "marker": {
          "color": "#FF6692",
          "size": [
           3.69
          ],
          "sizemode": "area",
          "sizeref": 0.49626666666666663,
          "symbol": "circle"
         },
         "mode": "markers",
         "name": "Natsume",
         "orientation": "v",
         "showlegend": true,
         "type": "scatter",
         "x": [
          17
         ],
         "xaxis": "x",
         "y": [
          3.69
         ],
         "yaxis": "y"
        },
        {
         "hovertemplate": "<b>%{hovertext}</b><br><br>Distribuidor=Square<br>Juegos publicados=%{x}<br>Ventas globales=%{marker.size}<extra></extra>",
         "hovertext": [
          "Square"
         ],
         "legendgroup": "Square",
         "marker": {
          "color": "#B6E880",
          "size": [
           3.64
          ],
          "sizemode": "area",
          "sizeref": 0.49626666666666663,
          "symbol": "circle"
         },
         "mode": "markers",
         "name": "Square",
         "orientation": "v",
         "showlegend": true,
         "type": "scatter",
         "x": [
          6
         ],
         "xaxis": "x",
         "y": [
          3.64
         ],
         "yaxis": "y"
        },
        {
         "hovertemplate": "<b>%{hovertext}</b><br><br>Distribuidor=Ocean<br>Juegos publicados=%{x}<br>Ventas globales=%{marker.size}<extra></extra>",
         "hovertext": [
          "Ocean"
         ],
         "legendgroup": "Ocean",
         "marker": {
          "color": "#FF97FF",
          "size": [
           3.61
          ],
          "sizemode": "area",
          "sizeref": 0.49626666666666663,
          "symbol": "circle"
         },
         "mode": "markers",
         "name": "Ocean",
         "orientation": "v",
         "showlegend": true,
         "type": "scatter",
         "x": [
          14
         ],
         "xaxis": "x",
         "y": [
          3.61
         ],
         "yaxis": "y"
        },
        {
         "hovertemplate": "<b>%{hovertext}</b><br><br>Distribuidor=DTP Entertainment<br>Juegos publicados=%{x}<br>Ventas globales=%{marker.size}<extra></extra>",
         "hovertext": [
          "DTP Entertainment"
         ],
         "legendgroup": "DTP Entertainment",
         "marker": {
          "color": "#FECB52",
          "size": [
           3.59
          ],
          "sizemode": "area",
          "sizeref": 0.49626666666666663,
          "symbol": "circle"
         },
         "mode": "markers",
         "name": "DTP Entertainment",
         "orientation": "v",
         "showlegend": true,
         "type": "scatter",
         "x": [
          45
         ],
         "xaxis": "x",
         "y": [
          3.59
         ],
         "yaxis": "y"
        },
        {
         "hovertemplate": "<b>%{hovertext}</b><br><br>Distribuidor=Sony Online Entertainment<br>Juegos publicados=%{x}<br>Ventas globales=%{marker.size}<extra></extra>",
         "hovertext": [
          "Sony Online Entertainment"
         ],
         "legendgroup": "Sony Online Entertainment",
         "marker": {
          "color": "#636efa",
          "size": [
           3.5300000000000002
          ],
          "sizemode": "area",
          "sizeref": 0.49626666666666663,
          "symbol": "circle"
         },
         "mode": "markers",
         "name": "Sony Online Entertainment",
         "orientation": "v",
         "showlegend": true,
         "type": "scatter",
         "x": [
          8
         ],
         "xaxis": "x",
         "y": [
          3.5300000000000002
         ],
         "yaxis": "y"
        },
        {
         "hovertemplate": "<b>%{hovertext}</b><br><br>Distribuidor=SCi<br>Juegos publicados=%{x}<br>Ventas globales=%{marker.size}<extra></extra>",
         "hovertext": [
          "SCi"
         ],
         "legendgroup": "SCi",
         "marker": {
          "color": "#EF553B",
          "size": [
           3.52
          ],
          "sizemode": "area",
          "sizeref": 0.49626666666666663,
          "symbol": "circle"
         },
         "mode": "markers",
         "name": "SCi",
         "orientation": "v",
         "showlegend": true,
         "type": "scatter",
         "x": [
          17
         ],
         "xaxis": "x",
         "y": [
          3.52
         ],
         "yaxis": "y"
        },
        {
         "hovertemplate": "<b>%{hovertext}</b><br><br>Distribuidor=Mattel Interactive<br>Juegos publicados=%{x}<br>Ventas globales=%{marker.size}<extra></extra>",
         "hovertext": [
          "Mattel Interactive"
         ],
         "legendgroup": "Mattel Interactive",
         "marker": {
          "color": "#00cc96",
          "size": [
           3.5100000000000002
          ],
          "sizemode": "area",
          "sizeref": 0.49626666666666663,
          "symbol": "circle"
         },
         "mode": "markers",
         "name": "Mattel Interactive",
         "orientation": "v",
         "showlegend": true,
         "type": "scatter",
         "x": [
          12
         ],
         "xaxis": "x",
         "y": [
          3.5100000000000002
         ],
         "yaxis": "y"
        },
        {
         "hovertemplate": "<b>%{hovertext}</b><br><br>Distribuidor=Oxygen Interactive<br>Juegos publicados=%{x}<br>Ventas globales=%{marker.size}<extra></extra>",
         "hovertext": [
          "Oxygen Interactive"
         ],
         "legendgroup": "Oxygen Interactive",
         "marker": {
          "color": "#ab63fa",
          "size": [
           3.46
          ],
          "sizemode": "area",
          "sizeref": 0.49626666666666663,
          "symbol": "circle"
         },
         "mode": "markers",
         "name": "Oxygen Interactive",
         "orientation": "v",
         "showlegend": true,
         "type": "scatter",
         "x": [
          22
         ],
         "xaxis": "x",
         "y": [
          3.46
         ],
         "yaxis": "y"
        },
        {
         "hovertemplate": "<b>%{hovertext}</b><br><br>Distribuidor=Takara<br>Juegos publicados=%{x}<br>Ventas globales=%{marker.size}<extra></extra>",
         "hovertext": [
          "Takara"
         ],
         "legendgroup": "Takara",
         "marker": {
          "color": "#FFA15A",
          "size": [
           3.45
          ],
          "sizemode": "area",
          "sizeref": 0.49626666666666663,
          "symbol": "circle"
         },
         "mode": "markers",
         "name": "Takara",
         "orientation": "v",
         "showlegend": true,
         "type": "scatter",
         "x": [
          16
         ],
         "xaxis": "x",
         "y": [
          3.45
         ],
         "yaxis": "y"
        },
        {
         "hovertemplate": "<b>%{hovertext}</b><br><br>Distribuidor=Maxis<br>Juegos publicados=%{x}<br>Ventas globales=%{marker.size}<extra></extra>",
         "hovertext": [
          "Maxis"
         ],
         "legendgroup": "Maxis",
         "marker": {
          "color": "#19d3f3",
          "size": [
           3.39
          ],
          "sizemode": "area",
          "sizeref": 0.49626666666666663,
          "symbol": "circle"
         },
         "mode": "markers",
         "name": "Maxis",
         "orientation": "v",
         "showlegend": true,
         "type": "scatter",
         "x": [
          3
         ],
         "xaxis": "x",
         "y": [
          3.39
         ],
         "yaxis": "y"
        },
        {
         "hovertemplate": "<b>%{hovertext}</b><br><br>Distribuidor=Titus<br>Juegos publicados=%{x}<br>Ventas globales=%{marker.size}<extra></extra>",
         "hovertext": [
          "Titus"
         ],
         "legendgroup": "Titus",
         "marker": {
          "color": "#FF6692",
          "size": [
           3.32
          ],
          "sizemode": "area",
          "sizeref": 0.49626666666666663,
          "symbol": "circle"
         },
         "mode": "markers",
         "name": "Titus",
         "orientation": "v",
         "showlegend": true,
         "type": "scatter",
         "x": [
          19
         ],
         "xaxis": "x",
         "y": [
          3.32
         ],
         "yaxis": "y"
        },
        {
         "hovertemplate": "<b>%{hovertext}</b><br><br>Distribuidor=Black Bean Games<br>Juegos publicados=%{x}<br>Ventas globales=%{marker.size}<extra></extra>",
         "hovertext": [
          "Black Bean Games"
         ],
         "legendgroup": "Black Bean Games",
         "marker": {
          "color": "#B6E880",
          "size": [
           3.29
          ],
          "sizemode": "area",
          "sizeref": 0.49626666666666663,
          "symbol": "circle"
         },
         "mode": "markers",
         "name": "Black Bean Games",
         "orientation": "v",
         "showlegend": true,
         "type": "scatter",
         "x": [
          34
         ],
         "xaxis": "x",
         "y": [
          3.29
         ],
         "yaxis": "y"
        },
        {
         "hovertemplate": "<b>%{hovertext}</b><br><br>Distribuidor=Valve Software<br>Juegos publicados=%{x}<br>Ventas globales=%{marker.size}<extra></extra>",
         "hovertext": [
          "Valve Software"
         ],
         "legendgroup": "Valve Software",
         "marker": {
          "color": "#FF97FF",
          "size": [
           3.23
          ],
          "sizemode": "area",
          "sizeref": 0.49626666666666663,
          "symbol": "circle"
         },
         "mode": "markers",
         "name": "Valve Software",
         "orientation": "v",
         "showlegend": true,
         "type": "scatter",
         "x": [
          3
         ],
         "xaxis": "x",
         "y": [
          3.23
         ],
         "yaxis": "y"
        },
        {
         "hovertemplate": "<b>%{hovertext}</b><br><br>Distribuidor=GungHo<br>Juegos publicados=%{x}<br>Ventas globales=%{marker.size}<extra></extra>",
         "hovertext": [
          "GungHo"
         ],
         "legendgroup": "GungHo",
         "marker": {
          "color": "#FECB52",
          "size": [
           3.15
          ],
          "sizemode": "area",
          "sizeref": 0.49626666666666663,
          "symbol": "circle"
         },
         "mode": "markers",
         "name": "GungHo",
         "orientation": "v",
         "showlegend": true,
         "type": "scatter",
         "x": [
          13
         ],
         "xaxis": "x",
         "y": [
          3.15
         ],
         "yaxis": "y"
        },
        {
         "hovertemplate": "<b>%{hovertext}</b><br><br>Distribuidor=Coleco<br>Juegos publicados=%{x}<br>Ventas globales=%{marker.size}<extra></extra>",
         "hovertext": [
          "Coleco"
         ],
         "legendgroup": "Coleco",
         "marker": {
          "color": "#636efa",
          "size": [
           3.06
          ],
          "sizemode": "area",
          "sizeref": 0.49626666666666663,
          "symbol": "circle"
         },
         "mode": "markers",
         "name": "Coleco",
         "orientation": "v",
         "showlegend": true,
         "type": "scatter",
         "x": [
          5
         ],
         "xaxis": "x",
         "y": [
          3.06
         ],
         "yaxis": "y"
        },
        {
         "hovertemplate": "<b>%{hovertext}</b><br><br>Distribuidor=Avanquest<br>Juegos publicados=%{x}<br>Ventas globales=%{marker.size}<extra></extra>",
         "hovertext": [
          "Avanquest"
         ],
         "legendgroup": "Avanquest",
         "marker": {
          "color": "#EF553B",
          "size": [
           3
          ],
          "sizemode": "area",
          "sizeref": 0.49626666666666663,
          "symbol": "circle"
         },
         "mode": "markers",
         "name": "Avanquest",
         "orientation": "v",
         "showlegend": true,
         "type": "scatter",
         "x": [
          26
         ],
         "xaxis": "x",
         "y": [
          3
         ],
         "yaxis": "y"
        },
        {
         "hovertemplate": "<b>%{hovertext}</b><br><br>Distribuidor=Human Entertainment<br>Juegos publicados=%{x}<br>Ventas globales=%{marker.size}<extra></extra>",
         "hovertext": [
          "Human Entertainment"
         ],
         "legendgroup": "Human Entertainment",
         "marker": {
          "color": "#00cc96",
          "size": [
           3
          ],
          "sizemode": "area",
          "sizeref": 0.49626666666666663,
          "symbol": "circle"
         },
         "mode": "markers",
         "name": "Human Entertainment",
         "orientation": "v",
         "showlegend": true,
         "type": "scatter",
         "x": [
          13
         ],
         "xaxis": "x",
         "y": [
          3
         ],
         "yaxis": "y"
        },
        {
         "hovertemplate": "<b>%{hovertext}</b><br><br>Distribuidor=Scholastic Inc.<br>Juegos publicados=%{x}<br>Ventas globales=%{marker.size}<extra></extra>",
         "hovertext": [
          "Scholastic Inc."
         ],
         "legendgroup": "Scholastic Inc.",
         "marker": {
          "color": "#ab63fa",
          "size": [
           2.91
          ],
          "sizemode": "area",
          "sizeref": 0.49626666666666663,
          "symbol": "circle"
         },
         "mode": "markers",
         "name": "Scholastic Inc.",
         "orientation": "v",
         "showlegend": true,
         "type": "scatter",
         "x": [
          10
         ],
         "xaxis": "x",
         "y": [
          2.91
         ],
         "yaxis": "y"
        },
        {
         "hovertemplate": "<b>%{hovertext}</b><br><br>Distribuidor=Mojang<br>Juegos publicados=%{x}<br>Ventas globales=%{marker.size}<extra></extra>",
         "hovertext": [
          "Mojang"
         ],
         "legendgroup": "Mojang",
         "marker": {
          "color": "#FFA15A",
          "size": [
           2.89
          ],
          "sizemode": "area",
          "sizeref": 0.49626666666666663,
          "symbol": "circle"
         },
         "mode": "markers",
         "name": "Mojang",
         "orientation": "v",
         "showlegend": true,
         "type": "scatter",
         "x": [
          5
         ],
         "xaxis": "x",
         "y": [
          2.89
         ],
         "yaxis": "y"
        },
        {
         "hovertemplate": "<b>%{hovertext}</b><br><br>Distribuidor=Taito<br>Juegos publicados=%{x}<br>Ventas globales=%{marker.size}<extra></extra>",
         "hovertext": [
          "Taito"
         ],
         "legendgroup": "Taito",
         "marker": {
          "color": "#19d3f3",
          "size": [
           2.84
          ],
          "sizemode": "area",
          "sizeref": 0.49626666666666663,
          "symbol": "circle"
         },
         "mode": "markers",
         "name": "Taito",
         "orientation": "v",
         "showlegend": true,
         "type": "scatter",
         "x": [
          19
         ],
         "xaxis": "x",
         "y": [
          2.84
         ],
         "yaxis": "y"
        },
        {
         "hovertemplate": "<b>%{hovertext}</b><br><br>Distribuidor=JVC<br>Juegos publicados=%{x}<br>Ventas globales=%{marker.size}<extra></extra>",
         "hovertext": [
          "JVC"
         ],
         "legendgroup": "JVC",
         "marker": {
          "color": "#FF6692",
          "size": [
           2.8
          ],
          "sizemode": "area",
          "sizeref": 0.49626666666666663,
          "symbol": "circle"
         },
         "mode": "markers",
         "name": "JVC",
         "orientation": "v",
         "showlegend": true,
         "type": "scatter",
         "x": [
          8
         ],
         "xaxis": "x",
         "y": [
          2.8
         ],
         "yaxis": "y"
        },
        {
         "hovertemplate": "<b>%{hovertext}</b><br><br>Distribuidor=Ghostlight<br>Juegos publicados=%{x}<br>Ventas globales=%{marker.size}<extra></extra>",
         "hovertext": [
          "Ghostlight"
         ],
         "legendgroup": "Ghostlight",
         "marker": {
          "color": "#B6E880",
          "size": [
           2.79
          ],
          "sizemode": "area",
          "sizeref": 0.49626666666666663,
          "symbol": "circle"
         },
         "mode": "markers",
         "name": "Ghostlight",
         "orientation": "v",
         "showlegend": true,
         "type": "scatter",
         "x": [
          15
         ],
         "xaxis": "x",
         "y": [
          2.79
         ],
         "yaxis": "y"
        },
        {
         "hovertemplate": "<b>%{hovertext}</b><br><br>Distribuidor=Sammy Corporation<br>Juegos publicados=%{x}<br>Ventas globales=%{marker.size}<extra></extra>",
         "hovertext": [
          "Sammy Corporation"
         ],
         "legendgroup": "Sammy Corporation",
         "marker": {
          "color": "#FF97FF",
          "size": [
           2.73
          ],
          "sizemode": "area",
          "sizeref": 0.49626666666666663,
          "symbol": "circle"
         },
         "mode": "markers",
         "name": "Sammy Corporation",
         "orientation": "v",
         "showlegend": true,
         "type": "scatter",
         "x": [
          11
         ],
         "xaxis": "x",
         "y": [
          2.73
         ],
         "yaxis": "y"
        },
        {
         "hovertemplate": "<b>%{hovertext}</b><br><br>Distribuidor=Midas Interactive Entertainment<br>Juegos publicados=%{x}<br>Ventas globales=%{marker.size}<extra></extra>",
         "hovertext": [
          "Midas Interactive Entertainment"
         ],
         "legendgroup": "Midas Interactive Entertainment",
         "marker": {
          "color": "#FECB52",
          "size": [
           2.72
          ],
          "sizemode": "area",
          "sizeref": 0.49626666666666663,
          "symbol": "circle"
         },
         "mode": "markers",
         "name": "Midas Interactive Entertainment",
         "orientation": "v",
         "showlegend": true,
         "type": "scatter",
         "x": [
          24
         ],
         "xaxis": "x",
         "y": [
          2.72
         ],
         "yaxis": "y"
        },
        {
         "hovertemplate": "<b>%{hovertext}</b><br><br>Distribuidor=Telltale Games<br>Juegos publicados=%{x}<br>Ventas globales=%{marker.size}<extra></extra>",
         "hovertext": [
          "Telltale Games"
         ],
         "legendgroup": "Telltale Games",
         "marker": {
          "color": "#636efa",
          "size": [
           2.72
          ],
          "sizemode": "area",
          "sizeref": 0.49626666666666663,
          "symbol": "circle"
         },
         "mode": "markers",
         "name": "Telltale Games",
         "orientation": "v",
         "showlegend": true,
         "type": "scatter",
         "x": [
          25
         ],
         "xaxis": "x",
         "y": [
          2.72
         ],
         "yaxis": "y"
        },
        {
         "hovertemplate": "<b>%{hovertext}</b><br><br>Distribuidor=Takara Tomy<br>Juegos publicados=%{x}<br>Ventas globales=%{marker.size}<extra></extra>",
         "hovertext": [
          "Takara Tomy"
         ],
         "legendgroup": "Takara Tomy",
         "marker": {
          "color": "#EF553B",
          "size": [
           2.7
          ],
          "sizemode": "area",
          "sizeref": 0.49626666666666663,
          "symbol": "circle"
         },
         "mode": "markers",
         "name": "Takara Tomy",
         "orientation": "v",
         "showlegend": true,
         "type": "scatter",
         "x": [
          37
         ],
         "xaxis": "x",
         "y": [
          2.7
         ],
         "yaxis": "y"
        },
        {
         "hovertemplate": "<b>%{hovertext}</b><br><br>Distribuidor=Imagineer<br>Juegos publicados=%{x}<br>Ventas globales=%{marker.size}<extra></extra>",
         "hovertext": [
          "Imagineer"
         ],
         "legendgroup": "Imagineer",
         "marker": {
          "color": "#00cc96",
          "size": [
           2.65
          ],
          "sizemode": "area",
          "sizeref": 0.49626666666666663,
          "symbol": "circle"
         },
         "mode": "markers",
         "name": "Imagineer",
         "orientation": "v",
         "showlegend": true,
         "type": "scatter",
         "x": [
          16
         ],
         "xaxis": "x",
         "y": [
          2.65
         ],
         "yaxis": "y"
        },
        {
         "hovertemplate": "<b>%{hovertext}</b><br><br>Distribuidor=Alchemist<br>Juegos publicados=%{x}<br>Ventas globales=%{marker.size}<extra></extra>",
         "hovertext": [
          "Alchemist"
         ],
         "legendgroup": "Alchemist",
         "marker": {
          "color": "#ab63fa",
          "size": [
           2.63
          ],
          "sizemode": "area",
          "sizeref": 0.49626666666666663,
          "symbol": "circle"
         },
         "mode": "markers",
         "name": "Alchemist",
         "orientation": "v",
         "showlegend": true,
         "type": "scatter",
         "x": [
          43
         ],
         "xaxis": "x",
         "y": [
          2.63
         ],
         "yaxis": "y"
        },
        {
         "hovertemplate": "<b>%{hovertext}</b><br><br>Distribuidor=SNK<br>Juegos publicados=%{x}<br>Ventas globales=%{marker.size}<extra></extra>",
         "hovertext": [
          "SNK"
         ],
         "legendgroup": "SNK",
         "marker": {
          "color": "#FFA15A",
          "size": [
           2.5900000000000003
          ],
          "sizemode": "area",
          "sizeref": 0.49626666666666663,
          "symbol": "circle"
         },
         "mode": "markers",
         "name": "SNK",
         "orientation": "v",
         "showlegend": true,
         "type": "scatter",
         "x": [
          22
         ],
         "xaxis": "x",
         "y": [
          2.5900000000000003
         ],
         "yaxis": "y"
        },
        {
         "hovertemplate": "<b>%{hovertext}</b><br><br>Distribuidor=NCSoft<br>Juegos publicados=%{x}<br>Ventas globales=%{marker.size}<extra></extra>",
         "hovertext": [
          "NCSoft"
         ],
         "legendgroup": "NCSoft",
         "marker": {
          "color": "#19d3f3",
          "size": [
           2.59
          ],
          "sizemode": "area",
          "sizeref": 0.49626666666666663,
          "symbol": "circle"
         },
         "mode": "markers",
         "name": "NCSoft",
         "orientation": "v",
         "showlegend": true,
         "type": "scatter",
         "x": [
          6
         ],
         "xaxis": "x",
         "y": [
          2.59
         ],
         "yaxis": "y"
        },
        {
         "hovertemplate": "<b>%{hovertext}</b><br><br>Distribuidor=Rondomedia<br>Juegos publicados=%{x}<br>Ventas globales=%{marker.size}<extra></extra>",
         "hovertext": [
          "Rondomedia"
         ],
         "legendgroup": "Rondomedia",
         "marker": {
          "color": "#FF6692",
          "size": [
           2.58
          ],
          "sizemode": "area",
          "sizeref": 0.49626666666666663,
          "symbol": "circle"
         },
         "mode": "markers",
         "name": "Rondomedia",
         "orientation": "v",
         "showlegend": true,
         "type": "scatter",
         "x": [
          14
         ],
         "xaxis": "x",
         "y": [
          2.58
         ],
         "yaxis": "y"
        },
        {
         "hovertemplate": "<b>%{hovertext}</b><br><br>Distribuidor=Compile<br>Juegos publicados=%{x}<br>Ventas globales=%{marker.size}<extra></extra>",
         "hovertext": [
          "Compile"
         ],
         "legendgroup": "Compile",
         "marker": {
          "color": "#B6E880",
          "size": [
           2.46
          ],
          "sizemode": "area",
          "sizeref": 0.49626666666666663,
          "symbol": "circle"
         },
         "mode": "markers",
         "name": "Compile",
         "orientation": "v",
         "showlegend": true,
         "type": "scatter",
         "x": [
          6
         ],
         "xaxis": "x",
         "y": [
          2.46
         ],
         "yaxis": "y"
        },
        {
         "hovertemplate": "<b>%{hovertext}</b><br><br>Distribuidor=Kalypso Media<br>Juegos publicados=%{x}<br>Ventas globales=%{marker.size}<extra></extra>",
         "hovertext": [
          "Kalypso Media"
         ],
         "legendgroup": "Kalypso Media",
         "marker": {
          "color": "#FF97FF",
          "size": [
           2.45
          ],
          "sizemode": "area",
          "sizeref": 0.49626666666666663,
          "symbol": "circle"
         },
         "mode": "markers",
         "name": "Kalypso Media",
         "orientation": "v",
         "showlegend": true,
         "type": "scatter",
         "x": [
          29
         ],
         "xaxis": "x",
         "y": [
          2.45
         ],
         "yaxis": "y"
        },
        {
         "hovertemplate": "<b>%{hovertext}</b><br><br>Distribuidor=Marvelous Entertainment<br>Juegos publicados=%{x}<br>Ventas globales=%{marker.size}<extra></extra>",
         "hovertext": [
          "Marvelous Entertainment"
         ],
         "legendgroup": "Marvelous Entertainment",
         "marker": {
          "color": "#FECB52",
          "size": [
           2.33
          ],
          "sizemode": "area",
          "sizeref": 0.49626666666666663,
          "symbol": "circle"
         },
         "mode": "markers",
         "name": "Marvelous Entertainment",
         "orientation": "v",
         "showlegend": true,
         "type": "scatter",
         "x": [
          12
         ],
         "xaxis": "x",
         "y": [
          2.33
         ],
         "yaxis": "y"
        },
        {
         "hovertemplate": "<b>%{hovertext}</b><br><br>Distribuidor=Red Storm Entertainment<br>Juegos publicados=%{x}<br>Ventas globales=%{marker.size}<extra></extra>",
         "hovertext": [
          "Red Storm Entertainment"
         ],
         "legendgroup": "Red Storm Entertainment",
         "marker": {
          "color": "#636efa",
          "size": [
           2.32
          ],
          "sizemode": "area",
          "sizeref": 0.49626666666666663,
          "symbol": "circle"
         },
         "mode": "markers",
         "name": "Red Storm Entertainment",
         "orientation": "v",
         "showlegend": true,
         "type": "scatter",
         "x": [
          3
         ],
         "xaxis": "x",
         "y": [
          2.32
         ],
         "yaxis": "y"
        },
        {
         "hovertemplate": "<b>%{hovertext}</b><br><br>Distribuidor=UEP Systems<br>Juegos publicados=%{x}<br>Ventas globales=%{marker.size}<extra></extra>",
         "hovertext": [
          "UEP Systems"
         ],
         "legendgroup": "UEP Systems",
         "marker": {
          "color": "#EF553B",
          "size": [
           2.25
          ],
          "sizemode": "area",
          "sizeref": 0.49626666666666663,
          "symbol": "circle"
         },
         "mode": "markers",
         "name": "UEP Systems",
         "orientation": "v",
         "showlegend": true,
         "type": "scatter",
         "x": [
          1
         ],
         "xaxis": "x",
         "y": [
          2.25
         ],
         "yaxis": "y"
        },
        {
         "hovertemplate": "<b>%{hovertext}</b><br><br>Distribuidor=Mastiff<br>Juegos publicados=%{x}<br>Ventas globales=%{marker.size}<extra></extra>",
         "hovertext": [
          "Mastiff"
         ],
         "legendgroup": "Mastiff",
         "marker": {
          "color": "#00cc96",
          "size": [
           2.23
          ],
          "sizemode": "area",
          "sizeref": 0.49626666666666663,
          "symbol": "circle"
         },
         "mode": "markers",
         "name": "Mastiff",
         "orientation": "v",
         "showlegend": true,
         "type": "scatter",
         "x": [
          16
         ],
         "xaxis": "x",
         "y": [
          2.23
         ],
         "yaxis": "y"
        },
        {
         "hovertemplate": "<b>%{hovertext}</b><br><br>Distribuidor=Enterbrain<br>Juegos publicados=%{x}<br>Ventas globales=%{marker.size}<extra></extra>",
         "hovertext": [
          "Enterbrain"
         ],
         "legendgroup": "Enterbrain",
         "marker": {
          "color": "#ab63fa",
          "size": [
           2.23
          ],
          "sizemode": "area",
          "sizeref": 0.49626666666666663,
          "symbol": "circle"
         },
         "mode": "markers",
         "name": "Enterbrain",
         "orientation": "v",
         "showlegend": true,
         "type": "scatter",
         "x": [
          15
         ],
         "xaxis": "x",
         "y": [
          2.23
         ],
         "yaxis": "y"
        },
        {
         "hovertemplate": "<b>%{hovertext}</b><br><br>Distribuidor=Kemco<br>Juegos publicados=%{x}<br>Ventas globales=%{marker.size}<extra></extra>",
         "hovertext": [
          "Kemco"
         ],
         "legendgroup": "Kemco",
         "marker": {
          "color": "#FFA15A",
          "size": [
           2.22
          ],
          "sizemode": "area",
          "sizeref": 0.49626666666666663,
          "symbol": "circle"
         },
         "mode": "markers",
         "name": "Kemco",
         "orientation": "v",
         "showlegend": true,
         "type": "scatter",
         "x": [
          21
         ],
         "xaxis": "x",
         "y": [
          2.22
         ],
         "yaxis": "y"
        },
        {
         "hovertemplate": "<b>%{hovertext}</b><br><br>Distribuidor=Video System<br>Juegos publicados=%{x}<br>Ventas globales=%{marker.size}<extra></extra>",
         "hovertext": [
          "Video System"
         ],
         "legendgroup": "Video System",
         "marker": {
          "color": "#19d3f3",
          "size": [
           2.18
          ],
          "sizemode": "area",
          "sizeref": 0.49626666666666663,
          "symbol": "circle"
         },
         "mode": "markers",
         "name": "Video System",
         "orientation": "v",
         "showlegend": true,
         "type": "scatter",
         "x": [
          4
         ],
         "xaxis": "x",
         "y": [
          2.18
         ],
         "yaxis": "y"
        },
        {
         "hovertemplate": "<b>%{hovertext}</b><br><br>Distribuidor=Little Orbit<br>Juegos publicados=%{x}<br>Ventas globales=%{marker.size}<extra></extra>",
         "hovertext": [
          "Little Orbit"
         ],
         "legendgroup": "Little Orbit",
         "marker": {
          "color": "#FF6692",
          "size": [
           2.04
          ],
          "sizemode": "area",
          "sizeref": 0.49626666666666663,
          "symbol": "circle"
         },
         "mode": "markers",
         "name": "Little Orbit",
         "orientation": "v",
         "showlegend": true,
         "type": "scatter",
         "x": [
          26
         ],
         "xaxis": "x",
         "y": [
          2.04
         ],
         "yaxis": "y"
        },
        {
         "hovertemplate": "<b>%{hovertext}</b><br><br>Distribuidor=Microprose<br>Juegos publicados=%{x}<br>Ventas globales=%{marker.size}<extra></extra>",
         "hovertext": [
          "Microprose"
         ],
         "legendgroup": "Microprose",
         "marker": {
          "color": "#B6E880",
          "size": [
           2.02
          ],
          "sizemode": "area",
          "sizeref": 0.49626666666666663,
          "symbol": "circle"
         },
         "mode": "markers",
         "name": "Microprose",
         "orientation": "v",
         "showlegend": true,
         "type": "scatter",
         "x": [
          6
         ],
         "xaxis": "x",
         "y": [
          2.02
         ],
         "yaxis": "y"
        },
        {
         "hovertemplate": "<b>%{hovertext}</b><br><br>Distribuidor=ASC Games<br>Juegos publicados=%{x}<br>Ventas globales=%{marker.size}<extra></extra>",
         "hovertext": [
          "ASC Games"
         ],
         "legendgroup": "ASC Games",
         "marker": {
          "color": "#FF97FF",
          "size": [
           2.02
          ],
          "sizemode": "area",
          "sizeref": 0.49626666666666663,
          "symbol": "circle"
         },
         "mode": "markers",
         "name": "ASC Games",
         "orientation": "v",
         "showlegend": true,
         "type": "scatter",
         "x": [
          3
         ],
         "xaxis": "x",
         "y": [
          2.02
         ],
         "yaxis": "y"
        },
        {
         "hovertemplate": "<b>%{hovertext}</b><br><br>Distribuidor=RTL<br>Juegos publicados=%{x}<br>Ventas globales=%{marker.size}<extra></extra>",
         "hovertext": [
          "RTL"
         ],
         "legendgroup": "RTL",
         "marker": {
          "color": "#FECB52",
          "size": [
           2
          ],
          "sizemode": "area",
          "sizeref": 0.49626666666666663,
          "symbol": "circle"
         },
         "mode": "markers",
         "name": "RTL",
         "orientation": "v",
         "showlegend": true,
         "type": "scatter",
         "x": [
          8
         ],
         "xaxis": "x",
         "y": [
          2
         ],
         "yaxis": "y"
        },
        {
         "hovertemplate": "<b>%{hovertext}</b><br><br>Distribuidor=Success<br>Juegos publicados=%{x}<br>Ventas globales=%{marker.size}<extra></extra>",
         "hovertext": [
          "Success"
         ],
         "legendgroup": "Success",
         "marker": {
          "color": "#636efa",
          "size": [
           1.96
          ],
          "sizemode": "area",
          "sizeref": 0.49626666666666663,
          "symbol": "circle"
         },
         "mode": "markers",
         "name": "Success",
         "orientation": "v",
         "showlegend": true,
         "type": "scatter",
         "x": [
          19
         ],
         "xaxis": "x",
         "y": [
          1.96
         ],
         "yaxis": "y"
        },
        {
         "hovertemplate": "<b>%{hovertext}</b><br><br>Distribuidor=Agetec<br>Juegos publicados=%{x}<br>Ventas globales=%{marker.size}<extra></extra>",
         "hovertext": [
          "Agetec"
         ],
         "legendgroup": "Agetec",
         "marker": {
          "color": "#EF553B",
          "size": [
           1.9400000000000002
          ],
          "sizemode": "area",
          "sizeref": 0.49626666666666663,
          "symbol": "circle"
         },
         "mode": "markers",
         "name": "Agetec",
         "orientation": "v",
         "showlegend": true,
         "type": "scatter",
         "x": [
          8
         ],
         "xaxis": "x",
         "y": [
          1.9400000000000002
         ],
         "yaxis": "y"
        },
        {
         "hovertemplate": "<b>%{hovertext}</b><br><br>Distribuidor=20th Century Fox Video Games<br>Juegos publicados=%{x}<br>Ventas globales=%{marker.size}<extra></extra>",
         "hovertext": [
          "20th Century Fox Video Games"
         ],
         "legendgroup": "20th Century Fox Video Games",
         "marker": {
          "color": "#00cc96",
          "size": [
           1.9400000000000002
          ],
          "sizemode": "area",
          "sizeref": 0.49626666666666663,
          "symbol": "circle"
         },
         "mode": "markers",
         "name": "20th Century Fox Video Games",
         "orientation": "v",
         "showlegend": true,
         "type": "scatter",
         "x": [
          5
         ],
         "xaxis": "x",
         "y": [
          1.9400000000000002
         ],
         "yaxis": "y"
        },
        {
         "hovertemplate": "<b>%{hovertext}</b><br><br>Distribuidor=Jaleco<br>Juegos publicados=%{x}<br>Ventas globales=%{marker.size}<extra></extra>",
         "hovertext": [
          "Jaleco"
         ],
         "legendgroup": "Jaleco",
         "marker": {
          "color": "#ab63fa",
          "size": [
           1.94
          ],
          "sizemode": "area",
          "sizeref": 0.49626666666666663,
          "symbol": "circle"
         },
         "mode": "markers",
         "name": "Jaleco",
         "orientation": "v",
         "showlegend": true,
         "type": "scatter",
         "x": [
          23
         ],
         "xaxis": "x",
         "y": [
          1.94
         ],
         "yaxis": "y"
        },
        {
         "hovertemplate": "<b>%{hovertext}</b><br><br>Distribuidor=Nobilis<br>Juegos publicados=%{x}<br>Ventas globales=%{marker.size}<extra></extra>",
         "hovertext": [
          "Nobilis"
         ],
         "legendgroup": "Nobilis",
         "marker": {
          "color": "#FFA15A",
          "size": [
           1.94
          ],
          "sizemode": "area",
          "sizeref": 0.49626666666666663,
          "symbol": "circle"
         },
         "mode": "markers",
         "name": "Nobilis",
         "orientation": "v",
         "showlegend": true,
         "type": "scatter",
         "x": [
          13
         ],
         "xaxis": "x",
         "y": [
          1.94
         ],
         "yaxis": "y"
        },
        {
         "hovertemplate": "<b>%{hovertext}</b><br><br>Distribuidor=Zushi Games<br>Juegos publicados=%{x}<br>Ventas globales=%{marker.size}<extra></extra>",
         "hovertext": [
          "Zushi Games"
         ],
         "legendgroup": "Zushi Games",
         "marker": {
          "color": "#19d3f3",
          "size": [
           1.89
          ],
          "sizemode": "area",
          "sizeref": 0.49626666666666663,
          "symbol": "circle"
         },
         "mode": "markers",
         "name": "Zushi Games",
         "orientation": "v",
         "showlegend": true,
         "type": "scatter",
         "x": [
          18
         ],
         "xaxis": "x",
         "y": [
          1.89
         ],
         "yaxis": "y"
        },
        {
         "hovertemplate": "<b>%{hovertext}</b><br><br>Distribuidor=Metro 3D<br>Juegos publicados=%{x}<br>Ventas globales=%{marker.size}<extra></extra>",
         "hovertext": [
          "Metro 3D"
         ],
         "legendgroup": "Metro 3D",
         "marker": {
          "color": "#FF6692",
          "size": [
           1.84
          ],
          "sizemode": "area",
          "sizeref": 0.49626666666666663,
          "symbol": "circle"
         },
         "mode": "markers",
         "name": "Metro 3D",
         "orientation": "v",
         "showlegend": true,
         "type": "scatter",
         "x": [
          12
         ],
         "xaxis": "x",
         "y": [
          1.84
         ],
         "yaxis": "y"
        },
        {
         "hovertemplate": "<b>%{hovertext}</b><br><br>Distribuidor=Rocket Company<br>Juegos publicados=%{x}<br>Ventas globales=%{marker.size}<extra></extra>",
         "hovertext": [
          "Rocket Company"
         ],
         "legendgroup": "Rocket Company",
         "marker": {
          "color": "#B6E880",
          "size": [
           1.82
          ],
          "sizemode": "area",
          "sizeref": 0.49626666666666663,
          "symbol": "circle"
         },
         "mode": "markers",
         "name": "Rocket Company",
         "orientation": "v",
         "showlegend": true,
         "type": "scatter",
         "x": [
          17
         ],
         "xaxis": "x",
         "y": [
          1.82
         ],
         "yaxis": "y"
        },
        {
         "hovertemplate": "<b>%{hovertext}</b><br><br>Distribuidor=System 3 Arcade Software<br>Juegos publicados=%{x}<br>Ventas globales=%{marker.size}<extra></extra>",
         "hovertext": [
          "System 3 Arcade Software"
         ],
         "legendgroup": "System 3 Arcade Software",
         "marker": {
          "color": "#FF97FF",
          "size": [
           1.8
          ],
          "sizemode": "area",
          "sizeref": 0.49626666666666663,
          "symbol": "circle"
         },
         "mode": "markers",
         "name": "System 3 Arcade Software",
         "orientation": "v",
         "showlegend": true,
         "type": "scatter",
         "x": [
          14
         ],
         "xaxis": "x",
         "y": [
          1.8
         ],
         "yaxis": "y"
        },
        {
         "hovertemplate": "<b>%{hovertext}</b><br><br>Distribuidor=Valve<br>Juegos publicados=%{x}<br>Ventas globales=%{marker.size}<extra></extra>",
         "hovertext": [
          "Valve"
         ],
         "legendgroup": "Valve",
         "marker": {
          "color": "#FECB52",
          "size": [
           1.74
          ],
          "sizemode": "area",
          "sizeref": 0.49626666666666663,
          "symbol": "circle"
         },
         "mode": "markers",
         "name": "Valve",
         "orientation": "v",
         "showlegend": true,
         "type": "scatter",
         "x": [
          1
         ],
         "xaxis": "x",
         "y": [
          1.74
         ],
         "yaxis": "y"
        },
        {
         "hovertemplate": "<b>%{hovertext}</b><br><br>Distribuidor=Mastertronic<br>Juegos publicados=%{x}<br>Ventas globales=%{marker.size}<extra></extra>",
         "hovertext": [
          "Mastertronic"
         ],
         "legendgroup": "Mastertronic",
         "marker": {
          "color": "#636efa",
          "size": [
           1.73
          ],
          "sizemode": "area",
          "sizeref": 0.49626666666666663,
          "symbol": "circle"
         },
         "mode": "markers",
         "name": "Mastertronic",
         "orientation": "v",
         "showlegend": true,
         "type": "scatter",
         "x": [
          13
         ],
         "xaxis": "x",
         "y": [
          1.73
         ],
         "yaxis": "y"
        },
        {
         "hovertemplate": "<b>%{hovertext}</b><br><br>Distribuidor=Crystal Dynamics<br>Juegos publicados=%{x}<br>Ventas globales=%{marker.size}<extra></extra>",
         "hovertext": [
          "Crystal Dynamics"
         ],
         "legendgroup": "Crystal Dynamics",
         "marker": {
          "color": "#EF553B",
          "size": [
           1.71
          ],
          "sizemode": "area",
          "sizeref": 0.49626666666666663,
          "symbol": "circle"
         },
         "mode": "markers",
         "name": "Crystal Dynamics",
         "orientation": "v",
         "showlegend": true,
         "type": "scatter",
         "x": [
          5
         ],
         "xaxis": "x",
         "y": [
          1.71
         ],
         "yaxis": "y"
        },
        {
         "hovertemplate": "<b>%{hovertext}</b><br><br>Distribuidor=Hudson Entertainment<br>Juegos publicados=%{x}<br>Ventas globales=%{marker.size}<extra></extra>",
         "hovertext": [
          "Hudson Entertainment"
         ],
         "legendgroup": "Hudson Entertainment",
         "marker": {
          "color": "#00cc96",
          "size": [
           1.69
          ],
          "sizemode": "area",
          "sizeref": 0.49626666666666663,
          "symbol": "circle"
         },
         "mode": "markers",
         "name": "Hudson Entertainment",
         "orientation": "v",
         "showlegend": true,
         "type": "scatter",
         "x": [
          11
         ],
         "xaxis": "x",
         "y": [
          1.69
         ],
         "yaxis": "y"
        },
        {
         "hovertemplate": "<b>%{hovertext}</b><br><br>Distribuidor=Avanquest Software<br>Juegos publicados=%{x}<br>Ventas globales=%{marker.size}<extra></extra>",
         "hovertext": [
          "Avanquest Software"
         ],
         "legendgroup": "Avanquest Software",
         "marker": {
          "color": "#ab63fa",
          "size": [
           1.69
          ],
          "sizemode": "area",
          "sizeref": 0.49626666666666663,
          "symbol": "circle"
         },
         "mode": "markers",
         "name": "Avanquest Software",
         "orientation": "v",
         "showlegend": true,
         "type": "scatter",
         "x": [
          9
         ],
         "xaxis": "x",
         "y": [
          1.69
         ],
         "yaxis": "y"
        },
        {
         "hovertemplate": "<b>%{hovertext}</b><br><br>Distribuidor=Accolade<br>Juegos publicados=%{x}<br>Ventas globales=%{marker.size}<extra></extra>",
         "hovertext": [
          "Accolade"
         ],
         "legendgroup": "Accolade",
         "marker": {
          "color": "#FFA15A",
          "size": [
           1.6800000000000002
          ],
          "sizemode": "area",
          "sizeref": 0.49626666666666663,
          "symbol": "circle"
         },
         "mode": "markers",
         "name": "Accolade",
         "orientation": "v",
         "showlegend": true,
         "type": "scatter",
         "x": [
          3
         ],
         "xaxis": "x",
         "y": [
          1.6800000000000002
         ],
         "yaxis": "y"
        },
        {
         "hovertemplate": "<b>%{hovertext}</b><br><br>Distribuidor=Xplosiv<br>Juegos publicados=%{x}<br>Ventas globales=%{marker.size}<extra></extra>",
         "hovertext": [
          "Xplosiv"
         ],
         "legendgroup": "Xplosiv",
         "marker": {
          "color": "#19d3f3",
          "size": [
           1.6400000000000001
          ],
          "sizemode": "area",
          "sizeref": 0.49626666666666663,
          "symbol": "circle"
         },
         "mode": "markers",
         "name": "Xplosiv",
         "orientation": "v",
         "showlegend": true,
         "type": "scatter",
         "x": [
          10
         ],
         "xaxis": "x",
         "y": [
          1.6400000000000001
         ],
         "yaxis": "y"
        },
        {
         "hovertemplate": "<b>%{hovertext}</b><br><br>Distribuidor=From Software<br>Juegos publicados=%{x}<br>Ventas globales=%{marker.size}<extra></extra>",
         "hovertext": [
          "From Software"
         ],
         "legendgroup": "From Software",
         "marker": {
          "color": "#FF6692",
          "size": [
           1.6300000000000001
          ],
          "sizemode": "area",
          "sizeref": 0.49626666666666663,
          "symbol": "circle"
         },
         "mode": "markers",
         "name": "From Software",
         "orientation": "v",
         "showlegend": true,
         "type": "scatter",
         "x": [
          15
         ],
         "xaxis": "x",
         "y": [
          1.6300000000000001
         ],
         "yaxis": "y"
        },
        {
         "hovertemplate": "<b>%{hovertext}</b><br><br>Distribuidor=5pb<br>Juegos publicados=%{x}<br>Ventas globales=%{marker.size}<extra></extra>",
         "hovertext": [
          "5pb"
         ],
         "legendgroup": "5pb",
         "marker": {
          "color": "#B6E880",
          "size": [
           1.6300000000000001
          ],
          "sizemode": "area",
          "sizeref": 0.49626666666666663,
          "symbol": "circle"
         },
         "mode": "markers",
         "name": "5pb",
         "orientation": "v",
         "showlegend": true,
         "type": "scatter",
         "x": [
          61
         ],
         "xaxis": "x",
         "y": [
          1.6300000000000001
         ],
         "yaxis": "y"
        },
        {
         "hovertemplate": "<b>%{hovertext}</b><br><br>Distribuidor=Hello Games<br>Juegos publicados=%{x}<br>Ventas globales=%{marker.size}<extra></extra>",
         "hovertext": [
          "Hello Games"
         ],
         "legendgroup": "Hello Games",
         "marker": {
          "color": "#FF97FF",
          "size": [
           1.6
          ],
          "sizemode": "area",
          "sizeref": 0.49626666666666663,
          "symbol": "circle"
         },
         "mode": "markers",
         "name": "Hello Games",
         "orientation": "v",
         "showlegend": true,
         "type": "scatter",
         "x": [
          1
         ],
         "xaxis": "x",
         "y": [
          1.6
         ],
         "yaxis": "y"
        },
        {
         "hovertemplate": "<b>%{hovertext}</b><br><br>Distribuidor=Touchstone<br>Juegos publicados=%{x}<br>Ventas globales=%{marker.size}<extra></extra>",
         "hovertext": [
          "Touchstone"
         ],
         "legendgroup": "Touchstone",
         "marker": {
          "color": "#FECB52",
          "size": [
           1.58
          ],
          "sizemode": "area",
          "sizeref": 0.49626666666666663,
          "symbol": "circle"
         },
         "mode": "markers",
         "name": "Touchstone",
         "orientation": "v",
         "showlegend": true,
         "type": "scatter",
         "x": [
          4
         ],
         "xaxis": "x",
         "y": [
          1.58
         ],
         "yaxis": "y"
        },
        {
         "hovertemplate": "<b>%{hovertext}</b><br><br>Distribuidor=PopCap Games<br>Juegos publicados=%{x}<br>Ventas globales=%{marker.size}<extra></extra>",
         "hovertext": [
          "PopCap Games"
         ],
         "legendgroup": "PopCap Games",
         "marker": {
          "color": "#636efa",
          "size": [
           1.57
          ],
          "sizemode": "area",
          "sizeref": 0.49626666666666663,
          "symbol": "circle"
         },
         "mode": "markers",
         "name": "PopCap Games",
         "orientation": "v",
         "showlegend": true,
         "type": "scatter",
         "x": [
          15
         ],
         "xaxis": "x",
         "y": [
          1.57
         ],
         "yaxis": "y"
        },
        {
         "hovertemplate": "<b>%{hovertext}</b><br><br>Distribuidor=Storm City Games<br>Juegos publicados=%{x}<br>Ventas globales=%{marker.size}<extra></extra>",
         "hovertext": [
          "Storm City Games"
         ],
         "legendgroup": "Storm City Games",
         "marker": {
          "color": "#EF553B",
          "size": [
           1.56
          ],
          "sizemode": "area",
          "sizeref": 0.49626666666666663,
          "symbol": "circle"
         },
         "mode": "markers",
         "name": "Storm City Games",
         "orientation": "v",
         "showlegend": true,
         "type": "scatter",
         "x": [
          19
         ],
         "xaxis": "x",
         "y": [
          1.56
         ],
         "yaxis": "y"
        },
        {
         "hovertemplate": "<b>%{hovertext}</b><br><br>Distribuidor=LEGO Media<br>Juegos publicados=%{x}<br>Ventas globales=%{marker.size}<extra></extra>",
         "hovertext": [
          "LEGO Media"
         ],
         "legendgroup": "LEGO Media",
         "marker": {
          "color": "#00cc96",
          "size": [
           1.56
          ],
          "sizemode": "area",
          "sizeref": 0.49626666666666663,
          "symbol": "circle"
         },
         "mode": "markers",
         "name": "LEGO Media",
         "orientation": "v",
         "showlegend": true,
         "type": "scatter",
         "x": [
          7
         ],
         "xaxis": "x",
         "y": [
          1.56
         ],
         "yaxis": "y"
        },
        {
         "hovertemplate": "<b>%{hovertext}</b><br><br>Distribuidor=Westwood Studios<br>Juegos publicados=%{x}<br>Ventas globales=%{marker.size}<extra></extra>",
         "hovertext": [
          "Westwood Studios"
         ],
         "legendgroup": "Westwood Studios",
         "marker": {
          "color": "#ab63fa",
          "size": [
           1.55
          ],
          "sizemode": "area",
          "sizeref": 0.49626666666666663,
          "symbol": "circle"
         },
         "mode": "markers",
         "name": "Westwood Studios",
         "orientation": "v",
         "showlegend": true,
         "type": "scatter",
         "x": [
          1
         ],
         "xaxis": "x",
         "y": [
          1.55
         ],
         "yaxis": "y"
        },
        {
         "hovertemplate": "<b>%{hovertext}</b><br><br>Distribuidor=Laguna<br>Juegos publicados=%{x}<br>Ventas globales=%{marker.size}<extra></extra>",
         "hovertext": [
          "Laguna"
         ],
         "legendgroup": "Laguna",
         "marker": {
          "color": "#FFA15A",
          "size": [
           1.55
          ],
          "sizemode": "area",
          "sizeref": 0.49626666666666663,
          "symbol": "circle"
         },
         "mode": "markers",
         "name": "Laguna",
         "orientation": "v",
         "showlegend": true,
         "type": "scatter",
         "x": [
          4
         ],
         "xaxis": "x",
         "y": [
          1.55
         ],
         "yaxis": "y"
        },
        {
         "hovertemplate": "<b>%{hovertext}</b><br><br>Distribuidor=JoWood Productions<br>Juegos publicados=%{x}<br>Ventas globales=%{marker.size}<extra></extra>",
         "hovertext": [
          "JoWood Productions"
         ],
         "legendgroup": "JoWood Productions",
         "marker": {
          "color": "#19d3f3",
          "size": [
           1.49
          ],
          "sizemode": "area",
          "sizeref": 0.49626666666666663,
          "symbol": "circle"
         },
         "mode": "markers",
         "name": "JoWood Productions",
         "orientation": "v",
         "showlegend": true,
         "type": "scatter",
         "x": [
          22
         ],
         "xaxis": "x",
         "y": [
          1.49
         ],
         "yaxis": "y"
        },
        {
         "hovertemplate": "<b>%{hovertext}</b><br><br>Distribuidor=Arc System Works<br>Juegos publicados=%{x}<br>Ventas globales=%{marker.size}<extra></extra>",
         "hovertext": [
          "Arc System Works"
         ],
         "legendgroup": "Arc System Works",
         "marker": {
          "color": "#FF6692",
          "size": [
           1.48
          ],
          "sizemode": "area",
          "sizeref": 0.49626666666666663,
          "symbol": "circle"
         },
         "mode": "markers",
         "name": "Arc System Works",
         "orientation": "v",
         "showlegend": true,
         "type": "scatter",
         "x": [
          26
         ],
         "xaxis": "x",
         "y": [
          1.48
         ],
         "yaxis": "y"
        },
        {
         "hovertemplate": "<b>%{hovertext}</b><br><br>Distribuidor=Knowledge Adventure<br>Juegos publicados=%{x}<br>Ventas globales=%{marker.size}<extra></extra>",
         "hovertext": [
          "Knowledge Adventure"
         ],
         "legendgroup": "Knowledge Adventure",
         "marker": {
          "color": "#B6E880",
          "size": [
           1.47
          ],
          "sizemode": "area",
          "sizeref": 0.49626666666666663,
          "symbol": "circle"
         },
         "mode": "markers",
         "name": "Knowledge Adventure",
         "orientation": "v",
         "showlegend": true,
         "type": "scatter",
         "x": [
          4
         ],
         "xaxis": "x",
         "y": [
          1.47
         ],
         "yaxis": "y"
        },
        {
         "hovertemplate": "<b>%{hovertext}</b><br><br>Distribuidor=XS Games<br>Juegos publicados=%{x}<br>Ventas globales=%{marker.size}<extra></extra>",
         "hovertext": [
          "XS Games"
         ],
         "legendgroup": "XS Games",
         "marker": {
          "color": "#FF97FF",
          "size": [
           1.46
          ],
          "sizemode": "area",
          "sizeref": 0.49626666666666663,
          "symbol": "circle"
         },
         "mode": "markers",
         "name": "XS Games",
         "orientation": "v",
         "showlegend": true,
         "type": "scatter",
         "x": [
          12
         ],
         "xaxis": "x",
         "y": [
          1.46
         ],
         "yaxis": "y"
        },
        {
         "hovertemplate": "<b>%{hovertext}</b><br><br>Distribuidor=Genki<br>Juegos publicados=%{x}<br>Ventas globales=%{marker.size}<extra></extra>",
         "hovertext": [
          "Genki"
         ],
         "legendgroup": "Genki",
         "marker": {
          "color": "#FECB52",
          "size": [
           1.46
          ],
          "sizemode": "area",
          "sizeref": 0.49626666666666663,
          "symbol": "circle"
         },
         "mode": "markers",
         "name": "Genki",
         "orientation": "v",
         "showlegend": true,
         "type": "scatter",
         "x": [
          8
         ],
         "xaxis": "x",
         "y": [
          1.46
         ],
         "yaxis": "y"
        },
        {
         "hovertemplate": "<b>%{hovertext}</b><br><br>Distribuidor=Pinnacle<br>Juegos publicados=%{x}<br>Ventas globales=%{marker.size}<extra></extra>",
         "hovertext": [
          "Pinnacle"
         ],
         "legendgroup": "Pinnacle",
         "marker": {
          "color": "#636efa",
          "size": [
           1.42
          ],
          "sizemode": "area",
          "sizeref": 0.49626666666666663,
          "symbol": "circle"
         },
         "mode": "markers",
         "name": "Pinnacle",
         "orientation": "v",
         "showlegend": true,
         "type": "scatter",
         "x": [
          5
         ],
         "xaxis": "x",
         "y": [
          1.42
         ],
         "yaxis": "y"
        },
        {
         "hovertemplate": "<b>%{hovertext}</b><br><br>Distribuidor=Rage Software<br>Juegos publicados=%{x}<br>Ventas globales=%{marker.size}<extra></extra>",
         "hovertext": [
          "Rage Software"
         ],
         "legendgroup": "Rage Software",
         "marker": {
          "color": "#EF553B",
          "size": [
           1.42
          ],
          "sizemode": "area",
          "sizeref": 0.49626666666666663,
          "symbol": "circle"
         },
         "mode": "markers",
         "name": "Rage Software",
         "orientation": "v",
         "showlegend": true,
         "type": "scatter",
         "x": [
          7
         ],
         "xaxis": "x",
         "y": [
          1.42
         ],
         "yaxis": "y"
        },
        {
         "hovertemplate": "<b>%{hovertext}</b><br><br>Distribuidor=Tigervision<br>Juegos publicados=%{x}<br>Ventas globales=%{marker.size}<extra></extra>",
         "hovertext": [
          "Tigervision"
         ],
         "legendgroup": "Tigervision",
         "marker": {
          "color": "#00cc96",
          "size": [
           1.42
          ],
          "sizemode": "area",
          "sizeref": 0.49626666666666663,
          "symbol": "circle"
         },
         "mode": "markers",
         "name": "Tigervision",
         "orientation": "v",
         "showlegend": true,
         "type": "scatter",
         "x": [
          3
         ],
         "xaxis": "x",
         "y": [
          1.42
         ],
         "yaxis": "y"
        },
        {
         "hovertemplate": "<b>%{hovertext}</b><br><br>Distribuidor=Slightly Mad Studios<br>Juegos publicados=%{x}<br>Ventas globales=%{marker.size}<extra></extra>",
         "hovertext": [
          "Slightly Mad Studios"
         ],
         "legendgroup": "Slightly Mad Studios",
         "marker": {
          "color": "#ab63fa",
          "size": [
           1.3800000000000001
          ],
          "sizemode": "area",
          "sizeref": 0.49626666666666663,
          "symbol": "circle"
         },
         "mode": "markers",
         "name": "Slightly Mad Studios",
         "orientation": "v",
         "showlegend": true,
         "type": "scatter",
         "x": [
          3
         ],
         "xaxis": "x",
         "y": [
          1.3800000000000001
         ],
         "yaxis": "y"
        },
        {
         "hovertemplate": "<b>%{hovertext}</b><br><br>Distribuidor=GameMill Entertainment<br>Juegos publicados=%{x}<br>Ventas globales=%{marker.size}<extra></extra>",
         "hovertext": [
          "GameMill Entertainment"
         ],
         "legendgroup": "GameMill Entertainment",
         "marker": {
          "color": "#FFA15A",
          "size": [
           1.3800000000000001
          ],
          "sizemode": "area",
          "sizeref": 0.49626666666666663,
          "symbol": "circle"
         },
         "mode": "markers",
         "name": "GameMill Entertainment",
         "orientation": "v",
         "showlegend": true,
         "type": "scatter",
         "x": [
          8
         ],
         "xaxis": "x",
         "y": [
          1.3800000000000001
         ],
         "yaxis": "y"
        },
        {
         "hovertemplate": "<b>%{hovertext}</b><br><br>Distribuidor=Compile Heart<br>Juegos publicados=%{x}<br>Ventas globales=%{marker.size}<extra></extra>",
         "hovertext": [
          "Compile Heart"
         ],
         "legendgroup": "Compile Heart",
         "marker": {
          "color": "#19d3f3",
          "size": [
           1.37
          ],
          "sizemode": "area",
          "sizeref": 0.49626666666666663,
          "symbol": "circle"
         },
         "mode": "markers",
         "name": "Compile Heart",
         "orientation": "v",
         "showlegend": true,
         "type": "scatter",
         "x": [
          20
         ],
         "xaxis": "x",
         "y": [
          1.37
         ],
         "yaxis": "y"
        },
        {
         "hovertemplate": "<b>%{hovertext}</b><br><br>Distribuidor=NewKidCo<br>Juegos publicados=%{x}<br>Ventas globales=%{marker.size}<extra></extra>",
         "hovertext": [
          "NewKidCo"
         ],
         "legendgroup": "NewKidCo",
         "marker": {
          "color": "#FF6692",
          "size": [
           1.33
          ],
          "sizemode": "area",
          "sizeref": 0.49626666666666663,
          "symbol": "circle"
         },
         "mode": "markers",
         "name": "NewKidCo",
         "orientation": "v",
         "showlegend": true,
         "type": "scatter",
         "x": [
          9
         ],
         "xaxis": "x",
         "y": [
          1.33
         ],
         "yaxis": "y"
        },
        {
         "hovertemplate": "<b>%{hovertext}</b><br><br>Distribuidor=FuRyu<br>Juegos publicados=%{x}<br>Ventas globales=%{marker.size}<extra></extra>",
         "hovertext": [
          "FuRyu"
         ],
         "legendgroup": "FuRyu",
         "marker": {
          "color": "#B6E880",
          "size": [
           1.32
          ],
          "sizemode": "area",
          "sizeref": 0.49626666666666663,
          "symbol": "circle"
         },
         "mode": "markers",
         "name": "FuRyu",
         "orientation": "v",
         "showlegend": true,
         "type": "scatter",
         "x": [
          27
         ],
         "xaxis": "x",
         "y": [
          1.32
         ],
         "yaxis": "y"
        },
        {
         "hovertemplate": "<b>%{hovertext}</b><br><br>Distribuidor=Milestone S.r.l.<br>Juegos publicados=%{x}<br>Ventas globales=%{marker.size}<extra></extra>",
         "hovertext": [
          "Milestone S.r.l."
         ],
         "legendgroup": "Milestone S.r.l.",
         "marker": {
          "color": "#FF97FF",
          "size": [
           1.28
          ],
          "sizemode": "area",
          "sizeref": 0.49626666666666663,
          "symbol": "circle"
         },
         "mode": "markers",
         "name": "Milestone S.r.l.",
         "orientation": "v",
         "showlegend": true,
         "type": "scatter",
         "x": [
          16
         ],
         "xaxis": "x",
         "y": [
          1.28
         ],
         "yaxis": "y"
        },
        {
         "hovertemplate": "<b>%{hovertext}</b><br><br>Distribuidor=Aqua Plus<br>Juegos publicados=%{x}<br>Ventas globales=%{marker.size}<extra></extra>",
         "hovertext": [
          "Aqua Plus"
         ],
         "legendgroup": "Aqua Plus",
         "marker": {
          "color": "#FECB52",
          "size": [
           1.25
          ],
          "sizemode": "area",
          "sizeref": 0.49626666666666663,
          "symbol": "circle"
         },
         "mode": "markers",
         "name": "Aqua Plus",
         "orientation": "v",
         "showlegend": true,
         "type": "scatter",
         "x": [
          23
         ],
         "xaxis": "x",
         "y": [
          1.25
         ],
         "yaxis": "y"
        },
        {
         "hovertemplate": "<b>%{hovertext}</b><br><br>Distribuidor=Brash Entertainment<br>Juegos publicados=%{x}<br>Ventas globales=%{marker.size}<extra></extra>",
         "hovertext": [
          "Brash Entertainment"
         ],
         "legendgroup": "Brash Entertainment",
         "marker": {
          "color": "#636efa",
          "size": [
           1.23
          ],
          "sizemode": "area",
          "sizeref": 0.49626666666666663,
          "symbol": "circle"
         },
         "mode": "markers",
         "name": "Brash Entertainment",
         "orientation": "v",
         "showlegend": true,
         "type": "scatter",
         "x": [
          10
         ],
         "xaxis": "x",
         "y": [
          1.23
         ],
         "yaxis": "y"
        },
        {
         "hovertemplate": "<b>%{hovertext}</b><br><br>Distribuidor=Russel<br>Juegos publicados=%{x}<br>Ventas globales=%{marker.size}<extra></extra>",
         "hovertext": [
          "Russel"
         ],
         "legendgroup": "Russel",
         "marker": {
          "color": "#EF553B",
          "size": [
           1.2100000000000002
          ],
          "sizemode": "area",
          "sizeref": 0.49626666666666663,
          "symbol": "circle"
         },
         "mode": "markers",
         "name": "Russel",
         "orientation": "v",
         "showlegend": true,
         "type": "scatter",
         "x": [
          6
         ],
         "xaxis": "x",
         "y": [
          1.2100000000000002
         ],
         "yaxis": "y"
        },
        {
         "hovertemplate": "<b>%{hovertext}</b><br><br>Distribuidor=Falcom Corporation<br>Juegos publicados=%{x}<br>Ventas globales=%{marker.size}<extra></extra>",
         "hovertext": [
          "Falcom Corporation"
         ],
         "legendgroup": "Falcom Corporation",
         "marker": {
          "color": "#00cc96",
          "size": [
           1.21
          ],
          "sizemode": "area",
          "sizeref": 0.49626666666666663,
          "symbol": "circle"
         },
         "mode": "markers",
         "name": "Falcom Corporation",
         "orientation": "v",
         "showlegend": true,
         "type": "scatter",
         "x": [
          16
         ],
         "xaxis": "x",
         "y": [
          1.21
         ],
         "yaxis": "y"
        },
        {
         "hovertemplate": "<b>%{hovertext}</b><br><br>Distribuidor=Black Label Games<br>Juegos publicados=%{x}<br>Ventas globales=%{marker.size}<extra></extra>",
         "hovertext": [
          "Black Label Games"
         ],
         "legendgroup": "Black Label Games",
         "marker": {
          "color": "#ab63fa",
          "size": [
           1.2
          ],
          "sizemode": "area",
          "sizeref": 0.49626666666666663,
          "symbol": "circle"
         },
         "mode": "markers",
         "name": "Black Label Games",
         "orientation": "v",
         "showlegend": true,
         "type": "scatter",
         "x": [
          1
         ],
         "xaxis": "x",
         "y": [
          1.2
         ],
         "yaxis": "y"
        },
        {
         "hovertemplate": "<b>%{hovertext}</b><br><br>Distribuidor=Playlogic Game Factory<br>Juegos publicados=%{x}<br>Ventas globales=%{marker.size}<extra></extra>",
         "hovertext": [
          "Playlogic Game Factory"
         ],
         "legendgroup": "Playlogic Game Factory",
         "marker": {
          "color": "#FFA15A",
          "size": [
           1.2
          ],
          "sizemode": "area",
          "sizeref": 0.49626666666666663,
          "symbol": "circle"
         },
         "mode": "markers",
         "name": "Playlogic Game Factory",
         "orientation": "v",
         "showlegend": true,
         "type": "scatter",
         "x": [
          14
         ],
         "xaxis": "x",
         "y": [
          1.2
         ],
         "yaxis": "y"
        },
        {
         "hovertemplate": "<b>%{hovertext}</b><br><br>Distribuidor=Gathering of Developers<br>Juegos publicados=%{x}<br>Ventas globales=%{marker.size}<extra></extra>",
         "hovertext": [
          "Gathering of Developers"
         ],
         "legendgroup": "Gathering of Developers",
         "marker": {
          "color": "#19d3f3",
          "size": [
           1.19
          ],
          "sizemode": "area",
          "sizeref": 0.49626666666666663,
          "symbol": "circle"
         },
         "mode": "markers",
         "name": "Gathering of Developers",
         "orientation": "v",
         "showlegend": true,
         "type": "scatter",
         "x": [
          9
         ],
         "xaxis": "x",
         "y": [
          1.19
         ],
         "yaxis": "y"
        },
        {
         "hovertemplate": "<b>%{hovertext}</b><br><br>Distribuidor=Aruze Corp<br>Juegos publicados=%{x}<br>Ventas globales=%{marker.size}<extra></extra>",
         "hovertext": [
          "Aruze Corp"
         ],
         "legendgroup": "Aruze Corp",
         "marker": {
          "color": "#FF6692",
          "size": [
           1.1800000000000002
          ],
          "sizemode": "area",
          "sizeref": 0.49626666666666663,
          "symbol": "circle"
         },
         "mode": "markers",
         "name": "Aruze Corp",
         "orientation": "v",
         "showlegend": true,
         "type": "scatter",
         "x": [
          3
         ],
         "xaxis": "x",
         "y": [
          1.1800000000000002
         ],
         "yaxis": "y"
        },
        {
         "hovertemplate": "<b>%{hovertext}</b><br><br>Distribuidor=Sony Computer Entertainment America<br>Juegos publicados=%{x}<br>Ventas globales=%{marker.size}<extra></extra>",
         "hovertext": [
          "Sony Computer Entertainment America"
         ],
         "legendgroup": "Sony Computer Entertainment America",
         "marker": {
          "color": "#B6E880",
          "size": [
           1.1800000000000002
          ],
          "sizemode": "area",
          "sizeref": 0.49626666666666663,
          "symbol": "circle"
         },
         "mode": "markers",
         "name": "Sony Computer Entertainment America",
         "orientation": "v",
         "showlegend": true,
         "type": "scatter",
         "x": [
          3
         ],
         "xaxis": "x",
         "y": [
          1.1800000000000002
         ],
         "yaxis": "y"
        },
        {
         "hovertemplate": "<b>%{hovertext}</b><br><br>Distribuidor=BMG Interactive Entertainment<br>Juegos publicados=%{x}<br>Ventas globales=%{marker.size}<extra></extra>",
         "hovertext": [
          "BMG Interactive Entertainment"
         ],
         "legendgroup": "BMG Interactive Entertainment",
         "marker": {
          "color": "#FF97FF",
          "size": [
           1.18
          ],
          "sizemode": "area",
          "sizeref": 0.49626666666666663,
          "symbol": "circle"
         },
         "mode": "markers",
         "name": "BMG Interactive Entertainment",
         "orientation": "v",
         "showlegend": true,
         "type": "scatter",
         "x": [
          7
         ],
         "xaxis": "x",
         "y": [
          1.18
         ],
         "yaxis": "y"
        },
        {
         "hovertemplate": "<b>%{hovertext}</b><br><br>Distribuidor=Jester Interactive<br>Juegos publicados=%{x}<br>Ventas globales=%{marker.size}<extra></extra>",
         "hovertext": [
          "Jester Interactive"
         ],
         "legendgroup": "Jester Interactive",
         "marker": {
          "color": "#FECB52",
          "size": [
           1.15
          ],
          "sizemode": "area",
          "sizeref": 0.49626666666666663,
          "symbol": "circle"
         },
         "mode": "markers",
         "name": "Jester Interactive",
         "orientation": "v",
         "showlegend": true,
         "type": "scatter",
         "x": [
          3
         ],
         "xaxis": "x",
         "y": [
          1.15
         ],
         "yaxis": "y"
        },
        {
         "hovertemplate": "<b>%{hovertext}</b><br><br>Distribuidor=Trion Worlds<br>Juegos publicados=%{x}<br>Ventas globales=%{marker.size}<extra></extra>",
         "hovertext": [
          "Trion Worlds"
         ],
         "legendgroup": "Trion Worlds",
         "marker": {
          "color": "#636efa",
          "size": [
           1.15
          ],
          "sizemode": "area",
          "sizeref": 0.49626666666666663,
          "symbol": "circle"
         },
         "mode": "markers",
         "name": "Trion Worlds",
         "orientation": "v",
         "showlegend": true,
         "type": "scatter",
         "x": [
          4
         ],
         "xaxis": "x",
         "y": [
          1.15
         ],
         "yaxis": "y"
        },
        {
         "hovertemplate": "<b>%{hovertext}</b><br><br>Distribuidor=Gust<br>Juegos publicados=%{x}<br>Ventas globales=%{marker.size}<extra></extra>",
         "hovertext": [
          "Gust"
         ],
         "legendgroup": "Gust",
         "marker": {
          "color": "#EF553B",
          "size": [
           1.1
          ],
          "sizemode": "area",
          "sizeref": 0.49626666666666663,
          "symbol": "circle"
         },
         "mode": "markers",
         "name": "Gust",
         "orientation": "v",
         "showlegend": true,
         "type": "scatter",
         "x": [
          13
         ],
         "xaxis": "x",
         "y": [
          1.1
         ],
         "yaxis": "y"
        },
        {
         "hovertemplate": "<b>%{hovertext}</b><br><br>Distribuidor=Gremlin Interactive Ltd<br>Juegos publicados=%{x}<br>Ventas globales=%{marker.size}<extra></extra>",
         "hovertext": [
          "Gremlin Interactive Ltd"
         ],
         "legendgroup": "Gremlin Interactive Ltd",
         "marker": {
          "color": "#00cc96",
          "size": [
           1.1
          ],
          "sizemode": "area",
          "sizeref": 0.49626666666666663,
          "symbol": "circle"
         },
         "mode": "markers",
         "name": "Gremlin Interactive Ltd",
         "orientation": "v",
         "showlegend": true,
         "type": "scatter",
         "x": [
          9
         ],
         "xaxis": "x",
         "y": [
          1.1
         ],
         "yaxis": "y"
        },
        {
         "hovertemplate": "<b>%{hovertext}</b><br><br>Distribuidor=O-Games<br>Juegos publicados=%{x}<br>Ventas globales=%{marker.size}<extra></extra>",
         "hovertext": [
          "O-Games"
         ],
         "legendgroup": "O-Games",
         "marker": {
          "color": "#ab63fa",
          "size": [
           1.08
          ],
          "sizemode": "area",
          "sizeref": 0.49626666666666663,
          "symbol": "circle"
         },
         "mode": "markers",
         "name": "O-Games",
         "orientation": "v",
         "showlegend": true,
         "type": "scatter",
         "x": [
          17
         ],
         "xaxis": "x",
         "y": [
          1.08
         ],
         "yaxis": "y"
        },
        {
         "hovertemplate": "<b>%{hovertext}</b><br><br>Distribuidor=Acquire<br>Juegos publicados=%{x}<br>Ventas globales=%{marker.size}<extra></extra>",
         "hovertext": [
          "Acquire"
         ],
         "legendgroup": "Acquire",
         "marker": {
          "color": "#FFA15A",
          "size": [
           1.07
          ],
          "sizemode": "area",
          "sizeref": 0.49626666666666663,
          "symbol": "circle"
         },
         "mode": "markers",
         "name": "Acquire",
         "orientation": "v",
         "showlegend": true,
         "type": "scatter",
         "x": [
          13
         ],
         "xaxis": "x",
         "y": [
          1.07
         ],
         "yaxis": "y"
        },
        {
         "hovertemplate": "<b>%{hovertext}</b><br><br>Distribuidor=Mentor Interactive<br>Juegos publicados=%{x}<br>Ventas globales=%{marker.size}<extra></extra>",
         "hovertext": [
          "Mentor Interactive"
         ],
         "legendgroup": "Mentor Interactive",
         "marker": {
          "color": "#19d3f3",
          "size": [
           1.07
          ],
          "sizemode": "area",
          "sizeref": 0.49626666666666663,
          "symbol": "circle"
         },
         "mode": "markers",
         "name": "Mentor Interactive",
         "orientation": "v",
         "showlegend": true,
         "type": "scatter",
         "x": [
          5
         ],
         "xaxis": "x",
         "y": [
          1.07
         ],
         "yaxis": "y"
        },
        {
         "hovertemplate": "<b>%{hovertext}</b><br><br>Distribuidor=Epoch<br>Juegos publicados=%{x}<br>Ventas globales=%{marker.size}<extra></extra>",
         "hovertext": [
          "Epoch"
         ],
         "legendgroup": "Epoch",
         "marker": {
          "color": "#FF6692",
          "size": [
           1.05
          ],
          "sizemode": "area",
          "sizeref": 0.49626666666666663,
          "symbol": "circle"
         },
         "mode": "markers",
         "name": "Epoch",
         "orientation": "v",
         "showlegend": true,
         "type": "scatter",
         "x": [
          7
         ],
         "xaxis": "x",
         "y": [
          1.05
         ],
         "yaxis": "y"
        },
        {
         "hovertemplate": "<b>%{hovertext}</b><br><br>Distribuidor=Telegames<br>Juegos publicados=%{x}<br>Ventas globales=%{marker.size}<extra></extra>",
         "hovertext": [
          "Telegames"
         ],
         "legendgroup": "Telegames",
         "marker": {
          "color": "#B6E880",
          "size": [
           1.03
          ],
          "sizemode": "area",
          "sizeref": 0.49626666666666663,
          "symbol": "circle"
         },
         "mode": "markers",
         "name": "Telegames",
         "orientation": "v",
         "showlegend": true,
         "type": "scatter",
         "x": [
          8
         ],
         "xaxis": "x",
         "y": [
          1.03
         ],
         "yaxis": "y"
        },
        {
         "hovertemplate": "<b>%{hovertext}</b><br><br>Distribuidor=Big Ben Interactive<br>Juegos publicados=%{x}<br>Ventas globales=%{marker.size}<extra></extra>",
         "hovertext": [
          "Big Ben Interactive"
         ],
         "legendgroup": "Big Ben Interactive",
         "marker": {
          "color": "#FF97FF",
          "size": [
           1
          ],
          "sizemode": "area",
          "sizeref": 0.49626666666666663,
          "symbol": "circle"
         },
         "mode": "markers",
         "name": "Big Ben Interactive",
         "orientation": "v",
         "showlegend": true,
         "type": "scatter",
         "x": [
          7
         ],
         "xaxis": "x",
         "y": [
          1
         ],
         "yaxis": "y"
        },
        {
         "hovertemplate": "<b>%{hovertext}</b><br><br>Distribuidor=SNK Playmore<br>Juegos publicados=%{x}<br>Ventas globales=%{marker.size}<extra></extra>",
         "hovertext": [
          "SNK Playmore"
         ],
         "legendgroup": "SNK Playmore",
         "marker": {
          "color": "#FECB52",
          "size": [
           0.9600000000000001
          ],
          "sizemode": "area",
          "sizeref": 0.49626666666666663,
          "symbol": "circle"
         },
         "mode": "markers",
         "name": "SNK Playmore",
         "orientation": "v",
         "showlegend": true,
         "type": "scatter",
         "x": [
          18
         ],
         "xaxis": "x",
         "y": [
          0.9600000000000001
         ],
         "yaxis": "y"
        },
        {
         "hovertemplate": "<b>%{hovertext}</b><br><br>Distribuidor=UFO Interactive<br>Juegos publicados=%{x}<br>Ventas globales=%{marker.size}<extra></extra>",
         "hovertext": [
          "UFO Interactive"
         ],
         "legendgroup": "UFO Interactive",
         "marker": {
          "color": "#636efa",
          "size": [
           0.9600000000000001
          ],
          "sizemode": "area",
          "sizeref": 0.49626666666666663,
          "symbol": "circle"
         },
         "mode": "markers",
         "name": "UFO Interactive",
         "orientation": "v",
         "showlegend": true,
         "type": "scatter",
         "x": [
          16
         ],
         "xaxis": "x",
         "y": [
          0.9600000000000001
         ],
         "yaxis": "y"
        },
        {
         "hovertemplate": "<b>%{hovertext}</b><br><br>Distribuidor=IE Institute<br>Juegos publicados=%{x}<br>Ventas globales=%{marker.size}<extra></extra>",
         "hovertext": [
          "IE Institute"
         ],
         "legendgroup": "IE Institute",
         "marker": {
          "color": "#EF553B",
          "size": [
           0.9600000000000001
          ],
          "sizemode": "area",
          "sizeref": 0.49626666666666663,
          "symbol": "circle"
         },
         "mode": "markers",
         "name": "IE Institute",
         "orientation": "v",
         "showlegend": true,
         "type": "scatter",
         "x": [
          5
         ],
         "xaxis": "x",
         "y": [
          0.9600000000000001
         ],
         "yaxis": "y"
        },
        {
         "hovertemplate": "<b>%{hovertext}</b><br><br>Distribuidor=Broccoli<br>Juegos publicados=%{x}<br>Ventas globales=%{marker.size}<extra></extra>",
         "hovertext": [
          "Broccoli"
         ],
         "legendgroup": "Broccoli",
         "marker": {
          "color": "#00cc96",
          "size": [
           0.96
          ],
          "sizemode": "area",
          "sizeref": 0.49626666666666663,
          "symbol": "circle"
         },
         "mode": "markers",
         "name": "Broccoli",
         "orientation": "v",
         "showlegend": true,
         "type": "scatter",
         "x": [
          22
         ],
         "xaxis": "x",
         "y": [
          0.96
         ],
         "yaxis": "y"
        },
        {
         "hovertemplate": "<b>%{hovertext}</b><br><br>Distribuidor=DreamCatcher Interactive<br>Juegos publicados=%{x}<br>Ventas globales=%{marker.size}<extra></extra>",
         "hovertext": [
          "DreamCatcher Interactive"
         ],
         "legendgroup": "DreamCatcher Interactive",
         "marker": {
          "color": "#ab63fa",
          "size": [
           0.9500000000000001
          ],
          "sizemode": "area",
          "sizeref": 0.49626666666666663,
          "symbol": "circle"
         },
         "mode": "markers",
         "name": "DreamCatcher Interactive",
         "orientation": "v",
         "showlegend": true,
         "type": "scatter",
         "x": [
          17
         ],
         "xaxis": "x",
         "y": [
          0.9500000000000001
         ],
         "yaxis": "y"
        },
        {
         "hovertemplate": "<b>%{hovertext}</b><br><br>Distribuidor=Nippon Columbia<br>Juegos publicados=%{x}<br>Ventas globales=%{marker.size}<extra></extra>",
         "hovertext": [
          "Nippon Columbia"
         ],
         "legendgroup": "Nippon Columbia",
         "marker": {
          "color": "#FFA15A",
          "size": [
           0.9500000000000001
          ],
          "sizemode": "area",
          "sizeref": 0.49626666666666663,
          "symbol": "circle"
         },
         "mode": "markers",
         "name": "Nippon Columbia",
         "orientation": "v",
         "showlegend": true,
         "type": "scatter",
         "x": [
          7
         ],
         "xaxis": "x",
         "y": [
          0.9500000000000001
         ],
         "yaxis": "y"
        },
        {
         "hovertemplate": "<b>%{hovertext}</b><br><br>Distribuidor=Sunsoft<br>Juegos publicados=%{x}<br>Ventas globales=%{marker.size}<extra></extra>",
         "hovertext": [
          "Sunsoft"
         ],
         "legendgroup": "Sunsoft",
         "marker": {
          "color": "#19d3f3",
          "size": [
           0.9500000000000001
          ],
          "sizemode": "area",
          "sizeref": 0.49626666666666663,
          "symbol": "circle"
         },
         "mode": "markers",
         "name": "Sunsoft",
         "orientation": "v",
         "showlegend": true,
         "type": "scatter",
         "x": [
          10
         ],
         "xaxis": "x",
         "y": [
          0.9500000000000001
         ],
         "yaxis": "y"
        },
        {
         "hovertemplate": "<b>%{hovertext}</b><br><br>Distribuidor=Jorudan<br>Juegos publicados=%{x}<br>Ventas globales=%{marker.size}<extra></extra>",
         "hovertext": [
          "Jorudan"
         ],
         "legendgroup": "Jorudan",
         "marker": {
          "color": "#FF6692",
          "size": [
           0.95
          ],
          "sizemode": "area",
          "sizeref": 0.49626666666666663,
          "symbol": "circle"
         },
         "mode": "markers",
         "name": "Jorudan",
         "orientation": "v",
         "showlegend": true,
         "type": "scatter",
         "x": [
          3
         ],
         "xaxis": "x",
         "y": [
          0.95
         ],
         "yaxis": "y"
        },
        {
         "hovertemplate": "<b>%{hovertext}</b><br><br>Distribuidor=Screenlife<br>Juegos publicados=%{x}<br>Ventas globales=%{marker.size}<extra></extra>",
         "hovertext": [
          "Screenlife"
         ],
         "legendgroup": "Screenlife",
         "marker": {
          "color": "#B6E880",
          "size": [
           0.9199999999999999
          ],
          "sizemode": "area",
          "sizeref": 0.49626666666666663,
          "symbol": "circle"
         },
         "mode": "markers",
         "name": "Screenlife",
         "orientation": "v",
         "showlegend": true,
         "type": "scatter",
         "x": [
          6
         ],
         "xaxis": "x",
         "y": [
          0.9199999999999999
         ],
         "yaxis": "y"
        },
        {
         "hovertemplate": "<b>%{hovertext}</b><br><br>Distribuidor=Funbox Media<br>Juegos publicados=%{x}<br>Ventas globales=%{marker.size}<extra></extra>",
         "hovertext": [
          "Funbox Media"
         ],
         "legendgroup": "Funbox Media",
         "marker": {
          "color": "#FF97FF",
          "size": [
           0.91
          ],
          "sizemode": "area",
          "sizeref": 0.49626666666666663,
          "symbol": "circle"
         },
         "mode": "markers",
         "name": "Funbox Media",
         "orientation": "v",
         "showlegend": true,
         "type": "scatter",
         "x": [
          6
         ],
         "xaxis": "x",
         "y": [
          0.91
         ],
         "yaxis": "y"
        },
        {
         "hovertemplate": "<b>%{hovertext}</b><br><br>Distribuidor=Xseed Games<br>Juegos publicados=%{x}<br>Ventas globales=%{marker.size}<extra></extra>",
         "hovertext": [
          "Xseed Games"
         ],
         "legendgroup": "Xseed Games",
         "marker": {
          "color": "#FECB52",
          "size": [
           0.9
          ],
          "sizemode": "area",
          "sizeref": 0.49626666666666663,
          "symbol": "circle"
         },
         "mode": "markers",
         "name": "Xseed Games",
         "orientation": "v",
         "showlegend": true,
         "type": "scatter",
         "x": [
          4
         ],
         "xaxis": "x",
         "y": [
          0.9
         ],
         "yaxis": "y"
        },
        {
         "hovertemplate": "<b>%{hovertext}</b><br><br>Distribuidor=CTO SpA<br>Juegos publicados=%{x}<br>Ventas globales=%{marker.size}<extra></extra>",
         "hovertext": [
          "CTO SpA"
         ],
         "legendgroup": "CTO SpA",
         "marker": {
          "color": "#636efa",
          "size": [
           0.9
          ],
          "sizemode": "area",
          "sizeref": 0.49626666666666663,
          "symbol": "circle"
         },
         "mode": "markers",
         "name": "CTO SpA",
         "orientation": "v",
         "showlegend": true,
         "type": "scatter",
         "x": [
          2
         ],
         "xaxis": "x",
         "y": [
          0.9
         ],
         "yaxis": "y"
        },
        {
         "hovertemplate": "<b>%{hovertext}</b><br><br>Distribuidor=Victor Interactive<br>Juegos publicados=%{x}<br>Ventas globales=%{marker.size}<extra></extra>",
         "hovertext": [
          "Victor Interactive"
         ],
         "legendgroup": "Victor Interactive",
         "marker": {
          "color": "#EF553B",
          "size": [
           0.89
          ],
          "sizemode": "area",
          "sizeref": 0.49626666666666663,
          "symbol": "circle"
         },
         "mode": "markers",
         "name": "Victor Interactive",
         "orientation": "v",
         "showlegend": true,
         "type": "scatter",
         "x": [
          9
         ],
         "xaxis": "x",
         "y": [
          0.89
         ],
         "yaxis": "y"
        },
        {
         "hovertemplate": "<b>%{hovertext}</b><br><br>Distribuidor=Destination Software, Inc<br>Juegos publicados=%{x}<br>Ventas globales=%{marker.size}<extra></extra>",
         "hovertext": [
          "Destination Software, Inc"
         ],
         "legendgroup": "Destination Software, Inc",
         "marker": {
          "color": "#00cc96",
          "size": [
           0.88
          ],
          "sizemode": "area",
          "sizeref": 0.49626666666666663,
          "symbol": "circle"
         },
         "mode": "markers",
         "name": "Destination Software, Inc",
         "orientation": "v",
         "showlegend": true,
         "type": "scatter",
         "x": [
          12
         ],
         "xaxis": "x",
         "y": [
          0.88
         ],
         "yaxis": "y"
        },
        {
         "hovertemplate": "<b>%{hovertext}</b><br><br>Distribuidor=Quelle<br>Juegos publicados=%{x}<br>Ventas globales=%{marker.size}<extra></extra>",
         "hovertext": [
          "Quelle"
         ],
         "legendgroup": "Quelle",
         "marker": {
          "color": "#ab63fa",
          "size": [
           0.87
          ],
          "sizemode": "area",
          "sizeref": 0.49626666666666663,
          "symbol": "circle"
         },
         "mode": "markers",
         "name": "Quelle",
         "orientation": "v",
         "showlegend": true,
         "type": "scatter",
         "x": [
          1
         ],
         "xaxis": "x",
         "y": [
          0.87
         ],
         "yaxis": "y"
        },
        {
         "hovertemplate": "<b>%{hovertext}</b><br><br>Distribuidor=TalonSoft<br>Juegos publicados=%{x}<br>Ventas globales=%{marker.size}<extra></extra>",
         "hovertext": [
          "TalonSoft"
         ],
         "legendgroup": "TalonSoft",
         "marker": {
          "color": "#FFA15A",
          "size": [
           0.87
          ],
          "sizemode": "area",
          "sizeref": 0.49626666666666663,
          "symbol": "circle"
         },
         "mode": "markers",
         "name": "TalonSoft",
         "orientation": "v",
         "showlegend": true,
         "type": "scatter",
         "x": [
          1
         ],
         "xaxis": "x",
         "y": [
          0.87
         ],
         "yaxis": "y"
        },
        {
         "hovertemplate": "<b>%{hovertext}</b><br><br>Distribuidor=mixi, Inc<br>Juegos publicados=%{x}<br>Ventas globales=%{marker.size}<extra></extra>",
         "hovertext": [
          "mixi, Inc"
         ],
         "legendgroup": "mixi, Inc",
         "marker": {
          "color": "#19d3f3",
          "size": [
           0.86
          ],
          "sizemode": "area",
          "sizeref": 0.49626666666666663,
          "symbol": "circle"
         },
         "mode": "markers",
         "name": "mixi, Inc",
         "orientation": "v",
         "showlegend": true,
         "type": "scatter",
         "x": [
          1
         ],
         "xaxis": "x",
         "y": [
          0.86
         ],
         "yaxis": "y"
        },
        {
         "hovertemplate": "<b>%{hovertext}</b><br><br>Distribuidor=Mud Duck Productions<br>Juegos publicados=%{x}<br>Ventas globales=%{marker.size}<extra></extra>",
         "hovertext": [
          "Mud Duck Productions"
         ],
         "legendgroup": "Mud Duck Productions",
         "marker": {
          "color": "#FF6692",
          "size": [
           0.85
          ],
          "sizemode": "area",
          "sizeref": 0.49626666666666663,
          "symbol": "circle"
         },
         "mode": "markers",
         "name": "Mud Duck Productions",
         "orientation": "v",
         "showlegend": true,
         "type": "scatter",
         "x": [
          3
         ],
         "xaxis": "x",
         "y": [
          0.85
         ],
         "yaxis": "y"
        },
        {
         "hovertemplate": "<b>%{hovertext}</b><br><br>Distribuidor=Ackkstudios<br>Juegos publicados=%{x}<br>Ventas globales=%{marker.size}<extra></extra>",
         "hovertext": [
          "Ackkstudios"
         ],
         "legendgroup": "Ackkstudios",
         "marker": {
          "color": "#B6E880",
          "size": [
           0.8400000000000001
          ],
          "sizemode": "area",
          "sizeref": 0.49626666666666663,
          "symbol": "circle"
         },
         "mode": "markers",
         "name": "Ackkstudios",
         "orientation": "v",
         "showlegend": true,
         "type": "scatter",
         "x": [
          10
         ],
         "xaxis": "x",
         "y": [
          0.8400000000000001
         ],
         "yaxis": "y"
        },
        {
         "hovertemplate": "<b>%{hovertext}</b><br><br>Distribuidor=Conspiracy Entertainment<br>Juegos publicados=%{x}<br>Ventas globales=%{marker.size}<extra></extra>",
         "hovertext": [
          "Conspiracy Entertainment"
         ],
         "legendgroup": "Conspiracy Entertainment",
         "marker": {
          "color": "#FF97FF",
          "size": [
           0.8400000000000001
          ],
          "sizemode": "area",
          "sizeref": 0.49626666666666663,
          "symbol": "circle"
         },
         "mode": "markers",
         "name": "Conspiracy Entertainment",
         "orientation": "v",
         "showlegend": true,
         "type": "scatter",
         "x": [
          14
         ],
         "xaxis": "x",
         "y": [
          0.8400000000000001
         ],
         "yaxis": "y"
        },
        {
         "hovertemplate": "<b>%{hovertext}</b><br><br>Distribuidor=Bigben Interactive<br>Juegos publicados=%{x}<br>Ventas globales=%{marker.size}<extra></extra>",
         "hovertext": [
          "Bigben Interactive"
         ],
         "legendgroup": "Bigben Interactive",
         "marker": {
          "color": "#FECB52",
          "size": [
           0.84
          ],
          "sizemode": "area",
          "sizeref": 0.49626666666666663,
          "symbol": "circle"
         },
         "mode": "markers",
         "name": "Bigben Interactive",
         "orientation": "v",
         "showlegend": true,
         "type": "scatter",
         "x": [
          13
         ],
         "xaxis": "x",
         "y": [
          0.84
         ],
         "yaxis": "y"
        },
        {
         "hovertemplate": "<b>%{hovertext}</b><br><br>Distribuidor=NovaLogic<br>Juegos publicados=%{x}<br>Ventas globales=%{marker.size}<extra></extra>",
         "hovertext": [
          "NovaLogic"
         ],
         "legendgroup": "NovaLogic",
         "marker": {
          "color": "#636efa",
          "size": [
           0.8200000000000001
          ],
          "sizemode": "area",
          "sizeref": 0.49626666666666663,
          "symbol": "circle"
         },
         "mode": "markers",
         "name": "NovaLogic",
         "orientation": "v",
         "showlegend": true,
         "type": "scatter",
         "x": [
          3
         ],
         "xaxis": "x",
         "y": [
          0.8200000000000001
         ],
         "yaxis": "y"
        },
        {
         "hovertemplate": "<b>%{hovertext}</b><br><br>Distribuidor=Mystique<br>Juegos publicados=%{x}<br>Ventas globales=%{marker.size}<extra></extra>",
         "hovertext": [
          "Mystique"
         ],
         "legendgroup": "Mystique",
         "marker": {
          "color": "#EF553B",
          "size": [
           0.82
          ],
          "sizemode": "area",
          "sizeref": 0.49626666666666663,
          "symbol": "circle"
         },
         "mode": "markers",
         "name": "Mystique",
         "orientation": "v",
         "showlegend": true,
         "type": "scatter",
         "x": [
          1
         ],
         "xaxis": "x",
         "y": [
          0.82
         ],
         "yaxis": "y"
        },
        {
         "hovertemplate": "<b>%{hovertext}</b><br><br>Distribuidor=Harmonix Music Systems<br>Juegos publicados=%{x}<br>Ventas globales=%{marker.size}<extra></extra>",
         "hovertext": [
          "Harmonix Music Systems"
         ],
         "legendgroup": "Harmonix Music Systems",
         "marker": {
          "color": "#00cc96",
          "size": [
           0.8
          ],
          "sizemode": "area",
          "sizeref": 0.49626666666666663,
          "symbol": "circle"
         },
         "mode": "markers",
         "name": "Harmonix Music Systems",
         "orientation": "v",
         "showlegend": true,
         "type": "scatter",
         "x": [
          2
         ],
         "xaxis": "x",
         "y": [
          0.8
         ],
         "yaxis": "y"
        },
        {
         "hovertemplate": "<b>%{hovertext}</b><br><br>Distribuidor=Square EA<br>Juegos publicados=%{x}<br>Ventas globales=%{marker.size}<extra></extra>",
         "hovertext": [
          "Square EA"
         ],
         "legendgroup": "Square EA",
         "marker": {
          "color": "#ab63fa",
          "size": [
           0.8
          ],
          "sizemode": "area",
          "sizeref": 0.49626666666666663,
          "symbol": "circle"
         },
         "mode": "markers",
         "name": "Square EA",
         "orientation": "v",
         "showlegend": true,
         "type": "scatter",
         "x": [
          1
         ],
         "xaxis": "x",
         "y": [
          0.8
         ],
         "yaxis": "y"
        },
        {
         "hovertemplate": "<b>%{hovertext}</b><br><br>Distribuidor=NEC Interchannel<br>Juegos publicados=%{x}<br>Ventas globales=%{marker.size}<extra></extra>",
         "hovertext": [
          "NEC Interchannel"
         ],
         "legendgroup": "NEC Interchannel",
         "marker": {
          "color": "#FFA15A",
          "size": [
           0.78
          ],
          "sizemode": "area",
          "sizeref": 0.49626666666666663,
          "symbol": "circle"
         },
         "mode": "markers",
         "name": "NEC Interchannel",
         "orientation": "v",
         "showlegend": true,
         "type": "scatter",
         "x": [
          8
         ],
         "xaxis": "x",
         "y": [
          0.78
         ],
         "yaxis": "y"
        },
        {
         "hovertemplate": "<b>%{hovertext}</b><br><br>Distribuidor=Nihon Falcom Corporation<br>Juegos publicados=%{x}<br>Ventas globales=%{marker.size}<extra></extra>",
         "hovertext": [
          "Nihon Falcom Corporation"
         ],
         "legendgroup": "Nihon Falcom Corporation",
         "marker": {
          "color": "#19d3f3",
          "size": [
           0.77
          ],
          "sizemode": "area",
          "sizeref": 0.49626666666666663,
          "symbol": "circle"
         },
         "mode": "markers",
         "name": "Nihon Falcom Corporation",
         "orientation": "v",
         "showlegend": true,
         "type": "scatter",
         "x": [
          7
         ],
         "xaxis": "x",
         "y": [
          0.77
         ],
         "yaxis": "y"
        },
        {
         "hovertemplate": "<b>%{hovertext}</b><br><br>Distribuidor=Men-A-Vision<br>Juegos publicados=%{x}<br>Ventas globales=%{marker.size}<extra></extra>",
         "hovertext": [
          "Men-A-Vision"
         ],
         "legendgroup": "Men-A-Vision",
         "marker": {
          "color": "#FF6692",
          "size": [
           0.77
          ],
          "sizemode": "area",
          "sizeref": 0.49626666666666663,
          "symbol": "circle"
         },
         "mode": "markers",
         "name": "Men-A-Vision",
         "orientation": "v",
         "showlegend": true,
         "type": "scatter",
         "x": [
          1
         ],
         "xaxis": "x",
         "y": [
          0.77
         ],
         "yaxis": "y"
        },
        {
         "hovertemplate": "<b>%{hovertext}</b><br><br>Distribuidor=Paradox Interactive<br>Juegos publicados=%{x}<br>Ventas globales=%{marker.size}<extra></extra>",
         "hovertext": [
          "Paradox Interactive"
         ],
         "legendgroup": "Paradox Interactive",
         "marker": {
          "color": "#B6E880",
          "size": [
           0.76
          ],
          "sizemode": "area",
          "sizeref": 0.49626666666666663,
          "symbol": "circle"
         },
         "mode": "markers",
         "name": "Paradox Interactive",
         "orientation": "v",
         "showlegend": true,
         "type": "scatter",
         "x": [
          23
         ],
         "xaxis": "x",
         "y": [
          0.76
         ],
         "yaxis": "y"
        },
        {
         "hovertemplate": "<b>%{hovertext}</b><br><br>Distribuidor=Pioneer LDC<br>Juegos publicados=%{x}<br>Ventas globales=%{marker.size}<extra></extra>",
         "hovertext": [
          "Pioneer LDC"
         ],
         "legendgroup": "Pioneer LDC",
         "marker": {
          "color": "#FF97FF",
          "size": [
           0.74
          ],
          "sizemode": "area",
          "sizeref": 0.49626666666666663,
          "symbol": "circle"
         },
         "mode": "markers",
         "name": "Pioneer LDC",
         "orientation": "v",
         "showlegend": true,
         "type": "scatter",
         "x": [
          4
         ],
         "xaxis": "x",
         "y": [
          0.74
         ],
         "yaxis": "y"
        },
        {
         "hovertemplate": "<b>%{hovertext}</b><br><br>Distribuidor=ArtDink<br>Juegos publicados=%{x}<br>Ventas globales=%{marker.size}<extra></extra>",
         "hovertext": [
          "ArtDink"
         ],
         "legendgroup": "ArtDink",
         "marker": {
          "color": "#FECB52",
          "size": [
           0.73
          ],
          "sizemode": "area",
          "sizeref": 0.49626666666666663,
          "symbol": "circle"
         },
         "mode": "markers",
         "name": "ArtDink",
         "orientation": "v",
         "showlegend": true,
         "type": "scatter",
         "x": [
          9
         ],
         "xaxis": "x",
         "y": [
          0.73
         ],
         "yaxis": "y"
        },
        {
         "hovertemplate": "<b>%{hovertext}</b><br><br>Distribuidor=Gamebridge<br>Juegos publicados=%{x}<br>Ventas globales=%{marker.size}<extra></extra>",
         "hovertext": [
          "Gamebridge"
         ],
         "legendgroup": "Gamebridge",
         "marker": {
          "color": "#636efa",
          "size": [
           0.73
          ],
          "sizemode": "area",
          "sizeref": 0.49626666666666663,
          "symbol": "circle"
         },
         "mode": "markers",
         "name": "Gamebridge",
         "orientation": "v",
         "showlegend": true,
         "type": "scatter",
         "x": [
          2
         ],
         "xaxis": "x",
         "y": [
          0.73
         ],
         "yaxis": "y"
        },
        {
         "hovertemplate": "<b>%{hovertext}</b><br><br>Distribuidor=Starfish<br>Juegos publicados=%{x}<br>Ventas globales=%{marker.size}<extra></extra>",
         "hovertext": [
          "Starfish"
         ],
         "legendgroup": "Starfish",
         "marker": {
          "color": "#EF553B",
          "size": [
           0.72
          ],
          "sizemode": "area",
          "sizeref": 0.49626666666666663,
          "symbol": "circle"
         },
         "mode": "markers",
         "name": "Starfish",
         "orientation": "v",
         "showlegend": true,
         "type": "scatter",
         "x": [
          10
         ],
         "xaxis": "x",
         "y": [
          0.72
         ],
         "yaxis": "y"
        },
        {
         "hovertemplate": "<b>%{hovertext}</b><br><br>Distribuidor=Home Entertainment Suppliers<br>Juegos publicados=%{x}<br>Ventas globales=%{marker.size}<extra></extra>",
         "hovertext": [
          "Home Entertainment Suppliers"
         ],
         "legendgroup": "Home Entertainment Suppliers",
         "marker": {
          "color": "#00cc96",
          "size": [
           0.7100000000000001
          ],
          "sizemode": "area",
          "sizeref": 0.49626666666666663,
          "symbol": "circle"
         },
         "mode": "markers",
         "name": "Home Entertainment Suppliers",
         "orientation": "v",
         "showlegend": true,
         "type": "scatter",
         "x": [
          5
         ],
         "xaxis": "x",
         "y": [
          0.7100000000000001
         ],
         "yaxis": "y"
        },
        {
         "hovertemplate": "<b>%{hovertext}</b><br><br>Distribuidor=Data Age<br>Juegos publicados=%{x}<br>Ventas globales=%{marker.size}<extra></extra>",
         "hovertext": [
          "Data Age"
         ],
         "legendgroup": "Data Age",
         "marker": {
          "color": "#ab63fa",
          "size": [
           0.71
          ],
          "sizemode": "area",
          "sizeref": 0.49626666666666663,
          "symbol": "circle"
         },
         "mode": "markers",
         "name": "Data Age",
         "orientation": "v",
         "showlegend": true,
         "type": "scatter",
         "x": [
          2
         ],
         "xaxis": "x",
         "y": [
          0.71
         ],
         "yaxis": "y"
        },
        {
         "hovertemplate": "<b>%{hovertext}</b><br><br>Distribuidor=Quest<br>Juegos publicados=%{x}<br>Ventas globales=%{marker.size}<extra></extra>",
         "hovertext": [
          "Quest"
         ],
         "legendgroup": "Quest",
         "marker": {
          "color": "#FFA15A",
          "size": [
           0.71
          ],
          "sizemode": "area",
          "sizeref": 0.49626666666666663,
          "symbol": "circle"
         },
         "mode": "markers",
         "name": "Quest",
         "orientation": "v",
         "showlegend": true,
         "type": "scatter",
         "x": [
          1
         ],
         "xaxis": "x",
         "y": [
          0.71
         ],
         "yaxis": "y"
        },
        {
         "hovertemplate": "<b>%{hovertext}</b><br><br>Distribuidor=Illusion Softworks<br>Juegos publicados=%{x}<br>Ventas globales=%{marker.size}<extra></extra>",
         "hovertext": [
          "Illusion Softworks"
         ],
         "legendgroup": "Illusion Softworks",
         "marker": {
          "color": "#19d3f3",
          "size": [
           0.7
          ],
          "sizemode": "area",
          "sizeref": 0.49626666666666663,
          "symbol": "circle"
         },
         "mode": "markers",
         "name": "Illusion Softworks",
         "orientation": "v",
         "showlegend": true,
         "type": "scatter",
         "x": [
          1
         ],
         "xaxis": "x",
         "y": [
          0.7
         ],
         "yaxis": "y"
        },
        {
         "hovertemplate": "<b>%{hovertext}</b><br><br>Distribuidor=Media Rings<br>Juegos publicados=%{x}<br>Ventas globales=%{marker.size}<extra></extra>",
         "hovertext": [
          "Media Rings"
         ],
         "legendgroup": "Media Rings",
         "marker": {
          "color": "#FF6692",
          "size": [
           0.65
          ],
          "sizemode": "area",
          "sizeref": 0.49626666666666663,
          "symbol": "circle"
         },
         "mode": "markers",
         "name": "Media Rings",
         "orientation": "v",
         "showlegend": true,
         "type": "scatter",
         "x": [
          3
         ],
         "xaxis": "x",
         "y": [
          0.65
         ],
         "yaxis": "y"
        },
        {
         "hovertemplate": "<b>%{hovertext}</b><br><br>Distribuidor=Wanadoo<br>Juegos publicados=%{x}<br>Ventas globales=%{marker.size}<extra></extra>",
         "hovertext": [
          "Wanadoo"
         ],
         "legendgroup": "Wanadoo",
         "marker": {
          "color": "#B6E880",
          "size": [
           0.65
          ],
          "sizemode": "area",
          "sizeref": 0.49626666666666663,
          "symbol": "circle"
         },
         "mode": "markers",
         "name": "Wanadoo",
         "orientation": "v",
         "showlegend": true,
         "type": "scatter",
         "x": [
          5
         ],
         "xaxis": "x",
         "y": [
          0.65
         ],
         "yaxis": "y"
        },
        {
         "hovertemplate": "<b>%{hovertext}</b><br><br>Distribuidor=Sting<br>Juegos publicados=%{x}<br>Ventas globales=%{marker.size}<extra></extra>",
         "hovertext": [
          "Sting"
         ],
         "legendgroup": "Sting",
         "marker": {
          "color": "#FF97FF",
          "size": [
           0.65
          ],
          "sizemode": "area",
          "sizeref": 0.49626666666666663,
          "symbol": "circle"
         },
         "mode": "markers",
         "name": "Sting",
         "orientation": "v",
         "showlegend": true,
         "type": "scatter",
         "x": [
          9
         ],
         "xaxis": "x",
         "y": [
          0.65
         ],
         "yaxis": "y"
        },
        {
         "hovertemplate": "<b>%{hovertext}</b><br><br>Distribuidor=Astragon<br>Juegos publicados=%{x}<br>Ventas globales=%{marker.size}<extra></extra>",
         "hovertext": [
          "Astragon"
         ],
         "legendgroup": "Astragon",
         "marker": {
          "color": "#FECB52",
          "size": [
           0.64
          ],
          "sizemode": "area",
          "sizeref": 0.49626666666666663,
          "symbol": "circle"
         },
         "mode": "markers",
         "name": "Astragon",
         "orientation": "v",
         "showlegend": true,
         "type": "scatter",
         "x": [
          6
         ],
         "xaxis": "x",
         "y": [
          0.64
         ],
         "yaxis": "y"
        },
        {
         "hovertemplate": "<b>%{hovertext}</b><br><br>Distribuidor=Elf<br>Juegos publicados=%{x}<br>Ventas globales=%{marker.size}<extra></extra>",
         "hovertext": [
          "Elf"
         ],
         "legendgroup": "Elf",
         "marker": {
          "color": "#636efa",
          "size": [
           0.64
          ],
          "sizemode": "area",
          "sizeref": 0.49626666666666663,
          "symbol": "circle"
         },
         "mode": "markers",
         "name": "Elf",
         "orientation": "v",
         "showlegend": true,
         "type": "scatter",
         "x": [
          2
         ],
         "xaxis": "x",
         "y": [
          0.64
         ],
         "yaxis": "y"
        },
        {
         "hovertemplate": "<b>%{hovertext}</b><br><br>Distribuidor=Seta Corporation<br>Juegos publicados=%{x}<br>Ventas globales=%{marker.size}<extra></extra>",
         "hovertext": [
          "Seta Corporation"
         ],
         "legendgroup": "Seta Corporation",
         "marker": {
          "color": "#EF553B",
          "size": [
           0.63
          ],
          "sizemode": "area",
          "sizeref": 0.49626666666666663,
          "symbol": "circle"
         },
         "mode": "markers",
         "name": "Seta Corporation",
         "orientation": "v",
         "showlegend": true,
         "type": "scatter",
         "x": [
          6
         ],
         "xaxis": "x",
         "y": [
          0.63
         ],
         "yaxis": "y"
        },
        {
         "hovertemplate": "<b>%{hovertext}</b><br><br>Distribuidor=Universal Gamex<br>Juegos publicados=%{x}<br>Ventas globales=%{marker.size}<extra></extra>",
         "hovertext": [
          "Universal Gamex"
         ],
         "legendgroup": "Universal Gamex",
         "marker": {
          "color": "#00cc96",
          "size": [
           0.63
          ],
          "sizemode": "area",
          "sizeref": 0.49626666666666663,
          "symbol": "circle"
         },
         "mode": "markers",
         "name": "Universal Gamex",
         "orientation": "v",
         "showlegend": true,
         "type": "scatter",
         "x": [
          1
         ],
         "xaxis": "x",
         "y": [
          0.63
         ],
         "yaxis": "y"
        },
        {
         "hovertemplate": "<b>%{hovertext}</b><br><br>Distribuidor=Foreign Media Games<br>Juegos publicados=%{x}<br>Ventas globales=%{marker.size}<extra></extra>",
         "hovertext": [
          "Foreign Media Games"
         ],
         "legendgroup": "Foreign Media Games",
         "marker": {
          "color": "#ab63fa",
          "size": [
           0.63
          ],
          "sizemode": "area",
          "sizeref": 0.49626666666666663,
          "symbol": "circle"
         },
         "mode": "markers",
         "name": "Foreign Media Games",
         "orientation": "v",
         "showlegend": true,
         "type": "scatter",
         "x": [
          9
         ],
         "xaxis": "x",
         "y": [
          0.63
         ],
         "yaxis": "y"
        },
        {
         "hovertemplate": "<b>%{hovertext}</b><br><br>Distribuidor=Aspyr<br>Juegos publicados=%{x}<br>Ventas globales=%{marker.size}<extra></extra>",
         "hovertext": [
          "Aspyr"
         ],
         "legendgroup": "Aspyr",
         "marker": {
          "color": "#FFA15A",
          "size": [
           0.62
          ],
          "sizemode": "area",
          "sizeref": 0.49626666666666663,
          "symbol": "circle"
         },
         "mode": "markers",
         "name": "Aspyr",
         "orientation": "v",
         "showlegend": true,
         "type": "scatter",
         "x": [
          8
         ],
         "xaxis": "x",
         "y": [
          0.62
         ],
         "yaxis": "y"
        },
        {
         "hovertemplate": "<b>%{hovertext}</b><br><br>Distribuidor=TDK Core<br>Juegos publicados=%{x}<br>Ventas globales=%{marker.size}<extra></extra>",
         "hovertext": [
          "TDK Core"
         ],
         "legendgroup": "TDK Core",
         "marker": {
          "color": "#19d3f3",
          "size": [
           0.62
          ],
          "sizemode": "area",
          "sizeref": 0.49626666666666663,
          "symbol": "circle"
         },
         "mode": "markers",
         "name": "TDK Core",
         "orientation": "v",
         "showlegend": true,
         "type": "scatter",
         "x": [
          5
         ],
         "xaxis": "x",
         "y": [
          0.62
         ],
         "yaxis": "y"
        },
        {
         "hovertemplate": "<b>%{hovertext}</b><br><br>Distribuidor=Wizard Video Games<br>Juegos publicados=%{x}<br>Ventas globales=%{marker.size}<extra></extra>",
         "hovertext": [
          "Wizard Video Games"
         ],
         "legendgroup": "Wizard Video Games",
         "marker": {
          "color": "#FF6692",
          "size": [
           0.62
          ],
          "sizemode": "area",
          "sizeref": 0.49626666666666663,
          "symbol": "circle"
         },
         "mode": "markers",
         "name": "Wizard Video Games",
         "orientation": "v",
         "showlegend": true,
         "type": "scatter",
         "x": [
          1
         ],
         "xaxis": "x",
         "y": [
          0.62
         ],
         "yaxis": "y"
        },
        {
         "hovertemplate": "<b>%{hovertext}</b><br><br>Distribuidor=Idea Factory International<br>Juegos publicados=%{x}<br>Ventas globales=%{marker.size}<extra></extra>",
         "hovertext": [
          "Idea Factory International"
         ],
         "legendgroup": "Idea Factory International",
         "marker": {
          "color": "#B6E880",
          "size": [
           0.61
          ],
          "sizemode": "area",
          "sizeref": 0.49626666666666663,
          "symbol": "circle"
         },
         "mode": "markers",
         "name": "Idea Factory International",
         "orientation": "v",
         "showlegend": true,
         "type": "scatter",
         "x": [
          6
         ],
         "xaxis": "x",
         "y": [
          0.61
         ],
         "yaxis": "y"
        },
        {
         "hovertemplate": "<b>%{hovertext}</b><br><br>Distribuidor=Prototype<br>Juegos publicados=%{x}<br>Ventas globales=%{marker.size}<extra></extra>",
         "hovertext": [
          "Prototype"
         ],
         "legendgroup": "Prototype",
         "marker": {
          "color": "#FF97FF",
          "size": [
           0.61
          ],
          "sizemode": "area",
          "sizeref": 0.49626666666666663,
          "symbol": "circle"
         },
         "mode": "markers",
         "name": "Prototype",
         "orientation": "v",
         "showlegend": true,
         "type": "scatter",
         "x": [
          27
         ],
         "xaxis": "x",
         "y": [
          0.61
         ],
         "yaxis": "y"
        },
        {
         "hovertemplate": "<b>%{hovertext}</b><br><br>Distribuidor=Nordcurrent<br>Juegos publicados=%{x}<br>Ventas globales=%{marker.size}<extra></extra>",
         "hovertext": [
          "Nordcurrent"
         ],
         "legendgroup": "Nordcurrent",
         "marker": {
          "color": "#FECB52",
          "size": [
           0.5900000000000001
          ],
          "sizemode": "area",
          "sizeref": 0.49626666666666663,
          "symbol": "circle"
         },
         "mode": "markers",
         "name": "Nordcurrent",
         "orientation": "v",
         "showlegend": true,
         "type": "scatter",
         "x": [
          5
         ],
         "xaxis": "x",
         "y": [
          0.5900000000000001
         ],
         "yaxis": "y"
        },
        {
         "hovertemplate": "<b>%{hovertext}</b><br><br>Distribuidor=Asylum Entertainment<br>Juegos publicados=%{x}<br>Ventas globales=%{marker.size}<extra></extra>",
         "hovertext": [
          "Asylum Entertainment"
         ],
         "legendgroup": "Asylum Entertainment",
         "marker": {
          "color": "#636efa",
          "size": [
           0.59
          ],
          "sizemode": "area",
          "sizeref": 0.49626666666666663,
          "symbol": "circle"
         },
         "mode": "markers",
         "name": "Asylum Entertainment",
         "orientation": "v",
         "showlegend": true,
         "type": "scatter",
         "x": [
          6
         ],
         "xaxis": "x",
         "y": [
          0.59
         ],
         "yaxis": "y"
        },
        {
         "hovertemplate": "<b>%{hovertext}</b><br><br>Distribuidor=ESP<br>Juegos publicados=%{x}<br>Ventas globales=%{marker.size}<extra></extra>",
         "hovertext": [
          "ESP"
         ],
         "legendgroup": "ESP",
         "marker": {
          "color": "#EF553B",
          "size": [
           0.59
          ],
          "sizemode": "area",
          "sizeref": 0.49626666666666663,
          "symbol": "circle"
         },
         "mode": "markers",
         "name": "ESP",
         "orientation": "v",
         "showlegend": true,
         "type": "scatter",
         "x": [
          5
         ],
         "xaxis": "x",
         "y": [
          0.59
         ],
         "yaxis": "y"
        },
        {
         "hovertemplate": "<b>%{hovertext}</b><br><br>Distribuidor=Mumbo Jumbo<br>Juegos publicados=%{x}<br>Ventas globales=%{marker.size}<extra></extra>",
         "hovertext": [
          "Mumbo Jumbo"
         ],
         "legendgroup": "Mumbo Jumbo",
         "marker": {
          "color": "#00cc96",
          "size": [
           0.5800000000000001
          ],
          "sizemode": "area",
          "sizeref": 0.49626666666666663,
          "symbol": "circle"
         },
         "mode": "markers",
         "name": "Mumbo Jumbo",
         "orientation": "v",
         "showlegend": true,
         "type": "scatter",
         "x": [
          6
         ],
         "xaxis": "x",
         "y": [
          0.5800000000000001
         ],
         "yaxis": "y"
        },
        {
         "hovertemplate": "<b>%{hovertext}</b><br><br>Distribuidor=Kadokawa Games<br>Juegos publicados=%{x}<br>Ventas globales=%{marker.size}<extra></extra>",
         "hovertext": [
          "Kadokawa Games"
         ],
         "legendgroup": "Kadokawa Games",
         "marker": {
          "color": "#ab63fa",
          "size": [
           0.58
          ],
          "sizemode": "area",
          "sizeref": 0.49626666666666663,
          "symbol": "circle"
         },
         "mode": "markers",
         "name": "Kadokawa Games",
         "orientation": "v",
         "showlegend": true,
         "type": "scatter",
         "x": [
          15
         ],
         "xaxis": "x",
         "y": [
          0.58
         ],
         "yaxis": "y"
        },
        {
         "hovertemplate": "<b>%{hovertext}</b><br><br>Distribuidor=CPG Products<br>Juegos publicados=%{x}<br>Ventas globales=%{marker.size}<extra></extra>",
         "hovertext": [
          "CPG Products"
         ],
         "legendgroup": "CPG Products",
         "marker": {
          "color": "#FFA15A",
          "size": [
           0.54
          ],
          "sizemode": "area",
          "sizeref": 0.49626666666666663,
          "symbol": "circle"
         },
         "mode": "markers",
         "name": "CPG Products",
         "orientation": "v",
         "showlegend": true,
         "type": "scatter",
         "x": [
          1
         ],
         "xaxis": "x",
         "y": [
          0.54
         ],
         "yaxis": "y"
        },
        {
         "hovertemplate": "<b>%{hovertext}</b><br><br>Distribuidor=AQ Interactive<br>Juegos publicados=%{x}<br>Ventas globales=%{marker.size}<extra></extra>",
         "hovertext": [
          "AQ Interactive"
         ],
         "legendgroup": "AQ Interactive",
         "marker": {
          "color": "#19d3f3",
          "size": [
           0.53
          ],
          "sizemode": "area",
          "sizeref": 0.49626666666666663,
          "symbol": "circle"
         },
         "mode": "markers",
         "name": "AQ Interactive",
         "orientation": "v",
         "showlegend": true,
         "type": "scatter",
         "x": [
          5
         ],
         "xaxis": "x",
         "y": [
          0.53
         ],
         "yaxis": "y"
        },
        {
         "hovertemplate": "<b>%{hovertext}</b><br><br>Distribuidor=BPS<br>Juegos publicados=%{x}<br>Ventas globales=%{marker.size}<extra></extra>",
         "hovertext": [
          "BPS"
         ],
         "legendgroup": "BPS",
         "marker": {
          "color": "#FF6692",
          "size": [
           0.52
          ],
          "sizemode": "area",
          "sizeref": 0.49626666666666663,
          "symbol": "circle"
         },
         "mode": "markers",
         "name": "BPS",
         "orientation": "v",
         "showlegend": true,
         "type": "scatter",
         "x": [
          2
         ],
         "xaxis": "x",
         "y": [
          0.52
         ],
         "yaxis": "y"
        },
        {
         "hovertemplate": "<b>%{hovertext}</b><br><br>Distribuidor=The Adventure Company<br>Juegos publicados=%{x}<br>Ventas globales=%{marker.size}<extra></extra>",
         "hovertext": [
          "The Adventure Company"
         ],
         "legendgroup": "The Adventure Company",
         "marker": {
          "color": "#B6E880",
          "size": [
           0.51
          ],
          "sizemode": "area",
          "sizeref": 0.49626666666666663,
          "symbol": "circle"
         },
         "mode": "markers",
         "name": "The Adventure Company",
         "orientation": "v",
         "showlegend": true,
         "type": "scatter",
         "x": [
          5
         ],
         "xaxis": "x",
         "y": [
          0.51
         ],
         "yaxis": "y"
        },
        {
         "hovertemplate": "<b>%{hovertext}</b><br><br>Distribuidor=Answer Software<br>Juegos publicados=%{x}<br>Ventas globales=%{marker.size}<extra></extra>",
         "hovertext": [
          "Answer Software"
         ],
         "legendgroup": "Answer Software",
         "marker": {
          "color": "#FF97FF",
          "size": [
           0.5
          ],
          "sizemode": "area",
          "sizeref": 0.49626666666666663,
          "symbol": "circle"
         },
         "mode": "markers",
         "name": "Answer Software",
         "orientation": "v",
         "showlegend": true,
         "type": "scatter",
         "x": [
          1
         ],
         "xaxis": "x",
         "y": [
          0.5
         ],
         "yaxis": "y"
        },
        {
         "hovertemplate": "<b>%{hovertext}</b><br><br>Distribuidor=Hect<br>Juegos publicados=%{x}<br>Ventas globales=%{marker.size}<extra></extra>",
         "hovertext": [
          "Hect"
         ],
         "legendgroup": "Hect",
         "marker": {
          "color": "#FECB52",
          "size": [
           0.5
          ],
          "sizemode": "area",
          "sizeref": 0.49626666666666663,
          "symbol": "circle"
         },
         "mode": "markers",
         "name": "Hect",
         "orientation": "v",
         "showlegend": true,
         "type": "scatter",
         "x": [
          3
         ],
         "xaxis": "x",
         "y": [
          0.5
         ],
         "yaxis": "y"
        },
        {
         "hovertemplate": "<b>%{hovertext}</b><br><br>Distribuidor=Rebellion<br>Juegos publicados=%{x}<br>Ventas globales=%{marker.size}<extra></extra>",
         "hovertext": [
          "Rebellion"
         ],
         "legendgroup": "Rebellion",
         "marker": {
          "color": "#636efa",
          "size": [
           0.49
          ],
          "sizemode": "area",
          "sizeref": 0.49626666666666663,
          "symbol": "circle"
         },
         "mode": "markers",
         "name": "Rebellion",
         "orientation": "v",
         "showlegend": true,
         "type": "scatter",
         "x": [
          2
         ],
         "xaxis": "x",
         "y": [
          0.49
         ],
         "yaxis": "y"
        },
        {
         "hovertemplate": "<b>%{hovertext}</b><br><br>Distribuidor=Popcorn Arcade<br>Juegos publicados=%{x}<br>Ventas globales=%{marker.size}<extra></extra>",
         "hovertext": [
          "Popcorn Arcade"
         ],
         "legendgroup": "Popcorn Arcade",
         "marker": {
          "color": "#EF553B",
          "size": [
           0.49
          ],
          "sizemode": "area",
          "sizeref": 0.49626666666666663,
          "symbol": "circle"
         },
         "mode": "markers",
         "name": "Popcorn Arcade",
         "orientation": "v",
         "showlegend": true,
         "type": "scatter",
         "x": [
          10
         ],
         "xaxis": "x",
         "y": [
          0.49
         ],
         "yaxis": "y"
        },
        {
         "hovertemplate": "<b>%{hovertext}</b><br><br>Distribuidor=Swing! Entertainment<br>Juegos publicados=%{x}<br>Ventas globales=%{marker.size}<extra></extra>",
         "hovertext": [
          "Swing! Entertainment"
         ],
         "legendgroup": "Swing! Entertainment",
         "marker": {
          "color": "#00cc96",
          "size": [
           0.48000000000000004
          ],
          "sizemode": "area",
          "sizeref": 0.49626666666666663,
          "symbol": "circle"
         },
         "mode": "markers",
         "name": "Swing! Entertainment",
         "orientation": "v",
         "showlegend": true,
         "type": "scatter",
         "x": [
          6
         ],
         "xaxis": "x",
         "y": [
          0.48000000000000004
         ],
         "yaxis": "y"
        },
        {
         "hovertemplate": "<b>%{hovertext}</b><br><br>Distribuidor=Avalon Interactive<br>Juegos publicados=%{x}<br>Ventas globales=%{marker.size}<extra></extra>",
         "hovertext": [
          "Avalon Interactive"
         ],
         "legendgroup": "Avalon Interactive",
         "marker": {
          "color": "#ab63fa",
          "size": [
           0.48000000000000004
          ],
          "sizemode": "area",
          "sizeref": 0.49626666666666663,
          "symbol": "circle"
         },
         "mode": "markers",
         "name": "Avalon Interactive",
         "orientation": "v",
         "showlegend": true,
         "type": "scatter",
         "x": [
          6
         ],
         "xaxis": "x",
         "y": [
          0.48000000000000004
         ],
         "yaxis": "y"
        },
        {
         "hovertemplate": "<b>%{hovertext}</b><br><br>Distribuidor=Activision Blizzard<br>Juegos publicados=%{x}<br>Ventas globales=%{marker.size}<extra></extra>",
         "hovertext": [
          "Activision Blizzard"
         ],
         "legendgroup": "Activision Blizzard",
         "marker": {
          "color": "#FFA15A",
          "size": [
           0.48
          ],
          "sizemode": "area",
          "sizeref": 0.49626666666666663,
          "symbol": "circle"
         },
         "mode": "markers",
         "name": "Activision Blizzard",
         "orientation": "v",
         "showlegend": true,
         "type": "scatter",
         "x": [
          1
         ],
         "xaxis": "x",
         "y": [
          0.48
         ],
         "yaxis": "y"
        },
        {
         "hovertemplate": "<b>%{hovertext}</b><br><br>Distribuidor=Pack In Soft<br>Juegos publicados=%{x}<br>Ventas globales=%{marker.size}<extra></extra>",
         "hovertext": [
          "Pack In Soft"
         ],
         "legendgroup": "Pack In Soft",
         "marker": {
          "color": "#19d3f3",
          "size": [
           0.48
          ],
          "sizemode": "area",
          "sizeref": 0.49626666666666663,
          "symbol": "circle"
         },
         "mode": "markers",
         "name": "Pack In Soft",
         "orientation": "v",
         "showlegend": true,
         "type": "scatter",
         "x": [
          1
         ],
         "xaxis": "x",
         "y": [
          0.48
         ],
         "yaxis": "y"
        },
        {
         "hovertemplate": "<b>%{hovertext}</b><br><br>Distribuidor=Ultravision<br>Juegos publicados=%{x}<br>Ventas globales=%{marker.size}<extra></extra>",
         "hovertext": [
          "Ultravision"
         ],
         "legendgroup": "Ultravision",
         "marker": {
          "color": "#FF6692",
          "size": [
           0.47
          ],
          "sizemode": "area",
          "sizeref": 0.49626666666666663,
          "symbol": "circle"
         },
         "mode": "markers",
         "name": "Ultravision",
         "orientation": "v",
         "showlegend": true,
         "type": "scatter",
         "x": [
          1
         ],
         "xaxis": "x",
         "y": [
          0.47
         ],
         "yaxis": "y"
        },
        {
         "hovertemplate": "<b>%{hovertext}</b><br><br>Distribuidor=Irem Software Engineering<br>Juegos publicados=%{x}<br>Ventas globales=%{marker.size}<extra></extra>",
         "hovertext": [
          "Irem Software Engineering"
         ],
         "legendgroup": "Irem Software Engineering",
         "marker": {
          "color": "#B6E880",
          "size": [
           0.46
          ],
          "sizemode": "area",
          "sizeref": 0.49626666666666663,
          "symbol": "circle"
         },
         "mode": "markers",
         "name": "Irem Software Engineering",
         "orientation": "v",
         "showlegend": true,
         "type": "scatter",
         "x": [
          12
         ],
         "xaxis": "x",
         "y": [
          0.46
         ],
         "yaxis": "y"
        },
        {
         "hovertemplate": "<b>%{hovertext}</b><br><br>Distribuidor=Valcon Games<br>Juegos publicados=%{x}<br>Ventas globales=%{marker.size}<extra></extra>",
         "hovertext": [
          "Valcon Games"
         ],
         "legendgroup": "Valcon Games",
         "marker": {
          "color": "#FF97FF",
          "size": [
           0.45
          ],
          "sizemode": "area",
          "sizeref": 0.49626666666666663,
          "symbol": "circle"
         },
         "mode": "markers",
         "name": "Valcon Games",
         "orientation": "v",
         "showlegend": true,
         "type": "scatter",
         "x": [
          8
         ],
         "xaxis": "x",
         "y": [
          0.45
         ],
         "yaxis": "y"
        },
        {
         "hovertemplate": "<b>%{hovertext}</b><br><br>Distribuidor=PlayV<br>Juegos publicados=%{x}<br>Ventas globales=%{marker.size}<extra></extra>",
         "hovertext": [
          "PlayV"
         ],
         "legendgroup": "PlayV",
         "marker": {
          "color": "#FECB52",
          "size": [
           0.44
          ],
          "sizemode": "area",
          "sizeref": 0.49626666666666663,
          "symbol": "circle"
         },
         "mode": "markers",
         "name": "PlayV",
         "orientation": "v",
         "showlegend": true,
         "type": "scatter",
         "x": [
          4
         ],
         "xaxis": "x",
         "y": [
          0.44
         ],
         "yaxis": "y"
        },
        {
         "hovertemplate": "<b>%{hovertext}</b><br><br>Distribuidor=Shogakukan<br>Juegos publicados=%{x}<br>Ventas globales=%{marker.size}<extra></extra>",
         "hovertext": [
          "Shogakukan"
         ],
         "legendgroup": "Shogakukan",
         "marker": {
          "color": "#636efa",
          "size": [
           0.44
          ],
          "sizemode": "area",
          "sizeref": 0.49626666666666663,
          "symbol": "circle"
         },
         "mode": "markers",
         "name": "Shogakukan",
         "orientation": "v",
         "showlegend": true,
         "type": "scatter",
         "x": [
          5
         ],
         "xaxis": "x",
         "y": [
          0.44
         ],
         "yaxis": "y"
        },
        {
         "hovertemplate": "<b>%{hovertext}</b><br><br>Distribuidor=Aksys Games<br>Juegos publicados=%{x}<br>Ventas globales=%{marker.size}<extra></extra>",
         "hovertext": [
          "Aksys Games"
         ],
         "legendgroup": "Aksys Games",
         "marker": {
          "color": "#EF553B",
          "size": [
           0.44
          ],
          "sizemode": "area",
          "sizeref": 0.49626666666666663,
          "symbol": "circle"
         },
         "mode": "markers",
         "name": "Aksys Games",
         "orientation": "v",
         "showlegend": true,
         "type": "scatter",
         "x": [
          8
         ],
         "xaxis": "x",
         "y": [
          0.44
         ],
         "yaxis": "y"
        },
        {
         "hovertemplate": "<b>%{hovertext}</b><br><br>Distribuidor=Angel Studios<br>Juegos publicados=%{x}<br>Ventas globales=%{marker.size}<extra></extra>",
         "hovertext": [
          "Angel Studios"
         ],
         "legendgroup": "Angel Studios",
         "marker": {
          "color": "#00cc96",
          "size": [
           0.43999999999999995
          ],
          "sizemode": "area",
          "sizeref": 0.49626666666666663,
          "symbol": "circle"
         },
         "mode": "markers",
         "name": "Angel Studios",
         "orientation": "v",
         "showlegend": true,
         "type": "scatter",
         "x": [
          3
         ],
         "xaxis": "x",
         "y": [
          0.43999999999999995
         ],
         "yaxis": "y"
        },
        {
         "hovertemplate": "<b>%{hovertext}</b><br><br>Distribuidor=NEC<br>Juegos publicados=%{x}<br>Ventas globales=%{marker.size}<extra></extra>",
         "hovertext": [
          "NEC"
         ],
         "legendgroup": "NEC",
         "marker": {
          "color": "#ab63fa",
          "size": [
           0.43000000000000005
          ],
          "sizemode": "area",
          "sizeref": 0.49626666666666663,
          "symbol": "circle"
         },
         "mode": "markers",
         "name": "NEC",
         "orientation": "v",
         "showlegend": true,
         "type": "scatter",
         "x": [
          3
         ],
         "xaxis": "x",
         "y": [
          0.43000000000000005
         ],
         "yaxis": "y"
        },
        {
         "hovertemplate": "<b>%{hovertext}</b><br><br>Distribuidor=Tetris Online<br>Juegos publicados=%{x}<br>Ventas globales=%{marker.size}<extra></extra>",
         "hovertext": [
          "Tetris Online"
         ],
         "legendgroup": "Tetris Online",
         "marker": {
          "color": "#FFA15A",
          "size": [
           0.43
          ],
          "sizemode": "area",
          "sizeref": 0.49626666666666663,
          "symbol": "circle"
         },
         "mode": "markers",
         "name": "Tetris Online",
         "orientation": "v",
         "showlegend": true,
         "type": "scatter",
         "x": [
          1
         ],
         "xaxis": "x",
         "y": [
          0.43
         ],
         "yaxis": "y"
        },
        {
         "hovertemplate": "<b>%{hovertext}</b><br><br>Distribuidor=TYO<br>Juegos publicados=%{x}<br>Ventas globales=%{marker.size}<extra></extra>",
         "hovertext": [
          "TYO"
         ],
         "legendgroup": "TYO",
         "marker": {
          "color": "#19d3f3",
          "size": [
           0.42
          ],
          "sizemode": "area",
          "sizeref": 0.49626666666666663,
          "symbol": "circle"
         },
         "mode": "markers",
         "name": "TYO",
         "orientation": "v",
         "showlegend": true,
         "type": "scatter",
         "x": [
          1
         ],
         "xaxis": "x",
         "y": [
          0.42
         ],
         "yaxis": "y"
        },
        {
         "hovertemplate": "<b>%{hovertext}</b><br><br>Distribuidor=Electronic Arts Victor<br>Juegos publicados=%{x}<br>Ventas globales=%{marker.size}<extra></extra>",
         "hovertext": [
          "Electronic Arts Victor"
         ],
         "legendgroup": "Electronic Arts Victor",
         "marker": {
          "color": "#FF6692",
          "size": [
           0.42
          ],
          "sizemode": "area",
          "sizeref": 0.49626666666666663,
          "symbol": "circle"
         },
         "mode": "markers",
         "name": "Electronic Arts Victor",
         "orientation": "v",
         "showlegend": true,
         "type": "scatter",
         "x": [
          2
         ],
         "xaxis": "x",
         "y": [
          0.42
         ],
         "yaxis": "y"
        },
        {
         "hovertemplate": "<b>%{hovertext}</b><br><br>Distribuidor=Jack of All Games<br>Juegos publicados=%{x}<br>Ventas globales=%{marker.size}<extra></extra>",
         "hovertext": [
          "Jack of All Games"
         ],
         "legendgroup": "Jack of All Games",
         "marker": {
          "color": "#B6E880",
          "size": [
           0.42
          ],
          "sizemode": "area",
          "sizeref": 0.49626666666666663,
          "symbol": "circle"
         },
         "mode": "markers",
         "name": "Jack of All Games",
         "orientation": "v",
         "showlegend": true,
         "type": "scatter",
         "x": [
          3
         ],
         "xaxis": "x",
         "y": [
          0.42
         ],
         "yaxis": "y"
        },
        {
         "hovertemplate": "<b>%{hovertext}</b><br><br>Distribuidor=bitComposer Games<br>Juegos publicados=%{x}<br>Ventas globales=%{marker.size}<extra></extra>",
         "hovertext": [
          "bitComposer Games"
         ],
         "legendgroup": "bitComposer Games",
         "marker": {
          "color": "#FF97FF",
          "size": [
           0.41000000000000003
          ],
          "sizemode": "area",
          "sizeref": 0.49626666666666663,
          "symbol": "circle"
         },
         "mode": "markers",
         "name": "bitComposer Games",
         "orientation": "v",
         "showlegend": true,
         "type": "scatter",
         "x": [
          5
         ],
         "xaxis": "x",
         "y": [
          0.41000000000000003
         ],
         "yaxis": "y"
        },
        {
         "hovertemplate": "<b>%{hovertext}</b><br><br>Distribuidor=Magical Company<br>Juegos publicados=%{x}<br>Ventas globales=%{marker.size}<extra></extra>",
         "hovertext": [
          "Magical Company"
         ],
         "legendgroup": "Magical Company",
         "marker": {
          "color": "#FECB52",
          "size": [
           0.41
          ],
          "sizemode": "area",
          "sizeref": 0.49626666666666663,
          "symbol": "circle"
         },
         "mode": "markers",
         "name": "Magical Company",
         "orientation": "v",
         "showlegend": true,
         "type": "scatter",
         "x": [
          1
         ],
         "xaxis": "x",
         "y": [
          0.41
         ],
         "yaxis": "y"
        },
        {
         "hovertemplate": "<b>%{hovertext}</b><br><br>Distribuidor=P2 Games<br>Juegos publicados=%{x}<br>Ventas globales=%{marker.size}<extra></extra>",
         "hovertext": [
          "P2 Games"
         ],
         "legendgroup": "P2 Games",
         "marker": {
          "color": "#636efa",
          "size": [
           0.4
          ],
          "sizemode": "area",
          "sizeref": 0.49626666666666663,
          "symbol": "circle"
         },
         "mode": "markers",
         "name": "P2 Games",
         "orientation": "v",
         "showlegend": true,
         "type": "scatter",
         "x": [
          3
         ],
         "xaxis": "x",
         "y": [
          0.4
         ],
         "yaxis": "y"
        },
        {
         "hovertemplate": "<b>%{hovertext}</b><br><br>Distribuidor=MTO<br>Juegos publicados=%{x}<br>Ventas globales=%{marker.size}<extra></extra>",
         "hovertext": [
          "MTO"
         ],
         "legendgroup": "MTO",
         "marker": {
          "color": "#EF553B",
          "size": [
           0.4
          ],
          "sizemode": "area",
          "sizeref": 0.49626666666666663,
          "symbol": "circle"
         },
         "mode": "markers",
         "name": "MTO",
         "orientation": "v",
         "showlegend": true,
         "type": "scatter",
         "x": [
          8
         ],
         "xaxis": "x",
         "y": [
          0.4
         ],
         "yaxis": "y"
        },
        {
         "hovertemplate": "<b>%{hovertext}</b><br><br>Distribuidor=Microids<br>Juegos publicados=%{x}<br>Ventas globales=%{marker.size}<extra></extra>",
         "hovertext": [
          "Microids"
         ],
         "legendgroup": "Microids",
         "marker": {
          "color": "#00cc96",
          "size": [
           0.4
          ],
          "sizemode": "area",
          "sizeref": 0.49626666666666663,
          "symbol": "circle"
         },
         "mode": "markers",
         "name": "Microids",
         "orientation": "v",
         "showlegend": true,
         "type": "scatter",
         "x": [
          10
         ],
         "xaxis": "x",
         "y": [
          0.4
         ],
         "yaxis": "y"
        },
        {
         "hovertemplate": "<b>%{hovertext}</b><br><br>Distribuidor=NCS<br>Juegos publicados=%{x}<br>Ventas globales=%{marker.size}<extra></extra>",
         "hovertext": [
          "NCS"
         ],
         "legendgroup": "NCS",
         "marker": {
          "color": "#ab63fa",
          "size": [
           0.4
          ],
          "sizemode": "area",
          "sizeref": 0.49626666666666663,
          "symbol": "circle"
         },
         "mode": "markers",
         "name": "NCS",
         "orientation": "v",
         "showlegend": true,
         "type": "scatter",
         "x": [
          3
         ],
         "xaxis": "x",
         "y": [
          0.4
         ],
         "yaxis": "y"
        },
        {
         "hovertemplate": "<b>%{hovertext}</b><br><br>Distribuidor=ValuSoft<br>Juegos publicados=%{x}<br>Ventas globales=%{marker.size}<extra></extra>",
         "hovertext": [
          "ValuSoft"
         ],
         "legendgroup": "ValuSoft",
         "marker": {
          "color": "#FFA15A",
          "size": [
           0.39
          ],
          "sizemode": "area",
          "sizeref": 0.49626666666666663,
          "symbol": "circle"
         },
         "mode": "markers",
         "name": "ValuSoft",
         "orientation": "v",
         "showlegend": true,
         "type": "scatter",
         "x": [
          4
         ],
         "xaxis": "x",
         "y": [
          0.39
         ],
         "yaxis": "y"
        },
        {
         "hovertemplate": "<b>%{hovertext}</b><br><br>Distribuidor=989 Sports<br>Juegos publicados=%{x}<br>Ventas globales=%{marker.size}<extra></extra>",
         "hovertext": [
          "989 Sports"
         ],
         "legendgroup": "989 Sports",
         "marker": {
          "color": "#19d3f3",
          "size": [
           0.38
          ],
          "sizemode": "area",
          "sizeref": 0.49626666666666663,
          "symbol": "circle"
         },
         "mode": "markers",
         "name": "989 Sports",
         "orientation": "v",
         "showlegend": true,
         "type": "scatter",
         "x": [
          1
         ],
         "xaxis": "x",
         "y": [
          0.38
         ],
         "yaxis": "y"
        },
        {
         "hovertemplate": "<b>%{hovertext}</b><br><br>Distribuidor=Graffiti<br>Juegos publicados=%{x}<br>Ventas globales=%{marker.size}<extra></extra>",
         "hovertext": [
          "Graffiti"
         ],
         "legendgroup": "Graffiti",
         "marker": {
          "color": "#FF6692",
          "size": [
           0.38
          ],
          "sizemode": "area",
          "sizeref": 0.49626666666666663,
          "symbol": "circle"
         },
         "mode": "markers",
         "name": "Graffiti",
         "orientation": "v",
         "showlegend": true,
         "type": "scatter",
         "x": [
          6
         ],
         "xaxis": "x",
         "y": [
          0.38
         ],
         "yaxis": "y"
        },
        {
         "hovertemplate": "<b>%{hovertext}</b><br><br>Distribuidor=Blast! Entertainment Ltd<br>Juegos publicados=%{x}<br>Ventas globales=%{marker.size}<extra></extra>",
         "hovertext": [
          "Blast! Entertainment Ltd"
         ],
         "legendgroup": "Blast! Entertainment Ltd",
         "marker": {
          "color": "#B6E880",
          "size": [
           0.38
          ],
          "sizemode": "area",
          "sizeref": 0.49626666666666663,
          "symbol": "circle"
         },
         "mode": "markers",
         "name": "Blast! Entertainment Ltd",
         "orientation": "v",
         "showlegend": true,
         "type": "scatter",
         "x": [
          6
         ],
         "xaxis": "x",
         "y": [
          0.38
         ],
         "yaxis": "y"
        },
        {
         "hovertemplate": "<b>%{hovertext}</b><br><br>Distribuidor=Hip Interactive<br>Juegos publicados=%{x}<br>Ventas globales=%{marker.size}<extra></extra>",
         "hovertext": [
          "Hip Interactive"
         ],
         "legendgroup": "Hip Interactive",
         "marker": {
          "color": "#FF97FF",
          "size": [
           0.36000000000000004
          ],
          "sizemode": "area",
          "sizeref": 0.49626666666666663,
          "symbol": "circle"
         },
         "mode": "markers",
         "name": "Hip Interactive",
         "orientation": "v",
         "showlegend": true,
         "type": "scatter",
         "x": [
          5
         ],
         "xaxis": "x",
         "y": [
          0.36000000000000004
         ],
         "yaxis": "y"
        },
        {
         "hovertemplate": "<b>%{hovertext}</b><br><br>Distribuidor=New<br>Juegos publicados=%{x}<br>Ventas globales=%{marker.size}<extra></extra>",
         "hovertext": [
          "New"
         ],
         "legendgroup": "New",
         "marker": {
          "color": "#FECB52",
          "size": [
           0.36
          ],
          "sizemode": "area",
          "sizeref": 0.49626666666666663,
          "symbol": "circle"
         },
         "mode": "markers",
         "name": "New",
         "orientation": "v",
         "showlegend": true,
         "type": "scatter",
         "x": [
          1
         ],
         "xaxis": "x",
         "y": [
          0.36
         ],
         "yaxis": "y"
        },
        {
         "hovertemplate": "<b>%{hovertext}</b><br><br>Distribuidor=Performance Designed Products<br>Juegos publicados=%{x}<br>Ventas globales=%{marker.size}<extra></extra>",
         "hovertext": [
          "Performance Designed Products"
         ],
         "legendgroup": "Performance Designed Products",
         "marker": {
          "color": "#636efa",
          "size": [
           0.36
          ],
          "sizemode": "area",
          "sizeref": 0.49626666666666663,
          "symbol": "circle"
         },
         "mode": "markers",
         "name": "Performance Designed Products",
         "orientation": "v",
         "showlegend": true,
         "type": "scatter",
         "x": [
          2
         ],
         "xaxis": "x",
         "y": [
          0.36
         ],
         "yaxis": "y"
        },
        {
         "hovertemplate": "<b>%{hovertext}</b><br><br>Distribuidor=DSI Games<br>Juegos publicados=%{x}<br>Ventas globales=%{marker.size}<extra></extra>",
         "hovertext": [
          "DSI Games"
         ],
         "legendgroup": "DSI Games",
         "marker": {
          "color": "#EF553B",
          "size": [
           0.35000000000000003
          ],
          "sizemode": "area",
          "sizeref": 0.49626666666666663,
          "symbol": "circle"
         },
         "mode": "markers",
         "name": "DSI Games",
         "orientation": "v",
         "showlegend": true,
         "type": "scatter",
         "x": [
          6
         ],
         "xaxis": "x",
         "y": [
          0.35000000000000003
         ],
         "yaxis": "y"
        },
        {
         "hovertemplate": "<b>%{hovertext}</b><br><br>Distribuidor=Time Warner Interactive<br>Juegos publicados=%{x}<br>Ventas globales=%{marker.size}<extra></extra>",
         "hovertext": [
          "Time Warner Interactive"
         ],
         "legendgroup": "Time Warner Interactive",
         "marker": {
          "color": "#00cc96",
          "size": [
           0.35
          ],
          "sizemode": "area",
          "sizeref": 0.49626666666666663,
          "symbol": "circle"
         },
         "mode": "markers",
         "name": "Time Warner Interactive",
         "orientation": "v",
         "showlegend": true,
         "type": "scatter",
         "x": [
          5
         ],
         "xaxis": "x",
         "y": [
          0.35
         ],
         "yaxis": "y"
        },
        {
         "hovertemplate": "<b>%{hovertext}</b><br><br>Distribuidor=Magix<br>Juegos publicados=%{x}<br>Ventas globales=%{marker.size}<extra></extra>",
         "hovertext": [
          "Magix"
         ],
         "legendgroup": "Magix",
         "marker": {
          "color": "#ab63fa",
          "size": [
           0.35
          ],
          "sizemode": "area",
          "sizeref": 0.49626666666666663,
          "symbol": "circle"
         },
         "mode": "markers",
         "name": "Magix",
         "orientation": "v",
         "showlegend": true,
         "type": "scatter",
         "x": [
          2
         ],
         "xaxis": "x",
         "y": [
          0.35
         ],
         "yaxis": "y"
        },
        {
         "hovertemplate": "<b>%{hovertext}</b><br><br>Distribuidor=ITT Family Games<br>Juegos publicados=%{x}<br>Ventas globales=%{marker.size}<extra></extra>",
         "hovertext": [
          "ITT Family Games"
         ],
         "legendgroup": "ITT Family Games",
         "marker": {
          "color": "#FFA15A",
          "size": [
           0.34
          ],
          "sizemode": "area",
          "sizeref": 0.49626666666666663,
          "symbol": "circle"
         },
         "mode": "markers",
         "name": "ITT Family Games",
         "orientation": "v",
         "showlegend": true,
         "type": "scatter",
         "x": [
          1
         ],
         "xaxis": "x",
         "y": [
          0.34
         ],
         "yaxis": "y"
        },
        {
         "hovertemplate": "<b>%{hovertext}</b><br><br>Distribuidor=Reef Entertainment<br>Juegos publicados=%{x}<br>Ventas globales=%{marker.size}<extra></extra>",
         "hovertext": [
          "Reef Entertainment"
         ],
         "legendgroup": "Reef Entertainment",
         "marker": {
          "color": "#19d3f3",
          "size": [
           0.33999999999999997
          ],
          "sizemode": "area",
          "sizeref": 0.49626666666666663,
          "symbol": "circle"
         },
         "mode": "markers",
         "name": "Reef Entertainment",
         "orientation": "v",
         "showlegend": true,
         "type": "scatter",
         "x": [
          7
         ],
         "xaxis": "x",
         "y": [
          0.33999999999999997
         ],
         "yaxis": "y"
        },
        {
         "hovertemplate": "<b>%{hovertext}</b><br><br>Distribuidor=Benesse<br>Juegos publicados=%{x}<br>Ventas globales=%{marker.size}<extra></extra>",
         "hovertext": [
          "Benesse"
         ],
         "legendgroup": "Benesse",
         "marker": {
          "color": "#FF6692",
          "size": [
           0.33
          ],
          "sizemode": "area",
          "sizeref": 0.49626666666666663,
          "symbol": "circle"
         },
         "mode": "markers",
         "name": "Benesse",
         "orientation": "v",
         "showlegend": true,
         "type": "scatter",
         "x": [
          6
         ],
         "xaxis": "x",
         "y": [
          0.33
         ],
         "yaxis": "y"
        },
        {
         "hovertemplate": "<b>%{hovertext}</b><br><br>Distribuidor=Starpath Corp.<br>Juegos publicados=%{x}<br>Ventas globales=%{marker.size}<extra></extra>",
         "hovertext": [
          "Starpath Corp."
         ],
         "legendgroup": "Starpath Corp.",
         "marker": {
          "color": "#B6E880",
          "size": [
           0.33
          ],
          "sizemode": "area",
          "sizeref": 0.49626666666666663,
          "symbol": "circle"
         },
         "mode": "markers",
         "name": "Starpath Corp.",
         "orientation": "v",
         "showlegend": true,
         "type": "scatter",
         "x": [
          1
         ],
         "xaxis": "x",
         "y": [
          0.33
         ],
         "yaxis": "y"
        },
        {
         "hovertemplate": "<b>%{hovertext}</b><br><br>Distribuidor=U.S. Gold<br>Juegos publicados=%{x}<br>Ventas globales=%{marker.size}<extra></extra>",
         "hovertext": [
          "U.S. Gold"
         ],
         "legendgroup": "U.S. Gold",
         "marker": {
          "color": "#FF97FF",
          "size": [
           0.33
          ],
          "sizemode": "area",
          "sizeref": 0.49626666666666663,
          "symbol": "circle"
         },
         "mode": "markers",
         "name": "U.S. Gold",
         "orientation": "v",
         "showlegend": true,
         "type": "scatter",
         "x": [
          4
         ],
         "xaxis": "x",
         "y": [
          0.33
         ],
         "yaxis": "y"
        },
        {
         "hovertemplate": "<b>%{hovertext}</b><br><br>Distribuidor=Cave<br>Juegos publicados=%{x}<br>Ventas globales=%{marker.size}<extra></extra>",
         "hovertext": [
          "Cave"
         ],
         "legendgroup": "Cave",
         "marker": {
          "color": "#FECB52",
          "size": [
           0.33
          ],
          "sizemode": "area",
          "sizeref": 0.49626666666666663,
          "symbol": "circle"
         },
         "mode": "markers",
         "name": "Cave",
         "orientation": "v",
         "showlegend": true,
         "type": "scatter",
         "x": [
          10
         ],
         "xaxis": "x",
         "y": [
          0.33
         ],
         "yaxis": "y"
        },
        {
         "hovertemplate": "<b>%{hovertext}</b><br><br>Distribuidor=Indie Games<br>Juegos publicados=%{x}<br>Ventas globales=%{marker.size}<extra></extra>",
         "hovertext": [
          "Indie Games"
         ],
         "legendgroup": "Indie Games",
         "marker": {
          "color": "#636efa",
          "size": [
           0.32
          ],
          "sizemode": "area",
          "sizeref": 0.49626666666666663,
          "symbol": "circle"
         },
         "mode": "markers",
         "name": "Indie Games",
         "orientation": "v",
         "showlegend": true,
         "type": "scatter",
         "x": [
          3
         ],
         "xaxis": "x",
         "y": [
          0.32
         ],
         "yaxis": "y"
        },
        {
         "hovertemplate": "<b>%{hovertext}</b><br><br>Distribuidor=Evolved Games<br>Juegos publicados=%{x}<br>Ventas globales=%{marker.size}<extra></extra>",
         "hovertext": [
          "Evolved Games"
         ],
         "legendgroup": "Evolved Games",
         "marker": {
          "color": "#EF553B",
          "size": [
           0.32
          ],
          "sizemode": "area",
          "sizeref": 0.49626666666666663,
          "symbol": "circle"
         },
         "mode": "markers",
         "name": "Evolved Games",
         "orientation": "v",
         "showlegend": true,
         "type": "scatter",
         "x": [
          8
         ],
         "xaxis": "x",
         "y": [
          0.32
         ],
         "yaxis": "y"
        },
        {
         "hovertemplate": "<b>%{hovertext}</b><br><br>Distribuidor=Yacht Club Games<br>Juegos publicados=%{x}<br>Ventas globales=%{marker.size}<extra></extra>",
         "hovertext": [
          "Yacht Club Games"
         ],
         "legendgroup": "Yacht Club Games",
         "marker": {
          "color": "#00cc96",
          "size": [
           0.32
          ],
          "sizemode": "area",
          "sizeref": 0.49626666666666663,
          "symbol": "circle"
         },
         "mode": "markers",
         "name": "Yacht Club Games",
         "orientation": "v",
         "showlegend": true,
         "type": "scatter",
         "x": [
          3
         ],
         "xaxis": "x",
         "y": [
          0.32
         ],
         "yaxis": "y"
        },
        {
         "hovertemplate": "<b>%{hovertext}</b><br><br>Distribuidor=Neko Entertainment<br>Juegos publicados=%{x}<br>Ventas globales=%{marker.size}<extra></extra>",
         "hovertext": [
          "Neko Entertainment"
         ],
         "legendgroup": "Neko Entertainment",
         "marker": {
          "color": "#ab63fa",
          "size": [
           0.31
          ],
          "sizemode": "area",
          "sizeref": 0.49626666666666663,
          "symbol": "circle"
         },
         "mode": "markers",
         "name": "Neko Entertainment",
         "orientation": "v",
         "showlegend": true,
         "type": "scatter",
         "x": [
          7
         ],
         "xaxis": "x",
         "y": [
          0.31
         ],
         "yaxis": "y"
        },
        {
         "hovertemplate": "<b>%{hovertext}</b><br><br>Distribuidor=Hackberry<br>Juegos publicados=%{x}<br>Ventas globales=%{marker.size}<extra></extra>",
         "hovertext": [
          "Hackberry"
         ],
         "legendgroup": "Hackberry",
         "marker": {
          "color": "#FFA15A",
          "size": [
           0.31
          ],
          "sizemode": "area",
          "sizeref": 0.49626666666666663,
          "symbol": "circle"
         },
         "mode": "markers",
         "name": "Hackberry",
         "orientation": "v",
         "showlegend": true,
         "type": "scatter",
         "x": [
          7
         ],
         "xaxis": "x",
         "y": [
          0.31
         ],
         "yaxis": "y"
        },
        {
         "hovertemplate": "<b>%{hovertext}</b><br><br>Distribuidor=Agatsuma Entertainment<br>Juegos publicados=%{x}<br>Ventas globales=%{marker.size}<extra></extra>",
         "hovertext": [
          "Agatsuma Entertainment"
         ],
         "legendgroup": "Agatsuma Entertainment",
         "marker": {
          "color": "#19d3f3",
          "size": [
           0.31
          ],
          "sizemode": "area",
          "sizeref": 0.49626666666666663,
          "symbol": "circle"
         },
         "mode": "markers",
         "name": "Agatsuma Entertainment",
         "orientation": "v",
         "showlegend": true,
         "type": "scatter",
         "x": [
          3
         ],
         "xaxis": "x",
         "y": [
          0.31
         ],
         "yaxis": "y"
        },
        {
         "hovertemplate": "<b>%{hovertext}</b><br><br>Distribuidor=CBS Electronics<br>Juegos publicados=%{x}<br>Ventas globales=%{marker.size}<extra></extra>",
         "hovertext": [
          "CBS Electronics"
         ],
         "legendgroup": "CBS Electronics",
         "marker": {
          "color": "#FF6692",
          "size": [
           0.31
          ],
          "sizemode": "area",
          "sizeref": 0.49626666666666663,
          "symbol": "circle"
         },
         "mode": "markers",
         "name": "CBS Electronics",
         "orientation": "v",
         "showlegend": true,
         "type": "scatter",
         "x": [
          1
         ],
         "xaxis": "x",
         "y": [
          0.31
         ],
         "yaxis": "y"
        },
        {
         "hovertemplate": "<b>%{hovertext}</b><br><br>Distribuidor=CokeM Interactive<br>Juegos publicados=%{x}<br>Ventas globales=%{marker.size}<extra></extra>",
         "hovertext": [
          "CokeM Interactive"
         ],
         "legendgroup": "CokeM Interactive",
         "marker": {
          "color": "#B6E880",
          "size": [
           0.31
          ],
          "sizemode": "area",
          "sizeref": 0.49626666666666663,
          "symbol": "circle"
         },
         "mode": "markers",
         "name": "CokeM Interactive",
         "orientation": "v",
         "showlegend": true,
         "type": "scatter",
         "x": [
          1
         ],
         "xaxis": "x",
         "y": [
          0.31
         ],
         "yaxis": "y"
        },
        {
         "hovertemplate": "<b>%{hovertext}</b><br><br>Distribuidor=Mad Catz<br>Juegos publicados=%{x}<br>Ventas globales=%{marker.size}<extra></extra>",
         "hovertext": [
          "Mad Catz"
         ],
         "legendgroup": "Mad Catz",
         "marker": {
          "color": "#FF97FF",
          "size": [
           0.30000000000000004
          ],
          "sizemode": "area",
          "sizeref": 0.49626666666666663,
          "symbol": "circle"
         },
         "mode": "markers",
         "name": "Mad Catz",
         "orientation": "v",
         "showlegend": true,
         "type": "scatter",
         "x": [
          3
         ],
         "xaxis": "x",
         "y": [
          0.30000000000000004
         ],
         "yaxis": "y"
        },
        {
         "hovertemplate": "<b>%{hovertext}</b><br><br>Distribuidor=Hamster Corporation<br>Juegos publicados=%{x}<br>Ventas globales=%{marker.size}<extra></extra>",
         "hovertext": [
          "Hamster Corporation"
         ],
         "legendgroup": "Hamster Corporation",
         "marker": {
          "color": "#FECB52",
          "size": [
           0.30000000000000004
          ],
          "sizemode": "area",
          "sizeref": 0.49626666666666663,
          "symbol": "circle"
         },
         "mode": "markers",
         "name": "Hamster Corporation",
         "orientation": "v",
         "showlegend": true,
         "type": "scatter",
         "x": [
          2
         ],
         "xaxis": "x",
         "y": [
          0.30000000000000004
         ],
         "yaxis": "y"
        },
        {
         "hovertemplate": "<b>%{hovertext}</b><br><br>Distribuidor=Rebellion Developments<br>Juegos publicados=%{x}<br>Ventas globales=%{marker.size}<extra></extra>",
         "hovertext": [
          "Rebellion Developments"
         ],
         "legendgroup": "Rebellion Developments",
         "marker": {
          "color": "#636efa",
          "size": [
           0.30000000000000004
          ],
          "sizemode": "area",
          "sizeref": 0.49626666666666663,
          "symbol": "circle"
         },
         "mode": "markers",
         "name": "Rebellion Developments",
         "orientation": "v",
         "showlegend": true,
         "type": "scatter",
         "x": [
          2
         ],
         "xaxis": "x",
         "y": [
          0.30000000000000004
         ],
         "yaxis": "y"
        },
        {
         "hovertemplate": "<b>%{hovertext}</b><br><br>Distribuidor=Game Life<br>Juegos publicados=%{x}<br>Ventas globales=%{marker.size}<extra></extra>",
         "hovertext": [
          "Game Life"
         ],
         "legendgroup": "Game Life",
         "marker": {
          "color": "#EF553B",
          "size": [
           0.30000000000000004
          ],
          "sizemode": "area",
          "sizeref": 0.49626666666666663,
          "symbol": "circle"
         },
         "mode": "markers",
         "name": "Game Life",
         "orientation": "v",
         "showlegend": true,
         "type": "scatter",
         "x": [
          2
         ],
         "xaxis": "x",
         "y": [
          0.30000000000000004
         ],
         "yaxis": "y"
        },
        {
         "hovertemplate": "<b>%{hovertext}</b><br><br>Distribuidor=Core Design Ltd.<br>Juegos publicados=%{x}<br>Ventas globales=%{marker.size}<extra></extra>",
         "hovertext": [
          "Core Design Ltd."
         ],
         "legendgroup": "Core Design Ltd.",
         "marker": {
          "color": "#00cc96",
          "size": [
           0.29000000000000004
          ],
          "sizemode": "area",
          "sizeref": 0.49626666666666663,
          "symbol": "circle"
         },
         "mode": "markers",
         "name": "Core Design Ltd.",
         "orientation": "v",
         "showlegend": true,
         "type": "scatter",
         "x": [
          2
         ],
         "xaxis": "x",
         "y": [
          0.29000000000000004
         ],
         "yaxis": "y"
        },
        {
         "hovertemplate": "<b>%{hovertext}</b><br><br>Distribuidor=Data Design Interactive<br>Juegos publicados=%{x}<br>Ventas globales=%{marker.size}<extra></extra>",
         "hovertext": [
          "Data Design Interactive"
         ],
         "legendgroup": "Data Design Interactive",
         "marker": {
          "color": "#ab63fa",
          "size": [
           0.29000000000000004
          ],
          "sizemode": "area",
          "sizeref": 0.49626666666666663,
          "symbol": "circle"
         },
         "mode": "markers",
         "name": "Data Design Interactive",
         "orientation": "v",
         "showlegend": true,
         "type": "scatter",
         "x": [
          3
         ],
         "xaxis": "x",
         "y": [
          0.29000000000000004
         ],
         "yaxis": "y"
        },
        {
         "hovertemplate": "<b>%{hovertext}</b><br><br>Distribuidor=Media Factory<br>Juegos publicados=%{x}<br>Ventas globales=%{marker.size}<extra></extra>",
         "hovertext": [
          "Media Factory"
         ],
         "legendgroup": "Media Factory",
         "marker": {
          "color": "#FFA15A",
          "size": [
           0.29000000000000004
          ],
          "sizemode": "area",
          "sizeref": 0.49626666666666663,
          "symbol": "circle"
         },
         "mode": "markers",
         "name": "Media Factory",
         "orientation": "v",
         "showlegend": true,
         "type": "scatter",
         "x": [
          2
         ],
         "xaxis": "x",
         "y": [
          0.29000000000000004
         ],
         "yaxis": "y"
        },
        {
         "hovertemplate": "<b>%{hovertext}</b><br><br>Distribuidor=Wargaming.net<br>Juegos publicados=%{x}<br>Ventas globales=%{marker.size}<extra></extra>",
         "hovertext": [
          "Wargaming.net"
         ],
         "legendgroup": "Wargaming.net",
         "marker": {
          "color": "#19d3f3",
          "size": [
           0.29
          ],
          "sizemode": "area",
          "sizeref": 0.49626666666666663,
          "symbol": "circle"
         },
         "mode": "markers",
         "name": "Wargaming.net",
         "orientation": "v",
         "showlegend": true,
         "type": "scatter",
         "x": [
          1
         ],
         "xaxis": "x",
         "y": [
          0.29
         ],
         "yaxis": "y"
        },
        {
         "hovertemplate": "<b>%{hovertext}</b><br><br>Distribuidor=Playmates<br>Juegos publicados=%{x}<br>Ventas globales=%{marker.size}<extra></extra>",
         "hovertext": [
          "Playmates"
         ],
         "legendgroup": "Playmates",
         "marker": {
          "color": "#FF6692",
          "size": [
           0.28
          ],
          "sizemode": "area",
          "sizeref": 0.49626666666666663,
          "symbol": "circle"
         },
         "mode": "markers",
         "name": "Playmates",
         "orientation": "v",
         "showlegend": true,
         "type": "scatter",
         "x": [
          1
         ],
         "xaxis": "x",
         "y": [
          0.28
         ],
         "yaxis": "y"
        },
        {
         "hovertemplate": "<b>%{hovertext}</b><br><br>Distribuidor=Excalibur Publishing<br>Juegos publicados=%{x}<br>Ventas globales=%{marker.size}<extra></extra>",
         "hovertext": [
          "Excalibur Publishing"
         ],
         "legendgroup": "Excalibur Publishing",
         "marker": {
          "color": "#B6E880",
          "size": [
           0.28
          ],
          "sizemode": "area",
          "sizeref": 0.49626666666666663,
          "symbol": "circle"
         },
         "mode": "markers",
         "name": "Excalibur Publishing",
         "orientation": "v",
         "showlegend": true,
         "type": "scatter",
         "x": [
          4
         ],
         "xaxis": "x",
         "y": [
          0.28
         ],
         "yaxis": "y"
        },
        {
         "hovertemplate": "<b>%{hovertext}</b><br><br>Distribuidor=Nichibutsu<br>Juegos publicados=%{x}<br>Ventas globales=%{marker.size}<extra></extra>",
         "hovertext": [
          "Nichibutsu"
         ],
         "legendgroup": "Nichibutsu",
         "marker": {
          "color": "#FF97FF",
          "size": [
           0.28
          ],
          "sizemode": "area",
          "sizeref": 0.49626666666666663,
          "symbol": "circle"
         },
         "mode": "markers",
         "name": "Nichibutsu",
         "orientation": "v",
         "showlegend": true,
         "type": "scatter",
         "x": [
          1
         ],
         "xaxis": "x",
         "y": [
          0.28
         ],
         "yaxis": "y"
        },
        {
         "hovertemplate": "<b>%{hovertext}</b><br><br>Distribuidor=Tru Blu Entertainment<br>Juegos publicados=%{x}<br>Ventas globales=%{marker.size}<extra></extra>",
         "hovertext": [
          "Tru Blu Entertainment"
         ],
         "legendgroup": "Tru Blu Entertainment",
         "marker": {
          "color": "#FECB52",
          "size": [
           0.27999999999999997
          ],
          "sizemode": "area",
          "sizeref": 0.49626666666666663,
          "symbol": "circle"
         },
         "mode": "markers",
         "name": "Tru Blu Entertainment",
         "orientation": "v",
         "showlegend": true,
         "type": "scatter",
         "x": [
          8
         ],
         "xaxis": "x",
         "y": [
          0.27999999999999997
         ],
         "yaxis": "y"
        },
        {
         "hovertemplate": "<b>%{hovertext}</b><br><br>Distribuidor=Daedalic<br>Juegos publicados=%{x}<br>Ventas globales=%{marker.size}<extra></extra>",
         "hovertext": [
          "Daedalic"
         ],
         "legendgroup": "Daedalic",
         "marker": {
          "color": "#636efa",
          "size": [
           0.27999999999999997
          ],
          "sizemode": "area",
          "sizeref": 0.49626666666666663,
          "symbol": "circle"
         },
         "mode": "markers",
         "name": "Daedalic",
         "orientation": "v",
         "showlegend": true,
         "type": "scatter",
         "x": [
          3
         ],
         "xaxis": "x",
         "y": [
          0.27999999999999997
         ],
         "yaxis": "y"
        },
        {
         "hovertemplate": "<b>%{hovertext}</b><br><br>Distribuidor=Liquid Games<br>Juegos publicados=%{x}<br>Ventas globales=%{marker.size}<extra></extra>",
         "hovertext": [
          "Liquid Games"
         ],
         "legendgroup": "Liquid Games",
         "marker": {
          "color": "#EF553B",
          "size": [
           0.27
          ],
          "sizemode": "area",
          "sizeref": 0.49626666666666663,
          "symbol": "circle"
         },
         "mode": "markers",
         "name": "Liquid Games",
         "orientation": "v",
         "showlegend": true,
         "type": "scatter",
         "x": [
          2
         ],
         "xaxis": "x",
         "y": [
          0.27
         ],
         "yaxis": "y"
        },
        {
         "hovertemplate": "<b>%{hovertext}</b><br><br>Distribuidor=Telstar<br>Juegos publicados=%{x}<br>Ventas globales=%{marker.size}<extra></extra>",
         "hovertext": [
          "Telstar"
         ],
         "legendgroup": "Telstar",
         "marker": {
          "color": "#00cc96",
          "size": [
           0.27
          ],
          "sizemode": "area",
          "sizeref": 0.49626666666666663,
          "symbol": "circle"
         },
         "mode": "markers",
         "name": "Telstar",
         "orientation": "v",
         "showlegend": true,
         "type": "scatter",
         "x": [
          3
         ],
         "xaxis": "x",
         "y": [
          0.27
         ],
         "yaxis": "y"
        },
        {
         "hovertemplate": "<b>%{hovertext}</b><br><br>Distribuidor=ASCII Media Works<br>Juegos publicados=%{x}<br>Ventas globales=%{marker.size}<extra></extra>",
         "hovertext": [
          "ASCII Media Works"
         ],
         "legendgroup": "ASCII Media Works",
         "marker": {
          "color": "#ab63fa",
          "size": [
           0.27
          ],
          "sizemode": "area",
          "sizeref": 0.49626666666666663,
          "symbol": "circle"
         },
         "mode": "markers",
         "name": "ASCII Media Works",
         "orientation": "v",
         "showlegend": true,
         "type": "scatter",
         "x": [
          9
         ],
         "xaxis": "x",
         "y": [
          0.27
         ],
         "yaxis": "y"
        },
        {
         "hovertemplate": "<b>%{hovertext}</b><br><br>Distribuidor=Culture Brain<br>Juegos publicados=%{x}<br>Ventas globales=%{marker.size}<extra></extra>",
         "hovertext": [
          "Culture Brain"
         ],
         "legendgroup": "Culture Brain",
         "marker": {
          "color": "#FFA15A",
          "size": [
           0.27
          ],
          "sizemode": "area",
          "sizeref": 0.49626666666666663,
          "symbol": "circle"
         },
         "mode": "markers",
         "name": "Culture Brain",
         "orientation": "v",
         "showlegend": true,
         "type": "scatter",
         "x": [
          4
         ],
         "xaxis": "x",
         "y": [
          0.27
         ],
         "yaxis": "y"
        },
        {
         "hovertemplate": "<b>%{hovertext}</b><br><br>Distribuidor=CyberFront<br>Juegos publicados=%{x}<br>Ventas globales=%{marker.size}<extra></extra>",
         "hovertext": [
          "CyberFront"
         ],
         "legendgroup": "CyberFront",
         "marker": {
          "color": "#19d3f3",
          "size": [
           0.27
          ],
          "sizemode": "area",
          "sizeref": 0.49626666666666663,
          "symbol": "circle"
         },
         "mode": "markers",
         "name": "CyberFront",
         "orientation": "v",
         "showlegend": true,
         "type": "scatter",
         "x": [
          14
         ],
         "xaxis": "x",
         "y": [
          0.27
         ],
         "yaxis": "y"
        },
        {
         "hovertemplate": "<b>%{hovertext}</b><br><br>Distribuidor=Syscom<br>Juegos publicados=%{x}<br>Ventas globales=%{marker.size}<extra></extra>",
         "hovertext": [
          "Syscom"
         ],
         "legendgroup": "Syscom",
         "marker": {
          "color": "#FF6692",
          "size": [
           0.27
          ],
          "sizemode": "area",
          "sizeref": 0.49626666666666663,
          "symbol": "circle"
         },
         "mode": "markers",
         "name": "Syscom",
         "orientation": "v",
         "showlegend": true,
         "type": "scatter",
         "x": [
          2
         ],
         "xaxis": "x",
         "y": [
          0.27
         ],
         "yaxis": "y"
        },
        {
         "hovertemplate": "<b>%{hovertext}</b><br><br>Distribuidor=Vic Tokai<br>Juegos publicados=%{x}<br>Ventas globales=%{marker.size}<extra></extra>",
         "hovertext": [
          "Vic Tokai"
         ],
         "legendgroup": "Vic Tokai",
         "marker": {
          "color": "#B6E880",
          "size": [
           0.27
          ],
          "sizemode": "area",
          "sizeref": 0.49626666666666663,
          "symbol": "circle"
         },
         "mode": "markers",
         "name": "Vic Tokai",
         "orientation": "v",
         "showlegend": true,
         "type": "scatter",
         "x": [
          2
         ],
         "xaxis": "x",
         "y": [
          0.27
         ],
         "yaxis": "y"
        },
        {
         "hovertemplate": "<b>%{hovertext}</b><br><br>Distribuidor=Pacific Century Cyber Works<br>Juegos publicados=%{x}<br>Ventas globales=%{marker.size}<extra></extra>",
         "hovertext": [
          "Pacific Century Cyber Works"
         ],
         "legendgroup": "Pacific Century Cyber Works",
         "marker": {
          "color": "#FF97FF",
          "size": [
           0.26
          ],
          "sizemode": "area",
          "sizeref": 0.49626666666666663,
          "symbol": "circle"
         },
         "mode": "markers",
         "name": "Pacific Century Cyber Works",
         "orientation": "v",
         "showlegend": true,
         "type": "scatter",
         "x": [
          1
         ],
         "xaxis": "x",
         "y": [
          0.26
         ],
         "yaxis": "y"
        },
        {
         "hovertemplate": "<b>%{hovertext}</b><br><br>Distribuidor=Nippon Telenet<br>Juegos publicados=%{x}<br>Ventas globales=%{marker.size}<extra></extra>",
         "hovertext": [
          "Nippon Telenet"
         ],
         "legendgroup": "Nippon Telenet",
         "marker": {
          "color": "#FECB52",
          "size": [
           0.26
          ],
          "sizemode": "area",
          "sizeref": 0.49626666666666663,
          "symbol": "circle"
         },
         "mode": "markers",
         "name": "Nippon Telenet",
         "orientation": "v",
         "showlegend": true,
         "type": "scatter",
         "x": [
          2
         ],
         "xaxis": "x",
         "y": [
          0.26
         ],
         "yaxis": "y"
        },
        {
         "hovertemplate": "<b>%{hovertext}</b><br><br>Distribuidor=Vir2L Studios<br>Juegos publicados=%{x}<br>Ventas globales=%{marker.size}<extra></extra>",
         "hovertext": [
          "Vir2L Studios"
         ],
         "legendgroup": "Vir2L Studios",
         "marker": {
          "color": "#636efa",
          "size": [
           0.26
          ],
          "sizemode": "area",
          "sizeref": 0.49626666666666663,
          "symbol": "circle"
         },
         "mode": "markers",
         "name": "Vir2L Studios",
         "orientation": "v",
         "showlegend": true,
         "type": "scatter",
         "x": [
          3
         ],
         "xaxis": "x",
         "y": [
          0.26
         ],
         "yaxis": "y"
        },
        {
         "hovertemplate": "<b>%{hovertext}</b><br><br>Distribuidor=Asgard<br>Juegos publicados=%{x}<br>Ventas globales=%{marker.size}<extra></extra>",
         "hovertext": [
          "Asgard"
         ],
         "legendgroup": "Asgard",
         "marker": {
          "color": "#EF553B",
          "size": [
           0.25
          ],
          "sizemode": "area",
          "sizeref": 0.49626666666666663,
          "symbol": "circle"
         },
         "mode": "markers",
         "name": "Asgard",
         "orientation": "v",
         "showlegend": true,
         "type": "scatter",
         "x": [
          8
         ],
         "xaxis": "x",
         "y": [
          0.25
         ],
         "yaxis": "y"
        },
        {
         "hovertemplate": "<b>%{hovertext}</b><br><br>Distribuidor=Paon<br>Juegos publicados=%{x}<br>Ventas globales=%{marker.size}<extra></extra>",
         "hovertext": [
          "Paon"
         ],
         "legendgroup": "Paon",
         "marker": {
          "color": "#00cc96",
          "size": [
           0.25
          ],
          "sizemode": "area",
          "sizeref": 0.49626666666666663,
          "symbol": "circle"
         },
         "mode": "markers",
         "name": "Paon",
         "orientation": "v",
         "showlegend": true,
         "type": "scatter",
         "x": [
          6
         ],
         "xaxis": "x",
         "y": [
          0.25
         ],
         "yaxis": "y"
        },
        {
         "hovertemplate": "<b>%{hovertext}</b><br><br>Distribuidor=Axela<br>Juegos publicados=%{x}<br>Ventas globales=%{marker.size}<extra></extra>",
         "hovertext": [
          "Axela"
         ],
         "legendgroup": "Axela",
         "marker": {
          "color": "#ab63fa",
          "size": [
           0.25
          ],
          "sizemode": "area",
          "sizeref": 0.49626666666666663,
          "symbol": "circle"
         },
         "mode": "markers",
         "name": "Axela",
         "orientation": "v",
         "showlegend": true,
         "type": "scatter",
         "x": [
          1
         ],
         "xaxis": "x",
         "y": [
          0.25
         ],
         "yaxis": "y"
        },
        {
         "hovertemplate": "<b>%{hovertext}</b><br><br>Distribuidor=Xing Entertainment<br>Juegos publicados=%{x}<br>Ventas globales=%{marker.size}<extra></extra>",
         "hovertext": [
          "Xing Entertainment"
         ],
         "legendgroup": "Xing Entertainment",
         "marker": {
          "color": "#FFA15A",
          "size": [
           0.24
          ],
          "sizemode": "area",
          "sizeref": 0.49626666666666663,
          "symbol": "circle"
         },
         "mode": "markers",
         "name": "Xing Entertainment",
         "orientation": "v",
         "showlegend": true,
         "type": "scatter",
         "x": [
          1
         ],
         "xaxis": "x",
         "y": [
          0.24
         ],
         "yaxis": "y"
        },
        {
         "hovertemplate": "<b>%{hovertext}</b><br><br>Distribuidor=Yeti<br>Juegos publicados=%{x}<br>Ventas globales=%{marker.size}<extra></extra>",
         "hovertext": [
          "Yeti"
         ],
         "legendgroup": "Yeti",
         "marker": {
          "color": "#19d3f3",
          "size": [
           0.24
          ],
          "sizemode": "area",
          "sizeref": 0.49626666666666663,
          "symbol": "circle"
         },
         "mode": "markers",
         "name": "Yeti",
         "orientation": "v",
         "showlegend": true,
         "type": "scatter",
         "x": [
          11
         ],
         "xaxis": "x",
         "y": [
          0.24
         ],
         "yaxis": "y"
        },
        {
         "hovertemplate": "<b>%{hovertext}</b><br><br>Distribuidor=Detn8 Games<br>Juegos publicados=%{x}<br>Ventas globales=%{marker.size}<extra></extra>",
         "hovertext": [
          "Detn8 Games"
         ],
         "legendgroup": "Detn8 Games",
         "marker": {
          "color": "#FF6692",
          "size": [
           0.23
          ],
          "sizemode": "area",
          "sizeref": 0.49626666666666663,
          "symbol": "circle"
         },
         "mode": "markers",
         "name": "Detn8 Games",
         "orientation": "v",
         "showlegend": true,
         "type": "scatter",
         "x": [
          1
         ],
         "xaxis": "x",
         "y": [
          0.23
         ],
         "yaxis": "y"
        },
        {
         "hovertemplate": "<b>%{hovertext}</b><br><br>Distribuidor=Essential Games<br>Juegos publicados=%{x}<br>Ventas globales=%{marker.size}<extra></extra>",
         "hovertext": [
          "Essential Games"
         ],
         "legendgroup": "Essential Games",
         "marker": {
          "color": "#B6E880",
          "size": [
           0.23
          ],
          "sizemode": "area",
          "sizeref": 0.49626666666666663,
          "symbol": "circle"
         },
         "mode": "markers",
         "name": "Essential Games",
         "orientation": "v",
         "showlegend": true,
         "type": "scatter",
         "x": [
          3
         ],
         "xaxis": "x",
         "y": [
          0.23
         ],
         "yaxis": "y"
        },
        {
         "hovertemplate": "<b>%{hovertext}</b><br><br>Distribuidor=Asmik Ace Entertainment<br>Juegos publicados=%{x}<br>Ventas globales=%{marker.size}<extra></extra>",
         "hovertext": [
          "Asmik Ace Entertainment"
         ],
         "legendgroup": "Asmik Ace Entertainment",
         "marker": {
          "color": "#FF97FF",
          "size": [
           0.23
          ],
          "sizemode": "area",
          "sizeref": 0.49626666666666663,
          "symbol": "circle"
         },
         "mode": "markers",
         "name": "Asmik Ace Entertainment",
         "orientation": "v",
         "showlegend": true,
         "type": "scatter",
         "x": [
          3
         ],
         "xaxis": "x",
         "y": [
          0.23
         ],
         "yaxis": "y"
        },
        {
         "hovertemplate": "<b>%{hovertext}</b><br><br>Distribuidor=American Softworks<br>Juegos publicados=%{x}<br>Ventas globales=%{marker.size}<extra></extra>",
         "hovertext": [
          "American Softworks"
         ],
         "legendgroup": "American Softworks",
         "marker": {
          "color": "#FECB52",
          "size": [
           0.23
          ],
          "sizemode": "area",
          "sizeref": 0.49626666666666663,
          "symbol": "circle"
         },
         "mode": "markers",
         "name": "American Softworks",
         "orientation": "v",
         "showlegend": true,
         "type": "scatter",
         "x": [
          1
         ],
         "xaxis": "x",
         "y": [
          0.23
         ],
         "yaxis": "y"
        },
        {
         "hovertemplate": "<b>%{hovertext}</b><br><br>Distribuidor=Daito<br>Juegos publicados=%{x}<br>Ventas globales=%{marker.size}<extra></extra>",
         "hovertext": [
          "Daito"
         ],
         "legendgroup": "Daito",
         "marker": {
          "color": "#636efa",
          "size": [
           0.22999999999999998
          ],
          "sizemode": "area",
          "sizeref": 0.49626666666666663,
          "symbol": "circle"
         },
         "mode": "markers",
         "name": "Daito",
         "orientation": "v",
         "showlegend": true,
         "type": "scatter",
         "x": [
          4
         ],
         "xaxis": "x",
         "y": [
          0.22999999999999998
         ],
         "yaxis": "y"
        },
        {
         "hovertemplate": "<b>%{hovertext}</b><br><br>Distribuidor=Vatical Entertainment<br>Juegos publicados=%{x}<br>Ventas globales=%{marker.size}<extra></extra>",
         "hovertext": [
          "Vatical Entertainment"
         ],
         "legendgroup": "Vatical Entertainment",
         "marker": {
          "color": "#EF553B",
          "size": [
           0.22
          ],
          "sizemode": "area",
          "sizeref": 0.49626666666666663,
          "symbol": "circle"
         },
         "mode": "markers",
         "name": "Vatical Entertainment",
         "orientation": "v",
         "showlegend": true,
         "type": "scatter",
         "x": [
          2
         ],
         "xaxis": "x",
         "y": [
          0.22
         ],
         "yaxis": "y"
        },
        {
         "hovertemplate": "<b>%{hovertext}</b><br><br>Distribuidor=System 3<br>Juegos publicados=%{x}<br>Ventas globales=%{marker.size}<extra></extra>",
         "hovertext": [
          "System 3"
         ],
         "legendgroup": "System 3",
         "marker": {
          "color": "#00cc96",
          "size": [
           0.22
          ],
          "sizemode": "area",
          "sizeref": 0.49626666666666663,
          "symbol": "circle"
         },
         "mode": "markers",
         "name": "System 3",
         "orientation": "v",
         "showlegend": true,
         "type": "scatter",
         "x": [
          3
         ],
         "xaxis": "x",
         "y": [
          0.22
         ],
         "yaxis": "y"
        },
        {
         "hovertemplate": "<b>%{hovertext}</b><br><br>Distribuidor=CCP<br>Juegos publicados=%{x}<br>Ventas globales=%{marker.size}<extra></extra>",
         "hovertext": [
          "CCP"
         ],
         "legendgroup": "CCP",
         "marker": {
          "color": "#ab63fa",
          "size": [
           0.22
          ],
          "sizemode": "area",
          "sizeref": 0.49626666666666663,
          "symbol": "circle"
         },
         "mode": "markers",
         "name": "CCP",
         "orientation": "v",
         "showlegend": true,
         "type": "scatter",
         "x": [
          1
         ],
         "xaxis": "x",
         "y": [
          0.22
         ],
         "yaxis": "y"
        },
        {
         "hovertemplate": "<b>%{hovertext}</b><br><br>Distribuidor=Bomb<br>Juegos publicados=%{x}<br>Ventas globales=%{marker.size}<extra></extra>",
         "hovertext": [
          "Bomb"
         ],
         "legendgroup": "Bomb",
         "marker": {
          "color": "#FFA15A",
          "size": [
           0.22
          ],
          "sizemode": "area",
          "sizeref": 0.49626666666666663,
          "symbol": "circle"
         },
         "mode": "markers",
         "name": "Bomb",
         "orientation": "v",
         "showlegend": true,
         "type": "scatter",
         "x": [
          1
         ],
         "xaxis": "x",
         "y": [
          0.22
         ],
         "yaxis": "y"
        },
        {
         "hovertemplate": "<b>%{hovertext}</b><br><br>Distribuidor=O3 Entertainment<br>Juegos publicados=%{x}<br>Ventas globales=%{marker.size}<extra></extra>",
         "hovertext": [
          "O3 Entertainment"
         ],
         "legendgroup": "O3 Entertainment",
         "marker": {
          "color": "#19d3f3",
          "size": [
           0.22
          ],
          "sizemode": "area",
          "sizeref": 0.49626666666666663,
          "symbol": "circle"
         },
         "mode": "markers",
         "name": "O3 Entertainment",
         "orientation": "v",
         "showlegend": true,
         "type": "scatter",
         "x": [
          3
         ],
         "xaxis": "x",
         "y": [
          0.22
         ],
         "yaxis": "y"
        },
        {
         "hovertemplate": "<b>%{hovertext}</b><br><br>Distribuidor=Quinrose<br>Juegos publicados=%{x}<br>Ventas globales=%{marker.size}<extra></extra>",
         "hovertext": [
          "Quinrose"
         ],
         "legendgroup": "Quinrose",
         "marker": {
          "color": "#FF6692",
          "size": [
           0.22
          ],
          "sizemode": "area",
          "sizeref": 0.49626666666666663,
          "symbol": "circle"
         },
         "mode": "markers",
         "name": "Quinrose",
         "orientation": "v",
         "showlegend": true,
         "type": "scatter",
         "x": [
          14
         ],
         "xaxis": "x",
         "y": [
          0.22
         ],
         "yaxis": "y"
        },
        {
         "hovertemplate": "<b>%{hovertext}</b><br><br>Distribuidor=Tommo<br>Juegos publicados=%{x}<br>Ventas globales=%{marker.size}<extra></extra>",
         "hovertext": [
          "Tommo"
         ],
         "legendgroup": "Tommo",
         "marker": {
          "color": "#B6E880",
          "size": [
           0.21000000000000002
          ],
          "sizemode": "area",
          "sizeref": 0.49626666666666663,
          "symbol": "circle"
         },
         "mode": "markers",
         "name": "Tommo",
         "orientation": "v",
         "showlegend": true,
         "type": "scatter",
         "x": [
          5
         ],
         "xaxis": "x",
         "y": [
          0.21000000000000002
         ],
         "yaxis": "y"
        },
        {
         "hovertemplate": "<b>%{hovertext}</b><br><br>Distribuidor=Slitherine Software<br>Juegos publicados=%{x}<br>Ventas globales=%{marker.size}<extra></extra>",
         "hovertext": [
          "Slitherine Software"
         ],
         "legendgroup": "Slitherine Software",
         "marker": {
          "color": "#FF97FF",
          "size": [
           0.21000000000000002
          ],
          "sizemode": "area",
          "sizeref": 0.49626666666666663,
          "symbol": "circle"
         },
         "mode": "markers",
         "name": "Slitherine Software",
         "orientation": "v",
         "showlegend": true,
         "type": "scatter",
         "x": [
          4
         ],
         "xaxis": "x",
         "y": [
          0.21000000000000002
         ],
         "yaxis": "y"
        },
        {
         "hovertemplate": "<b>%{hovertext}</b><br><br>Distribuidor=Mercury Games<br>Juegos publicados=%{x}<br>Ventas globales=%{marker.size}<extra></extra>",
         "hovertext": [
          "Mercury Games"
         ],
         "legendgroup": "Mercury Games",
         "marker": {
          "color": "#FECB52",
          "size": [
           0.21
          ],
          "sizemode": "area",
          "sizeref": 0.49626666666666663,
          "symbol": "circle"
         },
         "mode": "markers",
         "name": "Mercury Games",
         "orientation": "v",
         "showlegend": true,
         "type": "scatter",
         "x": [
          4
         ],
         "xaxis": "x",
         "y": [
          0.21
         ],
         "yaxis": "y"
        },
        {
         "hovertemplate": "<b>%{hovertext}</b><br><br>Distribuidor=On Demand<br>Juegos publicados=%{x}<br>Ventas globales=%{marker.size}<extra></extra>",
         "hovertext": [
          "On Demand"
         ],
         "legendgroup": "On Demand",
         "marker": {
          "color": "#636efa",
          "size": [
           0.21
          ],
          "sizemode": "area",
          "sizeref": 0.49626666666666663,
          "symbol": "circle"
         },
         "mode": "markers",
         "name": "On Demand",
         "orientation": "v",
         "showlegend": true,
         "type": "scatter",
         "x": [
          1
         ],
         "xaxis": "x",
         "y": [
          0.21
         ],
         "yaxis": "y"
        },
        {
         "hovertemplate": "<b>%{hovertext}</b><br><br>Distribuidor=Sears<br>Juegos publicados=%{x}<br>Ventas globales=%{marker.size}<extra></extra>",
         "hovertext": [
          "Sears"
         ],
         "legendgroup": "Sears",
         "marker": {
          "color": "#EF553B",
          "size": [
           0.21
          ],
          "sizemode": "area",
          "sizeref": 0.49626666666666663,
          "symbol": "circle"
         },
         "mode": "markers",
         "name": "Sears",
         "orientation": "v",
         "showlegend": true,
         "type": "scatter",
         "x": [
          1
         ],
         "xaxis": "x",
         "y": [
          0.21
         ],
         "yaxis": "y"
        },
        {
         "hovertemplate": "<b>%{hovertext}</b><br><br>Distribuidor=Alternative Software<br>Juegos publicados=%{x}<br>Ventas globales=%{marker.size}<extra></extra>",
         "hovertext": [
          "Alternative Software"
         ],
         "legendgroup": "Alternative Software",
         "marker": {
          "color": "#00cc96",
          "size": [
           0.2
          ],
          "sizemode": "area",
          "sizeref": 0.49626666666666663,
          "symbol": "circle"
         },
         "mode": "markers",
         "name": "Alternative Software",
         "orientation": "v",
         "showlegend": true,
         "type": "scatter",
         "x": [
          6
         ],
         "xaxis": "x",
         "y": [
          0.2
         ],
         "yaxis": "y"
        },
        {
         "hovertemplate": "<b>%{hovertext}</b><br><br>Distribuidor=CDV Software Entertainment<br>Juegos publicados=%{x}<br>Ventas globales=%{marker.size}<extra></extra>",
         "hovertext": [
          "CDV Software Entertainment"
         ],
         "legendgroup": "CDV Software Entertainment",
         "marker": {
          "color": "#ab63fa",
          "size": [
           0.2
          ],
          "sizemode": "area",
          "sizeref": 0.49626666666666663,
          "symbol": "circle"
         },
         "mode": "markers",
         "name": "CDV Software Entertainment",
         "orientation": "v",
         "showlegend": true,
         "type": "scatter",
         "x": [
          6
         ],
         "xaxis": "x",
         "y": [
          0.2
         ],
         "yaxis": "y"
        },
        {
         "hovertemplate": "<b>%{hovertext}</b><br><br>Distribuidor=Gamecock<br>Juegos publicados=%{x}<br>Ventas globales=%{marker.size}<extra></extra>",
         "hovertext": [
          "Gamecock"
         ],
         "legendgroup": "Gamecock",
         "marker": {
          "color": "#FFA15A",
          "size": [
           0.2
          ],
          "sizemode": "area",
          "sizeref": 0.49626666666666663,
          "symbol": "circle"
         },
         "mode": "markers",
         "name": "Gamecock",
         "orientation": "v",
         "showlegend": true,
         "type": "scatter",
         "x": [
          4
         ],
         "xaxis": "x",
         "y": [
          0.2
         ],
         "yaxis": "y"
        },
        {
         "hovertemplate": "<b>%{hovertext}</b><br><br>Distribuidor=Funsta<br>Juegos publicados=%{x}<br>Ventas globales=%{marker.size}<extra></extra>",
         "hovertext": [
          "Funsta"
         ],
         "legendgroup": "Funsta",
         "marker": {
          "color": "#19d3f3",
          "size": [
           0.2
          ],
          "sizemode": "area",
          "sizeref": 0.49626666666666663,
          "symbol": "circle"
         },
         "mode": "markers",
         "name": "Funsta",
         "orientation": "v",
         "showlegend": true,
         "type": "scatter",
         "x": [
          4
         ],
         "xaxis": "x",
         "y": [
          0.2
         ],
         "yaxis": "y"
        },
        {
         "hovertemplate": "<b>%{hovertext}</b><br><br>Distribuidor=Merscom LLC<br>Juegos publicados=%{x}<br>Ventas globales=%{marker.size}<extra></extra>",
         "hovertext": [
          "Merscom LLC"
         ],
         "legendgroup": "Merscom LLC",
         "marker": {
          "color": "#FF6692",
          "size": [
           0.2
          ],
          "sizemode": "area",
          "sizeref": 0.49626666666666663,
          "symbol": "circle"
         },
         "mode": "markers",
         "name": "Merscom LLC",
         "orientation": "v",
         "showlegend": true,
         "type": "scatter",
         "x": [
          1
         ],
         "xaxis": "x",
         "y": [
          0.2
         ],
         "yaxis": "y"
        },
        {
         "hovertemplate": "<b>%{hovertext}</b><br><br>Distribuidor=Micro Cabin<br>Juegos publicados=%{x}<br>Ventas globales=%{marker.size}<extra></extra>",
         "hovertext": [
          "Micro Cabin"
         ],
         "legendgroup": "Micro Cabin",
         "marker": {
          "color": "#B6E880",
          "size": [
           0.2
          ],
          "sizemode": "area",
          "sizeref": 0.49626666666666663,
          "symbol": "circle"
         },
         "mode": "markers",
         "name": "Micro Cabin",
         "orientation": "v",
         "showlegend": true,
         "type": "scatter",
         "x": [
          3
         ],
         "xaxis": "x",
         "y": [
          0.2
         ],
         "yaxis": "y"
        },
        {
         "hovertemplate": "<b>%{hovertext}</b><br><br>Distribuidor=Funcom<br>Juegos publicados=%{x}<br>Ventas globales=%{marker.size}<extra></extra>",
         "hovertext": [
          "Funcom"
         ],
         "legendgroup": "Funcom",
         "marker": {
          "color": "#FF97FF",
          "size": [
           0.2
          ],
          "sizemode": "area",
          "sizeref": 0.49626666666666663,
          "symbol": "circle"
         },
         "mode": "markers",
         "name": "Funcom",
         "orientation": "v",
         "showlegend": true,
         "type": "scatter",
         "x": [
          2
         ],
         "xaxis": "x",
         "y": [
          0.2
         ],
         "yaxis": "y"
        },
        {
         "hovertemplate": "<b>%{hovertext}</b><br><br>Distribuidor=SSI<br>Juegos publicados=%{x}<br>Ventas globales=%{marker.size}<extra></extra>",
         "hovertext": [
          "SSI"
         ],
         "legendgroup": "SSI",
         "marker": {
          "color": "#FECB52",
          "size": [
           0.19
          ],
          "sizemode": "area",
          "sizeref": 0.49626666666666663,
          "symbol": "circle"
         },
         "mode": "markers",
         "name": "SSI",
         "orientation": "v",
         "showlegend": true,
         "type": "scatter",
         "x": [
          1
         ],
         "xaxis": "x",
         "y": [
          0.19
         ],
         "yaxis": "y"
        },
        {
         "hovertemplate": "<b>%{hovertext}</b><br><br>Distribuidor=Phenomedia<br>Juegos publicados=%{x}<br>Ventas globales=%{marker.size}<extra></extra>",
         "hovertext": [
          "Phenomedia"
         ],
         "legendgroup": "Phenomedia",
         "marker": {
          "color": "#636efa",
          "size": [
           0.19
          ],
          "sizemode": "area",
          "sizeref": 0.49626666666666663,
          "symbol": "circle"
         },
         "mode": "markers",
         "name": "Phenomedia",
         "orientation": "v",
         "showlegend": true,
         "type": "scatter",
         "x": [
          4
         ],
         "xaxis": "x",
         "y": [
          0.19
         ],
         "yaxis": "y"
        },
        {
         "hovertemplate": "<b>%{hovertext}</b><br><br>Distribuidor=Happinet<br>Juegos publicados=%{x}<br>Ventas globales=%{marker.size}<extra></extra>",
         "hovertext": [
          "Happinet"
         ],
         "legendgroup": "Happinet",
         "marker": {
          "color": "#EF553B",
          "size": [
           0.18000000000000002
          ],
          "sizemode": "area",
          "sizeref": 0.49626666666666663,
          "symbol": "circle"
         },
         "mode": "markers",
         "name": "Happinet",
         "orientation": "v",
         "showlegend": true,
         "type": "scatter",
         "x": [
          5
         ],
         "xaxis": "x",
         "y": [
          0.18000000000000002
         ],
         "yaxis": "y"
        },
        {
         "hovertemplate": "<b>%{hovertext}</b><br><br>Distribuidor=Media Works<br>Juegos publicados=%{x}<br>Ventas globales=%{marker.size}<extra></extra>",
         "hovertext": [
          "Media Works"
         ],
         "legendgroup": "Media Works",
         "marker": {
          "color": "#00cc96",
          "size": [
           0.18
          ],
          "sizemode": "area",
          "sizeref": 0.49626666666666663,
          "symbol": "circle"
         },
         "mode": "markers",
         "name": "Media Works",
         "orientation": "v",
         "showlegend": true,
         "type": "scatter",
         "x": [
          5
         ],
         "xaxis": "x",
         "y": [
          0.18
         ],
         "yaxis": "y"
        },
        {
         "hovertemplate": "<b>%{hovertext}</b><br><br>Distribuidor=DHM Interactive<br>Juegos publicados=%{x}<br>Ventas globales=%{marker.size}<extra></extra>",
         "hovertext": [
          "DHM Interactive"
         ],
         "legendgroup": "DHM Interactive",
         "marker": {
          "color": "#ab63fa",
          "size": [
           0.18
          ],
          "sizemode": "area",
          "sizeref": 0.49626666666666663,
          "symbol": "circle"
         },
         "mode": "markers",
         "name": "DHM Interactive",
         "orientation": "v",
         "showlegend": true,
         "type": "scatter",
         "x": [
          3
         ],
         "xaxis": "x",
         "y": [
          0.18
         ],
         "yaxis": "y"
        },
        {
         "hovertemplate": "<b>%{hovertext}</b><br><br>Distribuidor=Tivola<br>Juegos publicados=%{x}<br>Ventas globales=%{marker.size}<extra></extra>",
         "hovertext": [
          "Tivola"
         ],
         "legendgroup": "Tivola",
         "marker": {
          "color": "#FFA15A",
          "size": [
           0.17
          ],
          "sizemode": "area",
          "sizeref": 0.49626666666666663,
          "symbol": "circle"
         },
         "mode": "markers",
         "name": "Tivola",
         "orientation": "v",
         "showlegend": true,
         "type": "scatter",
         "x": [
          3
         ],
         "xaxis": "x",
         "y": [
          0.17
         ],
         "yaxis": "y"
        },
        {
         "hovertemplate": "<b>%{hovertext}</b><br><br>Distribuidor=Panther Software<br>Juegos publicados=%{x}<br>Ventas globales=%{marker.size}<extra></extra>",
         "hovertext": [
          "Panther Software"
         ],
         "legendgroup": "Panther Software",
         "marker": {
          "color": "#19d3f3",
          "size": [
           0.17
          ],
          "sizemode": "area",
          "sizeref": 0.49626666666666663,
          "symbol": "circle"
         },
         "mode": "markers",
         "name": "Panther Software",
         "orientation": "v",
         "showlegend": true,
         "type": "scatter",
         "x": [
          1
         ],
         "xaxis": "x",
         "y": [
          0.17
         ],
         "yaxis": "y"
        },
        {
         "hovertemplate": "<b>%{hovertext}</b><br><br>Distribuidor=Adeline Software<br>Juegos publicados=%{x}<br>Ventas globales=%{marker.size}<extra></extra>",
         "hovertext": [
          "Adeline Software"
         ],
         "legendgroup": "Adeline Software",
         "marker": {
          "color": "#FF6692",
          "size": [
           0.17
          ],
          "sizemode": "area",
          "sizeref": 0.49626666666666663,
          "symbol": "circle"
         },
         "mode": "markers",
         "name": "Adeline Software",
         "orientation": "v",
         "showlegend": true,
         "type": "scatter",
         "x": [
          1
         ],
         "xaxis": "x",
         "y": [
          0.17
         ],
         "yaxis": "y"
        },
        {
         "hovertemplate": "<b>%{hovertext}</b><br><br>Distribuidor=Asmik Corp<br>Juegos publicados=%{x}<br>Ventas globales=%{marker.size}<extra></extra>",
         "hovertext": [
          "Asmik Corp"
         ],
         "legendgroup": "Asmik Corp",
         "marker": {
          "color": "#B6E880",
          "size": [
           0.17
          ],
          "sizemode": "area",
          "sizeref": 0.49626666666666663,
          "symbol": "circle"
         },
         "mode": "markers",
         "name": "Asmik Corp",
         "orientation": "v",
         "showlegend": true,
         "type": "scatter",
         "x": [
          2
         ],
         "xaxis": "x",
         "y": [
          0.17
         ],
         "yaxis": "y"
        },
        {
         "hovertemplate": "<b>%{hovertext}</b><br><br>Distribuidor=Sunrise Interactive<br>Juegos publicados=%{x}<br>Ventas globales=%{marker.size}<extra></extra>",
         "hovertext": [
          "Sunrise Interactive"
         ],
         "legendgroup": "Sunrise Interactive",
         "marker": {
          "color": "#FF97FF",
          "size": [
           0.17
          ],
          "sizemode": "area",
          "sizeref": 0.49626666666666663,
          "symbol": "circle"
         },
         "mode": "markers",
         "name": "Sunrise Interactive",
         "orientation": "v",
         "showlegend": true,
         "type": "scatter",
         "x": [
          4
         ],
         "xaxis": "x",
         "y": [
          0.17
         ],
         "yaxis": "y"
        },
        {
         "hovertemplate": "<b>%{hovertext}</b><br><br>Distribuidor=Xicat Interactive<br>Juegos publicados=%{x}<br>Ventas globales=%{marker.size}<extra></extra>",
         "hovertext": [
          "Xicat Interactive"
         ],
         "legendgroup": "Xicat Interactive",
         "marker": {
          "color": "#FECB52",
          "size": [
           0.16999999999999998
          ],
          "sizemode": "area",
          "sizeref": 0.49626666666666663,
          "symbol": "circle"
         },
         "mode": "markers",
         "name": "Xicat Interactive",
         "orientation": "v",
         "showlegend": true,
         "type": "scatter",
         "x": [
          3
         ],
         "xaxis": "x",
         "y": [
          0.16999999999999998
         ],
         "yaxis": "y"
        },
        {
         "hovertemplate": "<b>%{hovertext}</b><br><br>Distribuidor=Gainax Network Systems<br>Juegos publicados=%{x}<br>Ventas globales=%{marker.size}<extra></extra>",
         "hovertext": [
          "Gainax Network Systems"
         ],
         "legendgroup": "Gainax Network Systems",
         "marker": {
          "color": "#636efa",
          "size": [
           0.16
          ],
          "sizemode": "area",
          "sizeref": 0.49626666666666663,
          "symbol": "circle"
         },
         "mode": "markers",
         "name": "Gainax Network Systems",
         "orientation": "v",
         "showlegend": true,
         "type": "scatter",
         "x": [
          2
         ],
         "xaxis": "x",
         "y": [
          0.16
         ],
         "yaxis": "y"
        },
        {
         "hovertemplate": "<b>%{hovertext}</b><br><br>Distribuidor=White Park Bay Software<br>Juegos publicados=%{x}<br>Ventas globales=%{marker.size}<extra></extra>",
         "hovertext": [
          "White Park Bay Software"
         ],
         "legendgroup": "White Park Bay Software",
         "marker": {
          "color": "#EF553B",
          "size": [
           0.16
          ],
          "sizemode": "area",
          "sizeref": 0.49626666666666663,
          "symbol": "circle"
         },
         "mode": "markers",
         "name": "White Park Bay Software",
         "orientation": "v",
         "showlegend": true,
         "type": "scatter",
         "x": [
          1
         ],
         "xaxis": "x",
         "y": [
          0.16
         ],
         "yaxis": "y"
        },
        {
         "hovertemplate": "<b>%{hovertext}</b><br><br>Distribuidor=Aques<br>Juegos publicados=%{x}<br>Ventas globales=%{marker.size}<extra></extra>",
         "hovertext": [
          "Aques"
         ],
         "legendgroup": "Aques",
         "marker": {
          "color": "#00cc96",
          "size": [
           0.16
          ],
          "sizemode": "area",
          "sizeref": 0.49626666666666663,
          "symbol": "circle"
         },
         "mode": "markers",
         "name": "Aques",
         "orientation": "v",
         "showlegend": true,
         "type": "scatter",
         "x": [
          1
         ],
         "xaxis": "x",
         "y": [
          0.16
         ],
         "yaxis": "y"
        },
        {
         "hovertemplate": "<b>%{hovertext}</b><br><br>Distribuidor=Comfort<br>Juegos publicados=%{x}<br>Ventas globales=%{marker.size}<extra></extra>",
         "hovertext": [
          "Comfort"
         ],
         "legendgroup": "Comfort",
         "marker": {
          "color": "#ab63fa",
          "size": [
           0.15
          ],
          "sizemode": "area",
          "sizeref": 0.49626666666666663,
          "symbol": "circle"
         },
         "mode": "markers",
         "name": "Comfort",
         "orientation": "v",
         "showlegend": true,
         "type": "scatter",
         "x": [
          6
         ],
         "xaxis": "x",
         "y": [
          0.15
         ],
         "yaxis": "y"
        },
        {
         "hovertemplate": "<b>%{hovertext}</b><br><br>Distribuidor=Data East<br>Juegos publicados=%{x}<br>Ventas globales=%{marker.size}<extra></extra>",
         "hovertext": [
          "Data East"
         ],
         "legendgroup": "Data East",
         "marker": {
          "color": "#FFA15A",
          "size": [
           0.15
          ],
          "sizemode": "area",
          "sizeref": 0.49626666666666663,
          "symbol": "circle"
         },
         "mode": "markers",
         "name": "Data East",
         "orientation": "v",
         "showlegend": true,
         "type": "scatter",
         "x": [
          2
         ],
         "xaxis": "x",
         "y": [
          0.15
         ],
         "yaxis": "y"
        },
        {
         "hovertemplate": "<b>%{hovertext}</b><br><br>Distribuidor=EA Games<br>Juegos publicados=%{x}<br>Ventas globales=%{marker.size}<extra></extra>",
         "hovertext": [
          "EA Games"
         ],
         "legendgroup": "EA Games",
         "marker": {
          "color": "#19d3f3",
          "size": [
           0.15
          ],
          "sizemode": "area",
          "sizeref": 0.49626666666666663,
          "symbol": "circle"
         },
         "mode": "markers",
         "name": "EA Games",
         "orientation": "v",
         "showlegend": true,
         "type": "scatter",
         "x": [
          1
         ],
         "xaxis": "x",
         "y": [
          0.15
         ],
         "yaxis": "y"
        },
        {
         "hovertemplate": "<b>%{hovertext}</b><br><br>Distribuidor=Global A Entertainment<br>Juegos publicados=%{x}<br>Ventas globales=%{marker.size}<extra></extra>",
         "hovertext": [
          "Global A Entertainment"
         ],
         "legendgroup": "Global A Entertainment",
         "marker": {
          "color": "#FF6692",
          "size": [
           0.15
          ],
          "sizemode": "area",
          "sizeref": 0.49626666666666663,
          "symbol": "circle"
         },
         "mode": "markers",
         "name": "Global A Entertainment",
         "orientation": "v",
         "showlegend": true,
         "type": "scatter",
         "x": [
          4
         ],
         "xaxis": "x",
         "y": [
          0.15
         ],
         "yaxis": "y"
        },
        {
         "hovertemplate": "<b>%{hovertext}</b><br><br>Distribuidor=Kaga Create<br>Juegos publicados=%{x}<br>Ventas globales=%{marker.size}<extra></extra>",
         "hovertext": [
          "Kaga Create"
         ],
         "legendgroup": "Kaga Create",
         "marker": {
          "color": "#B6E880",
          "size": [
           0.14
          ],
          "sizemode": "area",
          "sizeref": 0.49626666666666663,
          "symbol": "circle"
         },
         "mode": "markers",
         "name": "Kaga Create",
         "orientation": "v",
         "showlegend": true,
         "type": "scatter",
         "x": [
          6
         ],
         "xaxis": "x",
         "y": [
          0.14
         ],
         "yaxis": "y"
        },
        {
         "hovertemplate": "<b>%{hovertext}</b><br><br>Distribuidor=Game Arts<br>Juegos publicados=%{x}<br>Ventas globales=%{marker.size}<extra></extra>",
         "hovertext": [
          "Game Arts"
         ],
         "legendgroup": "Game Arts",
         "marker": {
          "color": "#FF97FF",
          "size": [
           0.14
          ],
          "sizemode": "area",
          "sizeref": 0.49626666666666663,
          "symbol": "circle"
         },
         "mode": "markers",
         "name": "Game Arts",
         "orientation": "v",
         "showlegend": true,
         "type": "scatter",
         "x": [
          1
         ],
         "xaxis": "x",
         "y": [
          0.14
         ],
         "yaxis": "y"
        },
        {
         "hovertemplate": "<b>%{hovertext}</b><br><br>Distribuidor=Daedalic Entertainment<br>Juegos publicados=%{x}<br>Ventas globales=%{marker.size}<extra></extra>",
         "hovertext": [
          "Daedalic Entertainment"
         ],
         "legendgroup": "Daedalic Entertainment",
         "marker": {
          "color": "#FECB52",
          "size": [
           0.14
          ],
          "sizemode": "area",
          "sizeref": 0.49626666666666663,
          "symbol": "circle"
         },
         "mode": "markers",
         "name": "Daedalic Entertainment",
         "orientation": "v",
         "showlegend": true,
         "type": "scatter",
         "x": [
          3
         ],
         "xaxis": "x",
         "y": [
          0.14
         ],
         "yaxis": "y"
        },
        {
         "hovertemplate": "<b>%{hovertext}</b><br><br>Distribuidor=Tripwire Interactive<br>Juegos publicados=%{x}<br>Ventas globales=%{marker.size}<extra></extra>",
         "hovertext": [
          "Tripwire Interactive"
         ],
         "legendgroup": "Tripwire Interactive",
         "marker": {
          "color": "#636efa",
          "size": [
           0.14
          ],
          "sizemode": "area",
          "sizeref": 0.49626666666666663,
          "symbol": "circle"
         },
         "mode": "markers",
         "name": "Tripwire Interactive",
         "orientation": "v",
         "showlegend": true,
         "type": "scatter",
         "x": [
          1
         ],
         "xaxis": "x",
         "y": [
          0.14
         ],
         "yaxis": "y"
        },
        {
         "hovertemplate": "<b>%{hovertext}</b><br><br>Distribuidor=Sony Music Entertainment<br>Juegos publicados=%{x}<br>Ventas globales=%{marker.size}<extra></extra>",
         "hovertext": [
          "Sony Music Entertainment"
         ],
         "legendgroup": "Sony Music Entertainment",
         "marker": {
          "color": "#EF553B",
          "size": [
           0.14
          ],
          "sizemode": "area",
          "sizeref": 0.49626666666666663,
          "symbol": "circle"
         },
         "mode": "markers",
         "name": "Sony Music Entertainment",
         "orientation": "v",
         "showlegend": true,
         "type": "scatter",
         "x": [
          1
         ],
         "xaxis": "x",
         "y": [
          0.14
         ],
         "yaxis": "y"
        },
        {
         "hovertemplate": "<b>%{hovertext}</b><br><br>Distribuidor=HMH Interactive<br>Juegos publicados=%{x}<br>Ventas globales=%{marker.size}<extra></extra>",
         "hovertext": [
          "HMH Interactive"
         ],
         "legendgroup": "HMH Interactive",
         "marker": {
          "color": "#00cc96",
          "size": [
           0.14
          ],
          "sizemode": "area",
          "sizeref": 0.49626666666666663,
          "symbol": "circle"
         },
         "mode": "markers",
         "name": "HMH Interactive",
         "orientation": "v",
         "showlegend": true,
         "type": "scatter",
         "x": [
          2
         ],
         "xaxis": "x",
         "y": [
          0.14
         ],
         "yaxis": "y"
        },
        {
         "hovertemplate": "<b>%{hovertext}</b><br><br>Distribuidor=Imadio<br>Juegos publicados=%{x}<br>Ventas globales=%{marker.size}<extra></extra>",
         "hovertext": [
          "Imadio"
         ],
         "legendgroup": "Imadio",
         "marker": {
          "color": "#ab63fa",
          "size": [
           0.14
          ],
          "sizemode": "area",
          "sizeref": 0.49626666666666663,
          "symbol": "circle"
         },
         "mode": "markers",
         "name": "Imadio",
         "orientation": "v",
         "showlegend": true,
         "type": "scatter",
         "x": [
          1
         ],
         "xaxis": "x",
         "y": [
          0.14
         ],
         "yaxis": "y"
        },
        {
         "hovertemplate": "<b>%{hovertext}</b><br><br>Distribuidor=General Entertainment<br>Juegos publicados=%{x}<br>Ventas globales=%{marker.size}<extra></extra>",
         "hovertext": [
          "General Entertainment"
         ],
         "legendgroup": "General Entertainment",
         "marker": {
          "color": "#FFA15A",
          "size": [
           0.14
          ],
          "sizemode": "area",
          "sizeref": 0.49626666666666663,
          "symbol": "circle"
         },
         "mode": "markers",
         "name": "General Entertainment",
         "orientation": "v",
         "showlegend": true,
         "type": "scatter",
         "x": [
          1
         ],
         "xaxis": "x",
         "y": [
          0.14
         ],
         "yaxis": "y"
        },
        {
         "hovertemplate": "<b>%{hovertext}</b><br><br>Distribuidor=Moss<br>Juegos publicados=%{x}<br>Ventas globales=%{marker.size}<extra></extra>",
         "hovertext": [
          "Moss"
         ],
         "legendgroup": "Moss",
         "marker": {
          "color": "#19d3f3",
          "size": [
           0.13
          ],
          "sizemode": "area",
          "sizeref": 0.49626666666666663,
          "symbol": "circle"
         },
         "mode": "markers",
         "name": "Moss",
         "orientation": "v",
         "showlegend": true,
         "type": "scatter",
         "x": [
          2
         ],
         "xaxis": "x",
         "y": [
          0.13
         ],
         "yaxis": "y"
        },
        {
         "hovertemplate": "<b>%{hovertext}</b><br><br>Distribuidor=Havas Interactive<br>Juegos publicados=%{x}<br>Ventas globales=%{marker.size}<extra></extra>",
         "hovertext": [
          "Havas Interactive"
         ],
         "legendgroup": "Havas Interactive",
         "marker": {
          "color": "#FF6692",
          "size": [
           0.13
          ],
          "sizemode": "area",
          "sizeref": 0.49626666666666663,
          "symbol": "circle"
         },
         "mode": "markers",
         "name": "Havas Interactive",
         "orientation": "v",
         "showlegend": true,
         "type": "scatter",
         "x": [
          1
         ],
         "xaxis": "x",
         "y": [
          0.13
         ],
         "yaxis": "y"
        },
        {
         "hovertemplate": "<b>%{hovertext}</b><br><br>Distribuidor=responDESIGN<br>Juegos publicados=%{x}<br>Ventas globales=%{marker.size}<extra></extra>",
         "hovertext": [
          "responDESIGN"
         ],
         "legendgroup": "responDESIGN",
         "marker": {
          "color": "#B6E880",
          "size": [
           0.13
          ],
          "sizemode": "area",
          "sizeref": 0.49626666666666663,
          "symbol": "circle"
         },
         "mode": "markers",
         "name": "responDESIGN",
         "orientation": "v",
         "showlegend": true,
         "type": "scatter",
         "x": [
          2
         ],
         "xaxis": "x",
         "y": [
          0.13
         ],
         "yaxis": "y"
        },
        {
         "hovertemplate": "<b>%{hovertext}</b><br><br>Distribuidor=SCS Software<br>Juegos publicados=%{x}<br>Ventas globales=%{marker.size}<extra></extra>",
         "hovertext": [
          "SCS Software"
         ],
         "legendgroup": "SCS Software",
         "marker": {
          "color": "#FF97FF",
          "size": [
           0.13
          ],
          "sizemode": "area",
          "sizeref": 0.49626666666666663,
          "symbol": "circle"
         },
         "mode": "markers",
         "name": "SCS Software",
         "orientation": "v",
         "showlegend": true,
         "type": "scatter",
         "x": [
          1
         ],
         "xaxis": "x",
         "y": [
          0.13
         ],
         "yaxis": "y"
        },
        {
         "hovertemplate": "<b>%{hovertext}</b><br><br>Distribuidor=DreamWorks Interactive<br>Juegos publicados=%{x}<br>Ventas globales=%{marker.size}<extra></extra>",
         "hovertext": [
          "DreamWorks Interactive"
         ],
         "legendgroup": "DreamWorks Interactive",
         "marker": {
          "color": "#FECB52",
          "size": [
           0.13
          ],
          "sizemode": "area",
          "sizeref": 0.49626666666666663,
          "symbol": "circle"
         },
         "mode": "markers",
         "name": "DreamWorks Interactive",
         "orientation": "v",
         "showlegend": true,
         "type": "scatter",
         "x": [
          1
         ],
         "xaxis": "x",
         "y": [
          0.13
         ],
         "yaxis": "y"
        },
        {
         "hovertemplate": "<b>%{hovertext}</b><br><br>Distribuidor=Myelin Media<br>Juegos publicados=%{x}<br>Ventas globales=%{marker.size}<extra></extra>",
         "hovertext": [
          "Myelin Media"
         ],
         "legendgroup": "Myelin Media",
         "marker": {
          "color": "#636efa",
          "size": [
           0.13
          ],
          "sizemode": "area",
          "sizeref": 0.49626666666666663,
          "symbol": "circle"
         },
         "mode": "markers",
         "name": "Myelin Media",
         "orientation": "v",
         "showlegend": true,
         "type": "scatter",
         "x": [
          3
         ],
         "xaxis": "x",
         "y": [
          0.13
         ],
         "yaxis": "y"
        },
        {
         "hovertemplate": "<b>%{hovertext}</b><br><br>Distribuidor=Insomniac Games<br>Juegos publicados=%{x}<br>Ventas globales=%{marker.size}<extra></extra>",
         "hovertext": [
          "Insomniac Games"
         ],
         "legendgroup": "Insomniac Games",
         "marker": {
          "color": "#EF553B",
          "size": [
           0.12
          ],
          "sizemode": "area",
          "sizeref": 0.49626666666666663,
          "symbol": "circle"
         },
         "mode": "markers",
         "name": "Insomniac Games",
         "orientation": "v",
         "showlegend": true,
         "type": "scatter",
         "x": [
          3
         ],
         "xaxis": "x",
         "y": [
          0.12
         ],
         "yaxis": "y"
        },
        {
         "hovertemplate": "<b>%{hovertext}</b><br><br>Distribuidor=SPS<br>Juegos publicados=%{x}<br>Ventas globales=%{marker.size}<extra></extra>",
         "hovertext": [
          "SPS"
         ],
         "legendgroup": "SPS",
         "marker": {
          "color": "#00cc96",
          "size": [
           0.12
          ],
          "sizemode": "area",
          "sizeref": 0.49626666666666663,
          "symbol": "circle"
         },
         "mode": "markers",
         "name": "SPS",
         "orientation": "v",
         "showlegend": true,
         "type": "scatter",
         "x": [
          1
         ],
         "xaxis": "x",
         "y": [
          0.12
         ],
         "yaxis": "y"
        },
        {
         "hovertemplate": "<b>%{hovertext}</b><br><br>Distribuidor=Flight-Plan<br>Juegos publicados=%{x}<br>Ventas globales=%{marker.size}<extra></extra>",
         "hovertext": [
          "Flight-Plan"
         ],
         "legendgroup": "Flight-Plan",
         "marker": {
          "color": "#ab63fa",
          "size": [
           0.12
          ],
          "sizemode": "area",
          "sizeref": 0.49626666666666663,
          "symbol": "circle"
         },
         "mode": "markers",
         "name": "Flight-Plan",
         "orientation": "v",
         "showlegend": true,
         "type": "scatter",
         "x": [
          2
         ],
         "xaxis": "x",
         "y": [
          0.12
         ],
         "yaxis": "y"
        },
        {
         "hovertemplate": "<b>%{hovertext}</b><br><br>Distribuidor=TopWare Interactive<br>Juegos publicados=%{x}<br>Ventas globales=%{marker.size}<extra></extra>",
         "hovertext": [
          "TopWare Interactive"
         ],
         "legendgroup": "TopWare Interactive",
         "marker": {
          "color": "#FFA15A",
          "size": [
           0.12
          ],
          "sizemode": "area",
          "sizeref": 0.49626666666666663,
          "symbol": "circle"
         },
         "mode": "markers",
         "name": "TopWare Interactive",
         "orientation": "v",
         "showlegend": true,
         "type": "scatter",
         "x": [
          4
         ],
         "xaxis": "x",
         "y": [
          0.12
         ],
         "yaxis": "y"
        },
        {
         "hovertemplate": "<b>%{hovertext}</b><br><br>Distribuidor=FunSoft<br>Juegos publicados=%{x}<br>Ventas globales=%{marker.size}<extra></extra>",
         "hovertext": [
          "FunSoft"
         ],
         "legendgroup": "FunSoft",
         "marker": {
          "color": "#19d3f3",
          "size": [
           0.12
          ],
          "sizemode": "area",
          "sizeref": 0.49626666666666663,
          "symbol": "circle"
         },
         "mode": "markers",
         "name": "FunSoft",
         "orientation": "v",
         "showlegend": true,
         "type": "scatter",
         "x": [
          1
         ],
         "xaxis": "x",
         "y": [
          0.12
         ],
         "yaxis": "y"
        },
        {
         "hovertemplate": "<b>%{hovertext}</b><br><br>Distribuidor=LSP Games<br>Juegos publicados=%{x}<br>Ventas globales=%{marker.size}<extra></extra>",
         "hovertext": [
          "LSP Games"
         ],
         "legendgroup": "LSP Games",
         "marker": {
          "color": "#FF6692",
          "size": [
           0.12
          ],
          "sizemode": "area",
          "sizeref": 0.49626666666666663,
          "symbol": "circle"
         },
         "mode": "markers",
         "name": "LSP Games",
         "orientation": "v",
         "showlegend": true,
         "type": "scatter",
         "x": [
          4
         ],
         "xaxis": "x",
         "y": [
          0.12
         ],
         "yaxis": "y"
        },
        {
         "hovertemplate": "<b>%{hovertext}</b><br><br>Distribuidor=T&E Soft<br>Juegos publicados=%{x}<br>Ventas globales=%{marker.size}<extra></extra>",
         "hovertext": [
          "T&E Soft"
         ],
         "legendgroup": "T&E Soft",
         "marker": {
          "color": "#B6E880",
          "size": [
           0.12
          ],
          "sizemode": "area",
          "sizeref": 0.49626666666666663,
          "symbol": "circle"
         },
         "mode": "markers",
         "name": "T&E Soft",
         "orientation": "v",
         "showlegend": true,
         "type": "scatter",
         "x": [
          1
         ],
         "xaxis": "x",
         "y": [
          0.12
         ],
         "yaxis": "y"
        },
        {
         "hovertemplate": "<b>%{hovertext}</b><br><br>Distribuidor=Bohemia Interactive<br>Juegos publicados=%{x}<br>Ventas globales=%{marker.size}<extra></extra>",
         "hovertext": [
          "Bohemia Interactive"
         ],
         "legendgroup": "Bohemia Interactive",
         "marker": {
          "color": "#FF97FF",
          "size": [
           0.12
          ],
          "sizemode": "area",
          "sizeref": 0.49626666666666663,
          "symbol": "circle"
         },
         "mode": "markers",
         "name": "Bohemia Interactive",
         "orientation": "v",
         "showlegend": true,
         "type": "scatter",
         "x": [
          1
         ],
         "xaxis": "x",
         "y": [
          0.12
         ],
         "yaxis": "y"
        },
        {
         "hovertemplate": "<b>%{hovertext}</b><br><br>Distribuidor=NDA Productions<br>Juegos publicados=%{x}<br>Ventas globales=%{marker.size}<extra></extra>",
         "hovertext": [
          "NDA Productions"
         ],
         "legendgroup": "NDA Productions",
         "marker": {
          "color": "#FECB52",
          "size": [
           0.12
          ],
          "sizemode": "area",
          "sizeref": 0.49626666666666663,
          "symbol": "circle"
         },
         "mode": "markers",
         "name": "NDA Productions",
         "orientation": "v",
         "showlegend": true,
         "type": "scatter",
         "x": [
          1
         ],
         "xaxis": "x",
         "y": [
          0.12
         ],
         "yaxis": "y"
        },
        {
         "hovertemplate": "<b>%{hovertext}</b><br><br>Distribuidor=Tradewest<br>Juegos publicados=%{x}<br>Ventas globales=%{marker.size}<extra></extra>",
         "hovertext": [
          "Tradewest"
         ],
         "legendgroup": "Tradewest",
         "marker": {
          "color": "#636efa",
          "size": [
           0.11
          ],
          "sizemode": "area",
          "sizeref": 0.49626666666666663,
          "symbol": "circle"
         },
         "mode": "markers",
         "name": "Tradewest",
         "orientation": "v",
         "showlegend": true,
         "type": "scatter",
         "x": [
          3
         ],
         "xaxis": "x",
         "y": [
          0.11
         ],
         "yaxis": "y"
        },
        {
         "hovertemplate": "<b>%{hovertext}</b><br><br>Distribuidor=Gameloft<br>Juegos publicados=%{x}<br>Ventas globales=%{marker.size}<extra></extra>",
         "hovertext": [
          "Gameloft"
         ],
         "legendgroup": "Gameloft",
         "marker": {
          "color": "#EF553B",
          "size": [
           0.11
          ],
          "sizemode": "area",
          "sizeref": 0.49626666666666663,
          "symbol": "circle"
         },
         "mode": "markers",
         "name": "Gameloft",
         "orientation": "v",
         "showlegend": true,
         "type": "scatter",
         "x": [
          1
         ],
         "xaxis": "x",
         "y": [
          0.11
         ],
         "yaxis": "y"
        },
        {
         "hovertemplate": "<b>%{hovertext}</b><br><br>Distribuidor=dramatic create<br>Juegos publicados=%{x}<br>Ventas globales=%{marker.size}<extra></extra>",
         "hovertext": [
          "dramatic create"
         ],
         "legendgroup": "dramatic create",
         "marker": {
          "color": "#00cc96",
          "size": [
           0.11
          ],
          "sizemode": "area",
          "sizeref": 0.49626666666666663,
          "symbol": "circle"
         },
         "mode": "markers",
         "name": "dramatic create",
         "orientation": "v",
         "showlegend": true,
         "type": "scatter",
         "x": [
          5
         ],
         "xaxis": "x",
         "y": [
          0.11
         ],
         "yaxis": "y"
        },
        {
         "hovertemplate": "<b>%{hovertext}</b><br><br>Distribuidor=PopTop Software<br>Juegos publicados=%{x}<br>Ventas globales=%{marker.size}<extra></extra>",
         "hovertext": [
          "PopTop Software"
         ],
         "legendgroup": "PopTop Software",
         "marker": {
          "color": "#ab63fa",
          "size": [
           0.11
          ],
          "sizemode": "area",
          "sizeref": 0.49626666666666663,
          "symbol": "circle"
         },
         "mode": "markers",
         "name": "PopTop Software",
         "orientation": "v",
         "showlegend": true,
         "type": "scatter",
         "x": [
          1
         ],
         "xaxis": "x",
         "y": [
          0.11
         ],
         "yaxis": "y"
        },
        {
         "hovertemplate": "<b>%{hovertext}</b><br><br>Distribuidor=Pack-In-Video<br>Juegos publicados=%{x}<br>Ventas globales=%{marker.size}<extra></extra>",
         "hovertext": [
          "Pack-In-Video"
         ],
         "legendgroup": "Pack-In-Video",
         "marker": {
          "color": "#FFA15A",
          "size": [
           0.11
          ],
          "sizemode": "area",
          "sizeref": 0.49626666666666663,
          "symbol": "circle"
         },
         "mode": "markers",
         "name": "Pack-In-Video",
         "orientation": "v",
         "showlegend": true,
         "type": "scatter",
         "x": [
          2
         ],
         "xaxis": "x",
         "y": [
          0.11
         ],
         "yaxis": "y"
        },
        {
         "hovertemplate": "<b>%{hovertext}</b><br><br>Distribuidor=TOHO<br>Juegos publicados=%{x}<br>Ventas globales=%{marker.size}<extra></extra>",
         "hovertext": [
          "TOHO"
         ],
         "legendgroup": "TOHO",
         "marker": {
          "color": "#19d3f3",
          "size": [
           0.11
          ],
          "sizemode": "area",
          "sizeref": 0.49626666666666663,
          "symbol": "circle"
         },
         "mode": "markers",
         "name": "TOHO",
         "orientation": "v",
         "showlegend": true,
         "type": "scatter",
         "x": [
          1
         ],
         "xaxis": "x",
         "y": [
          0.11
         ],
         "yaxis": "y"
        },
        {
         "hovertemplate": "<b>%{hovertext}</b><br><br>Distribuidor=10TACLE Studios<br>Juegos publicados=%{x}<br>Ventas globales=%{marker.size}<extra></extra>",
         "hovertext": [
          "10TACLE Studios"
         ],
         "legendgroup": "10TACLE Studios",
         "marker": {
          "color": "#FF6692",
          "size": [
           0.11
          ],
          "sizemode": "area",
          "sizeref": 0.49626666666666663,
          "symbol": "circle"
         },
         "mode": "markers",
         "name": "10TACLE Studios",
         "orientation": "v",
         "showlegend": true,
         "type": "scatter",
         "x": [
          3
         ],
         "xaxis": "x",
         "y": [
          0.11
         ],
         "yaxis": "y"
        },
        {
         "hovertemplate": "<b>%{hovertext}</b><br><br>Distribuidor=Simon & Schuster Interactive<br>Juegos publicados=%{x}<br>Ventas globales=%{marker.size}<extra></extra>",
         "hovertext": [
          "Simon & Schuster Interactive"
         ],
         "legendgroup": "Simon & Schuster Interactive",
         "marker": {
          "color": "#B6E880",
          "size": [
           0.11
          ],
          "sizemode": "area",
          "sizeref": 0.49626666666666663,
          "symbol": "circle"
         },
         "mode": "markers",
         "name": "Simon & Schuster Interactive",
         "orientation": "v",
         "showlegend": true,
         "type": "scatter",
         "x": [
          1
         ],
         "xaxis": "x",
         "y": [
          0.11
         ],
         "yaxis": "y"
        },
        {
         "hovertemplate": "<b>%{hovertext}</b><br><br>Distribuidor=Ascaron Entertainment GmbH<br>Juegos publicados=%{x}<br>Ventas globales=%{marker.size}<extra></extra>",
         "hovertext": [
          "Ascaron Entertainment GmbH"
         ],
         "legendgroup": "Ascaron Entertainment GmbH",
         "marker": {
          "color": "#FF97FF",
          "size": [
           0.11
          ],
          "sizemode": "area",
          "sizeref": 0.49626666666666663,
          "symbol": "circle"
         },
         "mode": "markers",
         "name": "Ascaron Entertainment GmbH",
         "orientation": "v",
         "showlegend": true,
         "type": "scatter",
         "x": [
          3
         ],
         "xaxis": "x",
         "y": [
          0.11
         ],
         "yaxis": "y"
        },
        {
         "hovertemplate": "<b>%{hovertext}</b><br><br>Distribuidor=GameTek<br>Juegos publicados=%{x}<br>Ventas globales=%{marker.size}<extra></extra>",
         "hovertext": [
          "GameTek"
         ],
         "legendgroup": "GameTek",
         "marker": {
          "color": "#FECB52",
          "size": [
           0.1
          ],
          "sizemode": "area",
          "sizeref": 0.49626666666666663,
          "symbol": "circle"
         },
         "mode": "markers",
         "name": "GameTek",
         "orientation": "v",
         "showlegend": true,
         "type": "scatter",
         "x": [
          1
         ],
         "xaxis": "x",
         "y": [
          0.1
         ],
         "yaxis": "y"
        },
        {
         "hovertemplate": "<b>%{hovertext}</b><br><br>Distribuidor=Interchannel<br>Juegos publicados=%{x}<br>Ventas globales=%{marker.size}<extra></extra>",
         "hovertext": [
          "Interchannel"
         ],
         "legendgroup": "Interchannel",
         "marker": {
          "color": "#636efa",
          "size": [
           0.1
          ],
          "sizemode": "area",
          "sizeref": 0.49626666666666663,
          "symbol": "circle"
         },
         "mode": "markers",
         "name": "Interchannel",
         "orientation": "v",
         "showlegend": true,
         "type": "scatter",
         "x": [
          4
         ],
         "xaxis": "x",
         "y": [
          0.1
         ],
         "yaxis": "y"
        },
        {
         "hovertemplate": "<b>%{hovertext}</b><br><br>Distribuidor=Image Epoch<br>Juegos publicados=%{x}<br>Ventas globales=%{marker.size}<extra></extra>",
         "hovertext": [
          "Image Epoch"
         ],
         "legendgroup": "Image Epoch",
         "marker": {
          "color": "#EF553B",
          "size": [
           0.1
          ],
          "sizemode": "area",
          "sizeref": 0.49626666666666663,
          "symbol": "circle"
         },
         "mode": "markers",
         "name": "Image Epoch",
         "orientation": "v",
         "showlegend": true,
         "type": "scatter",
         "x": [
          1
         ],
         "xaxis": "x",
         "y": [
          0.1
         ],
         "yaxis": "y"
        },
        {
         "hovertemplate": "<b>%{hovertext}</b><br><br>Distribuidor=Type-Moon<br>Juegos publicados=%{x}<br>Ventas globales=%{marker.size}<extra></extra>",
         "hovertext": [
          "Type-Moon"
         ],
         "legendgroup": "Type-Moon",
         "marker": {
          "color": "#00cc96",
          "size": [
           0.1
          ],
          "sizemode": "area",
          "sizeref": 0.49626666666666663,
          "symbol": "circle"
         },
         "mode": "markers",
         "name": "Type-Moon",
         "orientation": "v",
         "showlegend": true,
         "type": "scatter",
         "x": [
          1
         ],
         "xaxis": "x",
         "y": [
          0.1
         ],
         "yaxis": "y"
        },
        {
         "hovertemplate": "<b>%{hovertext}</b><br><br>Distribuidor=Interplay Productions<br>Juegos publicados=%{x}<br>Ventas globales=%{marker.size}<extra></extra>",
         "hovertext": [
          "Interplay Productions"
         ],
         "legendgroup": "Interplay Productions",
         "marker": {
          "color": "#ab63fa",
          "size": [
           0.1
          ],
          "sizemode": "area",
          "sizeref": 0.49626666666666663,
          "symbol": "circle"
         },
         "mode": "markers",
         "name": "Interplay Productions",
         "orientation": "v",
         "showlegend": true,
         "type": "scatter",
         "x": [
          1
         ],
         "xaxis": "x",
         "y": [
          0.1
         ],
         "yaxis": "y"
        },
        {
         "hovertemplate": "<b>%{hovertext}</b><br><br>Distribuidor=inXile Entertainment<br>Juegos publicados=%{x}<br>Ventas globales=%{marker.size}<extra></extra>",
         "hovertext": [
          "inXile Entertainment"
         ],
         "legendgroup": "inXile Entertainment",
         "marker": {
          "color": "#FFA15A",
          "size": [
           0.1
          ],
          "sizemode": "area",
          "sizeref": 0.49626666666666663,
          "symbol": "circle"
         },
         "mode": "markers",
         "name": "inXile Entertainment",
         "orientation": "v",
         "showlegend": true,
         "type": "scatter",
         "x": [
          1
         ],
         "xaxis": "x",
         "y": [
          0.1
         ],
         "yaxis": "y"
        },
        {
         "hovertemplate": "<b>%{hovertext}</b><br><br>Distribuidor=1C Company<br>Juegos publicados=%{x}<br>Ventas globales=%{marker.size}<extra></extra>",
         "hovertext": [
          "1C Company"
         ],
         "legendgroup": "1C Company",
         "marker": {
          "color": "#19d3f3",
          "size": [
           0.1
          ],
          "sizemode": "area",
          "sizeref": 0.49626666666666663,
          "symbol": "circle"
         },
         "mode": "markers",
         "name": "1C Company",
         "orientation": "v",
         "showlegend": true,
         "type": "scatter",
         "x": [
          3
         ],
         "xaxis": "x",
         "y": [
          0.1
         ],
         "yaxis": "y"
        },
        {
         "hovertemplate": "<b>%{hovertext}</b><br><br>Distribuidor=PM Studios<br>Juegos publicados=%{x}<br>Ventas globales=%{marker.size}<extra></extra>",
         "hovertext": [
          "PM Studios"
         ],
         "legendgroup": "PM Studios",
         "marker": {
          "color": "#FF6692",
          "size": [
           0.1
          ],
          "sizemode": "area",
          "sizeref": 0.49626666666666663,
          "symbol": "circle"
         },
         "mode": "markers",
         "name": "PM Studios",
         "orientation": "v",
         "showlegend": true,
         "type": "scatter",
         "x": [
          1
         ],
         "xaxis": "x",
         "y": [
          0.1
         ],
         "yaxis": "y"
        },
        {
         "hovertemplate": "<b>%{hovertext}</b><br><br>Distribuidor=Enjoy Gaming ltd.<br>Juegos publicados=%{x}<br>Ventas globales=%{marker.size}<extra></extra>",
         "hovertext": [
          "Enjoy Gaming ltd."
         ],
         "legendgroup": "Enjoy Gaming ltd.",
         "marker": {
          "color": "#B6E880",
          "size": [
           0.1
          ],
          "sizemode": "area",
          "sizeref": 0.49626666666666663,
          "symbol": "circle"
         },
         "mode": "markers",
         "name": "Enjoy Gaming ltd.",
         "orientation": "v",
         "showlegend": true,
         "type": "scatter",
         "x": [
          1
         ],
         "xaxis": "x",
         "y": [
          0.1
         ],
         "yaxis": "y"
        },
        {
         "hovertemplate": "<b>%{hovertext}</b><br><br>Distribuidor=TGL<br>Juegos publicados=%{x}<br>Ventas globales=%{marker.size}<extra></extra>",
         "hovertext": [
          "TGL"
         ],
         "legendgroup": "TGL",
         "marker": {
          "color": "#FF97FF",
          "size": [
           0.09999999999999999
          ],
          "sizemode": "area",
          "sizeref": 0.49626666666666663,
          "symbol": "circle"
         },
         "mode": "markers",
         "name": "TGL",
         "orientation": "v",
         "showlegend": true,
         "type": "scatter",
         "x": [
          4
         ],
         "xaxis": "x",
         "y": [
          0.09999999999999999
         ],
         "yaxis": "y"
        },
        {
         "hovertemplate": "<b>%{hovertext}</b><br><br>Distribuidor=Creative Core<br>Juegos publicados=%{x}<br>Ventas globales=%{marker.size}<extra></extra>",
         "hovertext": [
          "Creative Core"
         ],
         "legendgroup": "Creative Core",
         "marker": {
          "color": "#FECB52",
          "size": [
           0.09999999999999999
          ],
          "sizemode": "area",
          "sizeref": 0.49626666666666663,
          "symbol": "circle"
         },
         "mode": "markers",
         "name": "Creative Core",
         "orientation": "v",
         "showlegend": true,
         "type": "scatter",
         "x": [
          3
         ],
         "xaxis": "x",
         "y": [
          0.09999999999999999
         ],
         "yaxis": "y"
        },
        {
         "hovertemplate": "<b>%{hovertext}</b><br><br>Distribuidor=Athena<br>Juegos publicados=%{x}<br>Ventas globales=%{marker.size}<extra></extra>",
         "hovertext": [
          "Athena"
         ],
         "legendgroup": "Athena",
         "marker": {
          "color": "#636efa",
          "size": [
           0.09000000000000001
          ],
          "sizemode": "area",
          "sizeref": 0.49626666666666663,
          "symbol": "circle"
         },
         "mode": "markers",
         "name": "Athena",
         "orientation": "v",
         "showlegend": true,
         "type": "scatter",
         "x": [
          2
         ],
         "xaxis": "x",
         "y": [
          0.09000000000000001
         ],
         "yaxis": "y"
        },
        {
         "hovertemplate": "<b>%{hovertext}</b><br><br>Distribuidor=Edia<br>Juegos publicados=%{x}<br>Ventas globales=%{marker.size}<extra></extra>",
         "hovertext": [
          "Edia"
         ],
         "legendgroup": "Edia",
         "marker": {
          "color": "#EF553B",
          "size": [
           0.09000000000000001
          ],
          "sizemode": "area",
          "sizeref": 0.49626666666666663,
          "symbol": "circle"
         },
         "mode": "markers",
         "name": "Edia",
         "orientation": "v",
         "showlegend": true,
         "type": "scatter",
         "x": [
          2
         ],
         "xaxis": "x",
         "y": [
          0.09000000000000001
         ],
         "yaxis": "y"
        },
        {
         "hovertemplate": "<b>%{hovertext}</b><br><br>Distribuidor=Hearty Robin<br>Juegos publicados=%{x}<br>Ventas globales=%{marker.size}<extra></extra>",
         "hovertext": [
          "Hearty Robin"
         ],
         "legendgroup": "Hearty Robin",
         "marker": {
          "color": "#00cc96",
          "size": [
           0.09
          ],
          "sizemode": "area",
          "sizeref": 0.49626666666666663,
          "symbol": "circle"
         },
         "mode": "markers",
         "name": "Hearty Robin",
         "orientation": "v",
         "showlegend": true,
         "type": "scatter",
         "x": [
          1
         ],
         "xaxis": "x",
         "y": [
          0.09
         ],
         "yaxis": "y"
        },
        {
         "hovertemplate": "<b>%{hovertext}</b><br><br>Distribuidor=Arika<br>Juegos publicados=%{x}<br>Ventas globales=%{marker.size}<extra></extra>",
         "hovertext": [
          "Arika"
         ],
         "legendgroup": "Arika",
         "marker": {
          "color": "#ab63fa",
          "size": [
           0.09
          ],
          "sizemode": "area",
          "sizeref": 0.49626666666666663,
          "symbol": "circle"
         },
         "mode": "markers",
         "name": "Arika",
         "orientation": "v",
         "showlegend": true,
         "type": "scatter",
         "x": [
          3
         ],
         "xaxis": "x",
         "y": [
          0.09
         ],
         "yaxis": "y"
        },
        {
         "hovertemplate": "<b>%{hovertext}</b><br><br>Distribuidor=Groove Games<br>Juegos publicados=%{x}<br>Ventas globales=%{marker.size}<extra></extra>",
         "hovertext": [
          "Groove Games"
         ],
         "legendgroup": "Groove Games",
         "marker": {
          "color": "#FFA15A",
          "size": [
           0.09
          ],
          "sizemode": "area",
          "sizeref": 0.49626666666666663,
          "symbol": "circle"
         },
         "mode": "markers",
         "name": "Groove Games",
         "orientation": "v",
         "showlegend": true,
         "type": "scatter",
         "x": [
          2
         ],
         "xaxis": "x",
         "y": [
          0.09
         ],
         "yaxis": "y"
        },
        {
         "hovertemplate": "<b>%{hovertext}</b><br><br>Distribuidor=Phantom EFX<br>Juegos publicados=%{x}<br>Ventas globales=%{marker.size}<extra></extra>",
         "hovertext": [
          "Phantom EFX"
         ],
         "legendgroup": "Phantom EFX",
         "marker": {
          "color": "#19d3f3",
          "size": [
           0.09
          ],
          "sizemode": "area",
          "sizeref": 0.49626666666666663,
          "symbol": "circle"
         },
         "mode": "markers",
         "name": "Phantom EFX",
         "orientation": "v",
         "showlegend": true,
         "type": "scatter",
         "x": [
          1
         ],
         "xaxis": "x",
         "y": [
          0.09
         ],
         "yaxis": "y"
        },
        {
         "hovertemplate": "<b>%{hovertext}</b><br><br>Distribuidor=Origin Systems<br>Juegos publicados=%{x}<br>Ventas globales=%{marker.size}<extra></extra>",
         "hovertext": [
          "Origin Systems"
         ],
         "legendgroup": "Origin Systems",
         "marker": {
          "color": "#FF6692",
          "size": [
           0.09
          ],
          "sizemode": "area",
          "sizeref": 0.49626666666666663,
          "symbol": "circle"
         },
         "mode": "markers",
         "name": "Origin Systems",
         "orientation": "v",
         "showlegend": true,
         "type": "scatter",
         "x": [
          1
         ],
         "xaxis": "x",
         "y": [
          0.09
         ],
         "yaxis": "y"
        },
        {
         "hovertemplate": "<b>%{hovertext}</b><br><br>Distribuidor=Griffin International<br>Juegos publicados=%{x}<br>Ventas globales=%{marker.size}<extra></extra>",
         "hovertext": [
          "Griffin International"
         ],
         "legendgroup": "Griffin International",
         "marker": {
          "color": "#B6E880",
          "size": [
           0.09
          ],
          "sizemode": "area",
          "sizeref": 0.49626666666666663,
          "symbol": "circle"
         },
         "mode": "markers",
         "name": "Griffin International",
         "orientation": "v",
         "showlegend": true,
         "type": "scatter",
         "x": [
          1
         ],
         "xaxis": "x",
         "y": [
          0.09
         ],
         "yaxis": "y"
        },
        {
         "hovertemplate": "<b>%{hovertext}</b><br><br>Distribuidor=Culture Publishers<br>Juegos publicados=%{x}<br>Ventas globales=%{marker.size}<extra></extra>",
         "hovertext": [
          "Culture Publishers"
         ],
         "legendgroup": "Culture Publishers",
         "marker": {
          "color": "#FF97FF",
          "size": [
           0.09
          ],
          "sizemode": "area",
          "sizeref": 0.49626666666666663,
          "symbol": "circle"
         },
         "mode": "markers",
         "name": "Culture Publishers",
         "orientation": "v",
         "showlegend": true,
         "type": "scatter",
         "x": [
          1
         ],
         "xaxis": "x",
         "y": [
          0.09
         ],
         "yaxis": "y"
        },
        {
         "hovertemplate": "<b>%{hovertext}</b><br><br>Distribuidor=Nippon Amuse<br>Juegos publicados=%{x}<br>Ventas globales=%{marker.size}<extra></extra>",
         "hovertext": [
          "Nippon Amuse"
         ],
         "legendgroup": "Nippon Amuse",
         "marker": {
          "color": "#FECB52",
          "size": [
           0.09
          ],
          "sizemode": "area",
          "sizeref": 0.49626666666666663,
          "symbol": "circle"
         },
         "mode": "markers",
         "name": "Nippon Amuse",
         "orientation": "v",
         "showlegend": true,
         "type": "scatter",
         "x": [
          1
         ],
         "xaxis": "x",
         "y": [
          0.09
         ],
         "yaxis": "y"
        },
        {
         "hovertemplate": "<b>%{hovertext}</b><br><br>Distribuidor=MC2 Entertainment<br>Juegos publicados=%{x}<br>Ventas globales=%{marker.size}<extra></extra>",
         "hovertext": [
          "MC2 Entertainment"
         ],
         "legendgroup": "MC2 Entertainment",
         "marker": {
          "color": "#636efa",
          "size": [
           0.08
          ],
          "sizemode": "area",
          "sizeref": 0.49626666666666663,
          "symbol": "circle"
         },
         "mode": "markers",
         "name": "MC2 Entertainment",
         "orientation": "v",
         "showlegend": true,
         "type": "scatter",
         "x": [
          3
         ],
         "xaxis": "x",
         "y": [
          0.08
         ],
         "yaxis": "y"
        },
        {
         "hovertemplate": "<b>%{hovertext}</b><br><br>Distribuidor=Flashpoint Games<br>Juegos publicados=%{x}<br>Ventas globales=%{marker.size}<extra></extra>",
         "hovertext": [
          "Flashpoint Games"
         ],
         "legendgroup": "Flashpoint Games",
         "marker": {
          "color": "#EF553B",
          "size": [
           0.08
          ],
          "sizemode": "area",
          "sizeref": 0.49626666666666663,
          "symbol": "circle"
         },
         "mode": "markers",
         "name": "Flashpoint Games",
         "orientation": "v",
         "showlegend": true,
         "type": "scatter",
         "x": [
          2
         ],
         "xaxis": "x",
         "y": [
          0.08
         ],
         "yaxis": "y"
        },
        {
         "hovertemplate": "<b>%{hovertext}</b><br><br>Distribuidor=Crimson Cow<br>Juegos publicados=%{x}<br>Ventas globales=%{marker.size}<extra></extra>",
         "hovertext": [
          "Crimson Cow"
         ],
         "legendgroup": "Crimson Cow",
         "marker": {
          "color": "#00cc96",
          "size": [
           0.08
          ],
          "sizemode": "area",
          "sizeref": 0.49626666666666663,
          "symbol": "circle"
         },
         "mode": "markers",
         "name": "Crimson Cow",
         "orientation": "v",
         "showlegend": true,
         "type": "scatter",
         "x": [
          2
         ],
         "xaxis": "x",
         "y": [
          0.08
         ],
         "yaxis": "y"
        },
        {
         "hovertemplate": "<b>%{hovertext}</b><br><br>Distribuidor=Milestone<br>Juegos publicados=%{x}<br>Ventas globales=%{marker.size}<extra></extra>",
         "hovertext": [
          "Milestone"
         ],
         "legendgroup": "Milestone",
         "marker": {
          "color": "#ab63fa",
          "size": [
           0.08
          ],
          "sizemode": "area",
          "sizeref": 0.49626666666666663,
          "symbol": "circle"
         },
         "mode": "markers",
         "name": "Milestone",
         "orientation": "v",
         "showlegend": true,
         "type": "scatter",
         "x": [
          1
         ],
         "xaxis": "x",
         "y": [
          0.08
         ],
         "yaxis": "y"
        },
        {
         "hovertemplate": "<b>%{hovertext}</b><br><br>Distribuidor=Mitsui<br>Juegos publicados=%{x}<br>Ventas globales=%{marker.size}<extra></extra>",
         "hovertext": [
          "Mitsui"
         ],
         "legendgroup": "Mitsui",
         "marker": {
          "color": "#FFA15A",
          "size": [
           0.08
          ],
          "sizemode": "area",
          "sizeref": 0.49626666666666663,
          "symbol": "circle"
         },
         "mode": "markers",
         "name": "Mitsui",
         "orientation": "v",
         "showlegend": true,
         "type": "scatter",
         "x": [
          1
         ],
         "xaxis": "x",
         "y": [
          0.08
         ],
         "yaxis": "y"
        },
        {
         "hovertemplate": "<b>%{hovertext}</b><br><br>Distribuidor=Yuke's<br>Juegos publicados=%{x}<br>Ventas globales=%{marker.size}<extra></extra>",
         "hovertext": [
          "Yuke's"
         ],
         "legendgroup": "Yuke's",
         "marker": {
          "color": "#19d3f3",
          "size": [
           0.08
          ],
          "sizemode": "area",
          "sizeref": 0.49626666666666663,
          "symbol": "circle"
         },
         "mode": "markers",
         "name": "Yuke's",
         "orientation": "v",
         "showlegend": true,
         "type": "scatter",
         "x": [
          3
         ],
         "xaxis": "x",
         "y": [
          0.08
         ],
         "yaxis": "y"
        },
        {
         "hovertemplate": "<b>%{hovertext}</b><br><br>Distribuidor=Cloud Imperium Games Corporation<br>Juegos publicados=%{x}<br>Ventas globales=%{marker.size}<extra></extra>",
         "hovertext": [
          "Cloud Imperium Games Corporation"
         ],
         "legendgroup": "Cloud Imperium Games Corporation",
         "marker": {
          "color": "#FF6692",
          "size": [
           0.08
          ],
          "sizemode": "area",
          "sizeref": 0.49626666666666663,
          "symbol": "circle"
         },
         "mode": "markers",
         "name": "Cloud Imperium Games Corporation",
         "orientation": "v",
         "showlegend": true,
         "type": "scatter",
         "x": [
          2
         ],
         "xaxis": "x",
         "y": [
          0.08
         ],
         "yaxis": "y"
        },
        {
         "hovertemplate": "<b>%{hovertext}</b><br><br>Distribuidor=7G//AMES<br>Juegos publicados=%{x}<br>Ventas globales=%{marker.size}<extra></extra>",
         "hovertext": [
          "7G//AMES"
         ],
         "legendgroup": "7G//AMES",
         "marker": {
          "color": "#B6E880",
          "size": [
           0.08
          ],
          "sizemode": "area",
          "sizeref": 0.49626666666666663,
          "symbol": "circle"
         },
         "mode": "markers",
         "name": "7G//AMES",
         "orientation": "v",
         "showlegend": true,
         "type": "scatter",
         "x": [
          4
         ],
         "xaxis": "x",
         "y": [
          0.08
         ],
         "yaxis": "y"
        },
        {
         "hovertemplate": "<b>%{hovertext}</b><br><br>Distribuidor=KID<br>Juegos publicados=%{x}<br>Ventas globales=%{marker.size}<extra></extra>",
         "hovertext": [
          "KID"
         ],
         "legendgroup": "KID",
         "marker": {
          "color": "#FF97FF",
          "size": [
           0.08
          ],
          "sizemode": "area",
          "sizeref": 0.49626666666666663,
          "symbol": "circle"
         },
         "mode": "markers",
         "name": "KID",
         "orientation": "v",
         "showlegend": true,
         "type": "scatter",
         "x": [
          4
         ],
         "xaxis": "x",
         "y": [
          0.08
         ],
         "yaxis": "y"
        },
        {
         "hovertemplate": "<b>%{hovertext}</b><br><br>Distribuidor=Glams<br>Juegos publicados=%{x}<br>Ventas globales=%{marker.size}<extra></extra>",
         "hovertext": [
          "Glams"
         ],
         "legendgroup": "Glams",
         "marker": {
          "color": "#FECB52",
          "size": [
           0.08
          ],
          "sizemode": "area",
          "sizeref": 0.49626666666666663,
          "symbol": "circle"
         },
         "mode": "markers",
         "name": "Glams",
         "orientation": "v",
         "showlegend": true,
         "type": "scatter",
         "x": [
          1
         ],
         "xaxis": "x",
         "y": [
          0.08
         ],
         "yaxis": "y"
        },
        {
         "hovertemplate": "<b>%{hovertext}</b><br><br>Distribuidor=Iceberg Interactive<br>Juegos publicados=%{x}<br>Ventas globales=%{marker.size}<extra></extra>",
         "hovertext": [
          "Iceberg Interactive"
         ],
         "legendgroup": "Iceberg Interactive",
         "marker": {
          "color": "#636efa",
          "size": [
           0.08
          ],
          "sizemode": "area",
          "sizeref": 0.49626666666666663,
          "symbol": "circle"
         },
         "mode": "markers",
         "name": "Iceberg Interactive",
         "orientation": "v",
         "showlegend": true,
         "type": "scatter",
         "x": [
          3
         ],
         "xaxis": "x",
         "y": [
          0.08
         ],
         "yaxis": "y"
        },
        {
         "hovertemplate": "<b>%{hovertext}</b><br><br>Distribuidor=Abylight<br>Juegos publicados=%{x}<br>Ventas globales=%{marker.size}<extra></extra>",
         "hovertext": [
          "Abylight"
         ],
         "legendgroup": "Abylight",
         "marker": {
          "color": "#EF553B",
          "size": [
           0.08
          ],
          "sizemode": "area",
          "sizeref": 0.49626666666666663,
          "symbol": "circle"
         },
         "mode": "markers",
         "name": "Abylight",
         "orientation": "v",
         "showlegend": true,
         "type": "scatter",
         "x": [
          1
         ],
         "xaxis": "x",
         "y": [
          0.08
         ],
         "yaxis": "y"
        },
        {
         "hovertemplate": "<b>%{hovertext}</b><br><br>Distribuidor=Seventh Chord<br>Juegos publicados=%{x}<br>Ventas globales=%{marker.size}<extra></extra>",
         "hovertext": [
          "Seventh Chord"
         ],
         "legendgroup": "Seventh Chord",
         "marker": {
          "color": "#00cc96",
          "size": [
           0.08
          ],
          "sizemode": "area",
          "sizeref": 0.49626666666666663,
          "symbol": "circle"
         },
         "mode": "markers",
         "name": "Seventh Chord",
         "orientation": "v",
         "showlegend": true,
         "type": "scatter",
         "x": [
          1
         ],
         "xaxis": "x",
         "y": [
          0.08
         ],
         "yaxis": "y"
        },
        {
         "hovertemplate": "<b>%{hovertext}</b><br><br>Distribuidor=Locus<br>Juegos publicados=%{x}<br>Ventas globales=%{marker.size}<extra></extra>",
         "hovertext": [
          "Locus"
         ],
         "legendgroup": "Locus",
         "marker": {
          "color": "#ab63fa",
          "size": [
           0.07
          ],
          "sizemode": "area",
          "sizeref": 0.49626666666666663,
          "symbol": "circle"
         },
         "mode": "markers",
         "name": "Locus",
         "orientation": "v",
         "showlegend": true,
         "type": "scatter",
         "x": [
          1
         ],
         "xaxis": "x",
         "y": [
          0.07
         ],
         "yaxis": "y"
        },
        {
         "hovertemplate": "<b>%{hovertext}</b><br><br>Distribuidor=Licensed 4U<br>Juegos publicados=%{x}<br>Ventas globales=%{marker.size}<extra></extra>",
         "hovertext": [
          "Licensed 4U"
         ],
         "legendgroup": "Licensed 4U",
         "marker": {
          "color": "#FFA15A",
          "size": [
           0.07
          ],
          "sizemode": "area",
          "sizeref": 0.49626666666666663,
          "symbol": "circle"
         },
         "mode": "markers",
         "name": "Licensed 4U",
         "orientation": "v",
         "showlegend": true,
         "type": "scatter",
         "x": [
          3
         ],
         "xaxis": "x",
         "y": [
          0.07
         ],
         "yaxis": "y"
        },
        {
         "hovertemplate": "<b>%{hovertext}</b><br><br>Distribuidor=Coconuts Japan<br>Juegos publicados=%{x}<br>Ventas globales=%{marker.size}<extra></extra>",
         "hovertext": [
          "Coconuts Japan"
         ],
         "legendgroup": "Coconuts Japan",
         "marker": {
          "color": "#19d3f3",
          "size": [
           0.07
          ],
          "sizemode": "area",
          "sizeref": 0.49626666666666663,
          "symbol": "circle"
         },
         "mode": "markers",
         "name": "Coconuts Japan",
         "orientation": "v",
         "showlegend": true,
         "type": "scatter",
         "x": [
          2
         ],
         "xaxis": "x",
         "y": [
          0.07
         ],
         "yaxis": "y"
        },
        {
         "hovertemplate": "<b>%{hovertext}</b><br><br>Distribuidor=Warp<br>Juegos publicados=%{x}<br>Ventas globales=%{marker.size}<extra></extra>",
         "hovertext": [
          "Warp"
         ],
         "legendgroup": "Warp",
         "marker": {
          "color": "#FF6692",
          "size": [
           0.07
          ],
          "sizemode": "area",
          "sizeref": 0.49626666666666663,
          "symbol": "circle"
         },
         "mode": "markers",
         "name": "Warp",
         "orientation": "v",
         "showlegend": true,
         "type": "scatter",
         "x": [
          1
         ],
         "xaxis": "x",
         "y": [
          0.07
         ],
         "yaxis": "y"
        },
        {
         "hovertemplate": "<b>%{hovertext}</b><br><br>Distribuidor=Altron<br>Juegos publicados=%{x}<br>Ventas globales=%{marker.size}<extra></extra>",
         "hovertext": [
          "Altron"
         ],
         "legendgroup": "Altron",
         "marker": {
          "color": "#B6E880",
          "size": [
           0.07
          ],
          "sizemode": "area",
          "sizeref": 0.49626666666666663,
          "symbol": "circle"
         },
         "mode": "markers",
         "name": "Altron",
         "orientation": "v",
         "showlegend": true,
         "type": "scatter",
         "x": [
          1
         ],
         "xaxis": "x",
         "y": [
          0.07
         ],
         "yaxis": "y"
        },
        {
         "hovertemplate": "<b>%{hovertext}</b><br><br>Distribuidor=Elite<br>Juegos publicados=%{x}<br>Ventas globales=%{marker.size}<extra></extra>",
         "hovertext": [
          "Elite"
         ],
         "legendgroup": "Elite",
         "marker": {
          "color": "#FF97FF",
          "size": [
           0.07
          ],
          "sizemode": "area",
          "sizeref": 0.49626666666666663,
          "symbol": "circle"
         },
         "mode": "markers",
         "name": "Elite",
         "orientation": "v",
         "showlegend": true,
         "type": "scatter",
         "x": [
          1
         ],
         "xaxis": "x",
         "y": [
          0.07
         ],
         "yaxis": "y"
        },
        {
         "hovertemplate": "<b>%{hovertext}</b><br><br>Distribuidor=Princess Soft<br>Juegos publicados=%{x}<br>Ventas globales=%{marker.size}<extra></extra>",
         "hovertext": [
          "Princess Soft"
         ],
         "legendgroup": "Princess Soft",
         "marker": {
          "color": "#FECB52",
          "size": [
           0.07
          ],
          "sizemode": "area",
          "sizeref": 0.49626666666666663,
          "symbol": "circle"
         },
         "mode": "markers",
         "name": "Princess Soft",
         "orientation": "v",
         "showlegend": true,
         "type": "scatter",
         "x": [
          3
         ],
         "xaxis": "x",
         "y": [
          0.07
         ],
         "yaxis": "y"
        },
        {
         "hovertemplate": "<b>%{hovertext}</b><br><br>Distribuidor=Misawa<br>Juegos publicados=%{x}<br>Ventas globales=%{marker.size}<extra></extra>",
         "hovertext": [
          "Misawa"
         ],
         "legendgroup": "Misawa",
         "marker": {
          "color": "#636efa",
          "size": [
           0.07
          ],
          "sizemode": "area",
          "sizeref": 0.49626666666666663,
          "symbol": "circle"
         },
         "mode": "markers",
         "name": "Misawa",
         "orientation": "v",
         "showlegend": true,
         "type": "scatter",
         "x": [
          2
         ],
         "xaxis": "x",
         "y": [
          0.07
         ],
         "yaxis": "y"
        },
        {
         "hovertemplate": "<b>%{hovertext}</b><br><br>Distribuidor=Aria<br>Juegos publicados=%{x}<br>Ventas globales=%{marker.size}<extra></extra>",
         "hovertext": [
          "Aria"
         ],
         "legendgroup": "Aria",
         "marker": {
          "color": "#EF553B",
          "size": [
           0.07
          ],
          "sizemode": "area",
          "sizeref": 0.49626666666666663,
          "symbol": "circle"
         },
         "mode": "markers",
         "name": "Aria",
         "orientation": "v",
         "showlegend": true,
         "type": "scatter",
         "x": [
          1
         ],
         "xaxis": "x",
         "y": [
          0.07
         ],
         "yaxis": "y"
        },
        {
         "hovertemplate": "<b>%{hovertext}</b><br><br>Distribuidor=Evolution Games<br>Juegos publicados=%{x}<br>Ventas globales=%{marker.size}<extra></extra>",
         "hovertext": [
          "Evolution Games"
         ],
         "legendgroup": "Evolution Games",
         "marker": {
          "color": "#00cc96",
          "size": [
           0.07
          ],
          "sizemode": "area",
          "sizeref": 0.49626666666666663,
          "symbol": "circle"
         },
         "mode": "markers",
         "name": "Evolution Games",
         "orientation": "v",
         "showlegend": true,
         "type": "scatter",
         "x": [
          1
         ],
         "xaxis": "x",
         "y": [
          0.07
         ],
         "yaxis": "y"
        },
        {
         "hovertemplate": "<b>%{hovertext}</b><br><br>Distribuidor=Encore<br>Juegos publicados=%{x}<br>Ventas globales=%{marker.size}<extra></extra>",
         "hovertext": [
          "Encore"
         ],
         "legendgroup": "Encore",
         "marker": {
          "color": "#ab63fa",
          "size": [
           0.07
          ],
          "sizemode": "area",
          "sizeref": 0.49626666666666663,
          "symbol": "circle"
         },
         "mode": "markers",
         "name": "Encore",
         "orientation": "v",
         "showlegend": true,
         "type": "scatter",
         "x": [
          4
         ],
         "xaxis": "x",
         "y": [
          0.07
         ],
         "yaxis": "y"
        },
        {
         "hovertemplate": "<b>%{hovertext}</b><br><br>Distribuidor=Revolution Software<br>Juegos publicados=%{x}<br>Ventas globales=%{marker.size}<extra></extra>",
         "hovertext": [
          "Revolution Software"
         ],
         "legendgroup": "Revolution Software",
         "marker": {
          "color": "#FFA15A",
          "size": [
           0.06999999999999999
          ],
          "sizemode": "area",
          "sizeref": 0.49626666666666663,
          "symbol": "circle"
         },
         "mode": "markers",
         "name": "Revolution Software",
         "orientation": "v",
         "showlegend": true,
         "type": "scatter",
         "x": [
          2
         ],
         "xaxis": "x",
         "y": [
          0.06999999999999999
         ],
         "yaxis": "y"
        },
        {
         "hovertemplate": "<b>%{hovertext}</b><br><br>Distribuidor=Experience Inc.<br>Juegos publicados=%{x}<br>Ventas globales=%{marker.size}<extra></extra>",
         "hovertext": [
          "Experience Inc."
         ],
         "legendgroup": "Experience Inc.",
         "marker": {
          "color": "#19d3f3",
          "size": [
           0.06
          ],
          "sizemode": "area",
          "sizeref": 0.49626666666666663,
          "symbol": "circle"
         },
         "mode": "markers",
         "name": "Experience Inc.",
         "orientation": "v",
         "showlegend": true,
         "type": "scatter",
         "x": [
          3
         ],
         "xaxis": "x",
         "y": [
          0.06
         ],
         "yaxis": "y"
        },
        {
         "hovertemplate": "<b>%{hovertext}</b><br><br>Distribuidor=Fortyfive<br>Juegos publicados=%{x}<br>Ventas globales=%{marker.size}<extra></extra>",
         "hovertext": [
          "Fortyfive"
         ],
         "legendgroup": "Fortyfive",
         "marker": {
          "color": "#FF6692",
          "size": [
           0.06
          ],
          "sizemode": "area",
          "sizeref": 0.49626666666666663,
          "symbol": "circle"
         },
         "mode": "markers",
         "name": "Fortyfive",
         "orientation": "v",
         "showlegend": true,
         "type": "scatter",
         "x": [
          1
         ],
         "xaxis": "x",
         "y": [
          0.06
         ],
         "yaxis": "y"
        },
        {
         "hovertemplate": "<b>%{hovertext}</b><br><br>Distribuidor=Virtual Play Games<br>Juegos publicados=%{x}<br>Ventas globales=%{marker.size}<extra></extra>",
         "hovertext": [
          "Virtual Play Games"
         ],
         "legendgroup": "Virtual Play Games",
         "marker": {
          "color": "#B6E880",
          "size": [
           0.06
          ],
          "sizemode": "area",
          "sizeref": 0.49626666666666663,
          "symbol": "circle"
         },
         "mode": "markers",
         "name": "Virtual Play Games",
         "orientation": "v",
         "showlegend": true,
         "type": "scatter",
         "x": [
          2
         ],
         "xaxis": "x",
         "y": [
          0.06
         ],
         "yaxis": "y"
        },
        {
         "hovertemplate": "<b>%{hovertext}</b><br><br>Distribuidor=Yumedia<br>Juegos publicados=%{x}<br>Ventas globales=%{marker.size}<extra></extra>",
         "hovertext": [
          "Yumedia"
         ],
         "legendgroup": "Yumedia",
         "marker": {
          "color": "#FF97FF",
          "size": [
           0.06
          ],
          "sizemode": "area",
          "sizeref": 0.49626666666666663,
          "symbol": "circle"
         },
         "mode": "markers",
         "name": "Yumedia",
         "orientation": "v",
         "showlegend": true,
         "type": "scatter",
         "x": [
          1
         ],
         "xaxis": "x",
         "y": [
          0.06
         ],
         "yaxis": "y"
        },
        {
         "hovertemplate": "<b>%{hovertext}</b><br><br>Distribuidor=Grand Prix Games<br>Juegos publicados=%{x}<br>Ventas globales=%{marker.size}<extra></extra>",
         "hovertext": [
          "Grand Prix Games"
         ],
         "legendgroup": "Grand Prix Games",
         "marker": {
          "color": "#FECB52",
          "size": [
           0.06
          ],
          "sizemode": "area",
          "sizeref": 0.49626666666666663,
          "symbol": "circle"
         },
         "mode": "markers",
         "name": "Grand Prix Games",
         "orientation": "v",
         "showlegend": true,
         "type": "scatter",
         "x": [
          1
         ],
         "xaxis": "x",
         "y": [
          0.06
         ],
         "yaxis": "y"
        },
        {
         "hovertemplate": "<b>%{hovertext}</b><br><br>Distribuidor=Ecole<br>Juegos publicados=%{x}<br>Ventas globales=%{marker.size}<extra></extra>",
         "hovertext": [
          "Ecole"
         ],
         "legendgroup": "Ecole",
         "marker": {
          "color": "#636efa",
          "size": [
           0.06
          ],
          "sizemode": "area",
          "sizeref": 0.49626666666666663,
          "symbol": "circle"
         },
         "mode": "markers",
         "name": "Ecole",
         "orientation": "v",
         "showlegend": true,
         "type": "scatter",
         "x": [
          1
         ],
         "xaxis": "x",
         "y": [
          0.06
         ],
         "yaxis": "y"
        },
        {
         "hovertemplate": "<b>%{hovertext}</b><br><br>Distribuidor=Office Create<br>Juegos publicados=%{x}<br>Ventas globales=%{marker.size}<extra></extra>",
         "hovertext": [
          "Office Create"
         ],
         "legendgroup": "Office Create",
         "marker": {
          "color": "#EF553B",
          "size": [
           0.06
          ],
          "sizemode": "area",
          "sizeref": 0.49626666666666663,
          "symbol": "circle"
         },
         "mode": "markers",
         "name": "Office Create",
         "orientation": "v",
         "showlegend": true,
         "type": "scatter",
         "x": [
          2
         ],
         "xaxis": "x",
         "y": [
          0.06
         ],
         "yaxis": "y"
        },
        {
         "hovertemplate": "<b>%{hovertext}</b><br><br>Distribuidor=Imax<br>Juegos publicados=%{x}<br>Ventas globales=%{marker.size}<extra></extra>",
         "hovertext": [
          "Imax"
         ],
         "legendgroup": "Imax",
         "marker": {
          "color": "#00cc96",
          "size": [
           0.06
          ],
          "sizemode": "area",
          "sizeref": 0.49626666666666663,
          "symbol": "circle"
         },
         "mode": "markers",
         "name": "Imax",
         "orientation": "v",
         "showlegend": true,
         "type": "scatter",
         "x": [
          1
         ],
         "xaxis": "x",
         "y": [
          0.06
         ],
         "yaxis": "y"
        },
        {
         "hovertemplate": "<b>%{hovertext}</b><br><br>Distribuidor=HAL Laboratory<br>Juegos publicados=%{x}<br>Ventas globales=%{marker.size}<extra></extra>",
         "hovertext": [
          "HAL Laboratory"
         ],
         "legendgroup": "HAL Laboratory",
         "marker": {
          "color": "#ab63fa",
          "size": [
           0.06
          ],
          "sizemode": "area",
          "sizeref": 0.49626666666666663,
          "symbol": "circle"
         },
         "mode": "markers",
         "name": "HAL Laboratory",
         "orientation": "v",
         "showlegend": true,
         "type": "scatter",
         "x": [
          1
         ],
         "xaxis": "x",
         "y": [
          0.06
         ],
         "yaxis": "y"
        },
        {
         "hovertemplate": "<b>%{hovertext}</b><br><br>Distribuidor=iWin<br>Juegos publicados=%{x}<br>Ventas globales=%{marker.size}<extra></extra>",
         "hovertext": [
          "iWin"
         ],
         "legendgroup": "iWin",
         "marker": {
          "color": "#FFA15A",
          "size": [
           0.06
          ],
          "sizemode": "area",
          "sizeref": 0.49626666666666663,
          "symbol": "circle"
         },
         "mode": "markers",
         "name": "iWin",
         "orientation": "v",
         "showlegend": true,
         "type": "scatter",
         "x": [
          1
         ],
         "xaxis": "x",
         "y": [
          0.06
         ],
         "yaxis": "y"
        },
        {
         "hovertemplate": "<b>%{hovertext}</b><br><br>Distribuidor=Sonnet<br>Juegos publicados=%{x}<br>Ventas globales=%{marker.size}<extra></extra>",
         "hovertext": [
          "Sonnet"
         ],
         "legendgroup": "Sonnet",
         "marker": {
          "color": "#19d3f3",
          "size": [
           0.06
          ],
          "sizemode": "area",
          "sizeref": 0.49626666666666663,
          "symbol": "circle"
         },
         "mode": "markers",
         "name": "Sonnet",
         "orientation": "v",
         "showlegend": true,
         "type": "scatter",
         "x": [
          2
         ],
         "xaxis": "x",
         "y": [
          0.06
         ],
         "yaxis": "y"
        },
        {
         "hovertemplate": "<b>%{hovertext}</b><br><br>Distribuidor=Zenrin<br>Juegos publicados=%{x}<br>Ventas globales=%{marker.size}<extra></extra>",
         "hovertext": [
          "Zenrin"
         ],
         "legendgroup": "Zenrin",
         "marker": {
          "color": "#FF6692",
          "size": [
           0.06
          ],
          "sizemode": "area",
          "sizeref": 0.49626666666666663,
          "symbol": "circle"
         },
         "mode": "markers",
         "name": "Zenrin",
         "orientation": "v",
         "showlegend": true,
         "type": "scatter",
         "x": [
          2
         ],
         "xaxis": "x",
         "y": [
          0.06
         ],
         "yaxis": "y"
        },
        {
         "hovertemplate": "<b>%{hovertext}</b><br><br>Distribuidor=DigiCube<br>Juegos publicados=%{x}<br>Ventas globales=%{marker.size}<extra></extra>",
         "hovertext": [
          "DigiCube"
         ],
         "legendgroup": "DigiCube",
         "marker": {
          "color": "#B6E880",
          "size": [
           0.06
          ],
          "sizemode": "area",
          "sizeref": 0.49626666666666663,
          "symbol": "circle"
         },
         "mode": "markers",
         "name": "DigiCube",
         "orientation": "v",
         "showlegend": true,
         "type": "scatter",
         "x": [
          1
         ],
         "xaxis": "x",
         "y": [
          0.06
         ],
         "yaxis": "y"
        },
        {
         "hovertemplate": "<b>%{hovertext}</b><br><br>Distribuidor=Dusenberry Martin Racing<br>Juegos publicados=%{x}<br>Ventas globales=%{marker.size}<extra></extra>",
         "hovertext": [
          "Dusenberry Martin Racing"
         ],
         "legendgroup": "Dusenberry Martin Racing",
         "marker": {
          "color": "#FF97FF",
          "size": [
           0.05
          ],
          "sizemode": "area",
          "sizeref": 0.49626666666666663,
          "symbol": "circle"
         },
         "mode": "markers",
         "name": "Dusenberry Martin Racing",
         "orientation": "v",
         "showlegend": true,
         "type": "scatter",
         "x": [
          2
         ],
         "xaxis": "x",
         "y": [
          0.05
         ],
         "yaxis": "y"
        },
        {
         "hovertemplate": "<b>%{hovertext}</b><br><br>Distribuidor=Big Fish Games<br>Juegos publicados=%{x}<br>Ventas globales=%{marker.size}<extra></extra>",
         "hovertext": [
          "Big Fish Games"
         ],
         "legendgroup": "Big Fish Games",
         "marker": {
          "color": "#FECB52",
          "size": [
           0.05
          ],
          "sizemode": "area",
          "sizeref": 0.49626666666666663,
          "symbol": "circle"
         },
         "mode": "markers",
         "name": "Big Fish Games",
         "orientation": "v",
         "showlegend": true,
         "type": "scatter",
         "x": [
          2
         ],
         "xaxis": "x",
         "y": [
          0.05
         ],
         "yaxis": "y"
        },
        {
         "hovertemplate": "<b>%{hovertext}</b><br><br>Distribuidor=Marvel Entertainment<br>Juegos publicados=%{x}<br>Ventas globales=%{marker.size}<extra></extra>",
         "hovertext": [
          "Marvel Entertainment"
         ],
         "legendgroup": "Marvel Entertainment",
         "marker": {
          "color": "#636efa",
          "size": [
           0.05
          ],
          "sizemode": "area",
          "sizeref": 0.49626666666666663,
          "symbol": "circle"
         },
         "mode": "markers",
         "name": "Marvel Entertainment",
         "orientation": "v",
         "showlegend": true,
         "type": "scatter",
         "x": [
          1
         ],
         "xaxis": "x",
         "y": [
          0.05
         ],
         "yaxis": "y"
        },
        {
         "hovertemplate": "<b>%{hovertext}</b><br><br>Distribuidor=TechnoSoft<br>Juegos publicados=%{x}<br>Ventas globales=%{marker.size}<extra></extra>",
         "hovertext": [
          "TechnoSoft"
         ],
         "legendgroup": "TechnoSoft",
         "marker": {
          "color": "#EF553B",
          "size": [
           0.05
          ],
          "sizemode": "area",
          "sizeref": 0.49626666666666663,
          "symbol": "circle"
         },
         "mode": "markers",
         "name": "TechnoSoft",
         "orientation": "v",
         "showlegend": true,
         "type": "scatter",
         "x": [
          1
         ],
         "xaxis": "x",
         "y": [
          0.05
         ],
         "yaxis": "y"
        },
        {
         "hovertemplate": "<b>%{hovertext}</b><br><br>Distribuidor=Minato Station<br>Juegos publicados=%{x}<br>Ventas globales=%{marker.size}<extra></extra>",
         "hovertext": [
          "Minato Station"
         ],
         "legendgroup": "Minato Station",
         "marker": {
          "color": "#00cc96",
          "size": [
           0.05
          ],
          "sizemode": "area",
          "sizeref": 0.49626666666666663,
          "symbol": "circle"
         },
         "mode": "markers",
         "name": "Minato Station",
         "orientation": "v",
         "showlegend": true,
         "type": "scatter",
         "x": [
          3
         ],
         "xaxis": "x",
         "y": [
          0.05
         ],
         "yaxis": "y"
        },
        {
         "hovertemplate": "<b>%{hovertext}</b><br><br>Distribuidor=Ertain<br>Juegos publicados=%{x}<br>Ventas globales=%{marker.size}<extra></extra>",
         "hovertext": [
          "Ertain"
         ],
         "legendgroup": "Ertain",
         "marker": {
          "color": "#ab63fa",
          "size": [
           0.05
          ],
          "sizemode": "area",
          "sizeref": 0.49626666666666663,
          "symbol": "circle"
         },
         "mode": "markers",
         "name": "Ertain",
         "orientation": "v",
         "showlegend": true,
         "type": "scatter",
         "x": [
          1
         ],
         "xaxis": "x",
         "y": [
          0.05
         ],
         "yaxis": "y"
        },
        {
         "hovertemplate": "<b>%{hovertext}</b><br><br>Distribuidor=Max Five<br>Juegos publicados=%{x}<br>Ventas globales=%{marker.size}<extra></extra>",
         "hovertext": [
          "Max Five"
         ],
         "legendgroup": "Max Five",
         "marker": {
          "color": "#FFA15A",
          "size": [
           0.05
          ],
          "sizemode": "area",
          "sizeref": 0.49626666666666663,
          "symbol": "circle"
         },
         "mode": "markers",
         "name": "Max Five",
         "orientation": "v",
         "showlegend": true,
         "type": "scatter",
         "x": [
          1
         ],
         "xaxis": "x",
         "y": [
          0.05
         ],
         "yaxis": "y"
        },
        {
         "hovertemplate": "<b>%{hovertext}</b><br><br>Distribuidor=Pony Canyon<br>Juegos publicados=%{x}<br>Ventas globales=%{marker.size}<extra></extra>",
         "hovertext": [
          "Pony Canyon"
         ],
         "legendgroup": "Pony Canyon",
         "marker": {
          "color": "#19d3f3",
          "size": [
           0.05
          ],
          "sizemode": "area",
          "sizeref": 0.49626666666666663,
          "symbol": "circle"
         },
         "mode": "markers",
         "name": "Pony Canyon",
         "orientation": "v",
         "showlegend": true,
         "type": "scatter",
         "x": [
          1
         ],
         "xaxis": "x",
         "y": [
          0.05
         ],
         "yaxis": "y"
        },
        {
         "hovertemplate": "<b>%{hovertext}</b><br><br>Distribuidor=Milestone S.r.l<br>Juegos publicados=%{x}<br>Ventas globales=%{marker.size}<extra></extra>",
         "hovertext": [
          "Milestone S.r.l"
         ],
         "legendgroup": "Milestone S.r.l",
         "marker": {
          "color": "#FF6692",
          "size": [
           0.05
          ],
          "sizemode": "area",
          "sizeref": 0.49626666666666663,
          "symbol": "circle"
         },
         "mode": "markers",
         "name": "Milestone S.r.l",
         "orientation": "v",
         "showlegend": true,
         "type": "scatter",
         "x": [
          2
         ],
         "xaxis": "x",
         "y": [
          0.05
         ],
         "yaxis": "y"
        },
        {
         "hovertemplate": "<b>%{hovertext}</b><br><br>Distribuidor=Lexicon Entertainment<br>Juegos publicados=%{x}<br>Ventas globales=%{marker.size}<extra></extra>",
         "hovertext": [
          "Lexicon Entertainment"
         ],
         "legendgroup": "Lexicon Entertainment",
         "marker": {
          "color": "#B6E880",
          "size": [
           0.05
          ],
          "sizemode": "area",
          "sizeref": 0.49626666666666663,
          "symbol": "circle"
         },
         "mode": "markers",
         "name": "Lexicon Entertainment",
         "orientation": "v",
         "showlegend": true,
         "type": "scatter",
         "x": [
          2
         ],
         "xaxis": "x",
         "y": [
          0.05
         ],
         "yaxis": "y"
        },
        {
         "hovertemplate": "<b>%{hovertext}</b><br><br>Distribuidor=Sweets<br>Juegos publicados=%{x}<br>Ventas globales=%{marker.size}<extra></extra>",
         "hovertext": [
          "Sweets"
         ],
         "legendgroup": "Sweets",
         "marker": {
          "color": "#FF97FF",
          "size": [
           0.05
          ],
          "sizemode": "area",
          "sizeref": 0.49626666666666663,
          "symbol": "circle"
         },
         "mode": "markers",
         "name": "Sweets",
         "orientation": "v",
         "showlegend": true,
         "type": "scatter",
         "x": [
          2
         ],
         "xaxis": "x",
         "y": [
          0.05
         ],
         "yaxis": "y"
        },
        {
         "hovertemplate": "<b>%{hovertext}</b><br><br>Distribuidor=MediaQuest<br>Juegos publicados=%{x}<br>Ventas globales=%{marker.size}<extra></extra>",
         "hovertext": [
          "MediaQuest"
         ],
         "legendgroup": "MediaQuest",
         "marker": {
          "color": "#FECB52",
          "size": [
           0.05
          ],
          "sizemode": "area",
          "sizeref": 0.49626666666666663,
          "symbol": "circle"
         },
         "mode": "markers",
         "name": "MediaQuest",
         "orientation": "v",
         "showlegend": true,
         "type": "scatter",
         "x": [
          1
         ],
         "xaxis": "x",
         "y": [
          0.05
         ],
         "yaxis": "y"
        },
        {
         "hovertemplate": "<b>%{hovertext}</b><br><br>Distribuidor=Team17 Software<br>Juegos publicados=%{x}<br>Ventas globales=%{marker.size}<extra></extra>",
         "hovertext": [
          "Team17 Software"
         ],
         "legendgroup": "Team17 Software",
         "marker": {
          "color": "#636efa",
          "size": [
           0.05
          ],
          "sizemode": "area",
          "sizeref": 0.49626666666666663,
          "symbol": "circle"
         },
         "mode": "markers",
         "name": "Team17 Software",
         "orientation": "v",
         "showlegend": true,
         "type": "scatter",
         "x": [
          1
         ],
         "xaxis": "x",
         "y": [
          0.05
         ],
         "yaxis": "y"
        },
        {
         "hovertemplate": "<b>%{hovertext}</b><br><br>Distribuidor=WayForward Technologies<br>Juegos publicados=%{x}<br>Ventas globales=%{marker.size}<extra></extra>",
         "hovertext": [
          "WayForward Technologies"
         ],
         "legendgroup": "WayForward Technologies",
         "marker": {
          "color": "#EF553B",
          "size": [
           0.05
          ],
          "sizemode": "area",
          "sizeref": 0.49626666666666663,
          "symbol": "circle"
         },
         "mode": "markers",
         "name": "WayForward Technologies",
         "orientation": "v",
         "showlegend": true,
         "type": "scatter",
         "x": [
          1
         ],
         "xaxis": "x",
         "y": [
          0.05
         ],
         "yaxis": "y"
        },
        {
         "hovertemplate": "<b>%{hovertext}</b><br><br>Distribuidor=Alawar Entertainment<br>Juegos publicados=%{x}<br>Ventas globales=%{marker.size}<extra></extra>",
         "hovertext": [
          "Alawar Entertainment"
         ],
         "legendgroup": "Alawar Entertainment",
         "marker": {
          "color": "#00cc96",
          "size": [
           0.05
          ],
          "sizemode": "area",
          "sizeref": 0.49626666666666663,
          "symbol": "circle"
         },
         "mode": "markers",
         "name": "Alawar Entertainment",
         "orientation": "v",
         "showlegend": true,
         "type": "scatter",
         "x": [
          2
         ],
         "xaxis": "x",
         "y": [
          0.05
         ],
         "yaxis": "y"
        },
        {
         "hovertemplate": "<b>%{hovertext}</b><br><br>Distribuidor=GN Software<br>Juegos publicados=%{x}<br>Ventas globales=%{marker.size}<extra></extra>",
         "hovertext": [
          "GN Software"
         ],
         "legendgroup": "GN Software",
         "marker": {
          "color": "#ab63fa",
          "size": [
           0.05
          ],
          "sizemode": "area",
          "sizeref": 0.49626666666666663,
          "symbol": "circle"
         },
         "mode": "markers",
         "name": "GN Software",
         "orientation": "v",
         "showlegend": true,
         "type": "scatter",
         "x": [
          3
         ],
         "xaxis": "x",
         "y": [
          0.05
         ],
         "yaxis": "y"
        },
        {
         "hovertemplate": "<b>%{hovertext}</b><br><br>Distribuidor=The Learning Company<br>Juegos publicados=%{x}<br>Ventas globales=%{marker.size}<extra></extra>",
         "hovertext": [
          "The Learning Company"
         ],
         "legendgroup": "The Learning Company",
         "marker": {
          "color": "#FFA15A",
          "size": [
           0.05
          ],
          "sizemode": "area",
          "sizeref": 0.49626666666666663,
          "symbol": "circle"
         },
         "mode": "markers",
         "name": "The Learning Company",
         "orientation": "v",
         "showlegend": true,
         "type": "scatter",
         "x": [
          1
         ],
         "xaxis": "x",
         "y": [
          0.05
         ],
         "yaxis": "y"
        },
        {
         "hovertemplate": "<b>%{hovertext}</b><br><br>Distribuidor=Monte Christo Multimedia<br>Juegos publicados=%{x}<br>Ventas globales=%{marker.size}<extra></extra>",
         "hovertext": [
          "Monte Christo Multimedia"
         ],
         "legendgroup": "Monte Christo Multimedia",
         "marker": {
          "color": "#19d3f3",
          "size": [
           0.05
          ],
          "sizemode": "area",
          "sizeref": 0.49626666666666663,
          "symbol": "circle"
         },
         "mode": "markers",
         "name": "Monte Christo Multimedia",
         "orientation": "v",
         "showlegend": true,
         "type": "scatter",
         "x": [
          1
         ],
         "xaxis": "x",
         "y": [
          0.05
         ],
         "yaxis": "y"
        },
        {
         "hovertemplate": "<b>%{hovertext}</b><br><br>Distribuidor=Focus Multimedia<br>Juegos publicados=%{x}<br>Ventas globales=%{marker.size}<extra></extra>",
         "hovertext": [
          "Focus Multimedia"
         ],
         "legendgroup": "Focus Multimedia",
         "marker": {
          "color": "#FF6692",
          "size": [
           0.05
          ],
          "sizemode": "area",
          "sizeref": 0.49626666666666663,
          "symbol": "circle"
         },
         "mode": "markers",
         "name": "Focus Multimedia",
         "orientation": "v",
         "showlegend": true,
         "type": "scatter",
         "x": [
          3
         ],
         "xaxis": "x",
         "y": [
          0.05
         ],
         "yaxis": "y"
        },
        {
         "hovertemplate": "<b>%{hovertext}</b><br><br>Distribuidor=Mamba Games<br>Juegos publicados=%{x}<br>Ventas globales=%{marker.size}<extra></extra>",
         "hovertext": [
          "Mamba Games"
         ],
         "legendgroup": "Mamba Games",
         "marker": {
          "color": "#B6E880",
          "size": [
           0.05
          ],
          "sizemode": "area",
          "sizeref": 0.49626666666666663,
          "symbol": "circle"
         },
         "mode": "markers",
         "name": "Mamba Games",
         "orientation": "v",
         "showlegend": true,
         "type": "scatter",
         "x": [
          2
         ],
         "xaxis": "x",
         "y": [
          0.05
         ],
         "yaxis": "y"
        },
        {
         "hovertemplate": "<b>%{hovertext}</b><br><br>Distribuidor=System Soft<br>Juegos publicados=%{x}<br>Ventas globales=%{marker.size}<extra></extra>",
         "hovertext": [
          "System Soft"
         ],
         "legendgroup": "System Soft",
         "marker": {
          "color": "#FF97FF",
          "size": [
           0.05
          ],
          "sizemode": "area",
          "sizeref": 0.49626666666666663,
          "symbol": "circle"
         },
         "mode": "markers",
         "name": "System Soft",
         "orientation": "v",
         "showlegend": true,
         "type": "scatter",
         "x": [
          4
         ],
         "xaxis": "x",
         "y": [
          0.05
         ],
         "yaxis": "y"
        },
        {
         "hovertemplate": "<b>%{hovertext}</b><br><br>Distribuidor=Pow<br>Juegos publicados=%{x}<br>Ventas globales=%{marker.size}<extra></extra>",
         "hovertext": [
          "Pow"
         ],
         "legendgroup": "Pow",
         "marker": {
          "color": "#FECB52",
          "size": [
           0.05
          ],
          "sizemode": "area",
          "sizeref": 0.49626666666666663,
          "symbol": "circle"
         },
         "mode": "markers",
         "name": "Pow",
         "orientation": "v",
         "showlegend": true,
         "type": "scatter",
         "x": [
          1
         ],
         "xaxis": "x",
         "y": [
          0.05
         ],
         "yaxis": "y"
        },
        {
         "hovertemplate": "<b>%{hovertext}</b><br><br>Distribuidor=Easy Interactive<br>Juegos publicados=%{x}<br>Ventas globales=%{marker.size}<extra></extra>",
         "hovertext": [
          "Easy Interactive"
         ],
         "legendgroup": "Easy Interactive",
         "marker": {
          "color": "#636efa",
          "size": [
           0.05
          ],
          "sizemode": "area",
          "sizeref": 0.49626666666666663,
          "symbol": "circle"
         },
         "mode": "markers",
         "name": "Easy Interactive",
         "orientation": "v",
         "showlegend": true,
         "type": "scatter",
         "x": [
          2
         ],
         "xaxis": "x",
         "y": [
          0.05
         ],
         "yaxis": "y"
        },
        {
         "hovertemplate": "<b>%{hovertext}</b><br><br>Distribuidor=Vap<br>Juegos publicados=%{x}<br>Ventas globales=%{marker.size}<extra></extra>",
         "hovertext": [
          "Vap"
         ],
         "legendgroup": "Vap",
         "marker": {
          "color": "#EF553B",
          "size": [
           0.05
          ],
          "sizemode": "area",
          "sizeref": 0.49626666666666663,
          "symbol": "circle"
         },
         "mode": "markers",
         "name": "Vap",
         "orientation": "v",
         "showlegend": true,
         "type": "scatter",
         "x": [
          1
         ],
         "xaxis": "x",
         "y": [
          0.05
         ],
         "yaxis": "y"
        },
        {
         "hovertemplate": "<b>%{hovertext}</b><br><br>Distribuidor=Navarre Corp<br>Juegos publicados=%{x}<br>Ventas globales=%{marker.size}<extra></extra>",
         "hovertext": [
          "Navarre Corp"
         ],
         "legendgroup": "Navarre Corp",
         "marker": {
          "color": "#00cc96",
          "size": [
           0.05
          ],
          "sizemode": "area",
          "sizeref": 0.49626666666666663,
          "symbol": "circle"
         },
         "mode": "markers",
         "name": "Navarre Corp",
         "orientation": "v",
         "showlegend": true,
         "type": "scatter",
         "x": [
          1
         ],
         "xaxis": "x",
         "y": [
          0.05
         ],
         "yaxis": "y"
        },
        {
         "hovertemplate": "<b>%{hovertext}</b><br><br>Distribuidor=Phantagram<br>Juegos publicados=%{x}<br>Ventas globales=%{marker.size}<extra></extra>",
         "hovertext": [
          "Phantagram"
         ],
         "legendgroup": "Phantagram",
         "marker": {
          "color": "#ab63fa",
          "size": [
           0.05
          ],
          "sizemode": "area",
          "sizeref": 0.49626666666666663,
          "symbol": "circle"
         },
         "mode": "markers",
         "name": "Phantagram",
         "orientation": "v",
         "showlegend": true,
         "type": "scatter",
         "x": [
          1
         ],
         "xaxis": "x",
         "y": [
          0.05
         ],
         "yaxis": "y"
        },
        {
         "hovertemplate": "<b>%{hovertext}</b><br><br>Distribuidor=Gakken<br>Juegos publicados=%{x}<br>Ventas globales=%{marker.size}<extra></extra>",
         "hovertext": [
          "Gakken"
         ],
         "legendgroup": "Gakken",
         "marker": {
          "color": "#FFA15A",
          "size": [
           0.04
          ],
          "sizemode": "area",
          "sizeref": 0.49626666666666663,
          "symbol": "circle"
         },
         "mode": "markers",
         "name": "Gakken",
         "orientation": "v",
         "showlegend": true,
         "type": "scatter",
         "x": [
          2
         ],
         "xaxis": "x",
         "y": [
          0.04
         ],
         "yaxis": "y"
        },
        {
         "hovertemplate": "<b>%{hovertext}</b><br><br>Distribuidor=Playmore<br>Juegos publicados=%{x}<br>Ventas globales=%{marker.size}<extra></extra>",
         "hovertext": [
          "Playmore"
         ],
         "legendgroup": "Playmore",
         "marker": {
          "color": "#19d3f3",
          "size": [
           0.04
          ],
          "sizemode": "area",
          "sizeref": 0.49626666666666663,
          "symbol": "circle"
         },
         "mode": "markers",
         "name": "Playmore",
         "orientation": "v",
         "showlegend": true,
         "type": "scatter",
         "x": [
          1
         ],
         "xaxis": "x",
         "y": [
          0.04
         ],
         "yaxis": "y"
        },
        {
         "hovertemplate": "<b>%{hovertext}</b><br><br>Distribuidor=G.Rev<br>Juegos publicados=%{x}<br>Ventas globales=%{marker.size}<extra></extra>",
         "hovertext": [
          "G.Rev"
         ],
         "legendgroup": "G.Rev",
         "marker": {
          "color": "#FF6692",
          "size": [
           0.04
          ],
          "sizemode": "area",
          "sizeref": 0.49626666666666663,
          "symbol": "circle"
         },
         "mode": "markers",
         "name": "G.Rev",
         "orientation": "v",
         "showlegend": true,
         "type": "scatter",
         "x": [
          2
         ],
         "xaxis": "x",
         "y": [
          0.04
         ],
         "yaxis": "y"
        },
        {
         "hovertemplate": "<b>%{hovertext}</b><br><br>Distribuidor=Kool Kizz<br>Juegos publicados=%{x}<br>Ventas globales=%{marker.size}<extra></extra>",
         "hovertext": [
          "Kool Kizz"
         ],
         "legendgroup": "Kool Kizz",
         "marker": {
          "color": "#B6E880",
          "size": [
           0.04
          ],
          "sizemode": "area",
          "sizeref": 0.49626666666666663,
          "symbol": "circle"
         },
         "mode": "markers",
         "name": "Kool Kizz",
         "orientation": "v",
         "showlegend": true,
         "type": "scatter",
         "x": [
          1
         ],
         "xaxis": "x",
         "y": [
          0.04
         ],
         "yaxis": "y"
        },
        {
         "hovertemplate": "<b>%{hovertext}</b><br><br>Distribuidor=imageepoch Inc.<br>Juegos publicados=%{x}<br>Ventas globales=%{marker.size}<extra></extra>",
         "hovertext": [
          "imageepoch Inc."
         ],
         "legendgroup": "imageepoch Inc.",
         "marker": {
          "color": "#FF97FF",
          "size": [
           0.04
          ],
          "sizemode": "area",
          "sizeref": 0.49626666666666663,
          "symbol": "circle"
         },
         "mode": "markers",
         "name": "imageepoch Inc.",
         "orientation": "v",
         "showlegend": true,
         "type": "scatter",
         "x": [
          2
         ],
         "xaxis": "x",
         "y": [
          0.04
         ],
         "yaxis": "y"
        },
        {
         "hovertemplate": "<b>%{hovertext}</b><br><br>Distribuidor=Devolver Digital<br>Juegos publicados=%{x}<br>Ventas globales=%{marker.size}<extra></extra>",
         "hovertext": [
          "Devolver Digital"
         ],
         "legendgroup": "Devolver Digital",
         "marker": {
          "color": "#FECB52",
          "size": [
           0.04
          ],
          "sizemode": "area",
          "sizeref": 0.49626666666666663,
          "symbol": "circle"
         },
         "mode": "markers",
         "name": "Devolver Digital",
         "orientation": "v",
         "showlegend": true,
         "type": "scatter",
         "x": [
          2
         ],
         "xaxis": "x",
         "y": [
          0.04
         ],
         "yaxis": "y"
        },
        {
         "hovertemplate": "<b>%{hovertext}</b><br><br>Distribuidor=2D Boy<br>Juegos publicados=%{x}<br>Ventas globales=%{marker.size}<extra></extra>",
         "hovertext": [
          "2D Boy"
         ],
         "legendgroup": "2D Boy",
         "marker": {
          "color": "#636efa",
          "size": [
           0.04
          ],
          "sizemode": "area",
          "sizeref": 0.49626666666666663,
          "symbol": "circle"
         },
         "mode": "markers",
         "name": "2D Boy",
         "orientation": "v",
         "showlegend": true,
         "type": "scatter",
         "x": [
          1
         ],
         "xaxis": "x",
         "y": [
          0.04
         ],
         "yaxis": "y"
        },
        {
         "hovertemplate": "<b>%{hovertext}</b><br><br>Distribuidor=Summitsoft<br>Juegos publicados=%{x}<br>Ventas globales=%{marker.size}<extra></extra>",
         "hovertext": [
          "Summitsoft"
         ],
         "legendgroup": "Summitsoft",
         "marker": {
          "color": "#EF553B",
          "size": [
           0.04
          ],
          "sizemode": "area",
          "sizeref": 0.49626666666666663,
          "symbol": "circle"
         },
         "mode": "markers",
         "name": "Summitsoft",
         "orientation": "v",
         "showlegend": true,
         "type": "scatter",
         "x": [
          1
         ],
         "xaxis": "x",
         "y": [
          0.04
         ],
         "yaxis": "y"
        },
        {
         "hovertemplate": "<b>%{hovertext}</b><br><br>Distribuidor=Ivolgamus<br>Juegos publicados=%{x}<br>Ventas globales=%{marker.size}<extra></extra>",
         "hovertext": [
          "Ivolgamus"
         ],
         "legendgroup": "Ivolgamus",
         "marker": {
          "color": "#00cc96",
          "size": [
           0.04
          ],
          "sizemode": "area",
          "sizeref": 0.49626666666666663,
          "symbol": "circle"
         },
         "mode": "markers",
         "name": "Ivolgamus",
         "orientation": "v",
         "showlegend": true,
         "type": "scatter",
         "x": [
          1
         ],
         "xaxis": "x",
         "y": [
          0.04
         ],
         "yaxis": "y"
        },
        {
         "hovertemplate": "<b>%{hovertext}</b><br><br>Distribuidor=Yamasa Entertainment<br>Juegos publicados=%{x}<br>Ventas globales=%{marker.size}<extra></extra>",
         "hovertext": [
          "Yamasa Entertainment"
         ],
         "legendgroup": "Yamasa Entertainment",
         "marker": {
          "color": "#ab63fa",
          "size": [
           0.04
          ],
          "sizemode": "area",
          "sizeref": 0.49626666666666663,
          "symbol": "circle"
         },
         "mode": "markers",
         "name": "Yamasa Entertainment",
         "orientation": "v",
         "showlegend": true,
         "type": "scatter",
         "x": [
          2
         ],
         "xaxis": "x",
         "y": [
          0.04
         ],
         "yaxis": "y"
        },
        {
         "hovertemplate": "<b>%{hovertext}</b><br><br>Distribuidor=Societa<br>Juegos publicados=%{x}<br>Ventas globales=%{marker.size}<extra></extra>",
         "hovertext": [
          "Societa"
         ],
         "legendgroup": "Societa",
         "marker": {
          "color": "#FFA15A",
          "size": [
           0.04
          ],
          "sizemode": "area",
          "sizeref": 0.49626666666666663,
          "symbol": "circle"
         },
         "mode": "markers",
         "name": "Societa",
         "orientation": "v",
         "showlegend": true,
         "type": "scatter",
         "x": [
          1
         ],
         "xaxis": "x",
         "y": [
          0.04
         ],
         "yaxis": "y"
        },
        {
         "hovertemplate": "<b>%{hovertext}</b><br><br>Distribuidor=49Games<br>Juegos publicados=%{x}<br>Ventas globales=%{marker.size}<extra></extra>",
         "hovertext": [
          "49Games"
         ],
         "legendgroup": "49Games",
         "marker": {
          "color": "#19d3f3",
          "size": [
           0.04
          ],
          "sizemode": "area",
          "sizeref": 0.49626666666666663,
          "symbol": "circle"
         },
         "mode": "markers",
         "name": "49Games",
         "orientation": "v",
         "showlegend": true,
         "type": "scatter",
         "x": [
          1
         ],
         "xaxis": "x",
         "y": [
          0.04
         ],
         "yaxis": "y"
        },
        {
         "hovertemplate": "<b>%{hovertext}</b><br><br>Distribuidor=Legacy Interactive<br>Juegos publicados=%{x}<br>Ventas globales=%{marker.size}<extra></extra>",
         "hovertext": [
          "Legacy Interactive"
         ],
         "legendgroup": "Legacy Interactive",
         "marker": {
          "color": "#FF6692",
          "size": [
           0.04
          ],
          "sizemode": "area",
          "sizeref": 0.49626666666666663,
          "symbol": "circle"
         },
         "mode": "markers",
         "name": "Legacy Interactive",
         "orientation": "v",
         "showlegend": true,
         "type": "scatter",
         "x": [
          1
         ],
         "xaxis": "x",
         "y": [
          0.04
         ],
         "yaxis": "y"
        },
        {
         "hovertemplate": "<b>%{hovertext}</b><br><br>Distribuidor=Riverhillsoft<br>Juegos publicados=%{x}<br>Ventas globales=%{marker.size}<extra></extra>",
         "hovertext": [
          "Riverhillsoft"
         ],
         "legendgroup": "Riverhillsoft",
         "marker": {
          "color": "#B6E880",
          "size": [
           0.04
          ],
          "sizemode": "area",
          "sizeref": 0.49626666666666663,
          "symbol": "circle"
         },
         "mode": "markers",
         "name": "Riverhillsoft",
         "orientation": "v",
         "showlegend": true,
         "type": "scatter",
         "x": [
          1
         ],
         "xaxis": "x",
         "y": [
          0.04
         ],
         "yaxis": "y"
        },
        {
         "hovertemplate": "<b>%{hovertext}</b><br><br>Distribuidor=Alvion<br>Juegos publicados=%{x}<br>Ventas globales=%{marker.size}<extra></extra>",
         "hovertext": [
          "Alvion"
         ],
         "legendgroup": "Alvion",
         "marker": {
          "color": "#FF97FF",
          "size": [
           0.04
          ],
          "sizemode": "area",
          "sizeref": 0.49626666666666663,
          "symbol": "circle"
         },
         "mode": "markers",
         "name": "Alvion",
         "orientation": "v",
         "showlegend": true,
         "type": "scatter",
         "x": [
          2
         ],
         "xaxis": "x",
         "y": [
          0.04
         ],
         "yaxis": "y"
        },
        {
         "hovertemplate": "<b>%{hovertext}</b><br><br>Distribuidor=MLB.com<br>Juegos publicados=%{x}<br>Ventas globales=%{marker.size}<extra></extra>",
         "hovertext": [
          "MLB.com"
         ],
         "legendgroup": "MLB.com",
         "marker": {
          "color": "#FECB52",
          "size": [
           0.04
          ],
          "sizemode": "area",
          "sizeref": 0.49626666666666663,
          "symbol": "circle"
         },
         "mode": "markers",
         "name": "MLB.com",
         "orientation": "v",
         "showlegend": true,
         "type": "scatter",
         "x": [
          1
         ],
         "xaxis": "x",
         "y": [
          0.04
         ],
         "yaxis": "y"
        },
        {
         "hovertemplate": "<b>%{hovertext}</b><br><br>Distribuidor=Tryfirst<br>Juegos publicados=%{x}<br>Ventas globales=%{marker.size}<extra></extra>",
         "hovertext": [
          "Tryfirst"
         ],
         "legendgroup": "Tryfirst",
         "marker": {
          "color": "#636efa",
          "size": [
           0.03
          ],
          "sizemode": "area",
          "sizeref": 0.49626666666666663,
          "symbol": "circle"
         },
         "mode": "markers",
         "name": "Tryfirst",
         "orientation": "v",
         "showlegend": true,
         "type": "scatter",
         "x": [
          1
         ],
         "xaxis": "x",
         "y": [
          0.03
         ],
         "yaxis": "y"
        },
        {
         "hovertemplate": "<b>%{hovertext}</b><br><br>Distribuidor=Kids Station<br>Juegos publicados=%{x}<br>Ventas globales=%{marker.size}<extra></extra>",
         "hovertext": [
          "Kids Station"
         ],
         "legendgroup": "Kids Station",
         "marker": {
          "color": "#EF553B",
          "size": [
           0.03
          ],
          "sizemode": "area",
          "sizeref": 0.49626666666666663,
          "symbol": "circle"
         },
         "mode": "markers",
         "name": "Kids Station",
         "orientation": "v",
         "showlegend": true,
         "type": "scatter",
         "x": [
          1
         ],
         "xaxis": "x",
         "y": [
          0.03
         ],
         "yaxis": "y"
        },
        {
         "hovertemplate": "<b>%{hovertext}</b><br><br>Distribuidor=Kando Games<br>Juegos publicados=%{x}<br>Ventas globales=%{marker.size}<extra></extra>",
         "hovertext": [
          "Kando Games"
         ],
         "legendgroup": "Kando Games",
         "marker": {
          "color": "#00cc96",
          "size": [
           0.03
          ],
          "sizemode": "area",
          "sizeref": 0.49626666666666663,
          "symbol": "circle"
         },
         "mode": "markers",
         "name": "Kando Games",
         "orientation": "v",
         "showlegend": true,
         "type": "scatter",
         "x": [
          1
         ],
         "xaxis": "x",
         "y": [
          0.03
         ],
         "yaxis": "y"
        },
        {
         "hovertemplate": "<b>%{hovertext}</b><br><br>Distribuidor=Datam Polystar<br>Juegos publicados=%{x}<br>Ventas globales=%{marker.size}<extra></extra>",
         "hovertext": [
          "Datam Polystar"
         ],
         "legendgroup": "Datam Polystar",
         "marker": {
          "color": "#ab63fa",
          "size": [
           0.03
          ],
          "sizemode": "area",
          "sizeref": 0.49626666666666663,
          "symbol": "circle"
         },
         "mode": "markers",
         "name": "Datam Polystar",
         "orientation": "v",
         "showlegend": true,
         "type": "scatter",
         "x": [
          2
         ],
         "xaxis": "x",
         "y": [
          0.03
         ],
         "yaxis": "y"
        },
        {
         "hovertemplate": "<b>%{hovertext}</b><br><br>Distribuidor=Kamui<br>Juegos publicados=%{x}<br>Ventas globales=%{marker.size}<extra></extra>",
         "hovertext": [
          "Kamui"
         ],
         "legendgroup": "Kamui",
         "marker": {
          "color": "#FFA15A",
          "size": [
           0.03
          ],
          "sizemode": "area",
          "sizeref": 0.49626666666666663,
          "symbol": "circle"
         },
         "mode": "markers",
         "name": "Kamui",
         "orientation": "v",
         "showlegend": true,
         "type": "scatter",
         "x": [
          1
         ],
         "xaxis": "x",
         "y": [
          0.03
         ],
         "yaxis": "y"
        },
        {
         "hovertemplate": "<b>%{hovertext}</b><br><br>Distribuidor=NetRevo<br>Juegos publicados=%{x}<br>Ventas globales=%{marker.size}<extra></extra>",
         "hovertext": [
          "NetRevo"
         ],
         "legendgroup": "NetRevo",
         "marker": {
          "color": "#19d3f3",
          "size": [
           0.03
          ],
          "sizemode": "area",
          "sizeref": 0.49626666666666663,
          "symbol": "circle"
         },
         "mode": "markers",
         "name": "NetRevo",
         "orientation": "v",
         "showlegend": true,
         "type": "scatter",
         "x": [
          2
         ],
         "xaxis": "x",
         "y": [
          0.03
         ],
         "yaxis": "y"
        },
        {
         "hovertemplate": "<b>%{hovertext}</b><br><br>Distribuidor=HuneX<br>Juegos publicados=%{x}<br>Ventas globales=%{marker.size}<extra></extra>",
         "hovertext": [
          "HuneX"
         ],
         "legendgroup": "HuneX",
         "marker": {
          "color": "#FF6692",
          "size": [
           0.03
          ],
          "sizemode": "area",
          "sizeref": 0.49626666666666663,
          "symbol": "circle"
         },
         "mode": "markers",
         "name": "HuneX",
         "orientation": "v",
         "showlegend": true,
         "type": "scatter",
         "x": [
          2
         ],
         "xaxis": "x",
         "y": [
          0.03
         ],
         "yaxis": "y"
        },
        {
         "hovertemplate": "<b>%{hovertext}</b><br><br>Distribuidor=Cygames<br>Juegos publicados=%{x}<br>Ventas globales=%{marker.size}<extra></extra>",
         "hovertext": [
          "Cygames"
         ],
         "legendgroup": "Cygames",
         "marker": {
          "color": "#B6E880",
          "size": [
           0.03
          ],
          "sizemode": "area",
          "sizeref": 0.49626666666666663,
          "symbol": "circle"
         },
         "mode": "markers",
         "name": "Cygames",
         "orientation": "v",
         "showlegend": true,
         "type": "scatter",
         "x": [
          1
         ],
         "xaxis": "x",
         "y": [
          0.03
         ],
         "yaxis": "y"
        },
        {
         "hovertemplate": "<b>%{hovertext}</b><br><br>Distribuidor=Sunflowers<br>Juegos publicados=%{x}<br>Ventas globales=%{marker.size}<extra></extra>",
         "hovertext": [
          "Sunflowers"
         ],
         "legendgroup": "Sunflowers",
         "marker": {
          "color": "#FF97FF",
          "size": [
           0.03
          ],
          "sizemode": "area",
          "sizeref": 0.49626666666666663,
          "symbol": "circle"
         },
         "mode": "markers",
         "name": "Sunflowers",
         "orientation": "v",
         "showlegend": true,
         "type": "scatter",
         "x": [
          1
         ],
         "xaxis": "x",
         "y": [
          0.03
         ],
         "yaxis": "y"
        },
        {
         "hovertemplate": "<b>%{hovertext}</b><br><br>Distribuidor=Paon Corporation<br>Juegos publicados=%{x}<br>Ventas globales=%{marker.size}<extra></extra>",
         "hovertext": [
          "Paon Corporation"
         ],
         "legendgroup": "Paon Corporation",
         "marker": {
          "color": "#FECB52",
          "size": [
           0.03
          ],
          "sizemode": "area",
          "sizeref": 0.49626666666666663,
          "symbol": "circle"
         },
         "mode": "markers",
         "name": "Paon Corporation",
         "orientation": "v",
         "showlegend": true,
         "type": "scatter",
         "x": [
          1
         ],
         "xaxis": "x",
         "y": [
          0.03
         ],
         "yaxis": "y"
        },
        {
         "hovertemplate": "<b>%{hovertext}</b><br><br>Distribuidor=Her Interactive<br>Juegos publicados=%{x}<br>Ventas globales=%{marker.size}<extra></extra>",
         "hovertext": [
          "Her Interactive"
         ],
         "legendgroup": "Her Interactive",
         "marker": {
          "color": "#636efa",
          "size": [
           0.03
          ],
          "sizemode": "area",
          "sizeref": 0.49626666666666663,
          "symbol": "circle"
         },
         "mode": "markers",
         "name": "Her Interactive",
         "orientation": "v",
         "showlegend": true,
         "type": "scatter",
         "x": [
          1
         ],
         "xaxis": "x",
         "y": [
          0.03
         ],
         "yaxis": "y"
        },
        {
         "hovertemplate": "<b>%{hovertext}</b><br><br>Distribuidor=Nexon<br>Juegos publicados=%{x}<br>Ventas globales=%{marker.size}<extra></extra>",
         "hovertext": [
          "Nexon"
         ],
         "legendgroup": "Nexon",
         "marker": {
          "color": "#EF553B",
          "size": [
           0.03
          ],
          "sizemode": "area",
          "sizeref": 0.49626666666666663,
          "symbol": "circle"
         },
         "mode": "markers",
         "name": "Nexon",
         "orientation": "v",
         "showlegend": true,
         "type": "scatter",
         "x": [
          1
         ],
         "xaxis": "x",
         "y": [
          0.03
         ],
         "yaxis": "y"
        },
        {
         "hovertemplate": "<b>%{hovertext}</b><br><br>Distribuidor=Views<br>Juegos publicados=%{x}<br>Ventas globales=%{marker.size}<extra></extra>",
         "hovertext": [
          "Views"
         ],
         "legendgroup": "Views",
         "marker": {
          "color": "#00cc96",
          "size": [
           0.03
          ],
          "sizemode": "area",
          "sizeref": 0.49626666666666663,
          "symbol": "circle"
         },
         "mode": "markers",
         "name": "Views",
         "orientation": "v",
         "showlegend": true,
         "type": "scatter",
         "x": [
          2
         ],
         "xaxis": "x",
         "y": [
          0.03
         ],
         "yaxis": "y"
        },
        {
         "hovertemplate": "<b>%{hovertext}</b><br><br>Distribuidor=Just Flight<br>Juegos publicados=%{x}<br>Ventas globales=%{marker.size}<extra></extra>",
         "hovertext": [
          "Just Flight"
         ],
         "legendgroup": "Just Flight",
         "marker": {
          "color": "#ab63fa",
          "size": [
           0.03
          ],
          "sizemode": "area",
          "sizeref": 0.49626666666666663,
          "symbol": "circle"
         },
         "mode": "markers",
         "name": "Just Flight",
         "orientation": "v",
         "showlegend": true,
         "type": "scatter",
         "x": [
          1
         ],
         "xaxis": "x",
         "y": [
          0.03
         ],
         "yaxis": "y"
        },
        {
         "hovertemplate": "<b>%{hovertext}</b><br><br>Distribuidor=BushiRoad<br>Juegos publicados=%{x}<br>Ventas globales=%{marker.size}<extra></extra>",
         "hovertext": [
          "BushiRoad"
         ],
         "legendgroup": "BushiRoad",
         "marker": {
          "color": "#FFA15A",
          "size": [
           0.03
          ],
          "sizemode": "area",
          "sizeref": 0.49626666666666663,
          "symbol": "circle"
         },
         "mode": "markers",
         "name": "BushiRoad",
         "orientation": "v",
         "showlegend": true,
         "type": "scatter",
         "x": [
          1
         ],
         "xaxis": "x",
         "y": [
          0.03
         ],
         "yaxis": "y"
        },
        {
         "hovertemplate": "<b>%{hovertext}</b><br><br>Distribuidor=FuRyu Corporation<br>Juegos publicados=%{x}<br>Ventas globales=%{marker.size}<extra></extra>",
         "hovertext": [
          "FuRyu Corporation"
         ],
         "legendgroup": "FuRyu Corporation",
         "marker": {
          "color": "#19d3f3",
          "size": [
           0.03
          ],
          "sizemode": "area",
          "sizeref": 0.49626666666666663,
          "symbol": "circle"
         },
         "mode": "markers",
         "name": "FuRyu Corporation",
         "orientation": "v",
         "showlegend": true,
         "type": "scatter",
         "x": [
          1
         ],
         "xaxis": "x",
         "y": [
          0.03
         ],
         "yaxis": "y"
        },
        {
         "hovertemplate": "<b>%{hovertext}</b><br><br>Distribuidor=Kokopeli Digital Studios<br>Juegos publicados=%{x}<br>Ventas globales=%{marker.size}<extra></extra>",
         "hovertext": [
          "Kokopeli Digital Studios"
         ],
         "legendgroup": "Kokopeli Digital Studios",
         "marker": {
          "color": "#FF6692",
          "size": [
           0.03
          ],
          "sizemode": "area",
          "sizeref": 0.49626666666666663,
          "symbol": "circle"
         },
         "mode": "markers",
         "name": "Kokopeli Digital Studios",
         "orientation": "v",
         "showlegend": true,
         "type": "scatter",
         "x": [
          1
         ],
         "xaxis": "x",
         "y": [
          0.03
         ],
         "yaxis": "y"
        },
        {
         "hovertemplate": "<b>%{hovertext}</b><br><br>Distribuidor=Strategy First<br>Juegos publicados=%{x}<br>Ventas globales=%{marker.size}<extra></extra>",
         "hovertext": [
          "Strategy First"
         ],
         "legendgroup": "Strategy First",
         "marker": {
          "color": "#B6E880",
          "size": [
           0.03
          ],
          "sizemode": "area",
          "sizeref": 0.49626666666666663,
          "symbol": "circle"
         },
         "mode": "markers",
         "name": "Strategy First",
         "orientation": "v",
         "showlegend": true,
         "type": "scatter",
         "x": [
          1
         ],
         "xaxis": "x",
         "y": [
          0.03
         ],
         "yaxis": "y"
        },
        {
         "hovertemplate": "<b>%{hovertext}</b><br><br>Distribuidor=KSS<br>Juegos publicados=%{x}<br>Ventas globales=%{marker.size}<extra></extra>",
         "hovertext": [
          "KSS"
         ],
         "legendgroup": "KSS",
         "marker": {
          "color": "#FF97FF",
          "size": [
           0.03
          ],
          "sizemode": "area",
          "sizeref": 0.49626666666666663,
          "symbol": "circle"
         },
         "mode": "markers",
         "name": "KSS",
         "orientation": "v",
         "showlegend": true,
         "type": "scatter",
         "x": [
          1
         ],
         "xaxis": "x",
         "y": [
          0.03
         ],
         "yaxis": "y"
        },
        {
         "hovertemplate": "<b>%{hovertext}</b><br><br>Distribuidor=Fuji<br>Juegos publicados=%{x}<br>Ventas globales=%{marker.size}<extra></extra>",
         "hovertext": [
          "Fuji"
         ],
         "legendgroup": "Fuji",
         "marker": {
          "color": "#FECB52",
          "size": [
           0.03
          ],
          "sizemode": "area",
          "sizeref": 0.49626666666666663,
          "symbol": "circle"
         },
         "mode": "markers",
         "name": "Fuji",
         "orientation": "v",
         "showlegend": true,
         "type": "scatter",
         "x": [
          1
         ],
         "xaxis": "x",
         "y": [
          0.03
         ],
         "yaxis": "y"
        },
        {
         "hovertemplate": "<b>%{hovertext}</b><br><br>Distribuidor=ASK<br>Juegos publicados=%{x}<br>Ventas globales=%{marker.size}<extra></extra>",
         "hovertext": [
          "ASK"
         ],
         "legendgroup": "ASK",
         "marker": {
          "color": "#636efa",
          "size": [
           0.03
          ],
          "sizemode": "area",
          "sizeref": 0.49626666666666663,
          "symbol": "circle"
         },
         "mode": "markers",
         "name": "ASK",
         "orientation": "v",
         "showlegend": true,
         "type": "scatter",
         "x": [
          1
         ],
         "xaxis": "x",
         "y": [
          0.03
         ],
         "yaxis": "y"
        },
        {
         "hovertemplate": "<b>%{hovertext}</b><br><br>Distribuidor=Maximum Family Games<br>Juegos publicados=%{x}<br>Ventas globales=%{marker.size}<extra></extra>",
         "hovertext": [
          "Maximum Family Games"
         ],
         "legendgroup": "Maximum Family Games",
         "marker": {
          "color": "#EF553B",
          "size": [
           0.03
          ],
          "sizemode": "area",
          "sizeref": 0.49626666666666663,
          "symbol": "circle"
         },
         "mode": "markers",
         "name": "Maximum Family Games",
         "orientation": "v",
         "showlegend": true,
         "type": "scatter",
         "x": [
          1
         ],
         "xaxis": "x",
         "y": [
          0.03
         ],
         "yaxis": "y"
        },
        {
         "hovertemplate": "<b>%{hovertext}</b><br><br>Distribuidor=Intergrow<br>Juegos publicados=%{x}<br>Ventas globales=%{marker.size}<extra></extra>",
         "hovertext": [
          "Intergrow"
         ],
         "legendgroup": "Intergrow",
         "marker": {
          "color": "#00cc96",
          "size": [
           0.03
          ],
          "sizemode": "area",
          "sizeref": 0.49626666666666663,
          "symbol": "circle"
         },
         "mode": "markers",
         "name": "Intergrow",
         "orientation": "v",
         "showlegend": true,
         "type": "scatter",
         "x": [
          1
         ],
         "xaxis": "x",
         "y": [
          0.03
         ],
         "yaxis": "y"
        },
        {
         "hovertemplate": "<b>%{hovertext}</b><br><br>Distribuidor=Berkeley<br>Juegos publicados=%{x}<br>Ventas globales=%{marker.size}<extra></extra>",
         "hovertext": [
          "Berkeley"
         ],
         "legendgroup": "Berkeley",
         "marker": {
          "color": "#ab63fa",
          "size": [
           0.03
          ],
          "sizemode": "area",
          "sizeref": 0.49626666666666663,
          "symbol": "circle"
         },
         "mode": "markers",
         "name": "Berkeley",
         "orientation": "v",
         "showlegend": true,
         "type": "scatter",
         "x": [
          1
         ],
         "xaxis": "x",
         "y": [
          0.03
         ],
         "yaxis": "y"
        },
        {
         "hovertemplate": "<b>%{hovertext}</b><br><br>Distribuidor=id Software<br>Juegos publicados=%{x}<br>Ventas globales=%{marker.size}<extra></extra>",
         "hovertext": [
          "id Software"
         ],
         "legendgroup": "id Software",
         "marker": {
          "color": "#FFA15A",
          "size": [
           0.03
          ],
          "sizemode": "area",
          "sizeref": 0.49626666666666663,
          "symbol": "circle"
         },
         "mode": "markers",
         "name": "id Software",
         "orientation": "v",
         "showlegend": true,
         "type": "scatter",
         "x": [
          1
         ],
         "xaxis": "x",
         "y": [
          0.03
         ],
         "yaxis": "y"
        },
        {
         "hovertemplate": "<b>%{hovertext}</b><br><br>Distribuidor=Fields<br>Juegos publicados=%{x}<br>Ventas globales=%{marker.size}<extra></extra>",
         "hovertext": [
          "Fields"
         ],
         "legendgroup": "Fields",
         "marker": {
          "color": "#19d3f3",
          "size": [
           0.03
          ],
          "sizemode": "area",
          "sizeref": 0.49626666666666663,
          "symbol": "circle"
         },
         "mode": "markers",
         "name": "Fields",
         "orientation": "v",
         "showlegend": true,
         "type": "scatter",
         "x": [
          1
         ],
         "xaxis": "x",
         "y": [
          0.03
         ],
         "yaxis": "y"
        },
        {
         "hovertemplate": "<b>%{hovertext}</b><br><br>Distribuidor=Blue Byte<br>Juegos publicados=%{x}<br>Ventas globales=%{marker.size}<extra></extra>",
         "hovertext": [
          "Blue Byte"
         ],
         "legendgroup": "Blue Byte",
         "marker": {
          "color": "#FF6692",
          "size": [
           0.03
          ],
          "sizemode": "area",
          "sizeref": 0.49626666666666663,
          "symbol": "circle"
         },
         "mode": "markers",
         "name": "Blue Byte",
         "orientation": "v",
         "showlegend": true,
         "type": "scatter",
         "x": [
          2
         ],
         "xaxis": "x",
         "y": [
          0.03
         ],
         "yaxis": "y"
        },
        {
         "hovertemplate": "<b>%{hovertext}</b><br><br>Distribuidor=Headup Games<br>Juegos publicados=%{x}<br>Ventas globales=%{marker.size}<extra></extra>",
         "hovertext": [
          "Headup Games"
         ],
         "legendgroup": "Headup Games",
         "marker": {
          "color": "#B6E880",
          "size": [
           0.03
          ],
          "sizemode": "area",
          "sizeref": 0.49626666666666663,
          "symbol": "circle"
         },
         "mode": "markers",
         "name": "Headup Games",
         "orientation": "v",
         "showlegend": true,
         "type": "scatter",
         "x": [
          1
         ],
         "xaxis": "x",
         "y": [
          0.03
         ],
         "yaxis": "y"
        },
        {
         "hovertemplate": "<b>%{hovertext}</b><br><br>Distribuidor=Number None<br>Juegos publicados=%{x}<br>Ventas globales=%{marker.size}<extra></extra>",
         "hovertext": [
          "Number None"
         ],
         "legendgroup": "Number None",
         "marker": {
          "color": "#FF97FF",
          "size": [
           0.03
          ],
          "sizemode": "area",
          "sizeref": 0.49626666666666663,
          "symbol": "circle"
         },
         "mode": "markers",
         "name": "Number None",
         "orientation": "v",
         "showlegend": true,
         "type": "scatter",
         "x": [
          1
         ],
         "xaxis": "x",
         "y": [
          0.03
         ],
         "yaxis": "y"
        },
        {
         "hovertemplate": "<b>%{hovertext}</b><br><br>Distribuidor=Extreme Entertainment Group<br>Juegos publicados=%{x}<br>Ventas globales=%{marker.size}<extra></extra>",
         "hovertext": [
          "Extreme Entertainment Group"
         ],
         "legendgroup": "Extreme Entertainment Group",
         "marker": {
          "color": "#FECB52",
          "size": [
           0.03
          ],
          "sizemode": "area",
          "sizeref": 0.49626666666666663,
          "symbol": "circle"
         },
         "mode": "markers",
         "name": "Extreme Entertainment Group",
         "orientation": "v",
         "showlegend": true,
         "type": "scatter",
         "x": [
          1
         ],
         "xaxis": "x",
         "y": [
          0.03
         ],
         "yaxis": "y"
        },
        {
         "hovertemplate": "<b>%{hovertext}</b><br><br>Distribuidor=Aerosoft<br>Juegos publicados=%{x}<br>Ventas globales=%{marker.size}<extra></extra>",
         "hovertext": [
          "Aerosoft"
         ],
         "legendgroup": "Aerosoft",
         "marker": {
          "color": "#636efa",
          "size": [
           0.03
          ],
          "sizemode": "area",
          "sizeref": 0.49626666666666663,
          "symbol": "circle"
         },
         "mode": "markers",
         "name": "Aerosoft",
         "orientation": "v",
         "showlegend": true,
         "type": "scatter",
         "x": [
          2
         ],
         "xaxis": "x",
         "y": [
          0.03
         ],
         "yaxis": "y"
        },
        {
         "hovertemplate": "<b>%{hovertext}</b><br><br>Distribuidor=Dorart<br>Juegos publicados=%{x}<br>Ventas globales=%{marker.size}<extra></extra>",
         "hovertext": [
          "Dorart"
         ],
         "legendgroup": "Dorart",
         "marker": {
          "color": "#EF553B",
          "size": [
           0.03
          ],
          "sizemode": "area",
          "sizeref": 0.49626666666666663,
          "symbol": "circle"
         },
         "mode": "markers",
         "name": "Dorart",
         "orientation": "v",
         "showlegend": true,
         "type": "scatter",
         "x": [
          2
         ],
         "xaxis": "x",
         "y": [
          0.03
         ],
         "yaxis": "y"
        },
        {
         "hovertemplate": "<b>%{hovertext}</b><br><br>Distribuidor=Phoenix Games<br>Juegos publicados=%{x}<br>Ventas globales=%{marker.size}<extra></extra>",
         "hovertext": [
          "Phoenix Games"
         ],
         "legendgroup": "Phoenix Games",
         "marker": {
          "color": "#00cc96",
          "size": [
           0.02
          ],
          "sizemode": "area",
          "sizeref": 0.49626666666666663,
          "symbol": "circle"
         },
         "mode": "markers",
         "name": "Phoenix Games",
         "orientation": "v",
         "showlegend": true,
         "type": "scatter",
         "x": [
          1
         ],
         "xaxis": "x",
         "y": [
          0.02
         ],
         "yaxis": "y"
        },
        {
         "hovertemplate": "<b>%{hovertext}</b><br><br>Distribuidor=Lighthouse Interactive<br>Juegos publicados=%{x}<br>Ventas globales=%{marker.size}<extra></extra>",
         "hovertext": [
          "Lighthouse Interactive"
         ],
         "legendgroup": "Lighthouse Interactive",
         "marker": {
          "color": "#ab63fa",
          "size": [
           0.02
          ],
          "sizemode": "area",
          "sizeref": 0.49626666666666663,
          "symbol": "circle"
         },
         "mode": "markers",
         "name": "Lighthouse Interactive",
         "orientation": "v",
         "showlegend": true,
         "type": "scatter",
         "x": [
          1
         ],
         "xaxis": "x",
         "y": [
          0.02
         ],
         "yaxis": "y"
        },
        {
         "hovertemplate": "<b>%{hovertext}</b><br><br>Distribuidor=Technos Japan Corporation<br>Juegos publicados=%{x}<br>Ventas globales=%{marker.size}<extra></extra>",
         "hovertext": [
          "Technos Japan Corporation"
         ],
         "legendgroup": "Technos Japan Corporation",
         "marker": {
          "color": "#FFA15A",
          "size": [
           0.02
          ],
          "sizemode": "area",
          "sizeref": 0.49626666666666663,
          "symbol": "circle"
         },
         "mode": "markers",
         "name": "Technos Japan Corporation",
         "orientation": "v",
         "showlegend": true,
         "type": "scatter",
         "x": [
          1
         ],
         "xaxis": "x",
         "y": [
          0.02
         ],
         "yaxis": "y"
        },
        {
         "hovertemplate": "<b>%{hovertext}</b><br><br>Distribuidor=Revolution (Japan)<br>Juegos publicados=%{x}<br>Ventas globales=%{marker.size}<extra></extra>",
         "hovertext": [
          "Revolution (Japan)"
         ],
         "legendgroup": "Revolution (Japan)",
         "marker": {
          "color": "#19d3f3",
          "size": [
           0.02
          ],
          "sizemode": "area",
          "sizeref": 0.49626666666666663,
          "symbol": "circle"
         },
         "mode": "markers",
         "name": "Revolution (Japan)",
         "orientation": "v",
         "showlegend": true,
         "type": "scatter",
         "x": [
          1
         ],
         "xaxis": "x",
         "y": [
          0.02
         ],
         "yaxis": "y"
        },
        {
         "hovertemplate": "<b>%{hovertext}</b><br><br>Distribuidor=Quintet<br>Juegos publicados=%{x}<br>Ventas globales=%{marker.size}<extra></extra>",
         "hovertext": [
          "Quintet"
         ],
         "legendgroup": "Quintet",
         "marker": {
          "color": "#FF6692",
          "size": [
           0.02
          ],
          "sizemode": "area",
          "sizeref": 0.49626666666666663,
          "symbol": "circle"
         },
         "mode": "markers",
         "name": "Quintet",
         "orientation": "v",
         "showlegend": true,
         "type": "scatter",
         "x": [
          1
         ],
         "xaxis": "x",
         "y": [
          0.02
         ],
         "yaxis": "y"
        },
        {
         "hovertemplate": "<b>%{hovertext}</b><br><br>Distribuidor=fonfun<br>Juegos publicados=%{x}<br>Ventas globales=%{marker.size}<extra></extra>",
         "hovertext": [
          "fonfun"
         ],
         "legendgroup": "fonfun",
         "marker": {
          "color": "#B6E880",
          "size": [
           0.02
          ],
          "sizemode": "area",
          "sizeref": 0.49626666666666663,
          "symbol": "circle"
         },
         "mode": "markers",
         "name": "fonfun",
         "orientation": "v",
         "showlegend": true,
         "type": "scatter",
         "x": [
          1
         ],
         "xaxis": "x",
         "y": [
          0.02
         ],
         "yaxis": "y"
        },
        {
         "hovertemplate": "<b>%{hovertext}</b><br><br>Distribuidor=Mycom<br>Juegos publicados=%{x}<br>Ventas globales=%{marker.size}<extra></extra>",
         "hovertext": [
          "Mycom"
         ],
         "legendgroup": "Mycom",
         "marker": {
          "color": "#FF97FF",
          "size": [
           0.02
          ],
          "sizemode": "area",
          "sizeref": 0.49626666666666663,
          "symbol": "circle"
         },
         "mode": "markers",
         "name": "Mycom",
         "orientation": "v",
         "showlegend": true,
         "type": "scatter",
         "x": [
          1
         ],
         "xaxis": "x",
         "y": [
          0.02
         ],
         "yaxis": "y"
        },
        {
         "hovertemplate": "<b>%{hovertext}</b><br><br>Distribuidor=GOA<br>Juegos publicados=%{x}<br>Ventas globales=%{marker.size}<extra></extra>",
         "hovertext": [
          "GOA"
         ],
         "legendgroup": "GOA",
         "marker": {
          "color": "#FECB52",
          "size": [
           0.02
          ],
          "sizemode": "area",
          "sizeref": 0.49626666666666663,
          "symbol": "circle"
         },
         "mode": "markers",
         "name": "GOA",
         "orientation": "v",
         "showlegend": true,
         "type": "scatter",
         "x": [
          1
         ],
         "xaxis": "x",
         "y": [
          0.02
         ],
         "yaxis": "y"
        },
        {
         "hovertemplate": "<b>%{hovertext}</b><br><br>Distribuidor=Graphsim Entertainment<br>Juegos publicados=%{x}<br>Ventas globales=%{marker.size}<extra></extra>",
         "hovertext": [
          "Graphsim Entertainment"
         ],
         "legendgroup": "Graphsim Entertainment",
         "marker": {
          "color": "#636efa",
          "size": [
           0.02
          ],
          "sizemode": "area",
          "sizeref": 0.49626666666666663,
          "symbol": "circle"
         },
         "mode": "markers",
         "name": "Graphsim Entertainment",
         "orientation": "v",
         "showlegend": true,
         "type": "scatter",
         "x": [
          1
         ],
         "xaxis": "x",
         "y": [
          0.02
         ],
         "yaxis": "y"
        },
        {
         "hovertemplate": "<b>%{hovertext}</b><br><br>Distribuidor=Marvelous Games<br>Juegos publicados=%{x}<br>Ventas globales=%{marker.size}<extra></extra>",
         "hovertext": [
          "Marvelous Games"
         ],
         "legendgroup": "Marvelous Games",
         "marker": {
          "color": "#EF553B",
          "size": [
           0.02
          ],
          "sizemode": "area",
          "sizeref": 0.49626666666666663,
          "symbol": "circle"
         },
         "mode": "markers",
         "name": "Marvelous Games",
         "orientation": "v",
         "showlegend": true,
         "type": "scatter",
         "x": [
          1
         ],
         "xaxis": "x",
         "y": [
          0.02
         ],
         "yaxis": "y"
        },
        {
         "hovertemplate": "<b>%{hovertext}</b><br><br>Distribuidor=Introversion Software<br>Juegos publicados=%{x}<br>Ventas globales=%{marker.size}<extra></extra>",
         "hovertext": [
          "Introversion Software"
         ],
         "legendgroup": "Introversion Software",
         "marker": {
          "color": "#00cc96",
          "size": [
           0.02
          ],
          "sizemode": "area",
          "sizeref": 0.49626666666666663,
          "symbol": "circle"
         },
         "mode": "markers",
         "name": "Introversion Software",
         "orientation": "v",
         "showlegend": true,
         "type": "scatter",
         "x": [
          1
         ],
         "xaxis": "x",
         "y": [
          0.02
         ],
         "yaxis": "y"
        },
        {
         "hovertemplate": "<b>%{hovertext}</b><br><br>Distribuidor=Giza10<br>Juegos publicados=%{x}<br>Ventas globales=%{marker.size}<extra></extra>",
         "hovertext": [
          "Giza10"
         ],
         "legendgroup": "Giza10",
         "marker": {
          "color": "#ab63fa",
          "size": [
           0.02
          ],
          "sizemode": "area",
          "sizeref": 0.49626666666666663,
          "symbol": "circle"
         },
         "mode": "markers",
         "name": "Giza10",
         "orientation": "v",
         "showlegend": true,
         "type": "scatter",
         "x": [
          1
         ],
         "xaxis": "x",
         "y": [
          0.02
         ],
         "yaxis": "y"
        },
        {
         "hovertemplate": "<b>%{hovertext}</b><br><br>Distribuidor=Saurus<br>Juegos publicados=%{x}<br>Ventas globales=%{marker.size}<extra></extra>",
         "hovertext": [
          "Saurus"
         ],
         "legendgroup": "Saurus",
         "marker": {
          "color": "#FFA15A",
          "size": [
           0.02
          ],
          "sizemode": "area",
          "sizeref": 0.49626666666666663,
          "symbol": "circle"
         },
         "mode": "markers",
         "name": "Saurus",
         "orientation": "v",
         "showlegend": true,
         "type": "scatter",
         "x": [
          1
         ],
         "xaxis": "x",
         "y": [
          0.02
         ],
         "yaxis": "y"
        },
        {
         "hovertemplate": "<b>%{hovertext}</b><br><br>Distribuidor=Codemasters Online<br>Juegos publicados=%{x}<br>Ventas globales=%{marker.size}<extra></extra>",
         "hovertext": [
          "Codemasters Online"
         ],
         "legendgroup": "Codemasters Online",
         "marker": {
          "color": "#19d3f3",
          "size": [
           0.02
          ],
          "sizemode": "area",
          "sizeref": 0.49626666666666663,
          "symbol": "circle"
         },
         "mode": "markers",
         "name": "Codemasters Online",
         "orientation": "v",
         "showlegend": true,
         "type": "scatter",
         "x": [
          1
         ],
         "xaxis": "x",
         "y": [
          0.02
         ],
         "yaxis": "y"
        },
        {
         "hovertemplate": "<b>%{hovertext}</b><br><br>Distribuidor=Giga<br>Juegos publicados=%{x}<br>Ventas globales=%{marker.size}<extra></extra>",
         "hovertext": [
          "Giga"
         ],
         "legendgroup": "Giga",
         "marker": {
          "color": "#FF6692",
          "size": [
           0.02
          ],
          "sizemode": "area",
          "sizeref": 0.49626666666666663,
          "symbol": "circle"
         },
         "mode": "markers",
         "name": "Giga",
         "orientation": "v",
         "showlegend": true,
         "type": "scatter",
         "x": [
          1
         ],
         "xaxis": "x",
         "y": [
          0.02
         ],
         "yaxis": "y"
        },
        {
         "hovertemplate": "<b>%{hovertext}</b><br><br>Distribuidor=Visco<br>Juegos publicados=%{x}<br>Ventas globales=%{marker.size}<extra></extra>",
         "hovertext": [
          "Visco"
         ],
         "legendgroup": "Visco",
         "marker": {
          "color": "#B6E880",
          "size": [
           0.02
          ],
          "sizemode": "area",
          "sizeref": 0.49626666666666663,
          "symbol": "circle"
         },
         "mode": "markers",
         "name": "Visco",
         "orientation": "v",
         "showlegend": true,
         "type": "scatter",
         "x": [
          1
         ],
         "xaxis": "x",
         "y": [
          0.02
         ],
         "yaxis": "y"
        },
        {
         "hovertemplate": "<b>%{hovertext}</b><br><br>Distribuidor=Nitroplus<br>Juegos publicados=%{x}<br>Ventas globales=%{marker.size}<extra></extra>",
         "hovertext": [
          "Nitroplus"
         ],
         "legendgroup": "Nitroplus",
         "marker": {
          "color": "#FF97FF",
          "size": [
           0.02
          ],
          "sizemode": "area",
          "sizeref": 0.49626666666666663,
          "symbol": "circle"
         },
         "mode": "markers",
         "name": "Nitroplus",
         "orientation": "v",
         "showlegend": true,
         "type": "scatter",
         "x": [
          2
         ],
         "xaxis": "x",
         "y": [
          0.02
         ],
         "yaxis": "y"
        },
        {
         "hovertemplate": "<b>%{hovertext}</b><br><br>Distribuidor=Mirai Shounen<br>Juegos publicados=%{x}<br>Ventas globales=%{marker.size}<extra></extra>",
         "hovertext": [
          "Mirai Shounen"
         ],
         "legendgroup": "Mirai Shounen",
         "marker": {
          "color": "#FECB52",
          "size": [
           0.02
          ],
          "sizemode": "area",
          "sizeref": 0.49626666666666663,
          "symbol": "circle"
         },
         "mode": "markers",
         "name": "Mirai Shounen",
         "orientation": "v",
         "showlegend": true,
         "type": "scatter",
         "x": [
          1
         ],
         "xaxis": "x",
         "y": [
          0.02
         ],
         "yaxis": "y"
        },
        {
         "hovertemplate": "<b>%{hovertext}</b><br><br>Distribuidor=Imageworks<br>Juegos publicados=%{x}<br>Ventas globales=%{marker.size}<extra></extra>",
         "hovertext": [
          "Imageworks"
         ],
         "legendgroup": "Imageworks",
         "marker": {
          "color": "#636efa",
          "size": [
           0.02
          ],
          "sizemode": "area",
          "sizeref": 0.49626666666666663,
          "symbol": "circle"
         },
         "mode": "markers",
         "name": "Imageworks",
         "orientation": "v",
         "showlegend": true,
         "type": "scatter",
         "x": [
          1
         ],
         "xaxis": "x",
         "y": [
          0.02
         ],
         "yaxis": "y"
        },
        {
         "hovertemplate": "<b>%{hovertext}</b><br><br>Distribuidor=Warashi<br>Juegos publicados=%{x}<br>Ventas globales=%{marker.size}<extra></extra>",
         "hovertext": [
          "Warashi"
         ],
         "legendgroup": "Warashi",
         "marker": {
          "color": "#EF553B",
          "size": [
           0.02
          ],
          "sizemode": "area",
          "sizeref": 0.49626666666666663,
          "symbol": "circle"
         },
         "mode": "markers",
         "name": "Warashi",
         "orientation": "v",
         "showlegend": true,
         "type": "scatter",
         "x": [
          1
         ],
         "xaxis": "x",
         "y": [
          0.02
         ],
         "yaxis": "y"
        },
        {
         "hovertemplate": "<b>%{hovertext}</b><br><br>Distribuidor=RED Entertainment<br>Juegos publicados=%{x}<br>Ventas globales=%{marker.size}<extra></extra>",
         "hovertext": [
          "RED Entertainment"
         ],
         "legendgroup": "RED Entertainment",
         "marker": {
          "color": "#00cc96",
          "size": [
           0.02
          ],
          "sizemode": "area",
          "sizeref": 0.49626666666666663,
          "symbol": "circle"
         },
         "mode": "markers",
         "name": "RED Entertainment",
         "orientation": "v",
         "showlegend": true,
         "type": "scatter",
         "x": [
          1
         ],
         "xaxis": "x",
         "y": [
          0.02
         ],
         "yaxis": "y"
        },
        {
         "hovertemplate": "<b>%{hovertext}</b><br><br>Distribuidor=Masque Publishing<br>Juegos publicados=%{x}<br>Ventas globales=%{marker.size}<extra></extra>",
         "hovertext": [
          "Masque Publishing"
         ],
         "legendgroup": "Masque Publishing",
         "marker": {
          "color": "#ab63fa",
          "size": [
           0.02
          ],
          "sizemode": "area",
          "sizeref": 0.49626666666666663,
          "symbol": "circle"
         },
         "mode": "markers",
         "name": "Masque Publishing",
         "orientation": "v",
         "showlegend": true,
         "type": "scatter",
         "x": [
          1
         ],
         "xaxis": "x",
         "y": [
          0.02
         ],
         "yaxis": "y"
        },
        {
         "hovertemplate": "<b>%{hovertext}</b><br><br>Distribuidor=Plenty<br>Juegos publicados=%{x}<br>Ventas globales=%{marker.size}<extra></extra>",
         "hovertext": [
          "Plenty"
         ],
         "legendgroup": "Plenty",
         "marker": {
          "color": "#FFA15A",
          "size": [
           0.02
          ],
          "sizemode": "area",
          "sizeref": 0.49626666666666663,
          "symbol": "circle"
         },
         "mode": "markers",
         "name": "Plenty",
         "orientation": "v",
         "showlegend": true,
         "type": "scatter",
         "x": [
          1
         ],
         "xaxis": "x",
         "y": [
          0.02
         ],
         "yaxis": "y"
        },
        {
         "hovertemplate": "<b>%{hovertext}</b><br><br>Distribuidor=King Records<br>Juegos publicados=%{x}<br>Ventas globales=%{marker.size}<extra></extra>",
         "hovertext": [
          "King Records"
         ],
         "legendgroup": "King Records",
         "marker": {
          "color": "#19d3f3",
          "size": [
           0.02
          ],
          "sizemode": "area",
          "sizeref": 0.49626666666666663,
          "symbol": "circle"
         },
         "mode": "markers",
         "name": "King Records",
         "orientation": "v",
         "showlegend": true,
         "type": "scatter",
         "x": [
          1
         ],
         "xaxis": "x",
         "y": [
          0.02
         ],
         "yaxis": "y"
        },
        {
         "hovertemplate": "<b>%{hovertext}</b><br><br>Distribuidor=Sold Out<br>Juegos publicados=%{x}<br>Ventas globales=%{marker.size}<extra></extra>",
         "hovertext": [
          "Sold Out"
         ],
         "legendgroup": "Sold Out",
         "marker": {
          "color": "#FF6692",
          "size": [
           0.02
          ],
          "sizemode": "area",
          "sizeref": 0.49626666666666663,
          "symbol": "circle"
         },
         "mode": "markers",
         "name": "Sold Out",
         "orientation": "v",
         "showlegend": true,
         "type": "scatter",
         "x": [
          1
         ],
         "xaxis": "x",
         "y": [
          0.02
         ],
         "yaxis": "y"
        },
        {
         "hovertemplate": "<b>%{hovertext}</b><br><br>Distribuidor=Karin Entertainment<br>Juegos publicados=%{x}<br>Ventas globales=%{marker.size}<extra></extra>",
         "hovertext": [
          "Karin Entertainment"
         ],
         "legendgroup": "Karin Entertainment",
         "marker": {
          "color": "#B6E880",
          "size": [
           0.02
          ],
          "sizemode": "area",
          "sizeref": 0.49626666666666663,
          "symbol": "circle"
         },
         "mode": "markers",
         "name": "Karin Entertainment",
         "orientation": "v",
         "showlegend": true,
         "type": "scatter",
         "x": [
          1
         ],
         "xaxis": "x",
         "y": [
          0.02
         ],
         "yaxis": "y"
        },
        {
         "hovertemplate": "<b>%{hovertext}</b><br><br>Distribuidor=Gaga<br>Juegos publicados=%{x}<br>Ventas globales=%{marker.size}<extra></extra>",
         "hovertext": [
          "Gaga"
         ],
         "legendgroup": "Gaga",
         "marker": {
          "color": "#FF97FF",
          "size": [
           0.02
          ],
          "sizemode": "area",
          "sizeref": 0.49626666666666663,
          "symbol": "circle"
         },
         "mode": "markers",
         "name": "Gaga",
         "orientation": "v",
         "showlegend": true,
         "type": "scatter",
         "x": [
          1
         ],
         "xaxis": "x",
         "y": [
          0.02
         ],
         "yaxis": "y"
        },
        {
         "hovertemplate": "<b>%{hovertext}</b><br><br>Distribuidor=Takuyo<br>Juegos publicados=%{x}<br>Ventas globales=%{marker.size}<extra></extra>",
         "hovertext": [
          "Takuyo"
         ],
         "legendgroup": "Takuyo",
         "marker": {
          "color": "#FECB52",
          "size": [
           0.01
          ],
          "sizemode": "area",
          "sizeref": 0.49626666666666663,
          "symbol": "circle"
         },
         "mode": "markers",
         "name": "Takuyo",
         "orientation": "v",
         "showlegend": true,
         "type": "scatter",
         "x": [
          1
         ],
         "xaxis": "x",
         "y": [
          0.01
         ],
         "yaxis": "y"
        },
        {
         "hovertemplate": "<b>%{hovertext}</b><br><br>Distribuidor=Naxat Soft<br>Juegos publicados=%{x}<br>Ventas globales=%{marker.size}<extra></extra>",
         "hovertext": [
          "Naxat Soft"
         ],
         "legendgroup": "Naxat Soft",
         "marker": {
          "color": "#636efa",
          "size": [
           0.01
          ],
          "sizemode": "area",
          "sizeref": 0.49626666666666663,
          "symbol": "circle"
         },
         "mode": "markers",
         "name": "Naxat Soft",
         "orientation": "v",
         "showlegend": true,
         "type": "scatter",
         "x": [
          1
         ],
         "xaxis": "x",
         "y": [
          0.01
         ],
         "yaxis": "y"
        },
        {
         "hovertemplate": "<b>%{hovertext}</b><br><br>Distribuidor=Michaelsoft<br>Juegos publicados=%{x}<br>Ventas globales=%{marker.size}<extra></extra>",
         "hovertext": [
          "Michaelsoft"
         ],
         "legendgroup": "Michaelsoft",
         "marker": {
          "color": "#EF553B",
          "size": [
           0.01
          ],
          "sizemode": "area",
          "sizeref": 0.49626666666666663,
          "symbol": "circle"
         },
         "mode": "markers",
         "name": "Michaelsoft",
         "orientation": "v",
         "showlegend": true,
         "type": "scatter",
         "x": [
          1
         ],
         "xaxis": "x",
         "y": [
          0.01
         ],
         "yaxis": "y"
        },
        {
         "hovertemplate": "<b>%{hovertext}</b><br><br>Distribuidor=Commseed<br>Juegos publicados=%{x}<br>Ventas globales=%{marker.size}<extra></extra>",
         "hovertext": [
          "Commseed"
         ],
         "legendgroup": "Commseed",
         "marker": {
          "color": "#00cc96",
          "size": [
           0.01
          ],
          "sizemode": "area",
          "sizeref": 0.49626666666666663,
          "symbol": "circle"
         },
         "mode": "markers",
         "name": "Commseed",
         "orientation": "v",
         "showlegend": true,
         "type": "scatter",
         "x": [
          1
         ],
         "xaxis": "x",
         "y": [
          0.01
         ],
         "yaxis": "y"
        },
        {
         "hovertemplate": "<b>%{hovertext}</b><br><br>Distribuidor=EON Digital Entertainment<br>Juegos publicados=%{x}<br>Ventas globales=%{marker.size}<extra></extra>",
         "hovertext": [
          "EON Digital Entertainment"
         ],
         "legendgroup": "EON Digital Entertainment",
         "marker": {
          "color": "#ab63fa",
          "size": [
           0.01
          ],
          "sizemode": "area",
          "sizeref": 0.49626666666666663,
          "symbol": "circle"
         },
         "mode": "markers",
         "name": "EON Digital Entertainment",
         "orientation": "v",
         "showlegend": true,
         "type": "scatter",
         "x": [
          1
         ],
         "xaxis": "x",
         "y": [
          0.01
         ],
         "yaxis": "y"
        },
        {
         "hovertemplate": "<b>%{hovertext}</b><br><br>Distribuidor=Otomate<br>Juegos publicados=%{x}<br>Ventas globales=%{marker.size}<extra></extra>",
         "hovertext": [
          "Otomate"
         ],
         "legendgroup": "Otomate",
         "marker": {
          "color": "#FFA15A",
          "size": [
           0.01
          ],
          "sizemode": "area",
          "sizeref": 0.49626666666666663,
          "symbol": "circle"
         },
         "mode": "markers",
         "name": "Otomate",
         "orientation": "v",
         "showlegend": true,
         "type": "scatter",
         "x": [
          1
         ],
         "xaxis": "x",
         "y": [
          0.01
         ],
         "yaxis": "y"
        },
        {
         "hovertemplate": "<b>%{hovertext}</b><br><br>Distribuidor=Boost On<br>Juegos publicados=%{x}<br>Ventas globales=%{marker.size}<extra></extra>",
         "hovertext": [
          "Boost On"
         ],
         "legendgroup": "Boost On",
         "marker": {
          "color": "#19d3f3",
          "size": [
           0.01
          ],
          "sizemode": "area",
          "sizeref": 0.49626666666666663,
          "symbol": "circle"
         },
         "mode": "markers",
         "name": "Boost On",
         "orientation": "v",
         "showlegend": true,
         "type": "scatter",
         "x": [
          1
         ],
         "xaxis": "x",
         "y": [
          0.01
         ],
         "yaxis": "y"
        },
        {
         "hovertemplate": "<b>%{hovertext}</b><br><br>Distribuidor=Media Entertainment<br>Juegos publicados=%{x}<br>Ventas globales=%{marker.size}<extra></extra>",
         "hovertext": [
          "Media Entertainment"
         ],
         "legendgroup": "Media Entertainment",
         "marker": {
          "color": "#FF6692",
          "size": [
           0.01
          ],
          "sizemode": "area",
          "sizeref": 0.49626666666666663,
          "symbol": "circle"
         },
         "mode": "markers",
         "name": "Media Entertainment",
         "orientation": "v",
         "showlegend": true,
         "type": "scatter",
         "x": [
          1
         ],
         "xaxis": "x",
         "y": [
          0.01
         ],
         "yaxis": "y"
        },
        {
         "hovertemplate": "<b>%{hovertext}</b><br><br>Distribuidor=Inti Creates<br>Juegos publicados=%{x}<br>Ventas globales=%{marker.size}<extra></extra>",
         "hovertext": [
          "Inti Creates"
         ],
         "legendgroup": "Inti Creates",
         "marker": {
          "color": "#B6E880",
          "size": [
           0.01
          ],
          "sizemode": "area",
          "sizeref": 0.49626666666666663,
          "symbol": "circle"
         },
         "mode": "markers",
         "name": "Inti Creates",
         "orientation": "v",
         "showlegend": true,
         "type": "scatter",
         "x": [
          1
         ],
         "xaxis": "x",
         "y": [
          0.01
         ],
         "yaxis": "y"
        },
        {
         "hovertemplate": "<b>%{hovertext}</b><br><br>Distribuidor=UIG Entertainment<br>Juegos publicados=%{x}<br>Ventas globales=%{marker.size}<extra></extra>",
         "hovertext": [
          "UIG Entertainment"
         ],
         "legendgroup": "UIG Entertainment",
         "marker": {
          "color": "#FF97FF",
          "size": [
           0.01
          ],
          "sizemode": "area",
          "sizeref": 0.49626666666666663,
          "symbol": "circle"
         },
         "mode": "markers",
         "name": "UIG Entertainment",
         "orientation": "v",
         "showlegend": true,
         "type": "scatter",
         "x": [
          1
         ],
         "xaxis": "x",
         "y": [
          0.01
         ],
         "yaxis": "y"
        },
        {
         "hovertemplate": "<b>%{hovertext}</b><br><br>Distribuidor=Ongakukan<br>Juegos publicados=%{x}<br>Ventas globales=%{marker.size}<extra></extra>",
         "hovertext": [
          "Ongakukan"
         ],
         "legendgroup": "Ongakukan",
         "marker": {
          "color": "#FECB52",
          "size": [
           0.01
          ],
          "sizemode": "area",
          "sizeref": 0.49626666666666663,
          "symbol": "circle"
         },
         "mode": "markers",
         "name": "Ongakukan",
         "orientation": "v",
         "showlegend": true,
         "type": "scatter",
         "x": [
          1
         ],
         "xaxis": "x",
         "y": [
          0.01
         ],
         "yaxis": "y"
        },
        {
         "hovertemplate": "<b>%{hovertext}</b><br><br>Distribuidor=Genterprise<br>Juegos publicados=%{x}<br>Ventas globales=%{marker.size}<extra></extra>",
         "hovertext": [
          "Genterprise"
         ],
         "legendgroup": "Genterprise",
         "marker": {
          "color": "#636efa",
          "size": [
           0.01
          ],
          "sizemode": "area",
          "sizeref": 0.49626666666666663,
          "symbol": "circle"
         },
         "mode": "markers",
         "name": "Genterprise",
         "orientation": "v",
         "showlegend": true,
         "type": "scatter",
         "x": [
          1
         ],
         "xaxis": "x",
         "y": [
          0.01
         ],
         "yaxis": "y"
        },
        {
         "hovertemplate": "<b>%{hovertext}</b><br><br>Distribuidor=Piacci<br>Juegos publicados=%{x}<br>Ventas globales=%{marker.size}<extra></extra>",
         "hovertext": [
          "Piacci"
         ],
         "legendgroup": "Piacci",
         "marker": {
          "color": "#EF553B",
          "size": [
           0.01
          ],
          "sizemode": "area",
          "sizeref": 0.49626666666666663,
          "symbol": "circle"
         },
         "mode": "markers",
         "name": "Piacci",
         "orientation": "v",
         "showlegend": true,
         "type": "scatter",
         "x": [
          1
         ],
         "xaxis": "x",
         "y": [
          0.01
         ],
         "yaxis": "y"
        },
        {
         "hovertemplate": "<b>%{hovertext}</b><br><br>Distribuidor=New World Computing<br>Juegos publicados=%{x}<br>Ventas globales=%{marker.size}<extra></extra>",
         "hovertext": [
          "New World Computing"
         ],
         "legendgroup": "New World Computing",
         "marker": {
          "color": "#00cc96",
          "size": [
           0.01
          ],
          "sizemode": "area",
          "sizeref": 0.49626666666666663,
          "symbol": "circle"
         },
         "mode": "markers",
         "name": "New World Computing",
         "orientation": "v",
         "showlegend": true,
         "type": "scatter",
         "x": [
          1
         ],
         "xaxis": "x",
         "y": [
          0.01
         ],
         "yaxis": "y"
        },
        {
         "hovertemplate": "<b>%{hovertext}</b><br><br>Distribuidor=Interchannel-Holon<br>Juegos publicados=%{x}<br>Ventas globales=%{marker.size}<extra></extra>",
         "hovertext": [
          "Interchannel-Holon"
         ],
         "legendgroup": "Interchannel-Holon",
         "marker": {
          "color": "#ab63fa",
          "size": [
           0.01
          ],
          "sizemode": "area",
          "sizeref": 0.49626666666666663,
          "symbol": "circle"
         },
         "mode": "markers",
         "name": "Interchannel-Holon",
         "orientation": "v",
         "showlegend": true,
         "type": "scatter",
         "x": [
          1
         ],
         "xaxis": "x",
         "y": [
          0.01
         ],
         "yaxis": "y"
        },
        {
         "hovertemplate": "<b>%{hovertext}</b><br><br>Distribuidor=Ascaron Entertainment<br>Juegos publicados=%{x}<br>Ventas globales=%{marker.size}<extra></extra>",
         "hovertext": [
          "Ascaron Entertainment"
         ],
         "legendgroup": "Ascaron Entertainment",
         "marker": {
          "color": "#FFA15A",
          "size": [
           0.01
          ],
          "sizemode": "area",
          "sizeref": 0.49626666666666663,
          "symbol": "circle"
         },
         "mode": "markers",
         "name": "Ascaron Entertainment",
         "orientation": "v",
         "showlegend": true,
         "type": "scatter",
         "x": [
          1
         ],
         "xaxis": "x",
         "y": [
          0.01
         ],
         "yaxis": "y"
        },
        {
         "hovertemplate": "<b>%{hovertext}</b><br><br>Distribuidor=Interworks Unlimited, Inc.<br>Juegos publicados=%{x}<br>Ventas globales=%{marker.size}<extra></extra>",
         "hovertext": [
          "Interworks Unlimited, Inc."
         ],
         "legendgroup": "Interworks Unlimited, Inc.",
         "marker": {
          "color": "#19d3f3",
          "size": [
           0.01
          ],
          "sizemode": "area",
          "sizeref": 0.49626666666666663,
          "symbol": "circle"
         },
         "mode": "markers",
         "name": "Interworks Unlimited, Inc.",
         "orientation": "v",
         "showlegend": true,
         "type": "scatter",
         "x": [
          1
         ],
         "xaxis": "x",
         "y": [
          0.01
         ],
         "yaxis": "y"
        },
        {
         "hovertemplate": "<b>%{hovertext}</b><br><br>Distribuidor=Stainless Games<br>Juegos publicados=%{x}<br>Ventas globales=%{marker.size}<extra></extra>",
         "hovertext": [
          "Stainless Games"
         ],
         "legendgroup": "Stainless Games",
         "marker": {
          "color": "#FF6692",
          "size": [
           0.01
          ],
          "sizemode": "area",
          "sizeref": 0.49626666666666663,
          "symbol": "circle"
         },
         "mode": "markers",
         "name": "Stainless Games",
         "orientation": "v",
         "showlegend": true,
         "type": "scatter",
         "x": [
          1
         ],
         "xaxis": "x",
         "y": [
          0.01
         ],
         "yaxis": "y"
        },
        {
         "hovertemplate": "<b>%{hovertext}</b><br><br>Distribuidor=Paradox Development<br>Juegos publicados=%{x}<br>Ventas globales=%{marker.size}<extra></extra>",
         "hovertext": [
          "Paradox Development"
         ],
         "legendgroup": "Paradox Development",
         "marker": {
          "color": "#B6E880",
          "size": [
           0.01
          ],
          "sizemode": "area",
          "sizeref": 0.49626666666666663,
          "symbol": "circle"
         },
         "mode": "markers",
         "name": "Paradox Development",
         "orientation": "v",
         "showlegend": true,
         "type": "scatter",
         "x": [
          1
         ],
         "xaxis": "x",
         "y": [
          0.01
         ],
         "yaxis": "y"
        },
        {
         "hovertemplate": "<b>%{hovertext}</b><br><br>Distribuidor=Epic Games<br>Juegos publicados=%{x}<br>Ventas globales=%{marker.size}<extra></extra>",
         "hovertext": [
          "Epic Games"
         ],
         "legendgroup": "Epic Games",
         "marker": {
          "color": "#FF97FF",
          "size": [
           0.01
          ],
          "sizemode": "area",
          "sizeref": 0.49626666666666663,
          "symbol": "circle"
         },
         "mode": "markers",
         "name": "Epic Games",
         "orientation": "v",
         "showlegend": true,
         "type": "scatter",
         "x": [
          1
         ],
         "xaxis": "x",
         "y": [
          0.01
         ],
         "yaxis": "y"
        },
        {
         "hovertemplate": "<b>%{hovertext}</b><br><br>Distribuidor=Rain Games<br>Juegos publicados=%{x}<br>Ventas globales=%{marker.size}<extra></extra>",
         "hovertext": [
          "Rain Games"
         ],
         "legendgroup": "Rain Games",
         "marker": {
          "color": "#FECB52",
          "size": [
           0.01
          ],
          "sizemode": "area",
          "sizeref": 0.49626666666666663,
          "symbol": "circle"
         },
         "mode": "markers",
         "name": "Rain Games",
         "orientation": "v",
         "showlegend": true,
         "type": "scatter",
         "x": [
          1
         ],
         "xaxis": "x",
         "y": [
          0.01
         ],
         "yaxis": "y"
        }
       ],
       "layout": {
        "legend": {
         "itemsizing": "constant",
         "title": {
          "text": "Distribuidor"
         },
         "tracegroupgap": 0
        },
        "template": {
         "data": {
          "bar": [
           {
            "error_x": {
             "color": "#2a3f5f"
            },
            "error_y": {
             "color": "#2a3f5f"
            },
            "marker": {
             "line": {
              "color": "#E5ECF6",
              "width": 0.5
             },
             "pattern": {
              "fillmode": "overlay",
              "size": 10,
              "solidity": 0.2
             }
            },
            "type": "bar"
           }
          ],
          "barpolar": [
           {
            "marker": {
             "line": {
              "color": "#E5ECF6",
              "width": 0.5
             },
             "pattern": {
              "fillmode": "overlay",
              "size": 10,
              "solidity": 0.2
             }
            },
            "type": "barpolar"
           }
          ],
          "carpet": [
           {
            "aaxis": {
             "endlinecolor": "#2a3f5f",
             "gridcolor": "white",
             "linecolor": "white",
             "minorgridcolor": "white",
             "startlinecolor": "#2a3f5f"
            },
            "baxis": {
             "endlinecolor": "#2a3f5f",
             "gridcolor": "white",
             "linecolor": "white",
             "minorgridcolor": "white",
             "startlinecolor": "#2a3f5f"
            },
            "type": "carpet"
           }
          ],
          "choropleth": [
           {
            "colorbar": {
             "outlinewidth": 0,
             "ticks": ""
            },
            "type": "choropleth"
           }
          ],
          "contour": [
           {
            "colorbar": {
             "outlinewidth": 0,
             "ticks": ""
            },
            "colorscale": [
             [
              0,
              "#0d0887"
             ],
             [
              0.1111111111111111,
              "#46039f"
             ],
             [
              0.2222222222222222,
              "#7201a8"
             ],
             [
              0.3333333333333333,
              "#9c179e"
             ],
             [
              0.4444444444444444,
              "#bd3786"
             ],
             [
              0.5555555555555556,
              "#d8576b"
             ],
             [
              0.6666666666666666,
              "#ed7953"
             ],
             [
              0.7777777777777778,
              "#fb9f3a"
             ],
             [
              0.8888888888888888,
              "#fdca26"
             ],
             [
              1,
              "#f0f921"
             ]
            ],
            "type": "contour"
           }
          ],
          "contourcarpet": [
           {
            "colorbar": {
             "outlinewidth": 0,
             "ticks": ""
            },
            "type": "contourcarpet"
           }
          ],
          "heatmap": [
           {
            "colorbar": {
             "outlinewidth": 0,
             "ticks": ""
            },
            "colorscale": [
             [
              0,
              "#0d0887"
             ],
             [
              0.1111111111111111,
              "#46039f"
             ],
             [
              0.2222222222222222,
              "#7201a8"
             ],
             [
              0.3333333333333333,
              "#9c179e"
             ],
             [
              0.4444444444444444,
              "#bd3786"
             ],
             [
              0.5555555555555556,
              "#d8576b"
             ],
             [
              0.6666666666666666,
              "#ed7953"
             ],
             [
              0.7777777777777778,
              "#fb9f3a"
             ],
             [
              0.8888888888888888,
              "#fdca26"
             ],
             [
              1,
              "#f0f921"
             ]
            ],
            "type": "heatmap"
           }
          ],
          "heatmapgl": [
           {
            "colorbar": {
             "outlinewidth": 0,
             "ticks": ""
            },
            "colorscale": [
             [
              0,
              "#0d0887"
             ],
             [
              0.1111111111111111,
              "#46039f"
             ],
             [
              0.2222222222222222,
              "#7201a8"
             ],
             [
              0.3333333333333333,
              "#9c179e"
             ],
             [
              0.4444444444444444,
              "#bd3786"
             ],
             [
              0.5555555555555556,
              "#d8576b"
             ],
             [
              0.6666666666666666,
              "#ed7953"
             ],
             [
              0.7777777777777778,
              "#fb9f3a"
             ],
             [
              0.8888888888888888,
              "#fdca26"
             ],
             [
              1,
              "#f0f921"
             ]
            ],
            "type": "heatmapgl"
           }
          ],
          "histogram": [
           {
            "marker": {
             "pattern": {
              "fillmode": "overlay",
              "size": 10,
              "solidity": 0.2
             }
            },
            "type": "histogram"
           }
          ],
          "histogram2d": [
           {
            "colorbar": {
             "outlinewidth": 0,
             "ticks": ""
            },
            "colorscale": [
             [
              0,
              "#0d0887"
             ],
             [
              0.1111111111111111,
              "#46039f"
             ],
             [
              0.2222222222222222,
              "#7201a8"
             ],
             [
              0.3333333333333333,
              "#9c179e"
             ],
             [
              0.4444444444444444,
              "#bd3786"
             ],
             [
              0.5555555555555556,
              "#d8576b"
             ],
             [
              0.6666666666666666,
              "#ed7953"
             ],
             [
              0.7777777777777778,
              "#fb9f3a"
             ],
             [
              0.8888888888888888,
              "#fdca26"
             ],
             [
              1,
              "#f0f921"
             ]
            ],
            "type": "histogram2d"
           }
          ],
          "histogram2dcontour": [
           {
            "colorbar": {
             "outlinewidth": 0,
             "ticks": ""
            },
            "colorscale": [
             [
              0,
              "#0d0887"
             ],
             [
              0.1111111111111111,
              "#46039f"
             ],
             [
              0.2222222222222222,
              "#7201a8"
             ],
             [
              0.3333333333333333,
              "#9c179e"
             ],
             [
              0.4444444444444444,
              "#bd3786"
             ],
             [
              0.5555555555555556,
              "#d8576b"
             ],
             [
              0.6666666666666666,
              "#ed7953"
             ],
             [
              0.7777777777777778,
              "#fb9f3a"
             ],
             [
              0.8888888888888888,
              "#fdca26"
             ],
             [
              1,
              "#f0f921"
             ]
            ],
            "type": "histogram2dcontour"
           }
          ],
          "mesh3d": [
           {
            "colorbar": {
             "outlinewidth": 0,
             "ticks": ""
            },
            "type": "mesh3d"
           }
          ],
          "parcoords": [
           {
            "line": {
             "colorbar": {
              "outlinewidth": 0,
              "ticks": ""
             }
            },
            "type": "parcoords"
           }
          ],
          "pie": [
           {
            "automargin": true,
            "type": "pie"
           }
          ],
          "scatter": [
           {
            "fillpattern": {
             "fillmode": "overlay",
             "size": 10,
             "solidity": 0.2
            },
            "type": "scatter"
           }
          ],
          "scatter3d": [
           {
            "line": {
             "colorbar": {
              "outlinewidth": 0,
              "ticks": ""
             }
            },
            "marker": {
             "colorbar": {
              "outlinewidth": 0,
              "ticks": ""
             }
            },
            "type": "scatter3d"
           }
          ],
          "scattercarpet": [
           {
            "marker": {
             "colorbar": {
              "outlinewidth": 0,
              "ticks": ""
             }
            },
            "type": "scattercarpet"
           }
          ],
          "scattergeo": [
           {
            "marker": {
             "colorbar": {
              "outlinewidth": 0,
              "ticks": ""
             }
            },
            "type": "scattergeo"
           }
          ],
          "scattergl": [
           {
            "marker": {
             "colorbar": {
              "outlinewidth": 0,
              "ticks": ""
             }
            },
            "type": "scattergl"
           }
          ],
          "scattermapbox": [
           {
            "marker": {
             "colorbar": {
              "outlinewidth": 0,
              "ticks": ""
             }
            },
            "type": "scattermapbox"
           }
          ],
          "scatterpolar": [
           {
            "marker": {
             "colorbar": {
              "outlinewidth": 0,
              "ticks": ""
             }
            },
            "type": "scatterpolar"
           }
          ],
          "scatterpolargl": [
           {
            "marker": {
             "colorbar": {
              "outlinewidth": 0,
              "ticks": ""
             }
            },
            "type": "scatterpolargl"
           }
          ],
          "scatterternary": [
           {
            "marker": {
             "colorbar": {
              "outlinewidth": 0,
              "ticks": ""
             }
            },
            "type": "scatterternary"
           }
          ],
          "surface": [
           {
            "colorbar": {
             "outlinewidth": 0,
             "ticks": ""
            },
            "colorscale": [
             [
              0,
              "#0d0887"
             ],
             [
              0.1111111111111111,
              "#46039f"
             ],
             [
              0.2222222222222222,
              "#7201a8"
             ],
             [
              0.3333333333333333,
              "#9c179e"
             ],
             [
              0.4444444444444444,
              "#bd3786"
             ],
             [
              0.5555555555555556,
              "#d8576b"
             ],
             [
              0.6666666666666666,
              "#ed7953"
             ],
             [
              0.7777777777777778,
              "#fb9f3a"
             ],
             [
              0.8888888888888888,
              "#fdca26"
             ],
             [
              1,
              "#f0f921"
             ]
            ],
            "type": "surface"
           }
          ],
          "table": [
           {
            "cells": {
             "fill": {
              "color": "#EBF0F8"
             },
             "line": {
              "color": "white"
             }
            },
            "header": {
             "fill": {
              "color": "#C8D4E3"
             },
             "line": {
              "color": "white"
             }
            },
            "type": "table"
           }
          ]
         },
         "layout": {
          "annotationdefaults": {
           "arrowcolor": "#2a3f5f",
           "arrowhead": 0,
           "arrowwidth": 1
          },
          "autotypenumbers": "strict",
          "coloraxis": {
           "colorbar": {
            "outlinewidth": 0,
            "ticks": ""
           }
          },
          "colorscale": {
           "diverging": [
            [
             0,
             "#8e0152"
            ],
            [
             0.1,
             "#c51b7d"
            ],
            [
             0.2,
             "#de77ae"
            ],
            [
             0.3,
             "#f1b6da"
            ],
            [
             0.4,
             "#fde0ef"
            ],
            [
             0.5,
             "#f7f7f7"
            ],
            [
             0.6,
             "#e6f5d0"
            ],
            [
             0.7,
             "#b8e186"
            ],
            [
             0.8,
             "#7fbc41"
            ],
            [
             0.9,
             "#4d9221"
            ],
            [
             1,
             "#276419"
            ]
           ],
           "sequential": [
            [
             0,
             "#0d0887"
            ],
            [
             0.1111111111111111,
             "#46039f"
            ],
            [
             0.2222222222222222,
             "#7201a8"
            ],
            [
             0.3333333333333333,
             "#9c179e"
            ],
            [
             0.4444444444444444,
             "#bd3786"
            ],
            [
             0.5555555555555556,
             "#d8576b"
            ],
            [
             0.6666666666666666,
             "#ed7953"
            ],
            [
             0.7777777777777778,
             "#fb9f3a"
            ],
            [
             0.8888888888888888,
             "#fdca26"
            ],
            [
             1,
             "#f0f921"
            ]
           ],
           "sequentialminus": [
            [
             0,
             "#0d0887"
            ],
            [
             0.1111111111111111,
             "#46039f"
            ],
            [
             0.2222222222222222,
             "#7201a8"
            ],
            [
             0.3333333333333333,
             "#9c179e"
            ],
            [
             0.4444444444444444,
             "#bd3786"
            ],
            [
             0.5555555555555556,
             "#d8576b"
            ],
            [
             0.6666666666666666,
             "#ed7953"
            ],
            [
             0.7777777777777778,
             "#fb9f3a"
            ],
            [
             0.8888888888888888,
             "#fdca26"
            ],
            [
             1,
             "#f0f921"
            ]
           ]
          },
          "colorway": [
           "#636efa",
           "#EF553B",
           "#00cc96",
           "#ab63fa",
           "#FFA15A",
           "#19d3f3",
           "#FF6692",
           "#B6E880",
           "#FF97FF",
           "#FECB52"
          ],
          "font": {
           "color": "#2a3f5f"
          },
          "geo": {
           "bgcolor": "white",
           "lakecolor": "white",
           "landcolor": "#E5ECF6",
           "showlakes": true,
           "showland": true,
           "subunitcolor": "white"
          },
          "hoverlabel": {
           "align": "left"
          },
          "hovermode": "closest",
          "mapbox": {
           "style": "light"
          },
          "paper_bgcolor": "white",
          "plot_bgcolor": "#E5ECF6",
          "polar": {
           "angularaxis": {
            "gridcolor": "white",
            "linecolor": "white",
            "ticks": ""
           },
           "bgcolor": "#E5ECF6",
           "radialaxis": {
            "gridcolor": "white",
            "linecolor": "white",
            "ticks": ""
           }
          },
          "scene": {
           "xaxis": {
            "backgroundcolor": "#E5ECF6",
            "gridcolor": "white",
            "gridwidth": 2,
            "linecolor": "white",
            "showbackground": true,
            "ticks": "",
            "zerolinecolor": "white"
           },
           "yaxis": {
            "backgroundcolor": "#E5ECF6",
            "gridcolor": "white",
            "gridwidth": 2,
            "linecolor": "white",
            "showbackground": true,
            "ticks": "",
            "zerolinecolor": "white"
           },
           "zaxis": {
            "backgroundcolor": "#E5ECF6",
            "gridcolor": "white",
            "gridwidth": 2,
            "linecolor": "white",
            "showbackground": true,
            "ticks": "",
            "zerolinecolor": "white"
           }
          },
          "shapedefaults": {
           "line": {
            "color": "#2a3f5f"
           }
          },
          "ternary": {
           "aaxis": {
            "gridcolor": "white",
            "linecolor": "white",
            "ticks": ""
           },
           "baxis": {
            "gridcolor": "white",
            "linecolor": "white",
            "ticks": ""
           },
           "bgcolor": "#E5ECF6",
           "caxis": {
            "gridcolor": "white",
            "linecolor": "white",
            "ticks": ""
           }
          },
          "title": {
           "x": 0.05
          },
          "xaxis": {
           "automargin": true,
           "gridcolor": "white",
           "linecolor": "white",
           "ticks": "",
           "title": {
            "standoff": 15
           },
           "zerolinecolor": "white",
           "zerolinewidth": 2
          },
          "yaxis": {
           "automargin": true,
           "gridcolor": "white",
           "linecolor": "white",
           "ticks": "",
           "title": {
            "standoff": 15
           },
           "zerolinecolor": "white",
           "zerolinewidth": 2
          }
         }
        },
        "title": {
         "text": "Ventas globales en función de la cantidad de juegos publicados"
        },
        "xaxis": {
         "anchor": "y",
         "domain": [
          0,
          1
         ],
         "title": {
          "text": "Juegos publicados"
         }
        },
        "yaxis": {
         "anchor": "x",
         "domain": [
          0,
          1
         ],
         "title": {
          "text": "Ventas globales"
         }
        }
       }
      }
     },
     "metadata": {},
     "output_type": "display_data"
    }
   ],
   "source": [
    "data = pd.DataFrame({'Distribuidor': publishers, 'Ventas totales': sales, \"Videojuegos publicados\": games})\n",
    "\n",
    "fig = px.scatter(data, \n",
    "                 x = \"Videojuegos publicados\", \n",
    "                 y = \"Ventas totales\", \n",
    "                 size = \"Ventas totales\", \n",
    "                 color = \"Distribuidor\",\n",
    "                 title = \"Ventas globales en función de la cantidad de juegos publicados\",\n",
    "                 labels = {\"Videojuegos publicados\": \"Juegos publicados\", \"Ventas totales\": \"Ventas globales\"},\n",
    "                 hover_name = \"Distribuidor\", \n",
    "                 size_max = 60)\n",
    "fig.show()"
   ]
  },
  {
   "cell_type": "markdown",
   "metadata": {},
   "source": [
    "Otra opción es agrupar en función de las pataformas para ver cuál es más exitosa. Esta agrupación se puede combinar con otra que sea por géneros para ver si la combinación de algún género con una plataforma concreta influye en las ventas.\n",
    "\n",
    "Para esta consulta se va a agrupar por plataformas y por géneros, de forma que se obtiene cada plataforma y los géneros más vendidos en cada una en orden descendiente."
   ]
  },
  {
   "cell_type": "code",
   "execution_count": 30,
   "metadata": {},
   "outputs": [
    {
     "name": "stdout",
     "output_type": "stream",
     "text": [
      "Número de plataformas: 31\n",
      "\n",
      "Plataforma: PS2\n",
      "    Genre: Sports | Total Sales: 273.41\n",
      "    Genre: Action | Total Sales: 272.76\n",
      "    Genre: Racing | Total Sales: 156.28\n",
      "    Genre: Shooter | Total Sales: 108.57\n",
      "    Genre: Misc | Total Sales: 101.14\n",
      "    Genre: Role-Playing | Total Sales: 93.5\n",
      "    Genre: Fighting | Total Sales: 92.6\n",
      "    Genre: Platform | Total Sales: 72.51\n",
      "    Genre: Simulation | Total Sales: 42.66\n",
      "    Genre: Adventure | Total Sales: 21.16\n",
      "    Genre: Strategy | Total Sales: 15.15\n",
      "    Genre: Puzzle | Total Sales: 5.9\n",
      "Plataforma: X360\n",
      "    Genre: Shooter | Total Sales: 278.55\n",
      "    Genre: Action | Total Sales: 237.49\n",
      "    Genre: Sports | Total Sales: 144.3\n",
      "    Genre: Misc | Total Sales: 91.96\n",
      "    Genre: Role-Playing | Total Sales: 71.98\n",
      "    Genre: Racing | Total Sales: 65.99\n",
      "    Genre: Fighting | Total Sales: 37.64\n",
      "    Genre: Adventure | Total Sales: 15.23\n",
      "    Genre: Simulation | Total Sales: 14.45\n",
      "    Genre: Platform | Total Sales: 11.39\n",
      "    Genre: Strategy | Total Sales: 10.13\n",
      "    Genre: Puzzle | Total Sales: 0.85\n",
      "    ...\n"
     ]
    }
   ],
   "source": [
    "steps = [\n",
    "    {\"$group\": {\n",
    "        \"_id\": {\"Platform\": \"$Platform\", \"Genre\": \"$Genre\"},\n",
    "        \"total_sales\": {\"$sum\": \"$Global_Sales\"},\n",
    "        \"total_games\": {\"$sum\": 1},\n",
    "    }},\n",
    "    {\"$group\": {\n",
    "        \"_id\": \"$_id.Platform\",\n",
    "        \"total_platform_sales\": {\"$sum\": \"$total_sales\"},\n",
    "        \"Genre\": {\n",
    "            \"$push\": {\n",
    "                \"Genre\": \"$_id.Genre\",\n",
    "                \"total_sales\": \"$total_sales\",\n",
    "            }\n",
    "        }\n",
    "    }},\n",
    "    \n",
    "    {\"$addFields\": {\n",
    "        \"Genre\": {\"$sortArray\": {\"input\": \"$Genre\", \"sortBy\": {\"total_sales\": -1}}}\n",
    "    }},\n",
    "        \n",
    "    {\"$sort\": {\"total_platform_sales\": -1}},\n",
    "    ]\n",
    "\n",
    "datos = list(tabla.aggregate(steps))\n",
    "\n",
    "print(f\"Número de plataformas: {len(datos)}\\n\")\n",
    "n = 0\n",
    "for doc in datos:\n",
    "    print(f\"Plataforma: {doc[\"_id\"]}\")\n",
    "    n += 1\n",
    "    for genre_data in doc[\"Genre\"]:\n",
    "        print(f\"    Genre: {genre_data[\"Genre\"]} | Total Sales: {round(genre_data[\"total_sales\"], 2)}\")\n",
    "        n += 1\n",
    "    if n >= 15:\n",
    "        print(\"    ...\")\n",
    "        break"
   ]
  },
  {
   "cell_type": "markdown",
   "metadata": {},
   "source": [
    "Como se puede comprobar, las plataformas con más juegos vendidos son PS2 y X360, y los géneros más populares son parecidos en ambas (\"Action\", \"Shooter\", \"Sports\", etc).\n",
    "\n",
    "Otra agrupación que puede merecer la pena llevar a cabo sería una por regiones, de forma que se pueda observar qué tipo de juegos o qué empresas tienen más éxito en los distintos lugares del mundo según las ventas.\n",
    "\n",
    "### 6. Conclusiones.\n",
    "\n",
    "Como se puede comprobar, los juegos más exitosos pertenecen a aquellas empresas con mayor número de productos publicados y que estos siempre pertenecen a los géneros más populares.\n",
    "\n",
    "Además, aunque los datos con los que se ha trabajado son suficientes para comparar las ventas de videojuegos, se podría hacer una comparación más profunda si se añadiese una columna de datos conteniendo el presupuesto de cada uno, ya que es un factor que influye enormemente en las ventas (por lo general)."
   ]
  }
 ],
 "metadata": {
  "kernelspec": {
   "display_name": "Python 3",
   "language": "python",
   "name": "python3"
  },
  "language_info": {
   "codemirror_mode": {
    "name": "ipython",
    "version": 3
   },
   "file_extension": ".py",
   "mimetype": "text/x-python",
   "name": "python",
   "nbconvert_exporter": "python",
   "pygments_lexer": "ipython3",
   "version": "3.12.8"
  }
 },
 "nbformat": 4,
 "nbformat_minor": 2
}
